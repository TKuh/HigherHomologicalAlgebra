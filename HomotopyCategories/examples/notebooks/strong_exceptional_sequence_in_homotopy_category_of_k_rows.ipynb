{
 "cells": [
  {
   "cell_type": "code",
   "execution_count": 1,
   "id": "1293c984",
   "metadata": {},
   "outputs": [
    {
     "name": "stdout",
     "output_type": "stream",
     "text": [
      "CapAndHomalg v\u001b[32m1.4.7\u001b[39m\n",
      "Imported OSCAR's components GAP and Singular_jll\n",
      "Type: ?CapAndHomalg for more information\n"
     ]
    }
   ],
   "source": [
    "using CapAndHomalg"
   ]
  },
  {
   "cell_type": "code",
   "execution_count": 2,
   "id": "292b0efa",
   "metadata": {},
   "outputs": [],
   "source": [
    "LoadPackage( \"Algebroids\" )\n",
    "LoadPackage( \"FreydCategories\" )\n",
    "LoadPackage( \"HomotopyCategories\" )"
   ]
  },
  {
   "cell_type": "code",
   "execution_count": 3,
   "id": "f621db68",
   "metadata": {},
   "outputs": [
    {
     "data": {
      "text/plain": [
       "GAP: Q"
      ]
     },
     "execution_count": 3,
     "metadata": {},
     "output_type": "execute_result"
    }
   ],
   "source": [
    "ℚ = HomalgFieldOfRationals()"
   ]
  },
  {
   "cell_type": "code",
   "execution_count": 4,
   "id": "6437f270",
   "metadata": {},
   "outputs": [
    {
     "data": {
      "text/plain": [
       "GAP: Rows( Q )"
      ]
     },
     "execution_count": 4,
     "metadata": {},
     "output_type": "execute_result"
    }
   ],
   "source": [
    "ℚ₋rows = CategoryOfRows( ℚ )"
   ]
  },
  {
   "cell_type": "code",
   "execution_count": 5,
   "id": "f7d8597e",
   "metadata": {},
   "outputs": [
    {
     "data": {
      "text/plain": [
       "GAP: Complexes category by cochains( Rows( Q ) )"
      ]
     },
     "execution_count": 5,
     "metadata": {},
     "output_type": "execute_result"
    }
   ],
   "source": [
    "𝓒ᵇℚ₋rows = ComplexesCategoryByCochains( ℚ₋rows )"
   ]
  },
  {
   "cell_type": "code",
   "execution_count": 6,
   "id": "8a47a886",
   "metadata": {},
   "outputs": [
    {
     "data": {
      "text/plain": [
       "GAP: Homotopy category by cochains( Rows( Q ) )"
      ]
     },
     "execution_count": 6,
     "metadata": {},
     "output_type": "execute_result"
    }
   ],
   "source": [
    "𝓚ᵇℚ₋rows = HomotopyCategoryByCochains( ℚ₋rows )"
   ]
  },
  {
   "cell_type": "code",
   "execution_count": 7,
   "id": "11057acd",
   "metadata": {},
   "outputs": [
    {
     "data": {
      "text/plain": [
       "GAP: <An object in Homotopy category by cochains( Rows( Q ) ) supported on the interval [ 0 .. 0 ]>"
      ]
     },
     "execution_count": 7,
     "metadata": {},
     "output_type": "execute_result"
    }
   ],
   "source": [
    "E = 1 / ℚ₋rows / 𝓒ᵇℚ₋rows / 𝓚ᵇℚ₋rows"
   ]
  },
  {
   "cell_type": "code",
   "execution_count": 8,
   "id": "2435f6b9",
   "metadata": {},
   "outputs": [
    {
     "data": {
      "text/latex": [
       "$$\\begin{array}{c}\n",
       "\\mathbb{Q}^{1 \\times 1}\n",
       " \\end{array}$$"
      ]
     },
     "metadata": {},
     "output_type": "display_data"
    }
   ],
   "source": [
    "Show( E )"
   ]
  },
  {
   "cell_type": "code",
   "execution_count": 9,
   "id": "f7b8e481",
   "metadata": {},
   "outputs": [
    {
     "data": {
      "text/plain": [
       "GAP: A strong exceptional sequence in Homotopy category by cochains( Rows( Q ) )"
      ]
     },
     "execution_count": 9,
     "metadata": {},
     "output_type": "execute_result"
    }
   ],
   "source": [
    "𝓔 = CreateStrongExceptionalSequence( ConvertJuliaToGAP( [ E ] ) )"
   ]
  },
  {
   "cell_type": "code",
   "execution_count": 10,
   "id": "dee57ce9",
   "metadata": {},
   "outputs": [
    {
     "data": {
      "text/plain": [
       "GAP: Algebra( Q, FreeCategory( RightQuiver( \"q(E1)[]\" ) ) )"
      ]
     },
     "execution_count": 10,
     "metadata": {},
     "output_type": "execute_result"
    }
   ],
   "source": [
    "𝐀_𝓔 = AbstractionAlgebroid( 𝓔 )"
   ]
  },
  {
   "cell_type": "code",
   "execution_count": 11,
   "id": "7af573c9",
   "metadata": {},
   "outputs": [
    {
     "data": {
      "text/plain": [
       "GAP: Replacement functor"
      ]
     },
     "execution_count": 11,
     "metadata": {},
     "output_type": "execute_result"
    }
   ],
   "source": [
    "𝔾 = ReplacementFunctorIntoHomotopyCategoryOfAdditiveClosureOfAbstractionAlgebroid( 𝓔 )"
   ]
  },
  {
   "cell_type": "code",
   "execution_count": 12,
   "id": "3873f461",
   "metadata": {},
   "outputs": [
    {
     "name": "stdout",
     "output_type": "stream",
     "text": [
      "Replacement functor:\n",
      "\n",
      "Homotopy category by cochains( Rows( Q ) )\n",
      "  |\n",
      "  V\n",
      "Homotopy category by cochains( Additive closure( Algebra( Q, FreeCategory( RightQuiver( \"q(E1)[]\" ) ) ) ) )\n"
     ]
    }
   ],
   "source": [
    "Display( 𝔾 )"
   ]
  },
  {
   "cell_type": "code",
   "execution_count": 13,
   "id": "077c971e",
   "metadata": {},
   "outputs": [
    {
     "data": {
      "text/plain": [
       "GAP: Convolution functor"
      ]
     },
     "execution_count": 13,
     "metadata": {},
     "output_type": "execute_result"
    }
   ],
   "source": [
    "𝔽 = ConvolutionFunctorFromHomotopyCategoryOfAdditiveClosureOfAbstractionAlgebroid( 𝓔 )"
   ]
  },
  {
   "cell_type": "code",
   "execution_count": 14,
   "id": "cd2696f0",
   "metadata": {},
   "outputs": [
    {
     "name": "stdout",
     "output_type": "stream",
     "text": [
      "Convolution functor:\n",
      "\n",
      "Homotopy category by cochains( Additive closure( Algebra( Q, FreeCategory( RightQuiver( \"q(E1)[]\" ) ) ) ) )\n",
      "  |\n",
      "  V\n",
      "Homotopy category by cochains( Rows( Q ) )\n"
     ]
    }
   ],
   "source": [
    "Display( 𝔽 )"
   ]
  },
  {
   "cell_type": "code",
   "execution_count": 15,
   "id": "9261a01a",
   "metadata": {},
   "outputs": [
    {
     "data": {
      "text/plain": [
       "GAP: <An object in Homotopy category by cochains( Rows( Q ) ) supported on the interval [ -2 .. 3 ]>"
      ]
     },
     "execution_count": 15,
     "metadata": {},
     "output_type": "execute_result"
    }
   ],
   "source": [
    "A = RandomObject( 𝓚ᵇℚ₋rows, ConvertJuliaToGAP( [-2,2, [[1,4,7],[1]]] ) )"
   ]
  },
  {
   "cell_type": "code",
   "execution_count": 16,
   "id": "88b81476",
   "metadata": {},
   "outputs": [
    {
     "data": {
      "text/latex": [
       "$$\\begin{array}{c}\n",
       "\\mathbb{Q}^{1 \\times 1}\n",
       " \\\\\n",
       "\\uparrow_{\\phantom{2}} \n",
       "\\\\\n",
       " {\\color{blue}{\\left( \\begin{array}{r}\n",
       " \\frac{73889}{46650} \\\\ \n",
       " \\frac{11627}{9330} \\\\ \n",
       " \\frac{5771}{9330} \\\\ \n",
       " \\frac{14048}{23325} \\\\ \n",
       " \\cdot \\\\ \n",
       " -\\frac{1}{2} \\\\ \n",
       " 2 \n",
       "\\end{array} \\right)}}\n",
       "\\\\\n",
       " {\\vert_{2}}\n",
       " \n",
       "\\\\\n",
       "\\mathbb{Q}^{1 \\times 7}\\\\\n",
       "\\uparrow_{\\phantom{1}} \n",
       "\\\\\n",
       " {\\color{blue}{\\left( \\begin{array}{rrrrrrr}\n",
       " -1 & 2 & \\frac{1}{5} & \\frac{1}{2} & \\cdot & \\cdot & -\\frac{2}{3} \\\\ \n",
       " \\frac{1}{3} & -\\frac{1}{2} & -3 & \\frac{1}{3} & \\cdot & \\frac{1}{2} & 1 \\\\ \n",
       " -\\frac{1}{2} & \\frac{1}{2} & \\frac{3}{5} & -1 & \\cdot & \\frac{1}{5} & \\frac{1}{4} \\\\ \n",
       " -1 & -\\frac{1}{2} & \\frac{1}{2} & -1 & \\frac{4}{3} & -1 & 1 \n",
       "\\end{array} \\right)}}\n",
       "\\\\\n",
       " {\\vert_{1}}\n",
       " \n",
       "\\\\\n",
       "\\mathbb{Q}^{1 \\times 4}\\\\\n",
       "\\uparrow_{\\phantom{0}} \n",
       "\\\\\n",
       " {\\color{blue}{\\left( \\begin{array}{rrrr}\n",
       " \\cdot & \\cdot & \\cdot & \\cdot \\\\ \n",
       " \\cdot & \\cdot & \\cdot & \\cdot \\\\ \n",
       " \\cdot & \\cdot & \\cdot & \\cdot \\\\ \n",
       " \\cdot & \\cdot & \\cdot & \\cdot \n",
       "\\end{array} \\right)}}\n",
       "\\\\\n",
       " {\\vert_{0}}\n",
       " \n",
       "\\\\\n",
       "\\mathbb{Q}^{1 \\times 4}\\\\\n",
       "\\uparrow_{\\phantom{-1}} \n",
       "\\\\\n",
       " {\\color{blue}{\\left( \\begin{array}{rrrr}\n",
       " 1 & -1 & -1 & \\frac{1}{2} \\\\ \n",
       " \\cdot & -2 & \\frac{1}{2} & -\\frac{3}{2} \\\\ \n",
       " -3 & -\\frac{1}{2} & \\cdot & \\cdot \\\\ \n",
       " -\\frac{3}{2} & \\cdot & \\frac{1}{2} & \\cdot \\\\ \n",
       " -1 & \\cdot & \\cdot & \\frac{1}{2} \\\\ \n",
       " 2 & \\frac{1}{2} & -\\frac{1}{2} & \\cdot \\\\ \n",
       " 1 & \\cdot & 2 & \\cdot \n",
       "\\end{array} \\right)}}\n",
       "\\\\\n",
       " {\\vert_{-1}}\n",
       " \n",
       "\\\\\n",
       "\\mathbb{Q}^{1 \\times 7}\\\\\n",
       "\\uparrow_{\\phantom{-2}} \n",
       "\\\\\n",
       " {\\color{blue}{()_{0 \\times 7}}}\n",
       "\\\\\n",
       " {\\vert_{-2}}\n",
       " \n",
       "\\\\\n",
       "\\mathbb{Q}^{1 \\times 0}\\end{array}$$"
      ]
     },
     "metadata": {},
     "output_type": "display_data"
    }
   ],
   "source": [
    "Show( A )"
   ]
  },
  {
   "cell_type": "code",
   "execution_count": 17,
   "id": "5bf5e966",
   "metadata": {},
   "outputs": [
    {
     "data": {
      "text/plain": [
       "GAP: <An object in Homotopy category by cochains( Additive closure( Algebra( Q, FreeCategory( RightQuiver( \"q(E1)[]\" ) ) ) ) ) supported on the interval [ -1 .. 2 ]>"
      ]
     },
     "execution_count": 17,
     "metadata": {},
     "output_type": "execute_result"
    }
   ],
   "source": [
    "𝔾A = 𝔾( A )"
   ]
  },
  {
   "cell_type": "code",
   "execution_count": 18,
   "id": "a66bbbb3",
   "metadata": {},
   "outputs": [
    {
     "data": {
      "text/latex": [
       "$$\\begin{array}{c}\n",
       "{E_{1}}^{\\oplus 2}\n",
       " \\\\\n",
       "\\uparrow_{\\phantom{1}} \n",
       "\\\\\n",
       " \\begin{pmatrix}\\\\\\end{pmatrix}\n",
       "\\\\\n",
       " {\\vert_{1}}\n",
       " \n",
       "\\\\\n",
       "0\\\\\n",
       "\\uparrow_{\\phantom{0}} \n",
       "\\\\\n",
       " \\begin{pmatrix}\\\\\\end{pmatrix}\n",
       "\\\\\n",
       " {\\vert_{0}}\n",
       " \n",
       "\\\\\n",
       "0\\\\\n",
       "\\uparrow_{\\phantom{-1}} \n",
       "\\\\\n",
       " \\begin{pmatrix}\\\\\\end{pmatrix}\n",
       "\\\\\n",
       " {\\vert_{-1}}\n",
       " \n",
       "\\\\\n",
       "{E_{1}}^{\\oplus 3}\\end{array}$$"
      ]
     },
     "metadata": {},
     "output_type": "display_data"
    }
   ],
   "source": [
    "Show( 𝔾A )"
   ]
  },
  {
   "cell_type": "code",
   "execution_count": 19,
   "id": "7526c529",
   "metadata": {},
   "outputs": [
    {
     "data": {
      "text/plain": [
       "GAP: Counit ϵ : F∘G ⟹ Id of the adjunction F ⊣ G"
      ]
     },
     "execution_count": 19,
     "metadata": {},
     "output_type": "execute_result"
    }
   ],
   "source": [
    "ϵ = CounitOfConvolutionReplacementAdjunction( 𝓔 )"
   ]
  },
  {
   "cell_type": "code",
   "execution_count": 20,
   "id": "8c959085",
   "metadata": {},
   "outputs": [
    {
     "data": {
      "text/plain": [
       "GAP: <A morphism in Homotopy category by cochains( Rows( Q ) ) supported on the interval [ -1 .. 2 ]>"
      ]
     },
     "execution_count": 20,
     "metadata": {},
     "output_type": "execute_result"
    }
   ],
   "source": [
    "ϵ_A = ϵ( A )"
   ]
  },
  {
   "cell_type": "code",
   "execution_count": 21,
   "id": "5301ec3f",
   "metadata": {},
   "outputs": [
    {
     "data": {
      "text/latex": [
       "$$\\begin{array}{ccc}\n",
       " \\mathbb{Q}^{1 \\times 0}&-\\phantom{-}{{\\color{blue}{()_{0 \\times 1}}}}\\phantom{-}\\rightarrow&\\mathbb{Q}^{1 \\times 1}\n",
       " \\\\ \n",
       " \\uparrow_{\\phantom{2}}&& \n",
       " \\uparrow_{\\phantom{2}}\n",
       " \\\\ \n",
       " {\\color{blue}{()_{2 \\times 0}}}&&{\\color{blue}{\\left( \\begin{array}{r}\n",
       " \\frac{73889}{46650} \\\\ \n",
       " \\frac{11627}{9330} \\\\ \n",
       " \\frac{5771}{9330} \\\\ \n",
       " \\frac{14048}{23325} \\\\ \n",
       " \\cdot \\\\ \n",
       " -\\frac{1}{2} \\\\ \n",
       " 2 \n",
       "\\end{array} \\right)}}\n",
       " \\\\ \n",
       " \\vert_{2} &&\\vert_{2} \n",
       " \\\\ \n",
       " \\mathbb{Q}^{1 \\times 2}&-\\phantom{-}{{\\color{blue}{\\left( \\begin{array}{rrrrrrr}\n",
       " \\frac{5708705}{1699447} & -\\frac{125}{23} & \\frac{54}{23} & \\cdot & \\cdot & \\cdot & \\cdot \\\\ \n",
       " -\\frac{66466758}{22092811} & \\frac{942}{299} & \\frac{156}{115} & \\cdot & \\cdot & \\cdot & \\cdot \n",
       "\\end{array} \\right)}}}\\phantom{-}\\rightarrow&\\mathbb{Q}^{1 \\times 7}\n",
       " \\\\ \n",
       "  \\uparrow_{\\phantom{1}}&& \n",
       " \\uparrow_{\\phantom{1}}\n",
       " \\\\ \n",
       " {\\color{blue}{()_{0 \\times 2}}}&&{\\color{blue}{\\left( \\begin{array}{rrrrrrr}\n",
       " -1 & 2 & \\frac{1}{5} & \\frac{1}{2} & \\cdot & \\cdot & -\\frac{2}{3} \\\\ \n",
       " \\frac{1}{3} & -\\frac{1}{2} & -3 & \\frac{1}{3} & \\cdot & \\frac{1}{2} & 1 \\\\ \n",
       " -\\frac{1}{2} & \\frac{1}{2} & \\frac{3}{5} & -1 & \\cdot & \\frac{1}{5} & \\frac{1}{4} \\\\ \n",
       " -1 & -\\frac{1}{2} & \\frac{1}{2} & -1 & \\frac{4}{3} & -1 & 1 \n",
       "\\end{array} \\right)}}\n",
       " \\\\ \n",
       " \\vert_{1} &&\\vert_{1} \n",
       " \\\\ \n",
       " \\mathbb{Q}^{1 \\times 0}&-\\phantom{-}{{\\color{blue}{()_{0 \\times 4}}}}\\phantom{-}\\rightarrow&\\mathbb{Q}^{1 \\times 4}\n",
       " \\\\ \n",
       "  \\uparrow_{\\phantom{0}}&& \n",
       " \\uparrow_{\\phantom{0}}\n",
       " \\\\ \n",
       " {\\color{blue}{()_{0 \\times 0}}}&&{\\color{blue}{\\left( \\begin{array}{rrrr}\n",
       " \\cdot & \\cdot & \\cdot & \\cdot \\\\ \n",
       " \\cdot & \\cdot & \\cdot & \\cdot \\\\ \n",
       " \\cdot & \\cdot & \\cdot & \\cdot \\\\ \n",
       " \\cdot & \\cdot & \\cdot & \\cdot \n",
       "\\end{array} \\right)}}\n",
       " \\\\ \n",
       " \\vert_{0} &&\\vert_{0} \n",
       " \\\\ \n",
       " \\mathbb{Q}^{1 \\times 0}&-\\phantom{-}{{\\color{blue}{()_{0 \\times 4}}}}\\phantom{-}\\rightarrow&\\mathbb{Q}^{1 \\times 4}\n",
       " \\\\ \n",
       "  \\uparrow_{\\phantom{-1}}&& \n",
       " \\uparrow_{\\phantom{-1}}\n",
       " \\\\ \n",
       " {\\color{blue}{()_{3 \\times 0}}}&&{\\color{blue}{\\left( \\begin{array}{rrrr}\n",
       " 1 & -1 & -1 & \\frac{1}{2} \\\\ \n",
       " \\cdot & -2 & \\frac{1}{2} & -\\frac{3}{2} \\\\ \n",
       " -3 & -\\frac{1}{2} & \\cdot & \\cdot \\\\ \n",
       " -\\frac{3}{2} & \\cdot & \\frac{1}{2} & \\cdot \\\\ \n",
       " -1 & \\cdot & \\cdot & \\frac{1}{2} \\\\ \n",
       " 2 & \\frac{1}{2} & -\\frac{1}{2} & \\cdot \\\\ \n",
       " 1 & \\cdot & 2 & \\cdot \n",
       "\\end{array} \\right)}}\n",
       " \\\\ \n",
       " \\vert_{-1} &&\\vert_{-1} \n",
       " \\\\ \n",
       " \\mathbb{Q}^{1 \\times 3}&-\\phantom{-}{{\\color{blue}{\\left( \\begin{array}{rrrrrrr}\n",
       " \\frac{7}{17} & -\\frac{10}{51} & -\\frac{2}{51} & \\frac{52}{51} & -1 & \\cdot & \\cdot \\\\ \n",
       " -\\frac{5}{17} & -\\frac{5}{51} & -\\frac{1}{51} & -\\frac{76}{51} & \\cdot & -1 & \\cdot \\\\ \n",
       " \\frac{14}{17} & \\frac{14}{51} & -\\frac{140}{51} & \\frac{274}{51} & \\cdot & \\cdot & -1 \n",
       "\\end{array} \\right)}}}\\phantom{-}\\rightarrow&\\mathbb{Q}^{1 \\times 7}\n",
       " \\\\ \n",
       "  \\uparrow_{\\phantom{-2}}&& \n",
       " \\uparrow_{\\phantom{-2}}\n",
       " \\\\ \n",
       " {\\color{blue}{()_{0 \\times 3}}}&&{\\color{blue}{()_{0 \\times 7}}}\n",
       " \\\\ \n",
       " \\vert_{-2} &&\\vert_{-2} \n",
       " \\\\ \n",
       " \\mathbb{Q}^{1 \\times 0}&-\\phantom{-}{{\\color{blue}{()_{0 \\times 0}}}}\\phantom{-}\\rightarrow&\\mathbb{Q}^{1 \\times 0}\n",
       " \\\\ \n",
       " \\end{array}$$"
      ]
     },
     "metadata": {},
     "output_type": "display_data"
    }
   ],
   "source": [
    "Show( ϵ_A )"
   ]
  },
  {
   "cell_type": "code",
   "execution_count": 22,
   "id": "42a60cb4",
   "metadata": {},
   "outputs": [
    {
     "data": {
      "text/plain": [
       "true"
      ]
     },
     "execution_count": 22,
     "metadata": {},
     "output_type": "execute_result"
    }
   ],
   "source": [
    "IsIsomorphism( ϵ_A )"
   ]
  },
  {
   "cell_type": "code",
   "execution_count": 23,
   "id": "89c50690",
   "metadata": {},
   "outputs": [
    {
     "data": {
      "text/plain": [
       "GAP: <A morphism in Homotopy category by cochains( Rows( Q ) ) supported on the interval [ -1 .. 2 ]>"
      ]
     },
     "execution_count": 23,
     "metadata": {},
     "output_type": "execute_result"
    }
   ],
   "source": [
    "ϵ⁻¹_A = InverseForMorphisms( ϵ_A )"
   ]
  },
  {
   "cell_type": "code",
   "execution_count": 24,
   "id": "5342229f",
   "metadata": {},
   "outputs": [
    {
     "data": {
      "text/latex": [
       "$$\\begin{array}{ccc}\n",
       " \\mathbb{Q}^{1 \\times 1}&-\\phantom{-}{{\\color{blue}{()_{1 \\times 0}}}}\\phantom{-}\\rightarrow&\\mathbb{Q}^{1 \\times 0}\n",
       " \\\\ \n",
       " \\uparrow_{\\phantom{2}}&& \n",
       " \\uparrow_{\\phantom{2}}\n",
       " \\\\ \n",
       " {\\color{blue}{\\left( \\begin{array}{r}\n",
       " \\frac{73889}{46650} \\\\ \n",
       " \\frac{11627}{9330} \\\\ \n",
       " \\frac{5771}{9330} \\\\ \n",
       " \\frac{14048}{23325} \\\\ \n",
       " \\cdot \\\\ \n",
       " -\\frac{1}{2} \\\\ \n",
       " 2 \n",
       "\\end{array} \\right)}}&&{\\color{blue}{()_{2 \\times 0}}}\n",
       " \\\\ \n",
       " \\vert_{2} &&\\vert_{2} \n",
       " \\\\ \n",
       " \\mathbb{Q}^{1 \\times 7}&-\\phantom{-}{{\\color{blue}{\\left( \\begin{array}{rr}\n",
       " \\cdot & -\\frac{73889}{93300} \\\\ \n",
       " -\\frac{169}{1840} & -\\frac{1593563}{3433440} \\\\ \n",
       " \\frac{157}{736} & \\frac{403147}{6866880} \\\\ \n",
       " \\frac{519}{1840} & \\frac{4276961}{17167200} \\\\ \n",
       " \\frac{24939}{29440} & -\\frac{4895}{11776} \\\\ \n",
       " 1 & \\frac{1}{4} \\\\ \n",
       " \\cdot & \\cdot \n",
       "\\end{array} \\right)}}}\\phantom{-}\\rightarrow&\\mathbb{Q}^{1 \\times 2}\n",
       " \\\\ \n",
       "  \\uparrow_{\\phantom{1}}&& \n",
       " \\uparrow_{\\phantom{1}}\n",
       " \\\\ \n",
       " {\\color{blue}{\\left( \\begin{array}{rrrrrrr}\n",
       " -1 & 2 & \\frac{1}{5} & \\frac{1}{2} & \\cdot & \\cdot & -\\frac{2}{3} \\\\ \n",
       " \\frac{1}{3} & -\\frac{1}{2} & -3 & \\frac{1}{3} & \\cdot & \\frac{1}{2} & 1 \\\\ \n",
       " -\\frac{1}{2} & \\frac{1}{2} & \\frac{3}{5} & -1 & \\cdot & \\frac{1}{5} & \\frac{1}{4} \\\\ \n",
       " -1 & -\\frac{1}{2} & \\frac{1}{2} & -1 & \\frac{4}{3} & -1 & 1 \n",
       "\\end{array} \\right)}}&&{\\color{blue}{()_{0 \\times 2}}}\n",
       " \\\\ \n",
       " \\vert_{1} &&\\vert_{1} \n",
       " \\\\ \n",
       " \\mathbb{Q}^{1 \\times 4}&-\\phantom{-}{{\\color{blue}{()_{4 \\times 0}}}}\\phantom{-}\\rightarrow&\\mathbb{Q}^{1 \\times 0}\n",
       " \\\\ \n",
       "  \\uparrow_{\\phantom{0}}&& \n",
       " \\uparrow_{\\phantom{0}}\n",
       " \\\\ \n",
       " {\\color{blue}{\\left( \\begin{array}{rrrr}\n",
       " \\cdot & \\cdot & \\cdot & \\cdot \\\\ \n",
       " \\cdot & \\cdot & \\cdot & \\cdot \\\\ \n",
       " \\cdot & \\cdot & \\cdot & \\cdot \\\\ \n",
       " \\cdot & \\cdot & \\cdot & \\cdot \n",
       "\\end{array} \\right)}}&&{\\color{blue}{()_{0 \\times 0}}}\n",
       " \\\\ \n",
       " \\vert_{0} &&\\vert_{0} \n",
       " \\\\ \n",
       " \\mathbb{Q}^{1 \\times 4}&-\\phantom{-}{{\\color{blue}{()_{4 \\times 0}}}}\\phantom{-}\\rightarrow&\\mathbb{Q}^{1 \\times 0}\n",
       " \\\\ \n",
       "  \\uparrow_{\\phantom{-1}}&& \n",
       " \\uparrow_{\\phantom{-1}}\n",
       " \\\\ \n",
       " {\\color{blue}{\\left( \\begin{array}{rrrr}\n",
       " 1 & -1 & -1 & \\frac{1}{2} \\\\ \n",
       " \\cdot & -2 & \\frac{1}{2} & -\\frac{3}{2} \\\\ \n",
       " -3 & -\\frac{1}{2} & \\cdot & \\cdot \\\\ \n",
       " -\\frac{3}{2} & \\cdot & \\frac{1}{2} & \\cdot \\\\ \n",
       " -1 & \\cdot & \\cdot & \\frac{1}{2} \\\\ \n",
       " 2 & \\frac{1}{2} & -\\frac{1}{2} & \\cdot \\\\ \n",
       " 1 & \\cdot & 2 & \\cdot \n",
       "\\end{array} \\right)}}&&{\\color{blue}{()_{3 \\times 0}}}\n",
       " \\\\ \n",
       " \\vert_{-1} &&\\vert_{-1} \n",
       " \\\\ \n",
       " \\mathbb{Q}^{1 \\times 7}&-\\phantom{-}{{\\color{blue}{\\left( \\begin{array}{rrr}\n",
       " 1 & -2 & \\cdot \\\\ \n",
       " -3 & -4 & \\frac{1}{14} \\\\ \n",
       " \\cdot & -1 & -\\frac{5}{14} \\\\ \n",
       " \\cdot & \\cdot & \\cdot \\\\ \n",
       " \\cdot & \\cdot & \\cdot \\\\ \n",
       " \\cdot & \\cdot & \\cdot \\\\ \n",
       " \\cdot & \\cdot & \\cdot \n",
       "\\end{array} \\right)}}}\\phantom{-}\\rightarrow&\\mathbb{Q}^{1 \\times 3}\n",
       " \\\\ \n",
       "  \\uparrow_{\\phantom{-2}}&& \n",
       " \\uparrow_{\\phantom{-2}}\n",
       " \\\\ \n",
       " {\\color{blue}{()_{0 \\times 7}}}&&{\\color{blue}{()_{0 \\times 3}}}\n",
       " \\\\ \n",
       " \\vert_{-2} &&\\vert_{-2} \n",
       " \\\\ \n",
       " \\mathbb{Q}^{1 \\times 0}&-\\phantom{-}{{\\color{blue}{()_{0 \\times 0}}}}\\phantom{-}\\rightarrow&\\mathbb{Q}^{1 \\times 0}\n",
       " \\\\ \n",
       " \\end{array}$$"
      ]
     },
     "metadata": {},
     "output_type": "display_data"
    }
   ],
   "source": [
    "Show( ϵ⁻¹_A )"
   ]
  },
  {
   "cell_type": "code",
   "execution_count": 25,
   "id": "7853fc20",
   "metadata": {},
   "outputs": [],
   "source": [
    "# some-code; shift+enter"
   ]
  }
 ],
 "metadata": {
  "kernelspec": {
   "display_name": "Julia 1.8.2",
   "language": "julia",
   "name": "julia-1.8"
  },
  "language_info": {
   "file_extension": ".jl",
   "mimetype": "application/julia",
   "name": "julia",
   "version": "1.8.2"
  }
 },
 "nbformat": 4,
 "nbformat_minor": 5
}

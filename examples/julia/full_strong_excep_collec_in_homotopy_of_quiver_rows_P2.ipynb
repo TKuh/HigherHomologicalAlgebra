{
 "cells": [
  {
   "cell_type": "code",
   "execution_count": 1,
   "metadata": {},
   "outputs": [
    {
     "name": "stdout",
     "output_type": "stream",
     "text": [
      "\n",
      "Welcome to Nemo version 0.16.4\n",
      "\n",
      "Nemo comes with absolutely no warranty whatsoever\n",
      "\n"
     ]
    }
   ],
   "source": [
    "using HomalgProject"
   ]
  },
  {
   "cell_type": "code",
   "execution_count": 2,
   "metadata": {},
   "outputs": [],
   "source": [
    "LoadPackageAndExposeGlobals( \"DerivedCategories\", Main, all_globals = true )"
   ]
  },
  {
   "cell_type": "code",
   "execution_count": 3,
   "metadata": {},
   "outputs": [
    {
     "data": {
      "text/plain": [
       "true"
      ]
     },
     "execution_count": 3,
     "metadata": {},
     "output_type": "execute_result"
    }
   ],
   "source": [
    "ReadPackage( g\"DerivedCategories\", g\"examples/pre_settings.g\" )"
   ]
  },
  {
   "cell_type": "code",
   "execution_count": 4,
   "metadata": {
    "scrolled": true
   },
   "outputs": [
    {
     "name": "stdout",
     "output_type": "stream",
     "text": [
      "================================================================\n",
      "                     SINGULAR                                 /  Development\n",
      " A Computer Algebra System for Polynomial Computations       /   version 4.1.2\n",
      "                                                           0<\n",
      " by: W. Decker, G.-M. Greuel, G. Pfister, H. Schoenemann     \\   Feb 2019\n",
      "FB Mathematik der Universitaet, D-67653 Kaiserslautern        \\\u001b[0m\n",
      "================================================================\n"
     ]
    },
    {
     "data": {
      "text/plain": [
       "GAP: Q[x0,x1,x2]\n",
       "(weights: yet unset)"
      ]
     },
     "execution_count": 4,
     "metadata": {},
     "output_type": "execute_result"
    }
   ],
   "source": [
    "S = GradedRing( HomalgFieldOfRationalsInSingular( ) * g\"x0..2\" )"
   ]
  },
  {
   "cell_type": "code",
   "execution_count": 5,
   "metadata": {},
   "outputs": [
    {
     "name": "stdout",
     "output_type": "stream",
     "text": [
      "================================================================\n",
      "                     SINGULAR::SCA\n",
      "The SINGULAR Subsystem for Super-Commutative Algebras\n",
      "     by: G.-M. Greuel, O. Motsak, H. Schoenemann\n",
      "FB Mathematik der Universitaet, D-67653 Kaiserslautern\u001b[0m\n",
      "================================================================\n"
     ]
    }
   ],
   "source": [
    "B = BeilinsonFunctorIntoHomotopyCategoryOfQuiverRows( S );"
   ]
  },
  {
   "cell_type": "code",
   "execution_count": 33,
   "metadata": {},
   "outputs": [
    {
     "name": "stdout",
     "output_type": "stream",
     "text": [
      "Cotangent Beilinson functor\u001b[1m\u001b[31m:\u001b[0m\n",
      "\n",
      "The category of graded left f.p. modules over Q[x0,x1,x2] (with weights [ 1, 1\\\n",
      ", 1 ])\n",
      "\u001b[1m\u001b[31m  |\n",
      "  V\u001b[0m\n",
      "\u001b[35mHomotopy category( \u001b[0m\u001b[34mQuiverRows( \u001b[0mEnd( ⊕ {Ω^i(i)|i=0,...,2} \\\n",
      ")\u001b[34m )\u001b[0m\u001b[35m )\u001b[0m\n"
     ]
    }
   ],
   "source": [
    "Display( B )"
   ]
  },
  {
   "cell_type": "code",
   "execution_count": 10,
   "metadata": {},
   "outputs": [
    {
     "data": {
      "text/plain": [
       "GAP: S(0)"
      ]
     },
     "execution_count": 10,
     "metadata": {},
     "output_type": "execute_result"
    }
   ],
   "source": [
    "o = TwistedGradedFreeModule( S, 0 )"
   ]
  },
  {
   "cell_type": "code",
   "execution_count": 14,
   "metadata": {},
   "outputs": [
    {
     "data": {
      "text/plain": [
       "GAP: [ <An object in \u001b[35mHomotopy category( \u001b[0m\u001b[34mQuiverRows( \u001b[0mEnd( ⊕ {Ω^\\\n",
       "i(i)|i=0,...,2} )\u001b[34m )\u001b[0m\u001b[35m )\u001b[0m with active lower bound \n",
       "    -2 and active upper bound 2>, \n",
       "  <An object in \u001b[35mHomotopy category( \u001b[0m\u001b[34mQuiverRows( \u001b[0mEnd( ⊕ {Ω^\\\n",
       "i(i)|i=0,...,2} )\u001b[34m )\u001b[0m\u001b[35m )\u001b[0m with active lower bound \n",
       "    -2 and active upper bound 2>, \n",
       "  <An object in \u001b[35mHomotopy category( \u001b[0m\u001b[34mQuiverRows( \u001b[0mEnd( ⊕ {Ω^\\\n",
       "i(i)|i=0,...,2} )\u001b[34m )\u001b[0m\u001b[35m )\u001b[0m with active lower bound \n",
       "    -2 and active upper bound 2> ]"
      ]
     },
     "execution_count": 14,
     "metadata": {},
     "output_type": "execute_result"
    }
   ],
   "source": [
    "l = List( GAP.julia_to_gap( [ -2, -1, 0 ] ), i -> ApplyFunctor( B, o[ i ] ) )"
   ]
  },
  {
   "cell_type": "code",
   "execution_count": 38,
   "metadata": {},
   "outputs": [
    {
     "data": {
      "text/plain": [
       "GAP: \"End( ⊕ {𝓞(i)|i=-2,-1,0} )\""
      ]
     },
     "execution_count": 38,
     "metadata": {},
     "output_type": "execute_result"
    }
   ],
   "source": [
    "name_for_quiver = g\"quiver{𝓞(-2) -{3}-> 𝓞(-1) -{3}-> 𝓞(0)}\"\n",
    "name_for_algebra = g\"End( ⊕ {𝓞(i)|i=-2,-1,0} )\""
   ]
  },
  {
   "cell_type": "code",
   "execution_count": 39,
   "metadata": {},
   "outputs": [
    {
     "data": {
      "text/plain": [
       "GAP: <A strong exceptional collection defined by the objects of the Full subcategor\\\n",
       "y generated by 3 objects in \u001b[35mHomotopy category( \u001b[0m\u001b[34mQuiverRows( \u001b[0mE\\\n",
       "nd( ⊕ {Ω^i(i)|i=0,...,2} )\u001b[34m )\u001b[0m\u001b[35m )\u001b[0m>"
      ]
     },
     "execution_count": 39,
     "metadata": {},
     "output_type": "execute_result"
    }
   ],
   "source": [
    "collection = CreateExceptionalCollection( l, name_for_underlying_quiver = name_for_quiver,\n",
    "                                              name_for_endomorphism_algebra = name_for_algebra )"
   ]
  },
  {
   "cell_type": "code",
   "execution_count": 58,
   "metadata": {},
   "outputs": [
    {
     "data": {
      "text/plain": [
       "GAP: (Q * quiver{𝓞(-2) -{3}-> 𝓞(-1) -{3}-> 𝓞(0)}) / [ 1*(u1_u2_2*u2_u3_1) \\\n",
       "+ 1*(u1_u2_1*u2_u3_2), 1*(u1_u2_3*u2_u3_1) - 1*(u1_u2_1*u2_u3_3), 1*(u1_u2_3*u\\\n",
       "2_u3_2) + 1*(u1_u2_2*u2_u3_3) ]"
      ]
     },
     "execution_count": 58,
     "metadata": {},
     "output_type": "execute_result"
    }
   ],
   "source": [
    "A = EndomorphismAlgebra( collection )"
   ]
  },
  {
   "cell_type": "code",
   "execution_count": 59,
   "metadata": {},
   "outputs": [
    {
     "data": {
      "text/plain": [
       "GAP: \u001b[35mHomotopy category( \u001b[0m\u001b[34mQuiverRows( \u001b[0mEnd( ⊕ {Ω^i(i)|i=0,...,2} \\\n",
       ")\u001b[34m )\u001b[0m\u001b[35m )\u001b[0m"
      ]
     },
     "execution_count": 59,
     "metadata": {},
     "output_type": "execute_result"
    }
   ],
   "source": [
    "C = AmbientCategory( collection )"
   ]
  },
  {
   "cell_type": "code",
   "execution_count": 42,
   "metadata": {},
   "outputs": [
    {
     "data": {
      "text/plain": [
       "GAP: Equivalence functor from homotopy category into derived category"
      ]
     },
     "execution_count": 42,
     "metadata": {},
     "output_type": "execute_result"
    }
   ],
   "source": [
    "I = EmbeddingFunctorFromAmbientCategoryIntoDerivedCategory( collection )"
   ]
  },
  {
   "cell_type": "code",
   "execution_count": 43,
   "metadata": {},
   "outputs": [
    {
     "name": "stdout",
     "output_type": "stream",
     "text": [
      "Equivalence functor from homotopy category into derived category\u001b[1m\u001b[31m:\u001b[0m\n",
      "\n",
      "\u001b[35mHomotopy category( \u001b[0m\u001b[34mQuiverRows( \u001b[0mEnd( ⊕ {Ω^i(i)|i=0,...,2} \\\n",
      ")\u001b[34m )\u001b[0m\u001b[35m )\u001b[0m\n",
      "\u001b[1m\u001b[31m  |\n",
      "  V\u001b[0m\n",
      "\u001b[34mDerived category(\u001b[0m \u001b[32mQuiver representations(\u001b[0m End( ⊕ {Ω^i(i)|\\\n",
      "i=0,...,2} )^op \u001b[32m)\u001b[0m \u001b[34m)\u001b[0m\n"
     ]
    }
   ],
   "source": [
    "Display( I )"
   ]
  },
  {
   "cell_type": "code",
   "execution_count": 44,
   "metadata": {},
   "outputs": [
    {
     "data": {
      "text/plain": [
       "GAP: Convolution functor"
      ]
     },
     "execution_count": 44,
     "metadata": {},
     "output_type": "execute_result"
    }
   ],
   "source": [
    "F = ConvolutionFunctorFromHomotopyCategoryOfQuiverRows( collection )"
   ]
  },
  {
   "cell_type": "code",
   "execution_count": 45,
   "metadata": {},
   "outputs": [
    {
     "name": "stdout",
     "output_type": "stream",
     "text": [
      "Convolution functor\u001b[1m\u001b[31m:\u001b[0m\n",
      "\n",
      "\u001b[35mHomotopy category( \u001b[0m\u001b[32mQuiverRows(\u001b[0m End( ⊕ {𝓞(i)|i=-2,-1,0} \\\n",
      ") \u001b[32m)\u001b[0m\u001b[35m )\u001b[0m\n",
      "\u001b[1m\u001b[31m  |\n",
      "  V\u001b[0m\n",
      "\u001b[35mHomotopy category( \u001b[0m\u001b[34mQuiverRows( \u001b[0mEnd( ⊕ {Ω^i(i)|i=0,...,2} \\\n",
      ")\u001b[34m )\u001b[0m\u001b[35m )\u001b[0m\n"
     ]
    }
   ],
   "source": [
    "Display( F )"
   ]
  },
  {
   "cell_type": "code",
   "execution_count": 46,
   "metadata": {},
   "outputs": [
    {
     "data": {
      "text/plain": [
       "GAP: Replacement functor"
      ]
     },
     "execution_count": 46,
     "metadata": {},
     "output_type": "execute_result"
    }
   ],
   "source": [
    "G = ReplacementFunctorIntoHomotopyCategoryOfQuiverRows( collection )"
   ]
  },
  {
   "cell_type": "code",
   "execution_count": 47,
   "metadata": {},
   "outputs": [
    {
     "name": "stdout",
     "output_type": "stream",
     "text": [
      "Replacement functor\u001b[1m\u001b[31m:\u001b[0m\n",
      "\n",
      "\u001b[35mHomotopy category( \u001b[0m\u001b[34mQuiverRows( \u001b[0mEnd( ⊕ {Ω^i(i)|i=0,...,2} \\\n",
      ")\u001b[34m )\u001b[0m\u001b[35m )\u001b[0m\n",
      "\u001b[1m\u001b[31m  |\n",
      "  V\u001b[0m\n",
      "\u001b[35mHomotopy category( \u001b[0m\u001b[32mQuiverRows(\u001b[0m End( ⊕ {𝓞(i)|i=-2,-1,0} \\\n",
      ") \u001b[32m)\u001b[0m\u001b[35m )\u001b[0m\n"
     ]
    }
   ],
   "source": [
    "Display( G )"
   ]
  },
  {
   "cell_type": "code",
   "execution_count": 48,
   "metadata": {},
   "outputs": [
    {
     "data": {
      "text/plain": [
       "GAP: <An object in \u001b[35mHomotopy category( \u001b[0m\u001b[34mQuiverRows( \u001b[0mEnd( ⊕ {Ω^i(\\\n",
       "i)|i=0,...,2} )\u001b[34m )\u001b[0m\u001b[35m )\u001b[0m with active lower bound \n",
       "-3 and active upper bound 3>"
      ]
     },
     "execution_count": 48,
     "metadata": {},
     "output_type": "execute_result"
    }
   ],
   "source": [
    "a = RandomObject( C, GAP.julia_to_gap( [ -3, 3, 3 ] ) )"
   ]
  },
  {
   "cell_type": "code",
   "execution_count": 49,
   "metadata": {},
   "outputs": [
    {
     "name": "stdout",
     "output_type": "stream",
     "text": [
      "An object in homotopy category defined by:\n",
      "\n",
      "An object in \u001b[33mChain complexes( \u001b[0m\u001b[34mQuiverRows( \u001b[0mEnd( ⊕ {Ω^i(i)|\\\n",
      "i=0,...,2} )\u001b[34m )\u001b[0m\u001b[33m )\u001b[0m given by the data: \n",
      "\n",
      "  \u001b[35m Λ\u001b[0m\n",
      "  \u001b[35m |\u001b[0m\n",
      "Source: [ [ <vertex 3 in quiver{Ω^2(2) -{3}-> Ω^1(1) -{3}-> Ω^0(0)}>, 3 ] ]\n",
      "  |\n",
      "  |\n",
      "Matrix: [  ]\n",
      "  |\n",
      "  v\n",
      "Range : [  ]\n",
      "\n",
      "  \u001b[35m |\u001b[0m\n",
      "\n",
      "-- \u001b[35m-3\u001b[0m -----------------------\n",
      "[ [ <vertex 3 in quiver{Ω^2(2) -{3}-> Ω^1(1) -{3}-> Ω^0(0)}>, 3 ] ]\n",
      "\n",
      "-----------------------------\n",
      "\n",
      "  \u001b[35m Λ\u001b[0m\n",
      "  \u001b[35m |\u001b[0m\n",
      "Source: [ [ <vertex 2 in quiver{Ω^2(2) -{3}-> Ω^1(1) -{3}-> Ω^0(0)}>, 1 ], \n",
      "  [ <vertex 3 in quiver{Ω^2(2) -{3}-> Ω^1(1) -{3}-> Ω^0(0)}>, 2 ] ]\n",
      "  |\n",
      "  |\n",
      "Matrix: \n",
      "[ [ { 2*(u2_u3_2) + 2*(u2_u3_1) }, { 3*(u2_u3_3) + 1*(u2_u3_1) }, \n",
      "      { 3*(u2_u3_3) + 1*(u2_u3_2) } ], [ { 4*(3) }, { 4*(3) }, { 4*(3) } ], \n",
      "  [ { 4*(3) }, { 4*(3) }, { 4*(3) } ] ]\n",
      "  |\n",
      "  v\n",
      "Range : [ [ <vertex 3 in quiver{Ω^2(2) -{3}-> Ω^1(1) -{3}-> Ω^0(0)}>, 3 ] ]\n",
      "\n",
      "  \u001b[35m |\u001b[0m\n",
      "\n",
      "-- \u001b[35m-2\u001b[0m -----------------------\n",
      "[ [ <vertex 2 in quiver{Ω^2(2) -{3}-> Ω^1(1) -{3}-> Ω^0(0)}>, 1 ], \n",
      "  [ <vertex 3 in quiver{Ω^2(2) -{3}-> Ω^1(1) -{3}-> Ω^0(0)}>, 2 ] ]\n",
      "\n",
      "-----------------------------\n",
      "\n",
      "  \u001b[35m Λ\u001b[0m\n",
      "  \u001b[35m |\u001b[0m\n",
      "Source: [ [ <vertex 3 in quiver{Ω^2(2) -{3}-> Ω^1(1) -{3}-> Ω^0(0)}>, 2 ], \n",
      "  [ <vertex 1 in quiver{Ω^2(2) -{3}-> Ω^1(1) -{3}-> Ω^0(0)}>, 1 ] ]\n",
      "  |\n",
      "  |\n",
      "Matrix: [ [ { 0 }, { -4*(3) }, { 4*(3) } ], [ { 0 }, { -4*(3) }, { 4*(3) } ], \n",
      "  [ { 0 }, \n",
      "      { -1*(u1_u2_2*u2_u3_3) - 2*(u1_u2_1*u2_u3_3) - 1*(u1_u2_1*u2_u3_2) }, \n",
      "      { 1*(u1_u2_2*u2_u3_3) + 2*(u1_u2_1*u2_u3_3) + 1*(u1_u2_1*u2_u3_2) } ] ]\n",
      "  |\n",
      "  v\n",
      "Range : [ [ <vertex 2 in quiver{Ω^2(2) -{3}-> Ω^1(1) -{3}-> Ω^0(0)}>, 1 ], \n",
      "  [ <vertex 3 in quiver{Ω^2(2) -{3}-> Ω^1(1) -{3}-> Ω^0(0)}>, 2 ] ]\n",
      "\n",
      "  \u001b[35m |\u001b[0m\n",
      "\n",
      "-- \u001b[35m-1\u001b[0m -----------------------\n",
      "[ [ <vertex 3 in quiver{Ω^2(2) -{3}-> Ω^1(1) -{3}-> Ω^0(0)}>, 2 ], \n",
      "  [ <vertex 1 in quiver{Ω^2(2) -{3}-> Ω^1(1) -{3}-> Ω^0(0)}>, 1 ] ]\n",
      "\n",
      "-----------------------------\n",
      "\n",
      "  \u001b[35m Λ\u001b[0m\n",
      "  \u001b[35m |\u001b[0m\n",
      "Source: [ [ <vertex 1 in quiver{Ω^2(2) -{3}-> Ω^1(1) -{3}-> Ω^0(0)}>, 1 ], \n",
      "  [ <vertex 3 in quiver{Ω^2(2) -{3}-> Ω^1(1) -{3}-> Ω^0(0)}>, 2 ], \n",
      "  [ <vertex 2 in quiver{Ω^2(2) -{3}-> Ω^1(1) -{3}-> Ω^0(0)}>, 1 ] ]\n",
      "  |\n",
      "  |\n",
      "Matrix: \n",
      "[ \n",
      "  [ { -5/4*(u1_u2_2*u2_u3_3) - 7/2*(u1_u2_1*u2_u3_3) - 21/4*(u1_u2_1*u2_u3_2) }\n",
      "        , { 1*(u1_u2_1*u2_u3_3) + 4*(u1_u2_1*u2_u3_2) }, { 5*(1) } ], \n",
      "  [ { -5*(3) }, { 5*(3) }, { 0 } ], [ { -5*(3) }, { 5*(3) }, { 0 } ], \n",
      "  [ { -1*(u2_u3_3) - 1*(u2_u3_2) - 3*(u2_u3_1) }, \n",
      "      { 1*(u2_u3_3) + 1*(u2_u3_2) + 3*(u2_u3_1) }, { 0 } ] ]\n",
      "  |\n",
      "  v\n",
      "Range : [ [ <vertex 3 in quiver{Ω^2(2) -{3}-> Ω^1(1) -{3}-> Ω^0(0)}>, 2 ], \n",
      "  [ <vertex 1 in quiver{Ω^2(2) -{3}-> Ω^1(1) -{3}-> Ω^0(0)}>, 1 ] ]\n",
      "\n",
      "  \u001b[35m |\u001b[0m\n",
      "\n",
      "-- \u001b[35m0\u001b[0m -----------------------\n",
      "[ [ <vertex 1 in quiver{Ω^2(2) -{3}-> Ω^1(1) -{3}-> Ω^0(0)}>, 1 ], \n",
      "  [ <vertex 3 in quiver{Ω^2(2) -{3}-> Ω^1(1) -{3}-> Ω^0(0)}>, 2 ], \n",
      "  [ <vertex 2 in quiver{Ω^2(2) -{3}-> Ω^1(1) -{3}-> Ω^0(0)}>, 1 ] ]\n",
      "\n",
      "----------------------------\n",
      "\n",
      "  \u001b[35m Λ\u001b[0m\n",
      "  \u001b[35m |\u001b[0m\n",
      "Source: [ [ <vertex 1 in quiver{Ω^2(2) -{3}-> Ω^1(1) -{3}-> Ω^0(0)}>, 1 ], \n",
      "  [ <vertex 3 in quiver{Ω^2(2) -{3}-> Ω^1(1) -{3}-> Ω^0(0)}>, 1 ], \n",
      "  [ <vertex 1 in quiver{Ω^2(2) -{3}-> Ω^1(1) -{3}-> Ω^0(0)}>, 1 ], \n",
      "  [ <vertex 3 in quiver{Ω^2(2) -{3}-> Ω^1(1) -{3}-> Ω^0(0)}>, 1 ] ]\n",
      "  |\n",
      "  |\n",
      "Matrix: \n",
      "[ \n",
      "  [ { 0 }, \n",
      "      { 2/5*(u1_u2_2*u2_u3_3) - 12/5*(u1_u2_1*u2_u3_3) - 3/5*(u1_u2_1*u2_u3_2)\\\n",
      " }, { 4*(u1_u2_1*u2_u3_3) + 1*(u1_u2_1*u2_u3_2) }, \n",
      "      { 3*(u1_u2_3) + 1*(u1_u2_2) + 1*(u1_u2_1) } ], \n",
      "  [ { 0 }, { -5*(3) }, { 5*(3) }, { 0 } ], \n",
      "  [ { 0 }, \n",
      "      { -3*(u1_u2_2*u2_u3_3) + 1*(u1_u2_1*u2_u3_3) - 1*(u1_u2_1*u2_u3_2) }, \n",
      "      { 3*(u1_u2_2*u2_u3_3) + 2*(u1_u2_1*u2_u3_2) }, \n",
      "      { 2*(u1_u2_3) + 2*(u1_u2_2) + 1*(u1_u2_1) } ], \n",
      "  [ { 0 }, { -5*(3) }, { 5*(3) }, { 0 } ] ]\n",
      "  |\n",
      "  v\n",
      "Range : [ [ <vertex 1 in quiver{Ω^2(2) -{3}-> Ω^1(1) -{3}-> Ω^0(0)}>, 1 ], \n",
      "  [ <vertex 3 in quiver{Ω^2(2) -{3}-> Ω^1(1) -{3}-> Ω^0(0)}>, 2 ], \n",
      "  [ <vertex 2 in quiver{Ω^2(2) -{3}-> Ω^1(1) -{3}-> Ω^0(0)}>, 1 ] ]\n",
      "\n",
      "  \u001b[35m |\u001b[0m\n",
      "\n",
      "-- \u001b[35m1\u001b[0m -----------------------\n",
      "[ [ <vertex 1 in quiver{Ω^2(2) -{3}-> Ω^1(1) -{3}-> Ω^0(0)}>, 1 ], \n",
      "  [ <vertex 3 in quiver{Ω^2(2) -{3}-> Ω^1(1) -{3}-> Ω^0(0)}>, 1 ], \n",
      "  [ <vertex 1 in quiver{Ω^2(2) -{3}-> Ω^1(1) -{3}-> Ω^0(0)}>, 1 ], \n",
      "  [ <vertex 3 in quiver{Ω^2(2) -{3}-> Ω^1(1) -{3}-> Ω^0(0)}>, 1 ] ]\n",
      "\n",
      "----------------------------\n",
      "\n",
      "  \u001b[35m Λ\u001b[0m\n",
      "  \u001b[35m |\u001b[0m\n",
      "Source: [ [ <vertex 1 in quiver{Ω^2(2) -{3}-> Ω^1(1) -{3}-> Ω^0(0)}>, 2 ], \n",
      "  [ <vertex 2 in quiver{Ω^2(2) -{3}-> Ω^1(1) -{3}-> Ω^0(0)}>, 1 ] ]\n",
      "  |\n",
      "  |\n",
      "Matrix: \n",
      "[ \n",
      "  [ { 0 }, { -1*(u1_u2_2*u2_u3_3) - 2*(u1_u2_1*u2_u3_3) - 1*(u1_u2_1*u2_u3_2) }\n",
      "        , { 0 }, \n",
      "      { 1*(u1_u2_2*u2_u3_3) + 2*(u1_u2_1*u2_u3_3) + 1*(u1_u2_1*u2_u3_2) } ], \n",
      "  [ { 0 }, { -2*(u1_u2_2*u2_u3_3) - 2*(u1_u2_1*u2_u3_3) }, { 0 }, \n",
      "      { 2*(u1_u2_2*u2_u3_3) + 2*(u1_u2_1*u2_u3_3) } ], \n",
      "  [ { 0 }, { -2*(u2_u3_3) - 1*(u2_u3_2) - 1*(u2_u3_1) }, { 0 }, \n",
      "      { 2*(u2_u3_3) + 1*(u2_u3_2) + 1*(u2_u3_1) } ] ]\n",
      "  |\n",
      "  v\n",
      "Range : [ [ <vertex 1 in quiver{Ω^2(2) -{3}-> Ω^1(1) -{3}-> Ω^0(0)}>, 1 ], \n",
      "  [ <vertex 3 in quiver{Ω^2(2) -{3}-> Ω^1(1) -{3}-> Ω^0(0)}>, 1 ], \n",
      "  [ <vertex 1 in quiver{Ω^2(2) -{3}-> Ω^1(1) -{3}-> Ω^0(0)}>, 1 ], \n",
      "  [ <vertex 3 in quiver{Ω^2(2) -{3}-> Ω^1(1) -{3}-> Ω^0(0)}>, 1 ] ]\n",
      "\n",
      "  \u001b[35m |\u001b[0m\n",
      "\n",
      "-- \u001b[35m2\u001b[0m -----------------------\n",
      "[ [ <vertex 1 in quiver{Ω^2(2) -{3}-> Ω^1(1) -{3}-> Ω^0(0)}>, 2 ], \n",
      "  [ <vertex 2 in quiver{Ω^2(2) -{3}-> Ω^1(1) -{3}-> Ω^0(0)}>, 1 ] ]\n",
      "\n",
      "----------------------------\n",
      "\n",
      "  \u001b[35m Λ\u001b[0m\n",
      "  \u001b[35m |\u001b[0m\n",
      "Source: [ [ <vertex 3 in quiver{Ω^2(2) -{3}-> Ω^1(1) -{3}-> Ω^0(0)}>, 1 ], \n",
      "  [ <vertex 2 in quiver{Ω^2(2) -{3}-> Ω^1(1) -{3}-> Ω^0(0)}>, 1 ], \n",
      "  [ <vertex 1 in quiver{Ω^2(2) -{3}-> Ω^1(1) -{3}-> Ω^0(0)}>, 1 ], \n",
      "  [ <vertex 2 in quiver{Ω^2(2) -{3}-> Ω^1(1) -{3}-> Ω^0(0)}>, 1 ] ]\n",
      "  |\n",
      "  |\n",
      "Matrix: [ [ { 0 }, { 0 }, { 0 } ], [ { 0 }, { 0 }, { 0 } ], \n",
      "  [ { 0 }, { -5/2*(1) }, { 5*(u1_u2_3) + 5*(u1_u2_2) + 5*(u1_u2_1) } ], \n",
      "  [ { 0 }, { 0 }, { 0 } ] ]\n",
      "  |\n",
      "  v\n",
      "Range : [ [ <vertex 1 in quiver{Ω^2(2) -{3}-> Ω^1(1) -{3}-> Ω^0(0)}>, 2 ], \n",
      "  [ <vertex 2 in quiver{Ω^2(2) -{3}-> Ω^1(1) -{3}-> Ω^0(0)}>, 1 ] ]\n",
      "\n",
      "  \u001b[35m |\u001b[0m\n",
      "\n",
      "-- \u001b[35m3\u001b[0m -----------------------\n",
      "[ [ <vertex 3 in quiver{Ω^2(2) -{3}-> Ω^1(1) -{3}-> Ω^0(0)}>, 1 ], \n",
      "  [ <vertex 2 in quiver{Ω^2(2) -{3}-> Ω^1(1) -{3}-> Ω^0(0)}>, 1 ], \n",
      "  [ <vertex 1 in quiver{Ω^2(2) -{3}-> Ω^1(1) -{3}-> Ω^0(0)}>, 1 ], \n",
      "  [ <vertex 2 in quiver{Ω^2(2) -{3}-> Ω^1(1) -{3}-> Ω^0(0)}>, 1 ] ]\n",
      "\n",
      "----------------------------\n",
      "\n"
     ]
    }
   ],
   "source": [
    "Display( a )"
   ]
  },
  {
   "cell_type": "code",
   "execution_count": 50,
   "metadata": {},
   "outputs": [
    {
     "data": {
      "text/plain": [
       "GAP: <An object in \u001b[35mHomotopy category( \u001b[0m\u001b[32mQuiverRows(\u001b[0m End( ⊕ {𝓞(\\\n",
       "i)|i=-2,-1,0} ) \u001b[32m)\u001b[0m\u001b[35m )\u001b[0m with active lower bound \n",
       "-3 and active upper bound 4>"
      ]
     },
     "execution_count": 50,
     "metadata": {},
     "output_type": "execute_result"
    }
   ],
   "source": [
    "G_a = G(a)"
   ]
  },
  {
   "cell_type": "code",
   "execution_count": 51,
   "metadata": {},
   "outputs": [
    {
     "data": {
      "text/plain": [
       "GAP: <An object in \u001b[35mHomotopy category( \u001b[0m\u001b[34mQuiverRows( \u001b[0mEnd( ⊕ {Ω^i(\\\n",
       "i)|i=0,...,2} )\u001b[34m )\u001b[0m\u001b[35m )\u001b[0m with active lower bound \n",
       "-3 and active upper bound 4>"
      ]
     },
     "execution_count": 51,
     "metadata": {},
     "output_type": "execute_result"
    }
   ],
   "source": [
    "FG_a = F(G_a)"
   ]
  },
  {
   "cell_type": "code",
   "execution_count": 52,
   "metadata": {},
   "outputs": [
    {
     "name": "stdout",
     "output_type": "stream",
     "text": [
      "An object in homotopy category defined by:\n",
      "\n",
      "An object in \u001b[33mChain complexes( \u001b[0m\u001b[34mQuiverRows( \u001b[0mEnd( ⊕ {Ω^i(i)|\\\n",
      "i=0,...,2} )\u001b[34m )\u001b[0m\u001b[33m )\u001b[0m given by the data: \n",
      "\n",
      "  \u001b[34m Λ\u001b[0m\n",
      "  \u001b[34m |\u001b[0m\n",
      "Source: [ [ <vertex 3 in quiver{Ω^2(2) -{3}-> Ω^1(1) -{3}-> Ω^0(0)}>, 2 ] ]\n",
      "  |\n",
      "  |\n",
      "Matrix: [  ]\n",
      "  |\n",
      "  v\n",
      "Range : [  ]\n",
      "\n",
      "  \u001b[34m |\u001b[0m\n",
      "\n",
      "-- \u001b[34m-3\u001b[0m -----------------------\n",
      "[ [ <vertex 3 in quiver{Ω^2(2) -{3}-> Ω^1(1) -{3}-> Ω^0(0)}>, 2 ] ]\n",
      "\n",
      "-----------------------------\n",
      "\n",
      "  \u001b[34m Λ\u001b[0m\n",
      "  \u001b[34m |\u001b[0m\n",
      "Source: [ [ <vertex 2 in quiver{Ω^2(2) -{3}-> Ω^1(1) -{3}-> Ω^0(0)}>, 1 ], \n",
      "  [ <vertex 1 in quiver{Ω^2(2) -{3}-> Ω^1(1) -{3}-> Ω^0(0)}>, 3 ] ]\n",
      "  |\n",
      "  |\n",
      "Matrix: \n",
      "[ \n",
      "  [ { -4*(u2_u3_3) + 8/3*(u2_u3_2) + 4/3*(u2_u3_1) }, \n",
      "      { -4*(u2_u3_3) + 4/3*(u2_u3_2) + 8/3*(u2_u3_1) } ], \n",
      "  [ { 3*(u1_u2_2*u2_u3_3) + 1*(u1_u2_1*u2_u3_3) + 1/3*(u1_u2_1*u2_u3_2) }, \n",
      "      { 2*(u1_u2_2*u2_u3_3) + 2*(u1_u2_1*u2_u3_3) + 2/3*(u1_u2_1*u2_u3_2) } ],\n",
      "  [ { -4*(u1_u2_1*u2_u3_3) + 8/3*(u1_u2_1*u2_u3_2) }, \n",
      "      { -4*(u1_u2_1*u2_u3_3) + 4/3*(u1_u2_1*u2_u3_2) } ], \n",
      "  [ { -4*(u1_u2_2*u2_u3_3) - 4/3*(u1_u2_1*u2_u3_2) }, \n",
      "      { -4*(u1_u2_2*u2_u3_3) - 8/3*(u1_u2_1*u2_u3_2) } ] ]\n",
      "  |\n",
      "  v\n",
      "Range : [ [ <vertex 3 in quiver{Ω^2(2) -{3}-> Ω^1(1) -{3}-> Ω^0(0)}>, 2 ] ]\n",
      "\n",
      "  \u001b[34m |\u001b[0m\n",
      "\n",
      "-- \u001b[34m-2\u001b[0m -----------------------\n",
      "[ [ <vertex 2 in quiver{Ω^2(2) -{3}-> Ω^1(1) -{3}-> Ω^0(0)}>, 1 ], \n",
      "  [ <vertex 1 in quiver{Ω^2(2) -{3}-> Ω^1(1) -{3}-> Ω^0(0)}>, 3 ] ]\n",
      "\n",
      "-----------------------------\n",
      "\n",
      "  \u001b[34m Λ\u001b[0m\n",
      "  \u001b[34m |\u001b[0m\n",
      "Source: [ [ <vertex 1 in quiver{Ω^2(2) -{3}-> Ω^1(1) -{3}-> Ω^0(0)}>, 3 ] ]\n",
      "  |\n",
      "  |\n",
      "Matrix: [ [ { -1*(u1_u2_3) }, { -4/3*(1) }, { 0 }, { -1/3*(1) } ], \n",
      "  [ { -1*(u1_u2_2) }, { 0 }, { 0 }, { 1*(1) } ], \n",
      "  [ { -1*(u1_u2_1) }, { 0 }, { 1*(1) }, { 0 } ] ]\n",
      "  |\n",
      "  v\n",
      "Range : [ [ <vertex 2 in quiver{Ω^2(2) -{3}-> Ω^1(1) -{3}-> Ω^0(0)}>, 1 ], \n",
      "  [ <vertex 1 in quiver{Ω^2(2) -{3}-> Ω^1(1) -{3}-> Ω^0(0)}>, 3 ] ]\n",
      "\n",
      "  \u001b[34m |\u001b[0m\n",
      "\n",
      "-- \u001b[34m-1\u001b[0m -----------------------\n",
      "[ [ <vertex 1 in quiver{Ω^2(2) -{3}-> Ω^1(1) -{3}-> Ω^0(0)}>, 3 ] ]\n",
      "\n",
      "-----------------------------\n",
      "\n",
      "  \u001b[34m Λ\u001b[0m\n",
      "  \u001b[34m |\u001b[0m\n",
      "Source: [ [ <vertex 2 in quiver{Ω^2(2) -{3}-> Ω^1(1) -{3}-> Ω^0(0)}>, 1 ], \n",
      "  [ <vertex 1 in quiver{Ω^2(2) -{3}-> Ω^1(1) -{3}-> Ω^0(0)}>, 1 ] ]\n",
      "  |\n",
      "  |\n",
      "Matrix: [ [ { 0 }, { 0 }, { 0 } ], [ { 0 }, { 0 }, { 0 } ] ]\n",
      "  |\n",
      "  v\n",
      "Range : [ [ <vertex 1 in quiver{Ω^2(2) -{3}-> Ω^1(1) -{3}-> Ω^0(0)}>, 3 ] ]\n",
      "\n",
      "  \u001b[34m |\u001b[0m\n",
      "\n",
      "-- \u001b[34m0\u001b[0m -----------------------\n",
      "[ [ <vertex 2 in quiver{Ω^2(2) -{3}-> Ω^1(1) -{3}-> Ω^0(0)}>, 1 ], \n",
      "  [ <vertex 1 in quiver{Ω^2(2) -{3}-> Ω^1(1) -{3}-> Ω^0(0)}>, 1 ] ]\n",
      "\n",
      "----------------------------\n",
      "\n",
      "  \u001b[34m Λ\u001b[0m\n",
      "  \u001b[34m |\u001b[0m\n",
      "Source: [ [ <vertex 1 in quiver{Ω^2(2) -{3}-> Ω^1(1) -{3}-> Ω^0(0)}>, 3 ], \n",
      "  [ <vertex 3 in quiver{Ω^2(2) -{3}-> Ω^1(1) -{3}-> Ω^0(0)}>, 1 ] ]\n",
      "  |\n",
      "  |\n",
      "Matrix: [ [ { -1*(u1_u2_3) }, { 1*(1) } ], [ { -1*(u1_u2_2) }, { 1*(1) } ], \n",
      "  [ { -1*(u1_u2_1) }, { -4*(1) } ], [ { 0 }, { 0 } ] ]\n",
      "  |\n",
      "  v\n",
      "Range : [ [ <vertex 2 in quiver{Ω^2(2) -{3}-> Ω^1(1) -{3}-> Ω^0(0)}>, 1 ], \n",
      "  [ <vertex 1 in quiver{Ω^2(2) -{3}-> Ω^1(1) -{3}-> Ω^0(0)}>, 1 ] ]\n",
      "\n",
      "  \u001b[34m |\u001b[0m\n",
      "\n",
      "-- \u001b[34m1\u001b[0m -----------------------\n",
      "[ [ <vertex 1 in quiver{Ω^2(2) -{3}-> Ω^1(1) -{3}-> Ω^0(0)}>, 3 ], \n",
      "  [ <vertex 3 in quiver{Ω^2(2) -{3}-> Ω^1(1) -{3}-> Ω^0(0)}>, 1 ] ]\n",
      "\n",
      "----------------------------\n",
      "\n",
      "  \u001b[34m Λ\u001b[0m\n",
      "  \u001b[34m |\u001b[0m\n",
      "Source: [ [ <vertex 2 in quiver{Ω^2(2) -{3}-> Ω^1(1) -{3}-> Ω^0(0)}>, 1 ], \n",
      "  [ <vertex 1 in quiver{Ω^2(2) -{3}-> Ω^1(1) -{3}-> Ω^0(0)}>, 4 ] ]\n",
      "  |\n",
      "  |\n",
      "Matrix: [ [ { 0 }, { 0 }, { 0 }, { 2*(u2_u3_3) + 1*(u2_u3_2) + 1*(u2_u3_1) } ]\n",
      "    , \n",
      "  [ { 0 }, { 0 }, { 0 }, \n",
      "      { 1*(u1_u2_2*u2_u3_3) + 2*(u1_u2_1*u2_u3_3) + 1*(u1_u2_1*u2_u3_2) } ], \n",
      "  [ { 0 }, { 0 }, { 0 }, { 2*(u1_u2_1*u2_u3_3) + 1*(u1_u2_1*u2_u3_2) } ], \n",
      "  [ { 0 }, { 0 }, { 0 }, { 2*(u1_u2_2*u2_u3_3) - 1*(u1_u2_1*u2_u3_2) } ], \n",
      "  [ { 0 }, { 0 }, { 0 }, { -1*(u1_u2_2*u2_u3_3) - 1*(u1_u2_1*u2_u3_3) } ] ]\n",
      "  |\n",
      "  v\n",
      "Range : [ [ <vertex 1 in quiver{Ω^2(2) -{3}-> Ω^1(1) -{3}-> Ω^0(0)}>, 3 ], \n",
      "  [ <vertex 3 in quiver{Ω^2(2) -{3}-> Ω^1(1) -{3}-> Ω^0(0)}>, 1 ] ]\n",
      "\n",
      "  \u001b[34m |\u001b[0m\n",
      "\n",
      "-- \u001b[34m2\u001b[0m -----------------------\n",
      "[ [ <vertex 2 in quiver{Ω^2(2) -{3}-> Ω^1(1) -{3}-> Ω^0(0)}>, 1 ], \n",
      "  [ <vertex 1 in quiver{Ω^2(2) -{3}-> Ω^1(1) -{3}-> Ω^0(0)}>, 4 ] ]\n",
      "\n",
      "----------------------------\n",
      "\n",
      "  \u001b[34m Λ\u001b[0m\n",
      "  \u001b[34m |\u001b[0m\n",
      "Source: [ [ <vertex 2 in quiver{Ω^2(2) -{3}-> Ω^1(1) -{3}-> Ω^0(0)}>, 2 ], \n",
      "  [ <vertex 1 in quiver{Ω^2(2) -{3}-> Ω^1(1) -{3}-> Ω^0(0)}>, 9 ], \n",
      "  [ <vertex 3 in quiver{Ω^2(2) -{3}-> Ω^1(1) -{3}-> Ω^0(0)}>, 1 ] ]\n",
      "  |\n",
      "  |\n",
      "Matrix: [ [ { 0 }, { 0 }, { 0 }, { 0 }, { 0 } ], \n",
      "  [ { 0 }, { 0 }, { 0 }, { 0 }, { 0 } ], \n",
      "  [ { -1*(u1_u2_3) }, { 0 }, { 0 }, { 0 }, { 1*(1) } ], \n",
      "  [ { -1*(u1_u2_2) }, { 0 }, { 0 }, { 1*(1) }, { 0 } ], \n",
      "  [ { -1*(u1_u2_1) }, { 0 }, { 1*(1) }, { 0 }, { 0 } ], \n",
      "  [ { 0 }, { 0 }, { 0 }, { 0 }, { 0 } ], [ { 0 }, { 0 }, { 0 }, { 0 }, { 0 } ]\n",
      "    , [ { 0 }, { 0 }, { 0 }, { 0 }, { 0 } ], \n",
      "  [ { 0 }, { 0 }, { 0 }, { 0 }, { 0 } ], [ { 0 }, { 0 }, { 0 }, { 0 }, { 0 } ]\n",
      "    , [ { 0 }, { 0 }, { 0 }, { 0 }, { 0 } ], \n",
      "  [ { 0 }, { 0 }, { 0 }, { 0 }, { 0 } ] ]\n",
      "  |\n",
      "  v\n",
      "Range : [ [ <vertex 2 in quiver{Ω^2(2) -{3}-> Ω^1(1) -{3}-> Ω^0(0)}>, 1 ], \n",
      "  [ <vertex 1 in quiver{Ω^2(2) -{3}-> Ω^1(1) -{3}-> Ω^0(0)}>, 4 ] ]\n",
      "\n",
      "  \u001b[34m |\u001b[0m\n",
      "\n",
      "-- \u001b[34m3\u001b[0m -----------------------\n",
      "[ [ <vertex 2 in quiver{Ω^2(2) -{3}-> Ω^1(1) -{3}-> Ω^0(0)}>, 2 ], \n",
      "  [ <vertex 1 in quiver{Ω^2(2) -{3}-> Ω^1(1) -{3}-> Ω^0(0)}>, 9 ], \n",
      "  [ <vertex 3 in quiver{Ω^2(2) -{3}-> Ω^1(1) -{3}-> Ω^0(0)}>, 1 ] ]\n",
      "\n",
      "----------------------------\n",
      "\n",
      "  \u001b[34m Λ\u001b[0m\n",
      "  \u001b[34m |\u001b[0m\n",
      "Source: [ [ <vertex 1 in quiver{Ω^2(2) -{3}-> Ω^1(1) -{3}-> Ω^0(0)}>, 6 ] ]\n",
      "  |\n",
      "  |\n",
      "Matrix: \n",
      "[ [ { 1*(u1_u2_3) }, { 0 }, { 0 }, { 0 }, { 0 }, { 0 }, { 0 }, { -1*(1) }, \n",
      "      { 0 }, { 0 }, { 0 }, { 0 } ], \n",
      "  [ { 1*(u1_u2_2) }, { 0 }, { 0 }, { 0 }, { 0 }, { 0 }, { -1*(1) }, { 0 }, \n",
      "      { 0 }, { 0 }, { 0 }, { 0 } ], \n",
      "  [ { 1*(u1_u2_1) }, { 0 }, { 0 }, { 0 }, { 0 }, { -1*(1) }, { 0 }, { 0 }, \n",
      "      { 0 }, { 0 }, { 0 }, { 0 } ], \n",
      "  [ { 0 }, { 1*(u1_u2_3) }, { 0 }, { 0 }, { 0 }, { 0 }, { 0 }, { 0 }, { 0 }, \n",
      "      { 0 }, { -1*(1) }, { 0 } ], \n",
      "  [ { 0 }, { 1*(u1_u2_2) }, { 0 }, { 0 }, { 0 }, { 0 }, { 0 }, { 0 }, { 0 }, \n",
      "      { -1*(1) }, { 0 }, { 0 } ], \n",
      "  [ { 0 }, { 1*(u1_u2_1) }, { 0 }, { 0 }, { 0 }, { 0 }, { 0 }, { 0 }, \n",
      "      { -1*(1) }, { 0 }, { 0 }, { 0 } ] ]\n",
      "  |\n",
      "  v\n",
      "Range : [ [ <vertex 2 in quiver{Ω^2(2) -{3}-> Ω^1(1) -{3}-> Ω^0(0)}>, 2 ], \n",
      "  [ <vertex 1 in quiver{Ω^2(2) -{3}-> Ω^1(1) -{3}-> Ω^0(0)}>, 9 ], \n",
      "  [ <vertex 3 in quiver{Ω^2(2) -{3}-> Ω^1(1) -{3}-> Ω^0(0)}>, 1 ] ]\n",
      "\n",
      "  \u001b[34m |\u001b[0m\n",
      "\n",
      "-- \u001b[34m4\u001b[0m -----------------------\n",
      "[ [ <vertex 1 in quiver{Ω^2(2) -{3}-> Ω^1(1) -{3}-> Ω^0(0)}>, 6 ] ]\n",
      "\n",
      "----------------------------\n",
      "\n"
     ]
    }
   ],
   "source": [
    "Display( FG_a )"
   ]
  },
  {
   "cell_type": "code",
   "execution_count": 53,
   "metadata": {},
   "outputs": [
    {
     "data": {
      "text/plain": [
       "GAP: <An object in \u001b[34mDerived category(\u001b[0m \u001b[32mQuiver representations(\u001b[0m End(\\\n",
       " ⊕ {Ω^i(i)|i=0,...,2} )^op \u001b[32m)\u001b[0m \u001b[34m)\u001b[0m>"
      ]
     },
     "execution_count": 53,
     "metadata": {},
     "output_type": "execute_result"
    }
   ],
   "source": [
    "I_a = I( a )"
   ]
  },
  {
   "cell_type": "code",
   "execution_count": 54,
   "metadata": {},
   "outputs": [
    {
     "data": {
      "text/plain": [
       "GAP: <An object in \u001b[34mDerived category(\u001b[0m \u001b[32mQuiver representations(\u001b[0m End(\\\n",
       " ⊕ {Ω^i(i)|i=0,...,2} )^op \u001b[32m)\u001b[0m \u001b[34m)\u001b[0m>"
      ]
     },
     "execution_count": 54,
     "metadata": {},
     "output_type": "execute_result"
    }
   ],
   "source": [
    "I_FG_a = I( FG_a )"
   ]
  },
  {
   "cell_type": "code",
   "execution_count": 57,
   "metadata": {},
   "outputs": [
    {
     "data": {
      "text/plain": [
       "GAP: [ [ <3,5,2>, <3,5,2> ], [ <0,0,0>, <0,0,0> ], [ <0,0,0>, <0,0,0> ], \n",
       "  [ <1,1,0>, <1,1,0> ], [ <0,2,1>, <0,2,1> ], [ <1,0,0>, <1,0,0> ], \n",
       "  [ <9,5,1>, <9,5,1> ] ]"
      ]
     },
     "execution_count": 57,
     "metadata": {},
     "output_type": "execute_result"
    }
   ],
   "source": [
    "List( GAP.julia_to_gap( -3:3 ), j -> GAP.julia_to_gap( [ HomologyAt( I_a, j ), HomologyAt( I_FG_a, j ) ] ) )"
   ]
  },
  {
   "cell_type": "code",
   "execution_count": null,
   "metadata": {},
   "outputs": [],
   "source": []
  },
  {
   "cell_type": "code",
   "execution_count": null,
   "metadata": {},
   "outputs": [],
   "source": []
  }
 ],
 "metadata": {
  "kernelspec": {
   "display_name": "Julia 1.3.1",
   "language": "julia",
   "name": "julia-1.3"
  },
  "language_info": {
   "file_extension": ".jl",
   "mimetype": "application/julia",
   "name": "julia",
   "version": "1.3.1"
  }
 },
 "nbformat": 4,
 "nbformat_minor": 2
}

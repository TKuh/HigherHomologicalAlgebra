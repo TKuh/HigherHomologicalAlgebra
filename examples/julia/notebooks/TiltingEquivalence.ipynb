{
 "cells": [
  {
   "cell_type": "markdown",
   "metadata": {},
   "source": [
    "## Tilting equivalence\n",
    "\n",
    "Let\n",
    "$$\n",
    "  A = \\operatorname{End}\\left( \\mathcal{O}(0) \\oplus \\mathcal{O}(1) \\oplus \\mathcal{O}(2) \\right)\n",
    "$$\n",
    "be the opposite endomorphism $\\mathbb{Q}$-algebra of the direct sum of the three line bundles $\\{\\mathcal{O}(0), \\mathcal{O}(1), \\mathcal{O}(2)\\}$ in $\\mathfrak{Coh}\\, \\mathbb{P}^2_\\mathbb{Q}$.\n",
    "\n",
    "Then\n",
    "$$\n",
    "  \\mathrm{D}^\\mathrm{b}(\\mathfrak{Coh}\\, \\mathbb{P}^2_\\mathbb{Q}) \\simeq \\mathrm{D}^\\mathrm{b}(A^\\mathrm{op}) \\mbox{.}\n",
    "$$\n",
    "\n",
    "Consider the full strong exceptional collection $\\{ \\Omega^0(0) = \\mathcal{O}(0), \\Omega^1(1), \\Omega^2(2) \\} \\subset \\mathfrak{Coh}\\, \\mathbb{P}^2_\\mathbb{Q}$ of twisted contangent bundles and define the corresponding tilting object\n",
    "$$\n",
    "  T := \\Omega^0(0) \\oplus \\Omega^1(1) \\oplus \\Omega^2(2) \\mbox{.}\n",
    "$$\n",
    "\n",
    "This notebook demonstrates the tilting equivalence\n",
    "$$\n",
    "  F: \\mathrm{D}^\\mathrm{b}(\\operatorname{End}(T)^\\mathrm{op}) \\rightleftarrows \\mathrm{D}^\\mathrm{b}(A^\\mathrm{op}) : G \\mbox{.}\n",
    "$$\n",
    "\n",
    "To a finite dimensional algebra $A$ over a field we define its opposite algebroid $(A^\\mathrm{op})^\\mathrm{oid}$ as the full subcategory of indecomposable direct summands of $A$, which are necessarily projective $A$-modules. The additive closure $((A^\\mathrm{op})^\\mathrm{oid})_\\oplus$ of the algebroid $(A^\\mathrm{op})^\\mathrm{oid}$ is then the closure of $A$ (considered as a linear category on one object) under direct sums and direct summands. The category $(A^\\mathrm{op})^\\mathrm{oid}$ is a model for the category of projective $A$-modules.\n",
    "\n",
    "We model the bounded derived category $\\mathrm{D}^\\mathrm{b}(A^\\mathrm{op})$ of the opposite of an algebra $A$ by the bounded homotopy category $\\mathrm{Ho}^\\mathrm{b}((A^\\mathrm{oid})_\\oplus)$."
   ]
  },
  {
   "cell_type": "code",
   "execution_count": 1,
   "metadata": {},
   "outputs": [
    {
     "name": "stdout",
     "output_type": "stream",
     "text": [
      "Singular.jl, based on\n",
      "                     SINGULAR                                 /  \n",
      " A Computer Algebra System for Polynomial Computations       /  Singular.jl: 0.3.1 \n",
      "                                                           0<   Singular   : 4.2.1-4\n",
      " by: W. Decker, G.-M. Greuel, G. Pfister, H. Schoenemann     \\   \n",
      "FB Mathematik der Universitaet, D-67653 Kaiserslautern        \\\n",
      "     \n",
      "HomalgProject v\u001b[32m0.4.7-dev\u001b[39m\n",
      "Imported OSCAR's components GAP, Nemo, and Singular\n",
      "Type: ?HomalgProject for more information\n"
     ]
    }
   ],
   "source": [
    "using HomalgProject"
   ]
  },
  {
   "cell_type": "code",
   "execution_count": 2,
   "metadata": {},
   "outputs": [
    {
     "data": {
      "text/plain": [
       "GAP: [ 1000, 100 ]"
      ]
     },
     "execution_count": 2,
     "metadata": {},
     "output_type": "execute_result"
    }
   ],
   "source": [
    "SizeScreen( [ 1000, 100 ] )"
   ]
  },
  {
   "cell_type": "code",
   "execution_count": 3,
   "metadata": {},
   "outputs": [],
   "source": [
    "LoadPackage( \"DerivedCategories\" )"
   ]
  },
  {
   "cell_type": "code",
   "execution_count": 4,
   "metadata": {},
   "outputs": [
    {
     "data": {
      "text/plain": [
       "true"
      ]
     },
     "execution_count": 4,
     "metadata": {},
     "output_type": "execute_result"
    }
   ],
   "source": [
    "ReadPackage( g\"DerivedCategories\", g\"examples/pre_settings.g\" ); GAP.Globals.ENABLE_COLORS = true"
   ]
  },
  {
   "cell_type": "code",
   "execution_count": 5,
   "metadata": {
    "scrolled": true
   },
   "outputs": [
    {
     "data": {
      "text/plain": [
       "GAP: Q"
      ]
     },
     "execution_count": 5,
     "metadata": {},
     "output_type": "execute_result"
    }
   ],
   "source": [
    "ℚ = HomalgFieldOfRationals()"
   ]
  },
  {
   "cell_type": "code",
   "execution_count": 6,
   "metadata": {},
   "outputs": [
    {
     "data": {
      "text/plain": [
       "GAP: q(𝓞(0),𝓞(1),𝓞(2))[x0:𝓞(0)->𝓞(1),x1:𝓞(0)->𝓞(1),x2:𝓞(0)->𝓞(1),y0:𝓞(1)->𝓞(2),y1:𝓞(1)->𝓞(2),y2:𝓞(1)->𝓞(2)]"
      ]
     },
     "execution_count": 6,
     "metadata": {},
     "output_type": "execute_result"
    }
   ],
   "source": [
    "q = RightQuiver( \"q\",\n",
    "          [ \"𝓞(0)\", \"𝓞(1)\", \"𝓞(2)\" ],\n",
    "          [ \"x0\", \"x1\", \"x2\", \"y0\", \"y1\", \"y2\" ],\n",
    "          [ 1, 1, 1, 2, 2, 2 ],\n",
    "          [ 2, 2, 2, 3, 3, 3 ] )"
   ]
  },
  {
   "cell_type": "code",
   "execution_count": 7,
   "metadata": {},
   "outputs": [
    {
     "data": {
      "text/plain": [
       "GAP: Q * q"
      ]
     },
     "execution_count": 7,
     "metadata": {},
     "output_type": "execute_result"
    }
   ],
   "source": [
    "Qq = PathAlgebra( ℚ, q )"
   ]
  },
  {
   "cell_type": "code",
   "execution_count": 8,
   "metadata": {},
   "outputs": [],
   "source": [
    "A = Qq / [ Qq.x0*Qq.y1-Qq.x1*Qq.y0, Qq.x0*Qq.y2-Qq.x2*Qq.y0, Qq.x1*Qq.y2-Qq.x2*Qq.y1 ];"
   ]
  },
  {
   "cell_type": "code",
   "execution_count": 9,
   "metadata": {},
   "outputs": [
    {
     "data": {
      "text/plain": [
       "GAP: End( 𝓞(0) ⊕ 𝓞(1) ⊕ 𝓞(2) )"
      ]
     },
     "execution_count": 9,
     "metadata": {},
     "output_type": "execute_result"
    }
   ],
   "source": [
    "SetName( A, g\"End( 𝓞(0) ⊕ 𝓞(1) ⊕ 𝓞(2) )\" ); A"
   ]
  },
  {
   "cell_type": "code",
   "execution_count": 10,
   "metadata": {},
   "outputs": [
    {
     "data": {
      "text/plain": [
       "15"
      ]
     },
     "execution_count": 10,
     "metadata": {},
     "output_type": "execute_result"
    }
   ],
   "source": [
    "Dimension( A )"
   ]
  },
  {
   "cell_type": "code",
   "execution_count": 13,
   "metadata": {},
   "outputs": [
    {
     "data": {
      "text/plain": [
       "GAP: End( 𝓞(0) ⊕ 𝓞(1) ⊕ 𝓞(2) )^op"
      ]
     },
     "execution_count": 13,
     "metadata": {},
     "output_type": "execute_result"
    }
   ],
   "source": [
    "Aop = OppositeAlgebra( A ); SetName( Aop, g\"End( 𝓞(0) ⊕ 𝓞(1) ⊕ 𝓞(2) )^op\" ); Aop"
   ]
  },
  {
   "cell_type": "code",
   "execution_count": 14,
   "metadata": {},
   "outputs": [
    {
     "data": {
      "text/plain": [
       "GAP: \u001b[34mQuiver rows( \u001b[0mEnd( 𝓞(0) ⊕ 𝓞(1) ⊕ 𝓞(2) )\u001b[34m )\u001b[0m"
      ]
     },
     "execution_count": 14,
     "metadata": {},
     "output_type": "execute_result"
    }
   ],
   "source": [
    "QRows = QuiverRows( A )"
   ]
  },
  {
   "cell_type": "code",
   "execution_count": 15,
   "metadata": {},
   "outputs": [
    {
     "data": {
      "text/plain": [
       "GAP: <An object in \u001b[34mQuiver rows( \u001b[0mEnd( 𝓞(0) ⊕ 𝓞(1) ⊕ 𝓞(2) )\u001b[34m )\u001b[0m defined by 3 quiver vertices>"
      ]
     },
     "execution_count": 15,
     "metadata": {},
     "output_type": "execute_result"
    }
   ],
   "source": [
    "a_0 = QuiverRowsObject( [ [ q.\"𝓞(0)\", 3 ] ], QRows )"
   ]
  },
  {
   "cell_type": "code",
   "execution_count": 16,
   "metadata": {},
   "outputs": [
    {
     "data": {
      "text/plain": [
       "GAP: <An object in \u001b[34mQuiver rows( \u001b[0mEnd( 𝓞(0) ⊕ 𝓞(1) ⊕ 𝓞(2) )\u001b[34m )\u001b[0m defined by 3 quiver vertices>"
      ]
     },
     "execution_count": 16,
     "metadata": {},
     "output_type": "execute_result"
    }
   ],
   "source": [
    "a_m1 = QuiverRowsObject( [ [ q.\"𝓞(1)\", 3 ] ], QRows )"
   ]
  },
  {
   "cell_type": "code",
   "execution_count": 17,
   "metadata": {},
   "outputs": [
    {
     "data": {
      "text/plain": [
       "GAP: <An object in \u001b[34mQuiver rows( \u001b[0mEnd( 𝓞(0) ⊕ 𝓞(1) ⊕ 𝓞(2) )\u001b[34m )\u001b[0m defined by 1 quiver vertices>"
      ]
     },
     "execution_count": 17,
     "metadata": {},
     "output_type": "execute_result"
    }
   ],
   "source": [
    "a_m2 = QuiverRowsObject( [ [ q.\"𝓞(2)\", 1 ] ], QRows )"
   ]
  },
  {
   "cell_type": "code",
   "execution_count": 18,
   "metadata": {},
   "outputs": [
    {
     "data": {
      "text/plain": [
       "GAP: <A morphism in \u001b[34mQuiver rows( \u001b[0mEnd( 𝓞(0) ⊕ 𝓞(1) ⊕ 𝓞(2) )\u001b[34m )\u001b[0m defined by a 3 x 3 matrix of quiver algebra elements>"
      ]
     },
     "execution_count": 18,
     "metadata": {},
     "output_type": "execute_result"
    }
   ],
   "source": [
    "d_0 = QuiverRowsMorphism(\n",
    "          a_0,\n",
    "          [ [ A.x1, -A.x0, Zero(A) ],\n",
    "            [ A.x2, Zero(A), -A.x0 ],\n",
    "            [ Zero(A), A.x2, -A.x1 ] ],\n",
    "          a_m1\n",
    "        )"
   ]
  },
  {
   "cell_type": "code",
   "execution_count": 19,
   "metadata": {},
   "outputs": [
    {
     "data": {
      "text/plain": [
       "true"
      ]
     },
     "execution_count": 19,
     "metadata": {},
     "output_type": "execute_result"
    }
   ],
   "source": [
    "IsWellDefined( d_0 )"
   ]
  },
  {
   "cell_type": "code",
   "execution_count": 20,
   "metadata": {},
   "outputs": [
    {
     "data": {
      "text/plain": [
       "GAP: <A morphism in \u001b[34mQuiver rows( \u001b[0mEnd( 𝓞(0) ⊕ 𝓞(1) ⊕ 𝓞(2) )\u001b[34m )\u001b[0m defined by a 3 x 1 matrix of quiver algebra elements>"
      ]
     },
     "execution_count": 20,
     "metadata": {},
     "output_type": "execute_result"
    }
   ],
   "source": [
    "d_m1 = QuiverRowsMorphism(\n",
    "          a_m1,\n",
    "          [ [ A.y0 ],\n",
    "            [ A.y1 ],\n",
    "            [ A.y2 ] ],\n",
    "          a_m2\n",
    "        )"
   ]
  },
  {
   "cell_type": "code",
   "execution_count": 21,
   "metadata": {},
   "outputs": [
    {
     "data": {
      "text/plain": [
       "true"
      ]
     },
     "execution_count": 21,
     "metadata": {},
     "output_type": "execute_result"
    }
   ],
   "source": [
    "IsWellDefined( d_m1 )"
   ]
  },
  {
   "cell_type": "code",
   "execution_count": 22,
   "metadata": {},
   "outputs": [
    {
     "data": {
      "text/plain": [
       "GAP: <An object in \u001b[35mHomotopy category( \u001b[0m\u001b[34mQuiver rows( \u001b[0mEnd( 𝓞(0) ⊕ 𝓞(1) ⊕ 𝓞(2) )\u001b[34m )\u001b[0m\u001b[35m )\u001b[0m with active lower bound -2 and active upper bound 0>"
      ]
     },
     "execution_count": 22,
     "metadata": {},
     "output_type": "execute_result"
    }
   ],
   "source": [
    "Ω00 = HomotopyCategoryObject( [ d_m1, d_0 ], -1 )"
   ]
  },
  {
   "cell_type": "code",
   "execution_count": 23,
   "metadata": {},
   "outputs": [
    {
     "data": {
      "text/plain": [
       "true"
      ]
     },
     "execution_count": 23,
     "metadata": {},
     "output_type": "execute_result"
    }
   ],
   "source": [
    "IsWellDefined( Ω00 )"
   ]
  },
  {
   "cell_type": "code",
   "execution_count": 24,
   "metadata": {},
   "outputs": [
    {
     "data": {
      "text/plain": [
       "GAP: <An object in \u001b[34mQuiver rows( \u001b[0mEnd( 𝓞(0) ⊕ 𝓞(1) ⊕ 𝓞(2) )\u001b[34m )\u001b[0m defined by 3 quiver vertices>"
      ]
     },
     "execution_count": 24,
     "metadata": {},
     "output_type": "execute_result"
    }
   ],
   "source": [
    "a_0 = QuiverRowsObject( [ [ q.\"𝓞(0)\", 3 ] ], QRows )"
   ]
  },
  {
   "cell_type": "code",
   "execution_count": 25,
   "metadata": {},
   "outputs": [
    {
     "data": {
      "text/plain": [
       "GAP: <An object in \u001b[34mQuiver rows( \u001b[0mEnd( 𝓞(0) ⊕ 𝓞(1) ⊕ 𝓞(2) )\u001b[34m )\u001b[0m defined by 1 quiver vertices>"
      ]
     },
     "execution_count": 25,
     "metadata": {},
     "output_type": "execute_result"
    }
   ],
   "source": [
    "a_m1 = QuiverRowsObject( [ [ q.\"𝓞(1)\", 1 ] ], QRows )"
   ]
  },
  {
   "cell_type": "code",
   "execution_count": 26,
   "metadata": {},
   "outputs": [
    {
     "data": {
      "text/plain": [
       "GAP: <A morphism in \u001b[34mQuiver rows( \u001b[0mEnd( 𝓞(0) ⊕ 𝓞(1) ⊕ 𝓞(2) )\u001b[34m )\u001b[0m defined by a 3 x 1 matrix of quiver algebra elements>"
      ]
     },
     "execution_count": 26,
     "metadata": {},
     "output_type": "execute_result"
    }
   ],
   "source": [
    "d_0 = QuiverRowsMorphism(\n",
    "          a_0,\n",
    "          [ [ A.x0 ],\n",
    "            [ A.x1 ],\n",
    "            [ A.x2 ] ],\n",
    "          a_m1\n",
    "        )"
   ]
  },
  {
   "cell_type": "code",
   "execution_count": 27,
   "metadata": {},
   "outputs": [
    {
     "data": {
      "text/plain": [
       "GAP: <An object in \u001b[35mHomotopy category( \u001b[0m\u001b[34mQuiver rows( \u001b[0mEnd( 𝓞(0) ⊕ 𝓞(1) ⊕ 𝓞(2) )\u001b[34m )\u001b[0m\u001b[35m )\u001b[0m with active lower bound -1 and active upper bound 0>"
      ]
     },
     "execution_count": 27,
     "metadata": {},
     "output_type": "execute_result"
    }
   ],
   "source": [
    "Ω11 = HomotopyCategoryObject( [ d_0 ], 0 )"
   ]
  },
  {
   "cell_type": "code",
   "execution_count": 28,
   "metadata": {},
   "outputs": [
    {
     "data": {
      "text/plain": [
       "GAP: <An object in \u001b[34mQuiver rows( \u001b[0mEnd( 𝓞(0) ⊕ 𝓞(1) ⊕ 𝓞(2) )\u001b[34m )\u001b[0m defined by 1 quiver vertices>"
      ]
     },
     "execution_count": 28,
     "metadata": {},
     "output_type": "execute_result"
    }
   ],
   "source": [
    "a_0 = QuiverRowsObject( [ [ q.\"𝓞(0)\", 1 ] ], QRows )"
   ]
  },
  {
   "cell_type": "code",
   "execution_count": 29,
   "metadata": {},
   "outputs": [
    {
     "data": {
      "text/plain": [
       "GAP: <A morphism in \u001b[34mQuiver rows( \u001b[0mEnd( 𝓞(0) ⊕ 𝓞(1) ⊕ 𝓞(2) )\u001b[34m )\u001b[0m defined by a 1 x 0 matrix of quiver algebra elements>"
      ]
     },
     "execution_count": 29,
     "metadata": {},
     "output_type": "execute_result"
    }
   ],
   "source": [
    "d_0 = UniversalMorphismIntoZeroObject( a_0 )"
   ]
  },
  {
   "cell_type": "code",
   "execution_count": 30,
   "metadata": {},
   "outputs": [
    {
     "data": {
      "text/plain": [
       "GAP: <An object in \u001b[35mHomotopy category( \u001b[0m\u001b[34mQuiver rows( \u001b[0mEnd( 𝓞(0) ⊕ 𝓞(1) ⊕ 𝓞(2) )\u001b[34m )\u001b[0m\u001b[35m )\u001b[0m with active lower bound -1 and active upper bound 0>"
      ]
     },
     "execution_count": 30,
     "metadata": {},
     "output_type": "execute_result"
    }
   ],
   "source": [
    "Ω22 = HomotopyCategoryObject( [ d_0 ], 0 )"
   ]
  },
  {
   "cell_type": "code",
   "execution_count": 31,
   "metadata": {},
   "outputs": [
    {
     "data": {
      "text/plain": [
       "GAP: <A exceptional collection defined by the objects of the Full subcategory generated by 3 objects in \u001b[35mHomotopy category( \u001b[0m\u001b[34mQuiver rows( \u001b[0mEnd( 𝓞(0) ⊕ 𝓞(1) ⊕ 𝓞(2) )\u001b[34m )\u001b[0m\u001b[35m )\u001b[0m>"
      ]
     },
     "execution_count": 31,
     "metadata": {},
     "output_type": "execute_result"
    }
   ],
   "source": [
    "collection = CreateExceptionalCollection( [ Ω00, Ω11, Ω22 ], [ \"Ω^0(0)\", \"Ω^1(1)\", \"Ω^2(2)\" ] )"
   ]
  },
  {
   "cell_type": "code",
   "execution_count": 32,
   "metadata": {},
   "outputs": [
    {
     "data": {
      "text/plain": [
       "GAP: Convolution functor"
      ]
     },
     "execution_count": 32,
     "metadata": {},
     "output_type": "execute_result"
    }
   ],
   "source": [
    "F = ConvolutionFunctorFromHomotopyCategoryOfQuiverRows( collection )"
   ]
  },
  {
   "cell_type": "code",
   "execution_count": 33,
   "metadata": {},
   "outputs": [
    {
     "name": "stdout",
     "output_type": "stream",
     "text": [
      "Convolution functor\u001b[1m\u001b[31m:\u001b[0m\n",
      "\n",
      "\u001b[32mHomotopy category( \u001b[0m\u001b[35mQuiver rows(\u001b[0m End( Ω^0(0) ⊕ Ω^1(1) ⊕ Ω^2(2) ) \u001b[35m)\u001b[0m\u001b[32m )\u001b[0m\n",
      "\u001b[1m\u001b[31m  |\n",
      "  V\u001b[0m\n",
      "\u001b[35mHomotopy category( \u001b[0m\u001b[34mQuiver rows( \u001b[0mEnd( 𝓞(0) ⊕ 𝓞(1) ⊕ 𝓞(2) )\u001b[34m )\u001b[0m\u001b[35m )\u001b[0m\n"
     ]
    }
   ],
   "source": [
    "Display( F )"
   ]
  },
  {
   "cell_type": "code",
   "execution_count": 34,
   "metadata": {},
   "outputs": [
    {
     "data": {
      "text/plain": [
       "GAP: \u001b[32mHomotopy category( \u001b[0m\u001b[35mQuiver rows(\u001b[0m End( Ω^0(0) ⊕ Ω^1(1) ⊕ Ω^2(2) ) \u001b[35m)\u001b[0m\u001b[32m )\u001b[0m"
      ]
     },
     "execution_count": 34,
     "metadata": {},
     "output_type": "execute_result"
    }
   ],
   "source": [
    "HoEndT = SourceOfFunctor( F )"
   ]
  },
  {
   "cell_type": "code",
   "execution_count": 35,
   "metadata": {},
   "outputs": [
    {
     "data": {
      "text/plain": [
       "GAP: \u001b[35mHomotopy category( \u001b[0m\u001b[34mQuiver rows( \u001b[0mEnd( 𝓞(0) ⊕ 𝓞(1) ⊕ 𝓞(2) )\u001b[34m )\u001b[0m\u001b[35m )\u001b[0m"
      ]
     },
     "execution_count": 35,
     "metadata": {},
     "output_type": "execute_result"
    }
   ],
   "source": [
    "HoA = RangeOfFunctor( F )"
   ]
  },
  {
   "cell_type": "code",
   "execution_count": 36,
   "metadata": {},
   "outputs": [
    {
     "data": {
      "text/plain": [
       "GAP: Replacement functor"
      ]
     },
     "execution_count": 36,
     "metadata": {},
     "output_type": "execute_result"
    }
   ],
   "source": [
    "G = ReplacementFunctorIntoHomotopyCategoryOfQuiverRows( collection )"
   ]
  },
  {
   "cell_type": "code",
   "execution_count": 37,
   "metadata": {},
   "outputs": [
    {
     "name": "stdout",
     "output_type": "stream",
     "text": [
      "Replacement functor\u001b[1m\u001b[31m:\u001b[0m\n",
      "\n",
      "\u001b[35mHomotopy category( \u001b[0m\u001b[34mQuiver rows( \u001b[0mEnd( 𝓞(0) ⊕ 𝓞(1) ⊕ 𝓞(2) )\u001b[34m )\u001b[0m\u001b[35m )\u001b[0m\n",
      "\u001b[1m\u001b[31m  |\n",
      "  V\u001b[0m\n",
      "\u001b[32mHomotopy category( \u001b[0m\u001b[35mQuiver rows(\u001b[0m End( Ω^0(0) ⊕ Ω^1(1) ⊕ Ω^2(2) ) \u001b[35m)\u001b[0m\u001b[32m )\u001b[0m\n"
     ]
    }
   ],
   "source": [
    "Display( G )"
   ]
  },
  {
   "cell_type": "code",
   "execution_count": 38,
   "metadata": {},
   "outputs": [
    {
     "data": {
      "text/plain": [
       "GAP: <An object in \u001b[35mHomotopy category( \u001b[0m\u001b[34mQuiver rows( \u001b[0mEnd( 𝓞(0) ⊕ 𝓞(1) ⊕ 𝓞(2) )\u001b[34m )\u001b[0m\u001b[35m )\u001b[0m with active lower bound 0 and active upper bound 0>"
      ]
     },
     "execution_count": 38,
     "metadata": {},
     "output_type": "execute_result"
    }
   ],
   "source": [
    "𝓞0 = SourceOfFunctor( G ).\"𝓞(0)\""
   ]
  },
  {
   "cell_type": "code",
   "execution_count": 39,
   "metadata": {},
   "outputs": [
    {
     "data": {
      "text/plain": [
       "GAP: <An object in \u001b[35mHomotopy category( \u001b[0m\u001b[34mQuiver rows( \u001b[0mEnd( 𝓞(0) ⊕ 𝓞(1) ⊕ 𝓞(2) )\u001b[34m )\u001b[0m\u001b[35m )\u001b[0m with active lower bound 0 and active upper bound 0>"
      ]
     },
     "execution_count": 39,
     "metadata": {},
     "output_type": "execute_result"
    }
   ],
   "source": [
    "𝓞1 = SourceOfFunctor( G ).\"𝓞(1)\""
   ]
  },
  {
   "cell_type": "code",
   "execution_count": 40,
   "metadata": {},
   "outputs": [
    {
     "data": {
      "text/plain": [
       "GAP: <An object in \u001b[35mHomotopy category( \u001b[0m\u001b[34mQuiver rows( \u001b[0mEnd( 𝓞(0) ⊕ 𝓞(1) ⊕ 𝓞(2) )\u001b[34m )\u001b[0m\u001b[35m )\u001b[0m with active lower bound 0 and active upper bound 0>"
      ]
     },
     "execution_count": 40,
     "metadata": {},
     "output_type": "execute_result"
    }
   ],
   "source": [
    "𝓞2 = SourceOfFunctor( G ).\"𝓞(2)\""
   ]
  },
  {
   "cell_type": "code",
   "execution_count": 41,
   "metadata": {
    "scrolled": false
   },
   "outputs": [
    {
     "name": "stdout",
     "output_type": "stream",
     "text": [
      "== \u001b[34m0\u001b[0m =======================\n",
      "An object in \u001b[34mQuiver rows( \u001b[0mEnd( 𝓞(0) ⊕ 𝓞(1) ⊕ 𝓞(2) )\u001b[34m )\u001b[0m defined by 1 vertices:\n",
      "\n",
      "<(𝓞(0))>\n",
      "============================\n",
      "\n",
      "\n",
      "An object in \u001b[35mHomotopy category( \u001b[0m\u001b[34mQuiver rows( \u001b[0mEnd( 𝓞(0) ⊕ 𝓞(1) ⊕ 𝓞(2) )\u001b[34m )\u001b[0m\u001b[35m )\u001b[0m given by the above data\n"
     ]
    }
   ],
   "source": [
    "Display( 𝓞0 )"
   ]
  },
  {
   "cell_type": "code",
   "execution_count": 75,
   "metadata": {},
   "outputs": [
    {
     "data": {
      "text/plain": [
       "GAP: <An object in \u001b[32mHomotopy category( \u001b[0m\u001b[35mQuiver rows(\u001b[0m End( Ω^0(0) ⊕ Ω^1(1) ⊕ Ω^2(2) ) \u001b[35m)\u001b[0m\u001b[32m )\u001b[0m with active lower bound 0 and active upper bound 0>"
      ]
     },
     "execution_count": 75,
     "metadata": {},
     "output_type": "execute_result"
    }
   ],
   "source": [
    "G𝓞0 = G( 𝓞0 )"
   ]
  },
  {
   "cell_type": "code",
   "execution_count": 76,
   "metadata": {},
   "outputs": [
    {
     "name": "stdout",
     "output_type": "stream",
     "text": [
      "== \u001b[35m0\u001b[0m =======================\n",
      "An object in \u001b[35mQuiver rows(\u001b[0m End( Ω^0(0) ⊕ Ω^1(1) ⊕ Ω^2(2) ) \u001b[35m)\u001b[0m defined by 1 vertices:\n",
      "\n",
      "<(Ω^2(2))>\n",
      "============================\n",
      "\n",
      "\n",
      "An object in \u001b[32mHomotopy category( \u001b[0m\u001b[35mQuiver rows(\u001b[0m End( Ω^0(0) ⊕ Ω^1(1) ⊕ Ω^2(2) ) \u001b[35m)\u001b[0m\u001b[32m )\u001b[0m given by the above data\n"
     ]
    }
   ],
   "source": [
    "Display( G𝓞0 )"
   ]
  },
  {
   "cell_type": "code",
   "execution_count": 77,
   "metadata": {},
   "outputs": [
    {
     "data": {
      "text/plain": [
       "GAP: <An object in \u001b[32mHomotopy category( \u001b[0m\u001b[35mQuiver rows(\u001b[0m End( Ω^0(0) ⊕ Ω^1(1) ⊕ Ω^2(2) ) \u001b[35m)\u001b[0m\u001b[32m )\u001b[0m with active lower bound 0 and active upper bound 1>"
      ]
     },
     "execution_count": 77,
     "metadata": {},
     "output_type": "execute_result"
    }
   ],
   "source": [
    "G𝓞1 = G( 𝓞1 )"
   ]
  },
  {
   "cell_type": "code",
   "execution_count": 78,
   "metadata": {},
   "outputs": [
    {
     "name": "stdout",
     "output_type": "stream",
     "text": [
      "== \u001b[34m0\u001b[0m =======================\n",
      "An object in \u001b[35mQuiver rows(\u001b[0m End( Ω^0(0) ⊕ Ω^1(1) ⊕ Ω^2(2) ) \u001b[35m)\u001b[0m defined by 3 vertices:\n",
      "\n",
      "<(Ω^2(2))>\n",
      "<(Ω^2(2))>\n",
      "<(Ω^2(2))>\n",
      "============================\n",
      "\n",
      "  \u001b[34m Λ\u001b[0m\n",
      "  \u001b[34m |\u001b[0m\n",
      "A morphism in \u001b[35mQuiver rows(\u001b[0m End( Ω^0(0) ⊕ Ω^1(1) ⊕ Ω^2(2) ) \u001b[35m)\u001b[0m defined by the following 1 x 3 matrix of quiver algebra elements:\n",
      "\n",
      "[1,1]: { 1*(m2_3_1) }\n",
      "[1,2]: { 1*(m2_3_2) }\n",
      "[1,3]: { 1*(m2_3_3) }\n",
      "  \u001b[34m |\u001b[0m\n",
      "\n",
      "== \u001b[34m1\u001b[0m =======================\n",
      "An object in \u001b[35mQuiver rows(\u001b[0m End( Ω^0(0) ⊕ Ω^1(1) ⊕ Ω^2(2) ) \u001b[35m)\u001b[0m defined by 1 vertices:\n",
      "\n",
      "<(Ω^1(1))>\n",
      "============================\n",
      "\n",
      "\n",
      "An object in \u001b[32mHomotopy category( \u001b[0m\u001b[35mQuiver rows(\u001b[0m End( Ω^0(0) ⊕ Ω^1(1) ⊕ Ω^2(2) ) \u001b[35m)\u001b[0m\u001b[32m )\u001b[0m given by the above data\n"
     ]
    }
   ],
   "source": [
    "Display( G𝓞1 )"
   ]
  },
  {
   "cell_type": "code",
   "execution_count": 79,
   "metadata": {},
   "outputs": [
    {
     "data": {
      "text/plain": [
       "GAP: <An object in \u001b[32mHomotopy category( \u001b[0m\u001b[35mQuiver rows(\u001b[0m End( Ω^0(0) ⊕ Ω^1(1) ⊕ Ω^2(2) ) \u001b[35m)\u001b[0m\u001b[32m )\u001b[0m with active lower bound 0 and active upper bound 2>"
      ]
     },
     "execution_count": 79,
     "metadata": {},
     "output_type": "execute_result"
    }
   ],
   "source": [
    "G𝓞2 = G( 𝓞2 )"
   ]
  },
  {
   "cell_type": "code",
   "execution_count": 80,
   "metadata": {},
   "outputs": [
    {
     "name": "stdout",
     "output_type": "stream",
     "text": [
      "== \u001b[35m0\u001b[0m =======================\n",
      "An object in \u001b[35mQuiver rows(\u001b[0m End( Ω^0(0) ⊕ Ω^1(1) ⊕ Ω^2(2) ) \u001b[35m)\u001b[0m defined by 6 vertices:\n",
      "\n",
      "<(Ω^2(2))>\n",
      "<(Ω^2(2))>\n",
      "<(Ω^2(2))>\n",
      "<(Ω^2(2))>\n",
      "<(Ω^2(2))>\n",
      "<(Ω^2(2))>\n",
      "============================\n",
      "\n",
      "  \u001b[35m Λ\u001b[0m\n",
      "  \u001b[35m |\u001b[0m\n",
      "A morphism in \u001b[35mQuiver rows(\u001b[0m End( Ω^0(0) ⊕ Ω^1(1) ⊕ Ω^2(2) ) \u001b[35m)\u001b[0m defined by the following 3 x 6 matrix of quiver algebra elements:\n",
      "\n",
      "[1,1]: { 1*(m2_3_1) }\n",
      "[1,2]: { 1*(m2_3_2) }\n",
      "[1,3]: { 1*(m2_3_3) }\n",
      "[1,4]: { 0 }\n",
      "[1,5]: { 0 }\n",
      "[1,6]: { 0 }\n",
      "[2,1]: { 0 }\n",
      "[2,2]: { 1*(m2_3_1) }\n",
      "[2,3]: { 0 }\n",
      "[2,4]: { 1*(m2_3_2) }\n",
      "[2,5]: { 1*(m2_3_3) }\n",
      "[2,6]: { 0 }\n",
      "[3,1]: { 0 }\n",
      "[3,2]: { 0 }\n",
      "[3,3]: { 1*(m2_3_1) }\n",
      "[3,4]: { 0 }\n",
      "[3,5]: { 1*(m2_3_2) }\n",
      "[3,6]: { 1*(m2_3_3) }\n",
      "  \u001b[35m |\u001b[0m\n",
      "\n",
      "== \u001b[35m1\u001b[0m =======================\n",
      "An object in \u001b[35mQuiver rows(\u001b[0m End( Ω^0(0) ⊕ Ω^1(1) ⊕ Ω^2(2) ) \u001b[35m)\u001b[0m defined by 3 vertices:\n",
      "\n",
      "<(Ω^1(1))>\n",
      "<(Ω^1(1))>\n",
      "<(Ω^1(1))>\n",
      "============================\n",
      "\n",
      "  \u001b[35m Λ\u001b[0m\n",
      "  \u001b[35m |\u001b[0m\n",
      "A morphism in \u001b[35mQuiver rows(\u001b[0m End( Ω^0(0) ⊕ Ω^1(1) ⊕ Ω^2(2) ) \u001b[35m)\u001b[0m defined by the following 1 x 3 matrix of quiver algebra elements:\n",
      "\n",
      "[1,1]: { 1*(m1_2_1) }\n",
      "[1,2]: { 1*(m1_2_2) }\n",
      "[1,3]: { 1*(m1_2_3) }\n",
      "  \u001b[35m |\u001b[0m\n",
      "\n",
      "== \u001b[35m2\u001b[0m =======================\n",
      "An object in \u001b[35mQuiver rows(\u001b[0m End( Ω^0(0) ⊕ Ω^1(1) ⊕ Ω^2(2) ) \u001b[35m)\u001b[0m defined by 1 vertices:\n",
      "\n",
      "<(Ω^0(0))>\n",
      "============================\n",
      "\n",
      "\n",
      "An object in \u001b[32mHomotopy category( \u001b[0m\u001b[35mQuiver rows(\u001b[0m End( Ω^0(0) ⊕ Ω^1(1) ⊕ Ω^2(2) ) \u001b[35m)\u001b[0m\u001b[32m )\u001b[0m given by the above data\n"
     ]
    }
   ],
   "source": [
    "Display( G𝓞2 )"
   ]
  },
  {
   "cell_type": "code",
   "execution_count": 48,
   "metadata": {},
   "outputs": [
    {
     "data": {
      "text/plain": [
       "GAP: Equivalence functor from homotopy category into derived category"
      ]
     },
     "execution_count": 48,
     "metadata": {},
     "output_type": "execute_result"
    }
   ],
   "source": [
    "I = EmbeddingFunctorIntoDerivedCategory( HoA )"
   ]
  },
  {
   "cell_type": "code",
   "execution_count": 49,
   "metadata": {
    "scrolled": true
   },
   "outputs": [
    {
     "name": "stdout",
     "output_type": "stream",
     "text": [
      "Equivalence functor from homotopy category into derived category\u001b[1m\u001b[31m:\u001b[0m\n",
      "\n",
      "\u001b[35mHomotopy category( \u001b[0m\u001b[34mQuiver rows( \u001b[0mEnd( 𝓞(0) ⊕ 𝓞(1) ⊕ 𝓞(2) )\u001b[34m )\u001b[0m\u001b[35m )\u001b[0m\n",
      "\u001b[1m\u001b[31m  |\n",
      "  V\u001b[0m\n",
      "\u001b[32mDerived category(\u001b[0m \u001b[35mQuiver representations(\u001b[0m End( 𝓞(0) ⊕ 𝓞(1) ⊕ 𝓞(2) )^op \u001b[35m)\u001b[0m \u001b[32m)\u001b[0m\n"
     ]
    }
   ],
   "source": [
    "Display( I )"
   ]
  },
  {
   "cell_type": "code",
   "execution_count": 82,
   "metadata": {},
   "outputs": [
    {
     "data": {
      "text/plain": [
       "GAP: Equivalence functor from homotopy category into derived category"
      ]
     },
     "execution_count": 82,
     "metadata": {},
     "output_type": "execute_result"
    }
   ],
   "source": [
    "J = EmbeddingFunctorIntoDerivedCategory( HoEndT )"
   ]
  },
  {
   "cell_type": "code",
   "execution_count": 83,
   "metadata": {},
   "outputs": [
    {
     "name": "stdout",
     "output_type": "stream",
     "text": [
      "Equivalence functor from homotopy category into derived category\u001b[1m\u001b[31m:\u001b[0m\n",
      "\n",
      "\u001b[32mHomotopy category( \u001b[0m\u001b[35mQuiver rows(\u001b[0m End( Ω^0(0) ⊕ Ω^1(1) ⊕ Ω^2(2) ) \u001b[35m)\u001b[0m\u001b[32m )\u001b[0m\n",
      "\u001b[1m\u001b[31m  |\n",
      "  V\u001b[0m\n",
      "\u001b[33mDerived category(\u001b[0m \u001b[32mQuiver representations(\u001b[0m End( Ω^0(0) ⊕ Ω^1(1) ⊕ Ω^2(2) )^op \u001b[32m)\u001b[0m \u001b[33m)\u001b[0m\n"
     ]
    }
   ],
   "source": [
    "Display( J )"
   ]
  },
  {
   "cell_type": "code",
   "execution_count": 69,
   "metadata": {},
   "outputs": [
    {
     "data": {
      "text/plain": [
       "GAP: <An object in \u001b[35mHomotopy category( \u001b[0m\u001b[34mQuiver rows( \u001b[0mEnd( 𝓞(0) ⊕ 𝓞(1) ⊕ 𝓞(2) )\u001b[34m )\u001b[0m\u001b[35m )\u001b[0m with active lower bound -2 and active upper bound 0>"
      ]
     },
     "execution_count": 69,
     "metadata": {},
     "output_type": "execute_result"
    }
   ],
   "source": [
    "FΩ00 = F( HoEndT.\"Ω^0(0)\" )"
   ]
  },
  {
   "cell_type": "code",
   "execution_count": 72,
   "metadata": {
    "scrolled": false
   },
   "outputs": [
    {
     "name": "stdout",
     "output_type": "stream",
     "text": [
      "== \u001b[33m-2\u001b[0m =======================\n",
      "An object in \u001b[34mQuiver rows( \u001b[0mEnd( 𝓞(0) ⊕ 𝓞(1) ⊕ 𝓞(2) )\u001b[34m )\u001b[0m defined by 1 vertices:\n",
      "\n",
      "<(𝓞(2))>\n",
      "=============================\n",
      "\n",
      "  \u001b[33m Λ\u001b[0m\n",
      "  \u001b[33m |\u001b[0m\n",
      "A morphism in \u001b[34mQuiver rows( \u001b[0mEnd( 𝓞(0) ⊕ 𝓞(1) ⊕ 𝓞(2) )\u001b[34m )\u001b[0m defined by the following 3 x 1 matrix of quiver algebra elements:\n",
      "\n",
      "[1,1]: { 1*(y0) }\n",
      "[2,1]: { 1*(y1) }\n",
      "[3,1]: { 1*(y2) }\n",
      "  \u001b[33m |\u001b[0m\n",
      "\n",
      "== \u001b[33m-1\u001b[0m =======================\n",
      "An object in \u001b[34mQuiver rows( \u001b[0mEnd( 𝓞(0) ⊕ 𝓞(1) ⊕ 𝓞(2) )\u001b[34m )\u001b[0m defined by 3 vertices:\n",
      "\n",
      "<(𝓞(1))>\n",
      "<(𝓞(1))>\n",
      "<(𝓞(1))>\n",
      "=============================\n",
      "\n",
      "  \u001b[33m Λ\u001b[0m\n",
      "  \u001b[33m |\u001b[0m\n",
      "A morphism in \u001b[34mQuiver rows( \u001b[0mEnd( 𝓞(0) ⊕ 𝓞(1) ⊕ 𝓞(2) )\u001b[34m )\u001b[0m defined by the following 3 x 3 matrix of quiver algebra elements:\n",
      "\n",
      "[1,1]: { 1*(x1) }\n",
      "[1,2]: { -1*(x0) }\n",
      "[1,3]: { 0 }\n",
      "[2,1]: { 1*(x2) }\n",
      "[2,2]: { 0 }\n",
      "[2,3]: { -1*(x0) }\n",
      "[3,1]: { 0 }\n",
      "[3,2]: { 1*(x2) }\n",
      "[3,3]: { -1*(x1) }\n",
      "  \u001b[33m |\u001b[0m\n",
      "\n",
      "== \u001b[33m0\u001b[0m =======================\n",
      "An object in \u001b[34mQuiver rows( \u001b[0mEnd( 𝓞(0) ⊕ 𝓞(1) ⊕ 𝓞(2) )\u001b[34m )\u001b[0m defined by 3 vertices:\n",
      "\n",
      "<(𝓞(0))>\n",
      "<(𝓞(0))>\n",
      "<(𝓞(0))>\n",
      "============================\n",
      "\n",
      "\n",
      "An object in \u001b[35mHomotopy category( \u001b[0m\u001b[34mQuiver rows( \u001b[0mEnd( 𝓞(0) ⊕ 𝓞(1) ⊕ 𝓞(2) )\u001b[34m )\u001b[0m\u001b[35m )\u001b[0m given by the above data\n"
     ]
    }
   ],
   "source": [
    "Display( FΩ00 )"
   ]
  },
  {
   "cell_type": "code",
   "execution_count": 74,
   "metadata": {
    "scrolled": false
   },
   "outputs": [
    {
     "name": "stdout",
     "output_type": "stream",
     "text": [
      "== \u001b[35m-2\u001b[0m =======================\n",
      "An object in \u001b[34mQuiver rows( \u001b[0mEnd( 𝓞(0) ⊕ 𝓞(1) ⊕ 𝓞(2) )\u001b[34m )\u001b[0m defined by 1 vertices:\n",
      "\n",
      "<(𝓞(2))>\n",
      "=============================\n",
      "\n",
      "  \u001b[35m Λ\u001b[0m\n",
      "  \u001b[35m |\u001b[0m\n",
      "A morphism in \u001b[34mQuiver rows( \u001b[0mEnd( 𝓞(0) ⊕ 𝓞(1) ⊕ 𝓞(2) )\u001b[34m )\u001b[0m defined by the following 3 x 1 matrix of quiver algebra elements:\n",
      "\n",
      "[1,1]: { 1*(y0) }\n",
      "[2,1]: { 1*(y1) }\n",
      "[3,1]: { 1*(y2) }\n",
      "  \u001b[35m |\u001b[0m\n",
      "\n",
      "== \u001b[35m-1\u001b[0m =======================\n",
      "An object in \u001b[34mQuiver rows( \u001b[0mEnd( 𝓞(0) ⊕ 𝓞(1) ⊕ 𝓞(2) )\u001b[34m )\u001b[0m defined by 3 vertices:\n",
      "\n",
      "<(𝓞(1))>\n",
      "<(𝓞(1))>\n",
      "<(𝓞(1))>\n",
      "=============================\n",
      "\n",
      "  \u001b[35m Λ\u001b[0m\n",
      "  \u001b[35m |\u001b[0m\n",
      "A morphism in \u001b[34mQuiver rows( \u001b[0mEnd( 𝓞(0) ⊕ 𝓞(1) ⊕ 𝓞(2) )\u001b[34m )\u001b[0m defined by the following 3 x 3 matrix of quiver algebra elements:\n",
      "\n",
      "[1,1]: { 1*(x1) }\n",
      "[1,2]: { -1*(x0) }\n",
      "[1,3]: { 0 }\n",
      "[2,1]: { 1*(x2) }\n",
      "[2,2]: { 0 }\n",
      "[2,3]: { -1*(x0) }\n",
      "[3,1]: { 0 }\n",
      "[3,2]: { 1*(x2) }\n",
      "[3,3]: { -1*(x1) }\n",
      "  \u001b[35m |\u001b[0m\n",
      "\n",
      "== \u001b[35m0\u001b[0m =======================\n",
      "An object in \u001b[34mQuiver rows( \u001b[0mEnd( 𝓞(0) ⊕ 𝓞(1) ⊕ 𝓞(2) )\u001b[34m )\u001b[0m defined by 3 vertices:\n",
      "\n",
      "<(𝓞(0))>\n",
      "<(𝓞(0))>\n",
      "<(𝓞(0))>\n",
      "============================\n",
      "\n",
      "\n",
      "An object in \u001b[35mHomotopy category( \u001b[0m\u001b[34mQuiver rows( \u001b[0mEnd( 𝓞(0) ⊕ 𝓞(1) ⊕ 𝓞(2) )\u001b[34m )\u001b[0m\u001b[35m )\u001b[0m given by the above data\n"
     ]
    }
   ],
   "source": [
    "Display( Ω00 )"
   ]
  },
  {
   "cell_type": "code",
   "execution_count": 70,
   "metadata": {
    "scrolled": true
   },
   "outputs": [
    {
     "data": {
      "text/plain": [
       "GAP: <An object in \u001b[35mHomotopy category( \u001b[0m\u001b[34mQuiver rows( \u001b[0mEnd( 𝓞(0) ⊕ 𝓞(1) ⊕ 𝓞(2) )\u001b[34m )\u001b[0m\u001b[35m )\u001b[0m with active lower bound -1 and active upper bound 0>"
      ]
     },
     "execution_count": 70,
     "metadata": {},
     "output_type": "execute_result"
    }
   ],
   "source": [
    "FΩ11 = F( HoEndT.\"Ω^1(1)\" )"
   ]
  },
  {
   "cell_type": "code",
   "execution_count": 71,
   "metadata": {},
   "outputs": [
    {
     "data": {
      "text/plain": [
       "GAP: <An object in \u001b[35mHomotopy category( \u001b[0m\u001b[34mQuiver rows( \u001b[0mEnd( 𝓞(0) ⊕ 𝓞(1) ⊕ 𝓞(2) )\u001b[34m )\u001b[0m\u001b[35m )\u001b[0m with active lower bound 0 and active upper bound 0>"
      ]
     },
     "execution_count": 71,
     "metadata": {},
     "output_type": "execute_result"
    }
   ],
   "source": [
    "FΩ22 = F( HoEndT.\"Ω^2(2)\" )"
   ]
  },
  {
   "cell_type": "code",
   "execution_count": 91,
   "metadata": {},
   "outputs": [
    {
     "data": {
      "text/plain": [
       "GAP: <An object in \u001b[32mDerived category(\u001b[0m \u001b[35mQuiver representations(\u001b[0m End( 𝓞(0) ⊕ 𝓞(1) ⊕ 𝓞(2) )^op \u001b[35m)\u001b[0m \u001b[32m)\u001b[0m>"
      ]
     },
     "execution_count": 91,
     "metadata": {},
     "output_type": "execute_result"
    }
   ],
   "source": [
    "IFΩ00 = I( FΩ00 )"
   ]
  },
  {
   "cell_type": "code",
   "execution_count": 92,
   "metadata": {},
   "outputs": [
    {
     "data": {
      "text/plain": [
       "GAP: [ -2 ]"
      ]
     },
     "execution_count": 92,
     "metadata": {},
     "output_type": "execute_result"
    }
   ],
   "source": [
    "HomologySupport( IFΩ00 )"
   ]
  },
  {
   "cell_type": "code",
   "execution_count": 93,
   "metadata": {},
   "outputs": [
    {
     "data": {
      "text/plain": [
       "GAP: <An object in \u001b[32mDerived category(\u001b[0m \u001b[35mQuiver representations(\u001b[0m End( 𝓞(0) ⊕ 𝓞(1) ⊕ 𝓞(2) )^op \u001b[35m)\u001b[0m \u001b[32m)\u001b[0m>"
      ]
     },
     "execution_count": 93,
     "metadata": {},
     "output_type": "execute_result"
    }
   ],
   "source": [
    "IFΩ11 = I( FΩ11 )"
   ]
  },
  {
   "cell_type": "code",
   "execution_count": 94,
   "metadata": {},
   "outputs": [
    {
     "data": {
      "text/plain": [
       "GAP: [ -1 ]"
      ]
     },
     "execution_count": 94,
     "metadata": {},
     "output_type": "execute_result"
    }
   ],
   "source": [
    "HomologySupport( IFΩ11 )"
   ]
  },
  {
   "cell_type": "code",
   "execution_count": 95,
   "metadata": {},
   "outputs": [
    {
     "data": {
      "text/plain": [
       "GAP: <An object in \u001b[32mDerived category(\u001b[0m \u001b[35mQuiver representations(\u001b[0m End( 𝓞(0) ⊕ 𝓞(1) ⊕ 𝓞(2) )^op \u001b[35m)\u001b[0m \u001b[32m)\u001b[0m>"
      ]
     },
     "execution_count": 95,
     "metadata": {},
     "output_type": "execute_result"
    }
   ],
   "source": [
    "IFΩ22 = I( FΩ22 )"
   ]
  },
  {
   "cell_type": "code",
   "execution_count": 96,
   "metadata": {},
   "outputs": [
    {
     "data": {
      "text/plain": [
       "GAP: [ 0 ]"
      ]
     },
     "execution_count": 96,
     "metadata": {},
     "output_type": "execute_result"
    }
   ],
   "source": [
    "HomologySupport( IFΩ22 )"
   ]
  },
  {
   "cell_type": "code",
   "execution_count": 85,
   "metadata": {},
   "outputs": [
    {
     "data": {
      "text/plain": [
       "GAP: <An object in \u001b[33mDerived category(\u001b[0m \u001b[32mQuiver representations(\u001b[0m End( Ω^0(0) ⊕ Ω^1(1) ⊕ Ω^2(2) )^op \u001b[32m)\u001b[0m \u001b[33m)\u001b[0m>"
      ]
     },
     "execution_count": 85,
     "metadata": {},
     "output_type": "execute_result"
    }
   ],
   "source": [
    "JG𝓞0 = J( G𝓞0 )"
   ]
  },
  {
   "cell_type": "code",
   "execution_count": 86,
   "metadata": {},
   "outputs": [
    {
     "data": {
      "text/plain": [
       "GAP: [ 0 ]"
      ]
     },
     "execution_count": 86,
     "metadata": {},
     "output_type": "execute_result"
    }
   ],
   "source": [
    "HomologySupport( JG𝓞0 )"
   ]
  },
  {
   "cell_type": "code",
   "execution_count": 87,
   "metadata": {},
   "outputs": [
    {
     "data": {
      "text/plain": [
       "GAP: <An object in \u001b[33mDerived category(\u001b[0m \u001b[32mQuiver representations(\u001b[0m End( Ω^0(0) ⊕ Ω^1(1) ⊕ Ω^2(2) )^op \u001b[32m)\u001b[0m \u001b[33m)\u001b[0m>"
      ]
     },
     "execution_count": 87,
     "metadata": {},
     "output_type": "execute_result"
    }
   ],
   "source": [
    "JG𝓞1 = J( G𝓞1 )"
   ]
  },
  {
   "cell_type": "code",
   "execution_count": 88,
   "metadata": {},
   "outputs": [
    {
     "data": {
      "text/plain": [
       "GAP: [ 0 ]"
      ]
     },
     "execution_count": 88,
     "metadata": {},
     "output_type": "execute_result"
    }
   ],
   "source": [
    "HomologySupport( JG𝓞1 )"
   ]
  },
  {
   "cell_type": "code",
   "execution_count": 89,
   "metadata": {},
   "outputs": [
    {
     "data": {
      "text/plain": [
       "GAP: <An object in \u001b[33mDerived category(\u001b[0m \u001b[32mQuiver representations(\u001b[0m End( Ω^0(0) ⊕ Ω^1(1) ⊕ Ω^2(2) )^op \u001b[32m)\u001b[0m \u001b[33m)\u001b[0m>"
      ]
     },
     "execution_count": 89,
     "metadata": {},
     "output_type": "execute_result"
    }
   ],
   "source": [
    "JG𝓞2 = J( G𝓞2 )"
   ]
  },
  {
   "cell_type": "code",
   "execution_count": 90,
   "metadata": {},
   "outputs": [
    {
     "data": {
      "text/plain": [
       "GAP: [ 0 ]"
      ]
     },
     "execution_count": 90,
     "metadata": {},
     "output_type": "execute_result"
    }
   ],
   "source": [
    "HomologySupport( JG𝓞2 )"
   ]
  },
  {
   "cell_type": "code",
   "execution_count": null,
   "metadata": {},
   "outputs": [],
   "source": []
  }
 ],
 "metadata": {
  "@webio": {
   "lastCommId": null,
   "lastKernelId": null
  },
  "kernelspec": {
   "display_name": "Julia 1.4.1",
   "language": "julia",
   "name": "julia-1.4"
  },
  "language_info": {
   "file_extension": ".jl",
   "mimetype": "application/julia",
   "name": "julia",
   "version": "1.4.1"
  }
 },
 "nbformat": 4,
 "nbformat_minor": 2
}

{
 "cells": [
  {
   "cell_type": "code",
   "execution_count": 1,
   "id": "a435ae3d",
   "metadata": {},
   "outputs": [
    {
     "name": "stdout",
     "output_type": "stream",
     "text": [
      "CapAndHomalg v\u001b[32m1.4.7\u001b[39m\n",
      "Imported OSCAR's components GAP and Singular_jll\n",
      "Type: ?CapAndHomalg for more information\n"
     ]
    }
   ],
   "source": [
    "using CapAndHomalg"
   ]
  },
  {
   "cell_type": "code",
   "execution_count": 2,
   "id": "019c269f",
   "metadata": {},
   "outputs": [],
   "source": [
    "LoadPackage(\"FreydCategories\")\n",
    "LoadPackage(\"ComplexesCategories\")"
   ]
  },
  {
   "cell_type": "code",
   "execution_count": 3,
   "id": "93b49f41",
   "metadata": {},
   "outputs": [
    {
     "data": {
      "text/plain": [
       "GAP: Q"
      ]
     },
     "execution_count": 3,
     "metadata": {},
     "output_type": "execute_result"
    }
   ],
   "source": [
    "ℚ = HomalgFieldOfRationalsInSingular()"
   ]
  },
  {
   "cell_type": "code",
   "execution_count": 4,
   "id": "b0ed7ebc",
   "metadata": {},
   "outputs": [
    {
     "data": {
      "text/plain": [
       "GAP: Q[x,y]"
      ]
     },
     "execution_count": 4,
     "metadata": {},
     "output_type": "execute_result"
    }
   ],
   "source": [
    "S = ℚ[\"x,y\"]"
   ]
  },
  {
   "cell_type": "code",
   "execution_count": 5,
   "id": "decf1658",
   "metadata": {},
   "outputs": [
    {
     "data": {
      "text/plain": [
       "GAP: Rows( Q[x,y] )"
      ]
     },
     "execution_count": 5,
     "metadata": {},
     "output_type": "execute_result"
    }
   ],
   "source": [
    "S₋rows = CategoryOfRows( S )"
   ]
  },
  {
   "cell_type": "code",
   "execution_count": 6,
   "id": "42d10663",
   "metadata": {},
   "outputs": [
    {
     "data": {
      "text/plain": [
       "GAP: Freyd( Rows( Q[x,y] ) )"
      ]
     },
     "execution_count": 6,
     "metadata": {},
     "output_type": "execute_result"
    }
   ],
   "source": [
    "𝓐S₋rows = FreydCategory( S₋rows )"
   ]
  },
  {
   "cell_type": "code",
   "execution_count": 7,
   "id": "29fd04bf",
   "metadata": {},
   "outputs": [
    {
     "data": {
      "text/plain": [
       "GAP: Complexes category by cochains( Freyd( Rows( Q[x,y] ) ) )"
      ]
     },
     "execution_count": 7,
     "metadata": {},
     "output_type": "execute_result"
    }
   ],
   "source": [
    "𝓒ᵇ𝓐S₋rows = ComplexesCategoryByCochains( 𝓐S₋rows )"
   ]
  },
  {
   "cell_type": "code",
   "execution_count": 8,
   "id": "22e122c6",
   "metadata": {},
   "outputs": [
    {
     "data": {
      "text/plain": [
       "GAP: <An object in Complexes category by cochains( Freyd( Rows( Q[x,y] ) ) ) supported in the window [-1 ⋅⋅⋅ 2]>"
      ]
     },
     "execution_count": 8,
     "metadata": {},
     "output_type": "execute_result"
    }
   ],
   "source": [
    "A = RandomObject( 𝓒ᵇ𝓐S₋rows, ConvertJuliaToGAP( [-1,1,[[3],[1]]] ) )"
   ]
  },
  {
   "cell_type": "code",
   "execution_count": 9,
   "id": "40e80f43",
   "metadata": {},
   "outputs": [
    {
     "data": {
      "text/latex": [
       "$$\\begin{array}{c}\n",
       "\\big(R^{1 \\times 3}\\xrightarrow{{\\color{blue}{\\left( \\begin{array}{rrr}\n",
       " \\cdot & \\cdot & \\cdot \\\\ \n",
       " \\cdot & \\cdot & \\cdot \\\\ \n",
       " \\cdot & \\cdot & \\cdot \n",
       "\\end{array} \\right)}}}R^{1 \\times 3}\\big)_{\\mathcal{A}}\n",
       " \\\\\n",
       "\\uparrow_{\\phantom{1}} \n",
       "\\\\\n",
       " {\\color{blue}{{\\color{blue}{\\left( \\begin{array}{rrr}\n",
       " \\cdot & \\cdot & \\cdot \\\\ \n",
       " \\cdot & \\cdot & \\cdot \\\\ \n",
       " \\cdot & \\cdot & \\cdot \n",
       "\\end{array} \\right)}}}}\n",
       "\\\\\n",
       " {\\vert_{1}}\n",
       " \n",
       "\\\\\n",
       "\\big(R^{1 \\times 3}\\xrightarrow{{\\color{blue}{\\left( \\begin{array}{rrr}\n",
       " 68445000xy^{2}+172017000xy+72247500y^{2}+181573500y & \\cdot & 13689000x^{2}y+34403400x^{2}+14449500xy+36314700x \\\\ \n",
       " -128676600xy^{2}-243750y^{3}-323391960xy-49491000y^{2}-153438600y & 1170x^{2}+450x & -25734735x^{2}y-48750xy^{2}-64678392x^{2}-9897975xy-30687720x \\\\ \n",
       " \\cdot & \\cdot & \\cdot \n",
       "\\end{array} \\right)}}}R^{1 \\times 3}\\big)_{\\mathcal{A}}\\\\\n",
       "\\uparrow_{\\phantom{0}} \n",
       "\\\\\n",
       " {\\color{blue}{{\\color{blue}{\\left( \\begin{array}{rrr}\n",
       " 1901250xy^{3}+4778250xy^{2} & \\cdot & 380250x^{2}y^{2}+955650x^{2}y \\\\ \n",
       " \\cdot & \\cdot & 8 \\\\ \n",
       " -156250xy^{3}-243750y^{4}+71137500xy^{2}-50043500y^{3}+160157500xy-236719200y^{2}-275164760y & 750x^{3}+450xy+1020x & 375x^{3}y-31250x^{2}y^{2}-48750xy^{3}+14227500x^{2}y-10008475xy^{2}+32031500x^{2}-47343330xy-55032952x \n",
       "\\end{array} \\right)}}}}\n",
       "\\\\\n",
       " {\\vert_{0}}\n",
       " \n",
       "\\\\\n",
       "\\big(R^{1 \\times 3}\\xrightarrow{{\\color{blue}{\\left( \\begin{array}{rrr}\n",
       " 36x+38 & \\cdot & \\cdot \\\\ \n",
       " \\cdot & \\cdot & \\cdot \\\\ \n",
       " 5y & \\cdot & 39x+15 \n",
       "\\end{array} \\right)}}}R^{1 \\times 3}\\big)_{\\mathcal{A}}\\\\\n",
       "\\uparrow_{\\phantom{-1}} \n",
       "\\\\\n",
       " {\\color{blue}{{\\color{blue}{()_{0 \\times 3}}}}}\n",
       "\\\\\n",
       " {\\vert_{-1}}\n",
       " \n",
       "\\\\\n",
       "\\big(R^{1 \\times 0}\\xrightarrow{{\\color{blue}{()_{0 \\times 0}}}}R^{1 \\times 0}\\big)_{\\mathcal{A}}\\end{array}$$"
      ]
     },
     "metadata": {},
     "output_type": "display_data"
    }
   ],
   "source": [
    "Show( A )"
   ]
  },
  {
   "cell_type": "code",
   "execution_count": 10,
   "id": "66ea96db",
   "metadata": {},
   "outputs": [
    {
     "data": {
      "text/plain": [
       "GAP: <An object in Freyd( Rows( Q[x,y] ) )>"
      ]
     },
     "execution_count": 10,
     "metadata": {},
     "output_type": "execute_result"
    }
   ],
   "source": [
    "H⁰ = CohomologyAt( A, 0 )"
   ]
  },
  {
   "cell_type": "code",
   "execution_count": 11,
   "id": "0e2634af",
   "metadata": {},
   "outputs": [
    {
     "data": {
      "text/latex": [
       "$$\\big(R^{1 \\times 4}\\xrightarrow{{\\color{blue}{\\left( \\begin{array}{rr}\n",
       " \\cdot & 1 \\\\ \n",
       " 1 & \\cdot \\\\ \n",
       " \\cdot & 2 \\\\ \n",
       " 1 & \\cdot \n",
       "\\end{array} \\right)}}}R^{1 \\times 2}\\big)_{\\mathcal{A}}$$"
      ]
     },
     "metadata": {},
     "output_type": "display_data"
    }
   ],
   "source": [
    "Show( H⁰ )"
   ]
  },
  {
   "cell_type": "code",
   "execution_count": 12,
   "id": "b7f002ad",
   "metadata": {},
   "outputs": [
    {
     "data": {
      "text/plain": [
       "GAP: <An object in Complexes category by cochains( Freyd( Rows( Q[x,y] ) ) ) supported in the window [-1 ⋅⋅⋅ 2]>"
      ]
     },
     "execution_count": 12,
     "metadata": {},
     "output_type": "execute_result"
    }
   ],
   "source": [
    "PA = ProjectiveResolution( A, true )"
   ]
  },
  {
   "cell_type": "code",
   "execution_count": 13,
   "id": "196d4322",
   "metadata": {},
   "outputs": [
    {
     "data": {
      "text/latex": [
       "$$\\begin{array}{c}\n",
       "\\big(R^{1 \\times 0}\\xrightarrow{{\\color{blue}{()_{0 \\times 3}}}}R^{1 \\times 3}\\big)_{\\mathcal{A}}\n",
       " \\\\\n",
       "\\uparrow_{\\phantom{1}} \n",
       "\\\\\n",
       " {\\color{blue}{{\\color{blue}{\\left( \\begin{array}{rrr}\n",
       " \\cdot & \\cdot & \\cdot \\\\ \n",
       " \\cdot & \\cdot & \\cdot \\\\ \n",
       " \\cdot & \\cdot & \\cdot \n",
       "\\end{array} \\right)}}}}\n",
       "\\\\\n",
       " {\\vert_{1}}\n",
       " \n",
       "\\\\\n",
       "\\big(R^{1 \\times 0}\\xrightarrow{{\\color{blue}{()_{0 \\times 3}}}}R^{1 \\times 3}\\big)_{\\mathcal{A}}\\\\\n",
       "\\uparrow_{\\phantom{0}} \n",
       "\\\\\n",
       " {\\color{blue}{{\\color{blue}{\\left( \\begin{array}{rrr}\n",
       " 8 & \\cdot & \\cdot \\\\ \n",
       " \\cdot & \\cdot & \\cdot \\\\ \n",
       " \\cdot & \\cdot & \\cdot \\\\ \n",
       " \\cdot & -7224750xy-18157350x & 18061875y^{3}+1729563846375y^{2}+4346651701800y \\\\ \n",
       " \\cdot & -57798000xy-145258800x & 13836147624000y^{2}+34773213614400y \\\\ \n",
       " \\cdot & -2311920x^{2}-889200x & -171807066800y^{2}-371329090080y \n",
       "\\end{array} \\right)}}}}\n",
       "\\\\\n",
       " {\\vert_{0}}\n",
       " \n",
       "\\\\\n",
       "\\big(R^{1 \\times 0}\\xrightarrow{{\\color{blue}{()_{0 \\times 6}}}}R^{1 \\times 6}\\big)_{\\mathcal{A}}\\\\\n",
       "\\uparrow_{\\phantom{-1}} \n",
       "\\\\\n",
       " {\\color{blue}{{\\color{blue}{\\left( \\begin{array}{rrrrrr}\n",
       " \\cdot & \\cdot & 1 & \\cdot & \\cdot & \\cdot \\\\ \n",
       " \\cdot & 1 & \\cdot & \\cdot & \\cdot & \\cdot \\\\ \n",
       " \\cdot & \\cdot & \\cdot & -5825746368x-1808495440y-6149398944 & 7605xy+728218296x+226064855y+768674868 & -190125y^{2}-477825y \n",
       "\\end{array} \\right)}}}}\n",
       "\\\\\n",
       " {\\vert_{-1}}\n",
       " \n",
       "\\\\\n",
       "\\big(R^{1 \\times 0}\\xrightarrow{{\\color{blue}{()_{0 \\times 3}}}}R^{1 \\times 3}\\big)_{\\mathcal{A}}\\end{array}$$"
      ]
     },
     "metadata": {},
     "output_type": "display_data"
    }
   ],
   "source": [
    "Show( PA )"
   ]
  },
  {
   "cell_type": "code",
   "execution_count": 14,
   "id": "6e719e50",
   "metadata": {},
   "outputs": [
    {
     "data": {
      "text/plain": [
       "GAP: <A morphism in Complexes category by cochains( Freyd( Rows( Q[x,y] ) ) ) supported in the window [-1 ⋅⋅⋅ 2]>"
      ]
     },
     "execution_count": 14,
     "metadata": {},
     "output_type": "execute_result"
    }
   ],
   "source": [
    "qA = QuasiIsomorphismFromProjectiveResolution( A, true )"
   ]
  },
  {
   "cell_type": "code",
   "execution_count": 15,
   "id": "ff5a6e7d",
   "metadata": {},
   "outputs": [
    {
     "data": {
      "text/plain": [
       "true"
      ]
     },
     "execution_count": 15,
     "metadata": {},
     "output_type": "execute_result"
    }
   ],
   "source": [
    "IsQuasiIsomorphism( qA )"
   ]
  },
  {
   "cell_type": "code",
   "execution_count": 16,
   "id": "2312c49f",
   "metadata": {},
   "outputs": [
    {
     "data": {
      "text/plain": [
       "false"
      ]
     },
     "execution_count": 16,
     "metadata": {},
     "output_type": "execute_result"
    }
   ],
   "source": [
    "IsIsomorphism( qA )"
   ]
  },
  {
   "cell_type": "code",
   "execution_count": 17,
   "id": "d70a484d",
   "metadata": {},
   "outputs": [],
   "source": [
    "# some-code shift+enter"
   ]
  }
 ],
 "metadata": {
  "kernelspec": {
   "display_name": "Julia 1.8.2",
   "language": "julia",
   "name": "julia-1.8"
  },
  "language_info": {
   "file_extension": ".jl",
   "mimetype": "application/julia",
   "name": "julia",
   "version": "1.8.2"
  }
 },
 "nbformat": 4,
 "nbformat_minor": 5
}

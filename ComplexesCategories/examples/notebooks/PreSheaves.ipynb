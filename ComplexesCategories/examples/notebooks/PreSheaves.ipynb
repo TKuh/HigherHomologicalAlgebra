{
 "cells": [
  {
   "cell_type": "markdown",
   "id": "5dd5d895",
   "metadata": {},
   "source": [
    "[![Binder](https://mybinder.org/badge_logo.svg)](https://gesis.mybinder.org/v2/gh/homalg-project/CapAndHomalgNotebooks/master?urlpath=git-pull%3Frepo%3Dhttps%253A%252F%252Fgithub.com%252Fhomalg-project%252FHigherHomologicalAlgebra%26urlpath%3Dtree%252FHigherHomologicalAlgebra%252FComplexesCategories%252Fexamples%252F%252Fnotebooks%252FPreSheaves.ipynb%26branch%3Dmaster)"
   ]
  },
  {
   "cell_type": "code",
   "execution_count": 1,
   "id": "3235490a",
   "metadata": {},
   "outputs": [
    {
     "name": "stdout",
     "output_type": "stream",
     "text": [
      "CapAndHomalg v\u001b[32m1.4.7\u001b[39m\n",
      "Imported OSCAR's components GAP and Singular_jll\n",
      "Type: ?CapAndHomalg for more information\n"
     ]
    }
   ],
   "source": [
    "using CapAndHomalg"
   ]
  },
  {
   "cell_type": "code",
   "execution_count": 2,
   "id": "270b1a7f",
   "metadata": {},
   "outputs": [],
   "source": [
    "LoadPackage( \"FunctorCategories\" )\n",
    "LoadPackage( \"ComplexesCategories\" )"
   ]
  },
  {
   "cell_type": "code",
   "execution_count": 3,
   "id": "6557f3dc",
   "metadata": {},
   "outputs": [],
   "source": [
    "q_𝓞 = RightQuiver(\n",
    "    \"q_𝓞(𝓞₀,𝓞₁,𝓞₂)[x₀:𝓞₀->𝓞₁,x₁:𝓞₀->𝓞₁,x₂:𝓞₀->𝓞₁,y₀:𝓞₁->𝓞₂,y₁:𝓞₁->𝓞₂,y₂:𝓞₁->𝓞₂]\" );"
   ]
  },
  {
   "cell_type": "code",
   "execution_count": 4,
   "id": "a29bfbeb",
   "metadata": {},
   "outputs": [],
   "source": [
    "SetLabelsAsLaTeXStrings(\n",
    "    q_𝓞,\n",
    "    [ \"\\\\mathcal{O}_{0}\", \"\\\\mathcal{O}_{1}\", \"\\\\mathcal{O}_{2}\" ],\n",
    "    [ \"x_0\", \"x_1\", \"x_2\", \"y_0\", \"y_1\", \"y_2\" ] )"
   ]
  },
  {
   "cell_type": "code",
   "execution_count": 5,
   "id": "1c143b4c",
   "metadata": {},
   "outputs": [
    {
     "data": {
      "text/plain": [
       "GAP: FreeCategory( RightQuiver( \"q_𝓞(𝓞₀,𝓞₁,𝓞₂)[x₀:𝓞₀->𝓞₁,x₁:𝓞₀->𝓞₁,x₂:𝓞₀->𝓞₁,y₀:𝓞₁->𝓞₂,y₁:𝓞₁->𝓞₂,y₂:𝓞₁->𝓞₂]\" ) )"
      ]
     },
     "execution_count": 5,
     "metadata": {},
     "output_type": "execute_result"
    }
   ],
   "source": [
    "𝐅_𝓞 = FreeCategory( q_𝓞 )"
   ]
  },
  {
   "cell_type": "code",
   "execution_count": 6,
   "id": "2ee3cd39",
   "metadata": {},
   "outputs": [
    {
     "data": {
      "text/plain": [
       "GAP: Q"
      ]
     },
     "execution_count": 6,
     "metadata": {},
     "output_type": "execute_result"
    }
   ],
   "source": [
    "ℚ = HomalgFieldOfRationals( )"
   ]
  },
  {
   "cell_type": "code",
   "execution_count": 7,
   "id": "9dc484f3",
   "metadata": {},
   "outputs": [
    {
     "data": {
      "text/plain": [
       "GAP: Q"
      ]
     },
     "execution_count": 7,
     "metadata": {},
     "output_type": "execute_result"
    }
   ],
   "source": [
    "k = ℚ"
   ]
  },
  {
   "cell_type": "code",
   "execution_count": 8,
   "id": "111b874f",
   "metadata": {},
   "outputs": [
    {
     "data": {
      "text/plain": [
       "GAP: Algebroid( Q, FreeCategory( RightQuiver( \"q_𝓞(𝓞₀,𝓞₁,𝓞₂)[x₀:𝓞₀->𝓞₁,x₁:𝓞₀->𝓞₁,x₂:𝓞₀->𝓞₁,y₀:𝓞₁->𝓞₂,y₁:𝓞₁->𝓞₂,y₂:𝓞₁->𝓞₂]\" ) ) )"
      ]
     },
     "execution_count": 8,
     "metadata": {},
     "output_type": "execute_result"
    }
   ],
   "source": [
    "k𝐅_𝓞 = k[𝐅_𝓞]"
   ]
  },
  {
   "cell_type": "code",
   "execution_count": 9,
   "id": "46b2cf20",
   "metadata": {},
   "outputs": [],
   "source": [
    "ρ_𝓞 = [ PreCompose( k𝐅_𝓞.x₀, k𝐅_𝓞.y₁ ) - PreCompose( k𝐅_𝓞.x₁, k𝐅_𝓞.y₀ ),\n",
    "        PreCompose( k𝐅_𝓞.x₀, k𝐅_𝓞.y₂ ) - PreCompose( k𝐅_𝓞.x₂, k𝐅_𝓞.y₀ ),\n",
    "        PreCompose( k𝐅_𝓞.x₁, k𝐅_𝓞.y₂ ) - PreCompose( k𝐅_𝓞.x₂, k𝐅_𝓞.y₁ ) ];"
   ]
  },
  {
   "cell_type": "code",
   "execution_count": 10,
   "id": "51cd8737",
   "metadata": {},
   "outputs": [
    {
     "data": {
      "text/plain": [
       "GAP: Algebroid( Q, FreeCategory( RightQuiver( \"q_𝓞(𝓞₀,𝓞₁,𝓞₂)[x₀:𝓞₀->𝓞₁,x₁:𝓞₀->𝓞₁,x₂:𝓞₀->𝓞₁,y₀:𝓞₁->𝓞₂,y₁:𝓞₁->𝓞₂,y₂:𝓞₁->𝓞₂]\" ) ) ) / relations"
      ]
     },
     "execution_count": 10,
     "metadata": {},
     "output_type": "execute_result"
    }
   ],
   "source": [
    "𝐀_𝓞 = k𝐅_𝓞 / ρ_𝓞"
   ]
  },
  {
   "cell_type": "code",
   "execution_count": 11,
   "id": "27360133",
   "metadata": {},
   "outputs": [
    {
     "name": "stdout",
     "output_type": "stream",
     "text": [
      "27 primitive operations were used to derive 77 operations for this category which algorithmically\n",
      "* IsEquippedWithHomomorphismStructure\n",
      "* IsLinearCategoryOverCommutativeRing\n",
      "and furthermore mathematically\n",
      "* IsFinitelyPresentedLinearCategory\n"
     ]
    }
   ],
   "source": [
    "InfoOfInstalledOperationsOfCategory( 𝐀_𝓞 )"
   ]
  },
  {
   "cell_type": "code",
   "execution_count": 12,
   "id": "6b43104a",
   "metadata": {},
   "outputs": [
    {
     "data": {
      "text/plain": [
       "GAP: (𝓞₀)-[{ -1*(x₂) + 3*(x₁) + 2*(x₀) }]->(𝓞₁)"
      ]
     },
     "execution_count": 12,
     "metadata": {},
     "output_type": "execute_result"
    }
   ],
   "source": [
    "φ = 2 * 𝐀_𝓞.\"x₀\" + 3 * 𝐀_𝓞.\"x₁\" - 𝐀_𝓞.\"x₂\""
   ]
  },
  {
   "cell_type": "code",
   "execution_count": 13,
   "id": "ee5bb491",
   "metadata": {},
   "outputs": [
    {
     "data": {
      "text/latex": [
       "$${\\mathcal{O}_{0}}-\\left({-{x_2}+3{x_1}+2{x_0}}\\right)\\rightarrow{\\mathcal{O}_{1}}$$"
      ]
     },
     "metadata": {},
     "output_type": "display_data"
    }
   ],
   "source": [
    "Show( φ )"
   ]
  },
  {
   "cell_type": "code",
   "execution_count": 14,
   "id": "362dd86c",
   "metadata": {},
   "outputs": [
    {
     "data": {
      "text/latex": [
       "$${\\mathcal{O}_{0}}-\\left({{x_0}}\\right)\\rightarrow{\\mathcal{O}_{1}}$$"
      ]
     },
     "metadata": {},
     "output_type": "display_data"
    },
    {
     "data": {
      "text/latex": [
       "$${\\mathcal{O}_{0}}-\\left({{x_1}}\\right)\\rightarrow{\\mathcal{O}_{1}}$$"
      ]
     },
     "metadata": {},
     "output_type": "display_data"
    },
    {
     "data": {
      "text/latex": [
       "$${\\mathcal{O}_{0}}-\\left({{x_2}}\\right)\\rightarrow{\\mathcal{O}_{1}}$$"
      ]
     },
     "metadata": {},
     "output_type": "display_data"
    }
   ],
   "source": [
    "Perform( BasisOfExternalHom( 𝐀_𝓞.\"𝓞₀\", 𝐀_𝓞.\"𝓞₁\" ), Show )"
   ]
  },
  {
   "cell_type": "code",
   "execution_count": 15,
   "id": "d15108ee",
   "metadata": {},
   "outputs": [
    {
     "data": {
      "text/plain": [
       "GAP: PreSheaves( Algebroid( Q, FreeCategory( RightQuiver( \"q_𝓞(𝓞₀,𝓞₁,𝓞₂)[x₀:𝓞₀->𝓞₁,x₁:𝓞₀->𝓞₁,x₂:𝓞₀->𝓞₁,y₀:𝓞₁->𝓞₂,y₁:𝓞₁->𝓞₂,y₂:𝓞₁->𝓞₂]\" ) ) ) / relations, Rows( Q ) )"
      ]
     },
     "execution_count": 15,
     "metadata": {},
     "output_type": "execute_result"
    }
   ],
   "source": [
    "PSh_𝐀_𝓞 = PreSheaves( 𝐀_𝓞 )"
   ]
  },
  {
   "cell_type": "code",
   "execution_count": 16,
   "id": "bd4bb462",
   "metadata": {},
   "outputs": [
    {
     "name": "stdout",
     "output_type": "stream",
     "text": [
      "94 primitive operations were used to derive 340 operations for this category which algorithmically\n",
      "* IsEquippedWithHomomorphismStructure\n",
      "* IsLinearCategoryOverCommutativeRing\n",
      "* IsAbelianCategoryWithEnoughInjectives\n",
      "* IsAbelianCategoryWithEnoughProjectives\n"
     ]
    }
   ],
   "source": [
    "InfoOfInstalledOperationsOfCategory( PSh_𝐀_𝓞 )"
   ]
  },
  {
   "cell_type": "code",
   "execution_count": 17,
   "id": "58074082",
   "metadata": {},
   "outputs": [
    {
     "data": {
      "text/plain": [
       "GAP: Complexes category by cochains( PreSheaves( Algebroid( Q, FreeCategory( RightQuiver( \"q_𝓞(𝓞₀,𝓞₁,𝓞₂)[x₀:𝓞₀->𝓞₁,x₁:𝓞₀->𝓞₁,x₂:𝓞₀->𝓞₁,y₀:𝓞₁->𝓞₂,y₁:𝓞₁->𝓞₂,y₂:𝓞₁->𝓞₂]\" ) ) ) / relations, Rows( Q ) ) )"
      ]
     },
     "execution_count": 17,
     "metadata": {},
     "output_type": "execute_result"
    }
   ],
   "source": [
    "𝓒ᵇ𝐀_𝓞 = ComplexesCategoryByCochains( PSh_𝐀_𝓞 )"
   ]
  },
  {
   "cell_type": "code",
   "execution_count": 18,
   "id": "8c7f5745",
   "metadata": {},
   "outputs": [
    {
     "name": "stdout",
     "output_type": "stream",
     "text": [
      "80 primitive operations were used to derive 324 operations for this category which algorithmically\n",
      "* IsEquippedWithHomomorphismStructure\n",
      "* IsLinearCategoryOverCommutativeRing\n",
      "* IsAbelianCategory\n"
     ]
    }
   ],
   "source": [
    "InfoOfInstalledOperationsOfCategory( 𝓒ᵇ𝐀_𝓞 )"
   ]
  },
  {
   "cell_type": "code",
   "execution_count": 19,
   "id": "1d68c435",
   "metadata": {},
   "outputs": [
    {
     "data": {
      "text/plain": [
       "GAP: Yoneda embedding functor"
      ]
     },
     "execution_count": 19,
     "metadata": {},
     "output_type": "execute_result"
    }
   ],
   "source": [
    "𝕐 = YonedaEmbedding( 𝐀_𝓞 )"
   ]
  },
  {
   "cell_type": "code",
   "execution_count": 20,
   "id": "42e6724b",
   "metadata": {},
   "outputs": [
    {
     "name": "stdout",
     "output_type": "stream",
     "text": [
      "Yoneda embedding functor:\n",
      "\n",
      "Algebroid( Q, FreeCategory( RightQuiver( \"q_𝓞(𝓞₀,𝓞₁,𝓞₂)[x₀:𝓞₀->𝓞₁,x₁:𝓞₀->𝓞₁,x₂:𝓞₀->𝓞₁,y₀:𝓞₁->𝓞₂,y₁:𝓞₁->𝓞₂,y₂:𝓞₁->𝓞₂]\" ) ) ) / relations\n",
      "  |\n",
      "  V\n",
      "PreSheaves( Algebroid( Q, FreeCategory( RightQuiver( \"q_𝓞(𝓞₀,𝓞₁,𝓞₂)[x₀:𝓞₀->𝓞₁,x₁:𝓞₀->𝓞₁,x₂:𝓞₀->𝓞₁,y₀:𝓞₁->𝓞₂,y₁:𝓞₁->𝓞₂,y₂:𝓞₁->𝓞₂]\" ) ) ) / relations, Rows( Q ) )\n"
     ]
    }
   ],
   "source": [
    "Display( 𝕐 )"
   ]
  },
  {
   "cell_type": "code",
   "execution_count": 21,
   "id": "77185b67",
   "metadata": {},
   "outputs": [
    {
     "data": {
      "text/plain": [
       "GAP: <(𝓞₀)->1, (𝓞₁)->0, (𝓞₂)->0; (x₀)->0x1, (x₁)->0x1, (x₂)->0x1, (y₀)->0x0, (y₁)->0x0, (y₂)->0x0>"
      ]
     },
     "execution_count": 21,
     "metadata": {},
     "output_type": "execute_result"
    }
   ],
   "source": [
    "𝕐₀ = 𝕐( 𝐀_𝓞.\"𝓞₀\" )"
   ]
  },
  {
   "cell_type": "code",
   "execution_count": 22,
   "id": "e2ba4220",
   "metadata": {},
   "outputs": [
    {
     "data": {
      "text/plain": [
       "GAP: <(𝓞₀)->3, (𝓞₁)->1, (𝓞₂)->0; (x₀)->1x3, (x₁)->1x3, (x₂)->1x3, (y₀)->0x1, (y₁)->0x1, (y₂)->0x1>"
      ]
     },
     "execution_count": 22,
     "metadata": {},
     "output_type": "execute_result"
    }
   ],
   "source": [
    "𝕐₁ = 𝕐( 𝐀_𝓞.\"𝓞₁\" )"
   ]
  },
  {
   "cell_type": "code",
   "execution_count": 23,
   "id": "e14ee6b2",
   "metadata": {},
   "outputs": [
    {
     "data": {
      "text/plain": [
       "GAP: <(𝓞₀)->6, (𝓞₁)->3, (𝓞₂)->1; (x₀)->3x6, (x₁)->3x6, (x₂)->3x6, (y₀)->1x3, (y₁)->1x3, (y₂)->1x3>"
      ]
     },
     "execution_count": 23,
     "metadata": {},
     "output_type": "execute_result"
    }
   ],
   "source": [
    "𝕐₂ = 𝕐( 𝐀_𝓞.\"𝓞₂\" )"
   ]
  },
  {
   "cell_type": "code",
   "execution_count": 24,
   "id": "0ce8e6fc",
   "metadata": {},
   "outputs": [
    {
     "data": {
      "text/plain": [
       "true"
      ]
     },
     "execution_count": 24,
     "metadata": {},
     "output_type": "execute_result"
    }
   ],
   "source": [
    "ForAll( ConvertJuliaToGAP( [ 𝕐₀, 𝕐₁, 𝕐₂ ] ), IsProjective )"
   ]
  },
  {
   "cell_type": "code",
   "execution_count": 25,
   "id": "f26329d1",
   "metadata": {},
   "outputs": [
    {
     "data": {
      "text/plain": [
       "GAP: <An object in Complexes category by cochains( PreSheaves( Algebroid( Q, FreeCategory( RightQuiver( \"q_𝓞(𝓞₀,𝓞₁,𝓞₂)[x₀:𝓞₀->𝓞₁,x₁:𝓞₀->𝓞₁,x₂:𝓞₀->𝓞₁,y₀:𝓞₁->𝓞₂,y₁:𝓞₁->𝓞₂,y₂:𝓞₁->𝓞₂]\" ) ) ) / relations, Rows( Q ) ) ) supported on the interval [ 0 .. 2 ]>"
      ]
     },
     "execution_count": 25,
     "metadata": {},
     "output_type": "execute_result"
    }
   ],
   "source": [
    "𝓟𝓘𝕐₀ = ProjectiveResolution( InjectiveResolution( 𝕐₀, true ), true )"
   ]
  },
  {
   "cell_type": "code",
   "execution_count": 26,
   "id": "28a49ce9",
   "metadata": {},
   "outputs": [
    {
     "data": {
      "text/plain": [
       "GAP: [ 0, 1, 2 ]"
      ]
     },
     "execution_count": 26,
     "metadata": {},
     "output_type": "execute_result"
    }
   ],
   "source": [
    "ObjectsSupport( 𝓟𝓘𝕐₀ )"
   ]
  },
  {
   "cell_type": "code",
   "execution_count": 27,
   "id": "e463fb3b",
   "metadata": {},
   "outputs": [
    {
     "name": "stdout",
     "output_type": "stream",
     "text": [
      "Image of <(𝓞₀)>:\n",
      "Source: \n",
      "A row module over Q of rank 37\n",
      "\n",
      "Matrix: \n",
      "[ [  -1,   0,   0,   0,   0,   0,   0,   0,   0,   0,   0,   0,   0,   0,   0,\\\n",
      "   0,   0,   0,   0,   0,   0,   0,   0,   0,   0,   0,   0,   0,   0,   0,   \\\n",
      "0,   0,   0,   0,   0,   0,   0,   0,   0,   0,   0,   0,   0,   0,   0,   0, \\\n",
      "  0,   0,   0,   0,   0,   0,   0,   0 ],\n",
      "  [   1,   0,   0,   0,   0,   0,   0,   0,   0,   0,   0,   0,   0,   0,   0,\\\n",
      "   0,   0,   0,   0,   0,   0,   0,   0,   0,   0,   0,   0,   0,   0,   0,   \\\n",
      "0,   0,   0,   0,   0,   0,   0,   0,   0,   0,   0,   0,   0,   0,   0,   0, \\\n",
      "  0,   0,   0,   0,   0,   0,   0,   0 ],\n",
      "  [   0,   1,   0,   0,   0,   0,   0,   0,   0,   0,   0,   0,   0,   0,   0,\\\n",
      "   0,   0,   0,   0,   0,   0,   0,   0,   0,   0,   0,   0,   0,   0,   0,   \\\n",
      "0,   0,   0,   0,   0,   0,   0,   0,   0,   0,   0,   0,   0,   0,   0,   0, \\\n",
      "  0,   0,   0,   0,   0,   0,   0,   0 ],\n",
      "  [   0,   0,   1,   0,   0,   0,   0,   0,   0,   0,   0,   0,   0,   0,   0,\\\n",
      "   0,   0,   0,   0,   0,   0,   0,   0,   0,   0,   0,   0,   0,   0,   0,   \\\n",
      "0,   0,   0,   0,   0,   0,   0,   0,   0,   0,   0,   0,   0,   0,   0,   0, \\\n",
      "  0,   0,   0,   0,   0,   0,   0,   0 ],\n",
      "  [   0,   0,   0,   1,   0,   0,   0,   0,   0,   0,   0,   0,   0,   0,   0,\\\n",
      "   0,   0,   0,   0,   0,   0,   0,   0,   0,   0,   0,   0,   0,   0,   0,   \\\n",
      "0,   0,   0,   0,   0,   0,   0,   0,   0,   0,   0,   0,   0,   0,   0,   0, \\\n",
      "  0,   0,   0,   0,   0,   0,   0,   0 ],\n",
      "  [   0,   0,   0,   0,   1,   0,   0,   0,   0,   0,   0,   0,   0,   0,   0,\\\n",
      "   0,   0,   0,   0,   0,   0,   0,   0,   0,   0,   0,   0,   0,   0,   0,   \\\n",
      "0,   0,   0,   0,   0,   0,   0,   0,   0,   0,   0,   0,   0,   0,   0,   0, \\\n",
      "  0,   0,   0,   0,   0,   0,   0,   0 ],\n",
      "  [   0,   0,   0,   0,   0,   1,   0,   0,   0,   0,   0,   0,   0,   0,   0,\\\n",
      "   0,   0,   0,   0,   0,   0,   0,   0,   0,   0,   0,   0,   0,   0,   0,   \\\n",
      "0,   0,   0,   0,   0,   0,   0,   0,   0,   0,   0,   0,   0,   0,   0,   0, \\\n",
      "  0,   0,   0,   0,   0,   0,   0,   0 ],\n",
      "  [   0,   0,   0,   0,   0,   0,   1,   0,   0,   0,   0,   0,   0,   0,   0,\\\n",
      "   0,   0,   0,   1,   0,   0,   0,   0,   0,   0,   0,   0,   0,   0,   0,   \\\n",
      "0,   0,   0,   0,   0,   0,   0,   0,   0,   0,   0,   0,   0,   0,   0,   0, \\\n",
      "  0,   0,   0,   0,   0,   0,   0,   0 ],\n",
      "  [   0,   0,   0,   0,   0,   0,   0,   1,   0,   0,   0,   0,   0,   0,   0,\\\n",
      "   0,   0,   0,   0,   1,   0,   0,   0,   0,   0,   0,   0,   0,   0,   0,   \\\n",
      "0,   0,   0,   0,   0,   0,   0,   0,   0,   0,   0,   0,   0,   0,   0,   0, \\\n",
      "  0,   0,   0,   0,   0,   0,   0,   0 ],\n",
      "  [   0,   0,   0,   0,   0,   0,   0,   0,   1,   0,   0,   0,   0,   0,   0,\\\n",
      "   0,   0,   0,   0,   0,   1,   0,   0,   0,   0,   0,   0,   0,   0,   0,   \\\n",
      "0,   0,   0,   0,   0,   0,   0,   0,   0,   0,   0,   0,   0,   0,   0,   0, \\\n",
      "  0,   0,   0,   0,   0,   0,   0,   0 ],\n",
      "  [   0,   0,   0,   0,   0,   0,   0,   0,   0,   1,   0,   0,   0,   0,   0,\\\n",
      "   0,   0,   0,   0,   0,   0,   1,   0,   0,   0,   0,   0,   0,   0,   0,   \\\n",
      "0,   0,   0,   0,   0,   0,   0,   0,   0,   0,   0,   0,   0,   0,   0,   0, \\\n",
      "  0,   0,   0,   0,   0,   0,   0,   0 ],\n",
      "  [   0,   0,   0,   0,   0,   0,   0,   0,   0,   0,   1,   0,   0,   0,   0,\\\n",
      "   0,   0,   0,   0,   0,   0,   0,   1,   0,   0,   0,   0,   0,   0,   0,   \\\n",
      "0,   0,   0,   0,   0,   0,   0,   0,   0,   0,   0,   0,   0,   0,   0,   0, \\\n",
      "  0,   0,   0,   0,   0,   0,   0,   0 ],\n",
      "  [   0,   0,   0,   0,   0,   0,   0,   0,   0,   0,   0,   1,   0,   0,   0,\\\n",
      "   0,   0,   0,   0,   0,   0,   0,   0,   1,   0,   0,   0,   0,   0,   0,   \\\n",
      "0,   0,   0,   0,   0,   0,   0,   0,   0,   0,   0,   0,   0,   0,   0,   0, \\\n",
      "  0,   0,   0,   0,   0,   0,   0,   0 ],\n",
      "  [   0,   0,   0,   0,   0,   0,   0,   0,   0,   0,   0,   0,   1,   0,   0,\\\n",
      "   0,   0,   0,   0,   0,   0,   0,   0,   0,   0,   0,   0,   0,   0,   0,   \\\n",
      "0,   0,   0,   0,   0,   0,   1,   0,   0,   0,   0,   0,   0,   0,   0,   0, \\\n",
      "  0,   0,   0,   0,   0,   0,   0,   0 ],\n",
      "  [   0,   0,   0,   0,   0,   0,   0,   0,   0,   0,   0,   0,   0,   1,   0,\\\n",
      "   0,   0,   0,   0,   0,   0,   0,   0,   0,   0,   0,   0,   0,   0,   0,   \\\n",
      "0,   0,   0,   0,   0,   0,   0,   1,   0,   0,   0,   0,   0,   0,   0,   0, \\\n",
      "  0,   0,   0,   0,   0,   0,   0,   0 ],\n",
      "  [   0,   0,   0,   0,   0,   0,   0,   0,   0,   0,   0,   0,   0,   0,   1,\\\n",
      "   0,   0,   0,   0,   0,   0,   0,   0,   0,   0,   0,   0,   0,   0,   0,   \\\n",
      "0,   0,   0,   0,   0,   0,   0,   0,   1,   0,   0,   0,   0,   0,   0,   0, \\\n",
      "  0,   0,   0,   0,   0,   0,   0,   0 ],\n",
      "  [   0,   0,   0,   0,   0,   0,   0,   0,   0,   0,   0,   0,   0,   0,   0,\\\n",
      "   1,   0,   0,   0,   0,   0,   0,   0,   0,   0,   0,   0,   0,   0,   0,   \\\n",
      "0,   0,   0,   0,   0,   0,   0,   0,   0,   1,   0,   0,   0,   0,   0,   0, \\\n",
      "  0,   0,   0,   0,   0,   0,   0,   0 ],\n",
      "  [   0,   0,   0,   0,   0,   0,   0,   0,   0,   0,   0,   0,   0,   0,   0,\\\n",
      "   0,   1,   0,   0,   0,   0,   0,   0,   0,   0,   0,   0,   0,   0,   0,   \\\n",
      "0,   0,   0,   0,   0,   0,   0,   0,   0,   0,   1,   0,   0,   0,   0,   0, \\\n",
      "  0,   0,   0,   0,   0,   0,   0,   0 ],\n",
      "  [   0,   0,   0,   0,   0,   0,   0,   0,   0,   0,   0,   0,   0,   0,   0,\\\n",
      "   0,   0,   1,   0,   0,   0,   0,   0,   0,   0,   0,   0,   0,   0,   0,   \\\n",
      "0,   0,   0,   0,   0,   0,   0,   0,   0,   0,   0,   1,   0,   0,   0,   0, \\\n",
      "  0,   0,   0,   0,   0,   0,   0,   0 ],\n",
      "  [   0,   0,   0,   0,   0,   0,   0,   0,   0,   0,   0,   0,   0,   0,   0,\\\n",
      "   0,   0,   0,   0,   0,   0,   0,   0,   0,   1,   0,   0,   0,   0,   0,   \\\n",
      "0,   0,   0,   0,   0,   0,   0,   0,   0,   0,   0,   0,   0,   0,   0,   0, \\\n",
      "  0,   0,   0,   0,   0,   0,   0,   0 ],\n",
      "  [   0,   0,   0,   0,   0,   0,   0,   0,   0,   0,   0,   0,   0,   0,   0,\\\n",
      "   0,   0,   0,   0,   0,   0,   0,   0,   0,   0,   1,   0,   0,   0,   0,   \\\n",
      "0,   0,   0,   0,   0,   0,   0,   0,   0,   0,   0,   0,   0,   0,   0,   0, \\\n",
      "  0,   0,   0,   0,   0,   0,   0,   0 ],\n",
      "  [   0,   0,   0,   0,   0,   0,   0,   0,   0,   0,   0,   0,   0,   0,   0,\\\n",
      "   0,   0,   0,   0,   0,   0,   0,   0,   0,   0,   0,   1,   0,   0,   0,   \\\n",
      "0,   0,   0,   0,   0,   0,   0,   0,   0,   0,   0,   0,   0,   0,   0,   0, \\\n",
      "  0,   0,   0,   0,   0,   0,   0,   0 ],\n",
      "  [   0,   0,   0,   0,   0,   0,   0,   0,   0,   0,   0,   0,   0,   0,   0,\\\n",
      "   0,   0,   0,   0,   0,   0,   0,   0,   0,   0,   0,   0,   1,   0,   0,   \\\n",
      "0,   0,   0,   0,   0,   0,   0,   0,   0,   0,   0,   0,   0,   0,   0,   0, \\\n",
      "  0,   0,   0,   0,   0,   0,   0,   0 ],\n",
      "  [   0,   0,   0,   0,   0,   0,   0,   0,   0,   0,   0,   0,   0,   0,   0,\\\n",
      "   0,   0,   0,   0,   0,   0,   0,   0,   0,   0,   0,   0,   0,   1,   0,   \\\n",
      "0,   0,   0,   0,   0,   0,   0,   0,   0,   0,   0,   0,   0,   0,   0,   0, \\\n",
      "  0,   0,   0,   0,   0,   0,   0,   0 ],\n",
      "  [   0,   0,   0,   0,   0,   0,   0,   0,   0,   0,   0,   0,   0,   0,   0,\\\n",
      "   0,   0,   0,   0,   0,   0,   0,   0,   0,   0,   0,   0,   0,   0,   1,   \\\n",
      "0,   0,   0,   0,   0,   0,   0,   0,   0,   0,   0,   0,   0,   0,   0,   0, \\\n",
      "  0,   0,   0,   0,   0,   0,   0,   0 ],\n",
      "  [   0,   0,   0,   0,   0,   0,   0,   0,   0,   0,   0,   0,   0,   0,   0,\\\n",
      "   0,   0,   0,   0,   0,   0,   0,   0,   0,   0,   0,   0,   0,   0,   0,   \\\n",
      "1,   0,   0,   0,   0,   0,   0,   0,   0,   0,   0,   0,   1,   0,   0,   0, \\\n",
      "  0,   0,   0,   0,   0,   0,   0,   0 ],\n",
      "  [   0,   0,   0,   0,   0,   0,   0,   0,   0,   0,   0,   0,   0,   0,   0,\\\n",
      "   0,   0,   0,   0,   0,   0,   0,   0,   0,   0,   0,   0,   0,   0,   0,   \\\n",
      "0,   1,   0,   0,   0,   0,   0,   0,   0,   0,   0,   0,   0,   1,   0,   0, \\\n",
      "  0,   0,   0,   0,   0,   0,   0,   0 ],\n",
      "  [   0,   0,   0,   0,   0,   0,   0,   0,   0,   0,   0,   0,   0,   0,   0,\\\n",
      "   0,   0,   0,   0,   0,   0,   0,   0,   0,   0,   0,   0,   0,   0,   0,   \\\n",
      "0,   0,   1,   0,   0,   0,   0,   0,   0,   0,   0,   0,   0,   0,   1,   0, \\\n",
      "  0,   0,   0,   0,   0,   0,   0,   0 ],\n",
      "  [   0,   0,   0,   0,   0,   0,   0,   0,   0,   0,   0,   0,   0,   0,   0,\\\n",
      "   0,   0,   0,   0,   0,   0,   0,   0,   0,   0,   0,   0,   0,   0,   0,   \\\n",
      "0,   0,   0,   1,   0,   0,   0,   0,   0,   0,   0,   0,   0,   0,   0,   1, \\\n",
      "  0,   0,   0,   0,   0,   0,   0,   0 ],\n",
      "  [   0,   0,   0,   0,   0,   0,   0,   0,   0,   0,   0,   0,   0,   0,   0,\\\n",
      "   0,   0,   0,   0,   0,   0,   0,   0,   0,   0,   0,   0,   0,   0,   0,   \\\n",
      "0,   0,   0,   0,   1,   0,   0,   0,   0,   0,   0,   0,   0,   0,   0,   0, \\\n",
      "  1,   0,   0,   0,   0,   0,   0,   0 ],\n",
      "  [   0,   0,   0,   0,   0,   0,   0,   0,   0,   0,   0,   0,   0,   0,   0,\\\n",
      "   0,   0,   0,   0,   0,   0,   0,   0,   0,   0,   0,   0,   0,   0,   0,   \\\n",
      "0,   0,   0,   0,   0,   1,   0,   0,   0,   0,   0,   0,   0,   0,   0,   0, \\\n",
      "  0,   1,   0,   0,   0,   0,   0,   0 ],\n",
      "  [   0,   0,   0,   0,   0,   0,   0,   0,   0,   0,   0,   0,   0,   0,   0,\\\n",
      "   0,   0,   0,   0,   0,   0,   0,   0,   0,   0,   0,   0,   0,   0,   0,   \\\n",
      "0,   0,   0,   0,   0,   0,   0,   0,   0,   0,   0,   0,   0,   0,   0,   0, \\\n",
      "  0,   0,   1,   0,   0,   0,   0,   0 ],\n",
      "  [   0,   0,   0,   0,   0,   0,   0,   0,   0,   0,   0,   0,   0,   0,   0,\\\n",
      "   0,   0,   0,   0,   0,   0,   0,   0,   0,   0,   0,   0,   0,   0,   0,   \\\n",
      "0,   0,   0,   0,   0,   0,   0,   0,   0,   0,   0,   0,   0,   0,   0,   0, \\\n",
      "  0,   0,   0,   1,   0,   0,   0,   0 ],\n",
      "  [   0,   0,   0,   0,   0,   0,   0,   0,   0,   0,   0,   0,   0,   0,   0,\\\n",
      "   0,   0,   0,   0,   0,   0,   0,   0,   0,   0,   0,   0,   0,   0,   0,   \\\n",
      "0,   0,   0,   0,   0,   0,   0,   0,   0,   0,   0,   0,   0,   0,   0,   0, \\\n",
      "  0,   0,   0,   0,   1,   0,   0,   0 ],\n",
      "  [   0,   0,   0,   0,   0,   0,   0,   0,   0,   0,   0,   0,   0,   0,   0,\\\n",
      "   0,   0,   0,   0,   0,   0,   0,   0,   0,   0,   0,   0,   0,   0,   0,   \\\n",
      "0,   0,   0,   0,   0,   0,   0,   0,   0,   0,   0,   0,   0,   0,   0,   0, \\\n",
      "  0,   0,   0,   0,   0,   1,   0,   0 ],\n",
      "  [   0,   0,   0,   0,   0,   0,   0,   0,   0,   0,   0,   0,   0,   0,   0,\\\n",
      "   0,   0,   0,   0,   0,   0,   0,   0,   0,   0,   0,   0,   0,   0,   0,   \\\n",
      "0,   0,   0,   0,   0,   0,   0,   0,   0,   0,   0,   0,   0,   0,   0,   0, \\\n",
      "  0,   0,   0,   0,   0,   0,   1,   0 ],\n",
      "  [   0,   0,   0,   0,   0,   0,   0,   0,   0,   0,   0,   0,   0,   0,   0,\\\n",
      "   0,   0,   0,   0,   0,   0,   0,   0,   0,   0,   0,   0,   0,   0,   0,   \\\n",
      "0,   0,   0,   0,   0,   0,   0,   0,   0,   0,   0,   0,   0,   0,   0,   0, \\\n",
      "  0,   0,   0,   0,   0,   0,   0,   1 ] ]\n",
      "\n",
      "Range: \n",
      "A row module over Q of rank 54\n",
      "\n",
      "A morphism in Rows( Q )\n",
      "\n",
      "Image of <(𝓞₁)>:\n",
      "Source: \n",
      "A row module over Q of rank 18\n",
      "\n",
      "Matrix: \n",
      "[ [  1,  0,  0,  0,  0,  0,  0,  0,  0,  0,  0,  0,  0,  0,  0,  0,  0,  0,  0\\\n",
      ",  0,  0,  0,  0,  0,  0,  0,  0 ],\n",
      "  [  0,  1,  0,  0,  0,  0,  0,  0,  0,  0,  0,  0,  0,  0,  0,  0,  0,  0,  0\\\n",
      ",  0,  0,  0,  0,  0,  0,  0,  0 ],\n",
      "  [  0,  0,  1,  0,  0,  0,  0,  0,  0,  0,  0,  0,  0,  0,  0,  0,  0,  0,  0\\\n",
      ",  0,  0,  0,  0,  0,  0,  0,  0 ],\n",
      "  [  0,  0,  0,  1,  0,  0,  0,  0,  0,  1,  0,  0,  0,  0,  0,  0,  0,  0,  0\\\n",
      ",  0,  0,  0,  0,  0,  0,  0,  0 ],\n",
      "  [  0,  0,  0,  0,  1,  0,  0,  0,  0,  0,  1,  0,  0,  0,  0,  0,  0,  0,  0\\\n",
      ",  0,  0,  0,  0,  0,  0,  0,  0 ],\n",
      "  [  0,  0,  0,  0,  0,  1,  0,  0,  0,  0,  0,  1,  0,  0,  0,  0,  0,  0,  0\\\n",
      ",  0,  0,  0,  0,  0,  0,  0,  0 ],\n",
      "  [  0,  0,  0,  0,  0,  0,  1,  0,  0,  0,  0,  0,  0,  0,  0,  0,  0,  0,  1\\\n",
      ",  0,  0,  0,  0,  0,  0,  0,  0 ],\n",
      "  [  0,  0,  0,  0,  0,  0,  0,  1,  0,  0,  0,  0,  0,  0,  0,  0,  0,  0,  0\\\n",
      ",  1,  0,  0,  0,  0,  0,  0,  0 ],\n",
      "  [  0,  0,  0,  0,  0,  0,  0,  0,  1,  0,  0,  0,  0,  0,  0,  0,  0,  0,  0\\\n",
      ",  0,  1,  0,  0,  0,  0,  0,  0 ],\n",
      "  [  0,  0,  0,  0,  0,  0,  0,  0,  0,  0,  0,  0,  1,  0,  0,  0,  0,  0,  0\\\n",
      ",  0,  0,  0,  0,  0,  0,  0,  0 ],\n",
      "  [  0,  0,  0,  0,  0,  0,  0,  0,  0,  0,  0,  0,  0,  1,  0,  0,  0,  0,  0\\\n",
      ",  0,  0,  0,  0,  0,  0,  0,  0 ],\n",
      "  [  0,  0,  0,  0,  0,  0,  0,  0,  0,  0,  0,  0,  0,  0,  1,  0,  0,  0,  0\\\n",
      ",  0,  0,  0,  0,  0,  0,  0,  0 ],\n",
      "  [  0,  0,  0,  0,  0,  0,  0,  0,  0,  0,  0,  0,  0,  0,  0,  1,  0,  0,  0\\\n",
      ",  0,  0,  1,  0,  0,  0,  0,  0 ],\n",
      "  [  0,  0,  0,  0,  0,  0,  0,  0,  0,  0,  0,  0,  0,  0,  0,  0,  1,  0,  0\\\n",
      ",  0,  0,  0,  1,  0,  0,  0,  0 ],\n",
      "  [  0,  0,  0,  0,  0,  0,  0,  0,  0,  0,  0,  0,  0,  0,  0,  0,  0,  1,  0\\\n",
      ",  0,  0,  0,  0,  1,  0,  0,  0 ],\n",
      "  [  0,  0,  0,  0,  0,  0,  0,  0,  0,  0,  0,  0,  0,  0,  0,  0,  0,  0,  0\\\n",
      ",  0,  0,  0,  0,  0,  1,  0,  0 ],\n",
      "  [  0,  0,  0,  0,  0,  0,  0,  0,  0,  0,  0,  0,  0,  0,  0,  0,  0,  0,  0\\\n",
      ",  0,  0,  0,  0,  0,  0,  1,  0 ],\n",
      "  [  0,  0,  0,  0,  0,  0,  0,  0,  0,  0,  0,  0,  0,  0,  0,  0,  0,  0,  0\\\n",
      ",  0,  0,  0,  0,  0,  0,  0,  1 ] ]\n",
      "\n",
      "Range: \n",
      "A row module over Q of rank 27\n",
      "\n",
      "A morphism in Rows( Q )\n",
      "\n",
      "Image of <(𝓞₂)>:\n",
      "Source: \n",
      "A row module over Q of rank 6\n",
      "\n",
      "Matrix: \n",
      "[ [  1,  0,  0,  0,  0,  0,  0,  0,  0 ],\n",
      "  [  0,  1,  0,  1,  0,  0,  0,  0,  0 ],\n",
      "  [  0,  0,  1,  0,  0,  0,  1,  0,  0 ],\n",
      "  [  0,  0,  0,  0,  1,  0,  0,  0,  0 ],\n",
      "  [  0,  0,  0,  0,  0,  1,  0,  1,  0 ],\n",
      "  [  0,  0,  0,  0,  0,  0,  0,  0,  1 ] ]\n",
      "\n",
      "Range: \n",
      "A row module over Q of rank 9\n",
      "\n",
      "A morphism in Rows( Q )\n",
      "\n",
      "A morphism in PreSheaves( Algebroid( Q, FreeCategory( RightQuiver( \"q_𝓞(𝓞₀,𝓞₁,𝓞₂)[x₀:𝓞₀->𝓞₁,x₁:𝓞₀->𝓞₁,x₂:𝓞₀->𝓞₁,y₀:𝓞₁->𝓞₂,y₁:𝓞₁->𝓞₂,y₂:𝓞₁->𝓞₂]\" ) ) ) / relations, Rows( Q ) ) given by the above data\n"
     ]
    }
   ],
   "source": [
    "Display( 𝓟𝓘𝕐₀^0 )"
   ]
  },
  {
   "cell_type": "code",
   "execution_count": 28,
   "id": "89a1938a",
   "metadata": {},
   "outputs": [
    {
     "name": "stdout",
     "output_type": "stream",
     "text": [
      "Image of <(𝓞₀)>:\n",
      "Source: \n",
      "A row module over Q of rank 54\n",
      "\n",
      "Matrix: \n",
      "[ [   0,   0,   0,   0,   0,   0,   0,   0,   0,   0,   0,   0,   0,   0,   0,\\\n",
      "   0,   0,   0 ],\n",
      "  [   0,   0,   0,   0,   0,   0,   0,   0,   0,   0,   0,   0,   0,   0,   0,\\\n",
      "   0,   0,   0 ],\n",
      "  [   0,   0,   0,   0,   0,   0,   0,   0,   0,   0,   0,   0,   0,   0,   0,\\\n",
      "   0,   0,   0 ],\n",
      "  [   0,   0,   0,   0,   0,   0,   0,   0,   0,   0,   0,   0,   0,   0,   0,\\\n",
      "   0,   0,   0 ],\n",
      "  [   0,   0,   0,   0,   0,   0,   0,   0,   0,   0,   0,   0,   0,   0,   0,\\\n",
      "   0,   0,   0 ],\n",
      "  [   0,   0,   0,   0,   0,   0,   0,   0,   0,   0,   0,   0,   0,   0,   0,\\\n",
      "   0,   0,   0 ],\n",
      "  [  -1,   0,   0,   0,   0,   0,   0,   0,   0,   0,   0,   0,   0,   0,   0,\\\n",
      "   0,   0,   0 ],\n",
      "  [   0,  -1,   0,   0,   0,   0,   0,   0,   0,   0,   0,   0,   0,   0,   0,\\\n",
      "   0,   0,   0 ],\n",
      "  [   0,   0,  -1,   0,   0,   0,   0,   0,   0,   0,   0,   0,   0,   0,   0,\\\n",
      "   0,   0,   0 ],\n",
      "  [   0,   0,   0,  -1,   0,   0,   0,   0,   0,   0,   0,   0,   0,   0,   0,\\\n",
      "   0,   0,   0 ],\n",
      "  [   0,   0,   0,   0,  -1,   0,   0,   0,   0,   0,   0,   0,   0,   0,   0,\\\n",
      "   0,   0,   0 ],\n",
      "  [   0,   0,   0,   0,   0,  -1,   0,   0,   0,   0,   0,   0,   0,   0,   0,\\\n",
      "   0,   0,   0 ],\n",
      "  [   0,   0,   0,   0,   0,   0,  -1,   0,   0,   0,   0,   0,   0,   0,   0,\\\n",
      "   0,   0,   0 ],\n",
      "  [   0,   0,   0,   0,   0,   0,   0,  -1,   0,   0,   0,   0,   0,   0,   0,\\\n",
      "   0,   0,   0 ],\n",
      "  [   0,   0,   0,   0,   0,   0,   0,   0,  -1,   0,   0,   0,   0,   0,   0,\\\n",
      "   0,   0,   0 ],\n",
      "  [   0,   0,   0,   0,   0,   0,   0,   0,   0,  -1,   0,   0,   0,   0,   0,\\\n",
      "   0,   0,   0 ],\n",
      "  [   0,   0,   0,   0,   0,   0,   0,   0,   0,   0,  -1,   0,   0,   0,   0,\\\n",
      "   0,   0,   0 ],\n",
      "  [   0,   0,   0,   0,   0,   0,   0,   0,   0,   0,   0,  -1,   0,   0,   0,\\\n",
      "   0,   0,   0 ],\n",
      "  [   1,   0,   0,   0,   0,   0,   0,   0,   0,   0,   0,   0,   0,   0,   0,\\\n",
      "   0,   0,   0 ],\n",
      "  [   0,   1,   0,   0,   0,   0,   0,   0,   0,   0,   0,   0,   0,   0,   0,\\\n",
      "   0,   0,   0 ],\n",
      "  [   0,   0,   1,   0,   0,   0,   0,   0,   0,   0,   0,   0,   0,   0,   0,\\\n",
      "   0,   0,   0 ],\n",
      "  [   0,   0,   0,   1,   0,   0,   0,   0,   0,   0,   0,   0,   0,   0,   0,\\\n",
      "   0,   0,   0 ],\n",
      "  [   0,   0,   0,   0,   1,   0,   0,   0,   0,   0,   0,   0,   0,   0,   0,\\\n",
      "   0,   0,   0 ],\n",
      "  [   0,   0,   0,   0,   0,   1,   0,   0,   0,   0,   0,   0,   0,   0,   0,\\\n",
      "   0,   0,   0 ],\n",
      "  [   0,   0,   0,   0,   0,   0,   0,   0,   0,   0,   0,   0,   0,   0,   0,\\\n",
      "   0,   0,   0 ],\n",
      "  [   0,   0,   0,   0,   0,   0,   0,   0,   0,   0,   0,   0,   0,   0,   0,\\\n",
      "   0,   0,   0 ],\n",
      "  [   0,   0,   0,   0,   0,   0,   0,   0,   0,   0,   0,   0,   0,   0,   0,\\\n",
      "   0,   0,   0 ],\n",
      "  [   0,   0,   0,   0,   0,   0,   0,   0,   0,   0,   0,   0,   0,   0,   0,\\\n",
      "   0,   0,   0 ],\n",
      "  [   0,   0,   0,   0,   0,   0,   0,   0,   0,   0,   0,   0,   0,   0,   0,\\\n",
      "   0,   0,   0 ],\n",
      "  [   0,   0,   0,   0,   0,   0,   0,   0,   0,   0,   0,   0,   0,   0,   0,\\\n",
      "   0,   0,   0 ],\n",
      "  [   0,   0,   0,   0,   0,   0,   0,   0,   0,   0,   0,   0,  -1,   0,   0,\\\n",
      "   0,   0,   0 ],\n",
      "  [   0,   0,   0,   0,   0,   0,   0,   0,   0,   0,   0,   0,   0,  -1,   0,\\\n",
      "   0,   0,   0 ],\n",
      "  [   0,   0,   0,   0,   0,   0,   0,   0,   0,   0,   0,   0,   0,   0,  -1,\\\n",
      "   0,   0,   0 ],\n",
      "  [   0,   0,   0,   0,   0,   0,   0,   0,   0,   0,   0,   0,   0,   0,   0,\\\n",
      "  -1,   0,   0 ],\n",
      "  [   0,   0,   0,   0,   0,   0,   0,   0,   0,   0,   0,   0,   0,   0,   0,\\\n",
      "   0,  -1,   0 ],\n",
      "  [   0,   0,   0,   0,   0,   0,   0,   0,   0,   0,   0,   0,   0,   0,   0,\\\n",
      "   0,   0,  -1 ],\n",
      "  [   0,   0,   0,   0,   0,   0,   1,   0,   0,   0,   0,   0,   0,   0,   0,\\\n",
      "   0,   0,   0 ],\n",
      "  [   0,   0,   0,   0,   0,   0,   0,   1,   0,   0,   0,   0,   0,   0,   0,\\\n",
      "   0,   0,   0 ],\n",
      "  [   0,   0,   0,   0,   0,   0,   0,   0,   1,   0,   0,   0,   0,   0,   0,\\\n",
      "   0,   0,   0 ],\n",
      "  [   0,   0,   0,   0,   0,   0,   0,   0,   0,   1,   0,   0,   0,   0,   0,\\\n",
      "   0,   0,   0 ],\n",
      "  [   0,   0,   0,   0,   0,   0,   0,   0,   0,   0,   1,   0,   0,   0,   0,\\\n",
      "   0,   0,   0 ],\n",
      "  [   0,   0,   0,   0,   0,   0,   0,   0,   0,   0,   0,   1,   0,   0,   0,\\\n",
      "   0,   0,   0 ],\n",
      "  [   0,   0,   0,   0,   0,   0,   0,   0,   0,   0,   0,   0,   1,   0,   0,\\\n",
      "   0,   0,   0 ],\n",
      "  [   0,   0,   0,   0,   0,   0,   0,   0,   0,   0,   0,   0,   0,   1,   0,\\\n",
      "   0,   0,   0 ],\n",
      "  [   0,   0,   0,   0,   0,   0,   0,   0,   0,   0,   0,   0,   0,   0,   1,\\\n",
      "   0,   0,   0 ],\n",
      "  [   0,   0,   0,   0,   0,   0,   0,   0,   0,   0,   0,   0,   0,   0,   0,\\\n",
      "   1,   0,   0 ],\n",
      "  [   0,   0,   0,   0,   0,   0,   0,   0,   0,   0,   0,   0,   0,   0,   0,\\\n",
      "   0,   1,   0 ],\n",
      "  [   0,   0,   0,   0,   0,   0,   0,   0,   0,   0,   0,   0,   0,   0,   0,\\\n",
      "   0,   0,   1 ],\n",
      "  [   0,   0,   0,   0,   0,   0,   0,   0,   0,   0,   0,   0,   0,   0,   0,\\\n",
      "   0,   0,   0 ],\n",
      "  [   0,   0,   0,   0,   0,   0,   0,   0,   0,   0,   0,   0,   0,   0,   0,\\\n",
      "   0,   0,   0 ],\n",
      "  [   0,   0,   0,   0,   0,   0,   0,   0,   0,   0,   0,   0,   0,   0,   0,\\\n",
      "   0,   0,   0 ],\n",
      "  [   0,   0,   0,   0,   0,   0,   0,   0,   0,   0,   0,   0,   0,   0,   0,\\\n",
      "   0,   0,   0 ],\n",
      "  [   0,   0,   0,   0,   0,   0,   0,   0,   0,   0,   0,   0,   0,   0,   0,\\\n",
      "   0,   0,   0 ],\n",
      "  [   0,   0,   0,   0,   0,   0,   0,   0,   0,   0,   0,   0,   0,   0,   0,\\\n",
      "   0,   0,   0 ] ]\n",
      "\n",
      "Range: \n",
      "A row module over Q of rank 18\n",
      "\n",
      "A morphism in Rows( Q )\n",
      "\n",
      "Image of <(𝓞₁)>:\n",
      "Source: \n",
      "A row module over Q of rank 27\n",
      "\n",
      "Matrix: \n",
      "[ [   0,   0,   0,   0,   0,   0,   0,   0,   0 ],\n",
      "  [   0,   0,   0,   0,   0,   0,   0,   0,   0 ],\n",
      "  [   0,   0,   0,   0,   0,   0,   0,   0,   0 ],\n",
      "  [  -1,   0,   0,   0,   0,   0,   0,   0,   0 ],\n",
      "  [   0,  -1,   0,   0,   0,   0,   0,   0,   0 ],\n",
      "  [   0,   0,  -1,   0,   0,   0,   0,   0,   0 ],\n",
      "  [   0,   0,   0,  -1,   0,   0,   0,   0,   0 ],\n",
      "  [   0,   0,   0,   0,  -1,   0,   0,   0,   0 ],\n",
      "  [   0,   0,   0,   0,   0,  -1,   0,   0,   0 ],\n",
      "  [   1,   0,   0,   0,   0,   0,   0,   0,   0 ],\n",
      "  [   0,   1,   0,   0,   0,   0,   0,   0,   0 ],\n",
      "  [   0,   0,   1,   0,   0,   0,   0,   0,   0 ],\n",
      "  [   0,   0,   0,   0,   0,   0,   0,   0,   0 ],\n",
      "  [   0,   0,   0,   0,   0,   0,   0,   0,   0 ],\n",
      "  [   0,   0,   0,   0,   0,   0,   0,   0,   0 ],\n",
      "  [   0,   0,   0,   0,   0,   0,  -1,   0,   0 ],\n",
      "  [   0,   0,   0,   0,   0,   0,   0,  -1,   0 ],\n",
      "  [   0,   0,   0,   0,   0,   0,   0,   0,  -1 ],\n",
      "  [   0,   0,   0,   1,   0,   0,   0,   0,   0 ],\n",
      "  [   0,   0,   0,   0,   1,   0,   0,   0,   0 ],\n",
      "  [   0,   0,   0,   0,   0,   1,   0,   0,   0 ],\n",
      "  [   0,   0,   0,   0,   0,   0,   1,   0,   0 ],\n",
      "  [   0,   0,   0,   0,   0,   0,   0,   1,   0 ],\n",
      "  [   0,   0,   0,   0,   0,   0,   0,   0,   1 ],\n",
      "  [   0,   0,   0,   0,   0,   0,   0,   0,   0 ],\n",
      "  [   0,   0,   0,   0,   0,   0,   0,   0,   0 ],\n",
      "  [   0,   0,   0,   0,   0,   0,   0,   0,   0 ] ]\n",
      "\n",
      "Range: \n",
      "A row module over Q of rank 9\n",
      "\n",
      "A morphism in Rows( Q )\n",
      "\n",
      "Image of <(𝓞₂)>:\n",
      "Source: \n",
      "A row module over Q of rank 9\n",
      "\n",
      "Matrix: \n",
      "[ [   0,   0,   0 ],\n",
      "  [  -1,   0,   0 ],\n",
      "  [   0,  -1,   0 ],\n",
      "  [   1,   0,   0 ],\n",
      "  [   0,   0,   0 ],\n",
      "  [   0,   0,  -1 ],\n",
      "  [   0,   1,   0 ],\n",
      "  [   0,   0,   1 ],\n",
      "  [   0,   0,   0 ] ]\n",
      "\n",
      "Range: \n",
      "A row module over Q of rank 3\n",
      "\n",
      "A morphism in Rows( Q )\n",
      "\n",
      "A morphism in PreSheaves( Algebroid( Q, FreeCategory( RightQuiver( \"q_𝓞(𝓞₀,𝓞₁,𝓞₂)[x₀:𝓞₀->𝓞₁,x₁:𝓞₀->𝓞₁,x₂:𝓞₀->𝓞₁,y₀:𝓞₁->𝓞₂,y₁:𝓞₁->𝓞₂,y₂:𝓞₁->𝓞₂]\" ) ) ) / relations, Rows( Q ) ) given by the above data\n"
     ]
    }
   ],
   "source": [
    "Display( 𝓟𝓘𝕐₀^1 )"
   ]
  },
  {
   "cell_type": "code",
   "execution_count": 29,
   "id": "9af5ca3d",
   "metadata": {},
   "outputs": [
    {
     "data": {
      "text/plain": [
       "GAP: <An object in Complexes category by cochains( PreSheaves( Algebroid( Q, FreeCategory( RightQuiver( \"q_𝓞(𝓞₀,𝓞₁,𝓞₂)[x₀:𝓞₀->𝓞₁,x₁:𝓞₀->𝓞₁,x₂:𝓞₀->𝓞₁,y₀:𝓞₁->𝓞₂,y₁:𝓞₁->𝓞₂,y₂:𝓞₁->𝓞₂]\" ) ) ) / relations, Rows( Q ) ) ) supported on the interval [ 0 ]>"
      ]
     },
     "execution_count": 29,
     "metadata": {},
     "output_type": "execute_result"
    }
   ],
   "source": [
    "𝕐₀ = 𝕐₀ / 𝓒ᵇ𝐀_𝓞"
   ]
  },
  {
   "cell_type": "code",
   "execution_count": 30,
   "id": "3063bfb6",
   "metadata": {},
   "outputs": [
    {
     "data": {
      "text/plain": [
       "GAP: <A row module over Q of rank 1>"
      ]
     },
     "execution_count": 30,
     "metadata": {},
     "output_type": "execute_result"
    }
   ],
   "source": [
    "HomStructure( 𝓟𝓘𝕐₀, 𝕐₀ )"
   ]
  },
  {
   "cell_type": "code",
   "execution_count": 31,
   "id": "1f0c856d",
   "metadata": {},
   "outputs": [
    {
     "data": {
      "text/plain": [
       "GAP: <A row module over Q of rank 1>"
      ]
     },
     "execution_count": 31,
     "metadata": {},
     "output_type": "execute_result"
    }
   ],
   "source": [
    "HomStructure( 𝕐₀, 𝓟𝓘𝕐₀ )"
   ]
  },
  {
   "cell_type": "code",
   "execution_count": 32,
   "id": "6fa58df8",
   "metadata": {},
   "outputs": [
    {
     "data": {
      "text/plain": [
       "GAP: <A morphism in Complexes category by cochains( PreSheaves( Algebroid( Q, FreeCategory( RightQuiver( \"q_𝓞(𝓞₀,𝓞₁,𝓞₂)[x₀:𝓞₀->𝓞₁,x₁:𝓞₀->𝓞₁,x₂:𝓞₀->𝓞₁,y₀:𝓞₁->𝓞₂,y₁:𝓞₁->𝓞₂,y₂:𝓞₁->𝓞₂]\" ) ) ) / relations, Rows( Q ) ) ) supported on the interval [ 0 .. 2 ]>"
      ]
     },
     "execution_count": 32,
     "metadata": {},
     "output_type": "execute_result"
    }
   ],
   "source": [
    "f = BasisOfExternalHom( 𝓟𝓘𝕐₀, 𝕐₀ )[1]"
   ]
  },
  {
   "cell_type": "code",
   "execution_count": 33,
   "id": "db4bbe43",
   "metadata": {},
   "outputs": [
    {
     "data": {
      "text/plain": [
       "false"
      ]
     },
     "execution_count": 33,
     "metadata": {},
     "output_type": "execute_result"
    }
   ],
   "source": [
    "IsIsomorphism( f )"
   ]
  },
  {
   "cell_type": "code",
   "execution_count": 34,
   "id": "46a1711f",
   "metadata": {},
   "outputs": [
    {
     "data": {
      "text/plain": [
       "true"
      ]
     },
     "execution_count": 34,
     "metadata": {},
     "output_type": "execute_result"
    }
   ],
   "source": [
    "IsQuasiIsomorphism( f )"
   ]
  }
 ],
 "metadata": {
  "@webio": {
   "lastCommId": null,
   "lastKernelId": null
  },
  "kernelspec": {
   "display_name": "Julia 1.8.2",
   "language": "julia",
   "name": "julia-1.8"
  },
  "language_info": {
   "file_extension": ".jl",
   "mimetype": "application/julia",
   "name": "julia",
   "version": "1.8.2"
  }
 },
 "nbformat": 4,
 "nbformat_minor": 5
}

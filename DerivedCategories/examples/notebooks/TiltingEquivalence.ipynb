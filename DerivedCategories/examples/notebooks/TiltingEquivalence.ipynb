{
 "cells": [
  {
   "cell_type": "markdown",
   "id": "5dd5d895",
   "metadata": {},
   "source": [
    "[![Binder](https://mybinder.org/badge_logo.svg)](https://gesis.mybinder.org/v2/gh/homalg-project/CapAndHomalgNotebooks/master?urlpath=git-pull%3Frepo%3Dhttps%253A%252F%252Fgithub.com%252Fhomalg-project%252FHigherHomologicalAlgebra%26urlpath%3Dtree%252FHigherHomologicalAlgebra%252FDerivedCategories%252Fexamples%252F%252Fnotebooks%252FTiltingEquivalence.ipynb%26branch%3Dmaster)"
   ]
  },
  {
   "cell_type": "code",
   "execution_count": 1,
   "id": "3235490a",
   "metadata": {},
   "outputs": [
    {
     "name": "stdout",
     "output_type": "stream",
     "text": [
      "CapAndHomalg v\u001b[32m1.4.2\u001b[39m\n",
      "Imported OSCAR's components GAP and Singular_jll\n",
      "Type: ?CapAndHomalg for more information\n"
     ]
    }
   ],
   "source": [
    "using CapAndHomalg"
   ]
  },
  {
   "cell_type": "code",
   "execution_count": 2,
   "id": "270b1a7f",
   "metadata": {},
   "outputs": [
    {
     "data": {
      "text/plain": [
       "GAP: [ \"GradedRingForHomalg\", \"MatricesForHomalg\", \"FreydCategoriesForCAP\", \"Algebroids\", \"RingsForHomalg\", \"ModulePresentationsForCAP\", \"GradedModulePresentationsForCAP\", \"LinearAlgebraForCAP\", \"FunctorCategories\", \"CategoryConstructor\", \"SubcategoriesForCAP\" ]"
      ]
     },
     "execution_count": 2,
     "metadata": {},
     "output_type": "execute_result"
    }
   ],
   "source": [
    "LoadPackage( \"DerivedCategories\" )\n",
    "SetSpecialSettings()\n",
    "EnhanceAllPackages()"
   ]
  },
  {
   "cell_type": "code",
   "execution_count": 3,
   "id": "6557f3dc",
   "metadata": {},
   "outputs": [],
   "source": [
    "q_𝓞 = RightQuiver(\n",
    "    \"q_𝓞(𝓞0,𝓞1,𝓞2)[x0:𝓞0->𝓞1,x1:𝓞0->𝓞1,x2:𝓞0->𝓞1,y0:𝓞1->𝓞2,y1:𝓞1->𝓞2,y2:𝓞1->𝓞2]\" );"
   ]
  },
  {
   "cell_type": "code",
   "execution_count": 4,
   "id": "a29bfbeb",
   "metadata": {},
   "outputs": [],
   "source": [
    "SetLabelsAsLaTeXStrings(\n",
    "    q_𝓞,\n",
    "    [ \"\\\\mathcal{O}(0)\", \"\\\\mathcal{O}(1)\", \"\\\\mathcal{O}(2)\" ],\n",
    "    [ \"x_1\", \"x_2\", \"x_3\", \"y_0\", \"y_1\", \"y_2\" ] )"
   ]
  },
  {
   "cell_type": "code",
   "execution_count": 5,
   "id": "1c143b4c",
   "metadata": {},
   "outputs": [
    {
     "data": {
      "text/plain": [
       "GAP: FreeCategory( RightQuiver( \"q_𝓞(𝓞0,𝓞1,𝓞2)[x0:𝓞0->𝓞1,x1:𝓞0->𝓞1,x2:𝓞0->𝓞1,y0:𝓞1->𝓞2,y1:𝓞1->𝓞2,y2:𝓞1->𝓞2]\" ) )"
      ]
     },
     "execution_count": 5,
     "metadata": {},
     "output_type": "execute_result"
    }
   ],
   "source": [
    "𝐅_𝓞 = FreeCategory( q_𝓞 )"
   ]
  },
  {
   "cell_type": "code",
   "execution_count": 6,
   "id": "2ee3cd39",
   "metadata": {},
   "outputs": [
    {
     "data": {
      "text/plain": [
       "GAP: Q"
      ]
     },
     "execution_count": 6,
     "metadata": {},
     "output_type": "execute_result"
    }
   ],
   "source": [
    "ℚ = HomalgFieldOfRationals( )"
   ]
  },
  {
   "cell_type": "code",
   "execution_count": 7,
   "id": "9dc484f3",
   "metadata": {},
   "outputs": [
    {
     "data": {
      "text/plain": [
       "GAP: Q"
      ]
     },
     "execution_count": 7,
     "metadata": {},
     "output_type": "execute_result"
    }
   ],
   "source": [
    "k = ℚ"
   ]
  },
  {
   "cell_type": "code",
   "execution_count": 8,
   "id": "111b874f",
   "metadata": {},
   "outputs": [
    {
     "data": {
      "text/plain": [
       "GAP: \u001b[34mAlgebroid( \u001b[0mQ * q_𝓞\u001b[34m )\u001b[0m"
      ]
     },
     "execution_count": 8,
     "metadata": {},
     "output_type": "execute_result"
    }
   ],
   "source": [
    "k𝐅_𝓞 = k[𝐅_𝓞]"
   ]
  },
  {
   "cell_type": "code",
   "execution_count": 9,
   "id": "46b2cf20",
   "metadata": {},
   "outputs": [],
   "source": [
    "ρ_𝓞 = [ PreCompose( k𝐅_𝓞.x0, k𝐅_𝓞.y1 ) - PreCompose( k𝐅_𝓞.x1, k𝐅_𝓞.y0 ),\n",
    "        PreCompose( k𝐅_𝓞.x0, k𝐅_𝓞.y2 ) - PreCompose( k𝐅_𝓞.x2, k𝐅_𝓞.y0 ),\n",
    "        PreCompose( k𝐅_𝓞.x1, k𝐅_𝓞.y2 ) - PreCompose( k𝐅_𝓞.x2, k𝐅_𝓞.y1 ) ];"
   ]
  },
  {
   "cell_type": "code",
   "execution_count": 10,
   "id": "51cd8737",
   "metadata": {},
   "outputs": [
    {
     "data": {
      "text/plain": [
       "GAP: \u001b[33mAlgebroid( \u001b[0m(Q * q_𝓞) / [ -1*(x1*y0) + 1*(x0*y1), -1*(x2*y0) + 1*(x0*y2), -1*(x2*y1) + 1*(x1*y2) ]\u001b[33m )\u001b[0m"
      ]
     },
     "execution_count": 10,
     "metadata": {},
     "output_type": "execute_result"
    }
   ],
   "source": [
    "𝐀_𝓞 = k𝐅_𝓞 / ρ_𝓞"
   ]
  },
  {
   "cell_type": "code",
   "execution_count": 11,
   "id": "27360133",
   "metadata": {},
   "outputs": [
    {
     "name": "stdout",
     "output_type": "stream",
     "text": [
      "27 primitive operations were used to derive 73 operations for this category which constructively\n",
      "* IsEquippedWithHomomorphismStructure\n",
      "* IsLinearCategoryOverCommutativeRing\n"
     ]
    }
   ],
   "source": [
    "InfoOfInstalledOperationsOfCategory( 𝐀_𝓞 )"
   ]
  },
  {
   "cell_type": "code",
   "execution_count": 12,
   "id": "44005da9",
   "metadata": {},
   "outputs": [
    {
     "data": {
      "text/plain": [
       "GAP: [ \"AdditionForMorphisms\", \"AdditiveInverseForMorphisms\", \"BasisOfExternalHom\", \"BasisOfPostAnnihilatorsInLinearCategory\", \"BasisOfPreAnnihilatorsInLinearCategory\", \"BasisOfSolutionsOfHomogeneousDoubleLinearSystemInLinearCategory\", \"BasisOfSolutionsOfHomogeneousLinearSystemInLinearCategory\", \"CoefficientsOfMorphismWithGivenBasisOfExternalHom\", \"Colift\", \"ColiftAlongEpimorphism\", \"ColiftOrFail\", \"DistinguishedObjectOfHomomorphismStructure\", \"HomomorphismStructureOnMorphisms\", \"HomomorphismStructureOnMorphismsWithGivenObjects\", \"HomomorphismStructureOnObjects\", \"IdentityMorphism\", \"InjectiveColift\", \"InterpretMorphismAsMorphismFromDistinguishedObjectToHomomorphismStructure\", \"InterpretMorphismAsMorphismFromDistinguishedObjectToHomomorphismStructureWithGivenObjects\", \"InterpretMorphismFromDistinguishedObjectToHomomorphismStructureAsMorphism\", \"InverseForMorphisms\", \"IsAutomorphism\", \"IsCodominating\", \"IsColiftable\", \"IsColiftableAlongEpimorphism\", \"IsCongruentForMorphisms\", \"IsDominating\", \"IsEndomorphism\", \"IsEqualAsFactorobjects\", \"IsEqualAsSubobjects\", \"IsEqualForMorphisms\", \"IsEqualForMorphismsOnMor\", \"IsEqualForObjects\", \"IsEqualToIdentityMorphism\", \"IsEqualToZeroMorphism\", \"IsIdempotent\", \"IsIsomorphism\", \"IsLiftable\", \"IsLiftableAlongMonomorphism\", \"IsOne\", \"IsSplitEpimorphism\", \"IsSplitMonomorphism\", \"IsWellDefinedForMorphisms\", \"IsWellDefinedForObjects\", \"IsZeroForMorphisms\", \"IsZeroForObjects\", \"Lift\", \"LiftAlongMonomorphism\", \"LiftOrFail\", \"MereExistenceOfSolutionOfLinearSystemInAbCategory\", \"MereExistenceOfUniqueSolutionOfHomogeneousLinearSystemInAbCategory\", \"MereExistenceOfUniqueSolutionOfLinearSystemInAbCategory\", \"MorphismConstructor\", \"MorphismDatum\", \"MultiplyWithElementOfCommutativeRingForMorphisms\", \"ObjectConstructor\", \"ObjectDatum\", \"PostCompose\", \"PostInverse\", \"PreCompose\", \"PreInverse\", \"ProjectiveLift\", \"RandomMorphismByInteger\", \"RandomMorphismWithFixedRangeByInteger\", \"RandomMorphismWithFixedSourceAndRangeByInteger\", \"RandomMorphismWithFixedSourceByInteger\", \"RandomObjectByInteger\", \"RetractionForMorphisms\", \"SectionForMorphisms\", \"SolveLinearSystemInAbCategory\", \"SolveLinearSystemInAbCategoryOrFail\", \"SubtractionForMorphisms\", \"ZeroMorphism\" ]"
      ]
     },
     "execution_count": 12,
     "metadata": {},
     "output_type": "execute_result"
    }
   ],
   "source": [
    "ListInstalledOperationsOfCategory( 𝐀_𝓞 )"
   ]
  },
  {
   "cell_type": "code",
   "execution_count": 13,
   "id": "6b43104a",
   "metadata": {},
   "outputs": [
    {
     "data": {
      "text/plain": [
       "GAP: (𝓞0)-[{ -1*(x2) + 3*(x1) + 2*(x0) }]->(𝓞1)"
      ]
     },
     "execution_count": 13,
     "metadata": {},
     "output_type": "execute_result"
    }
   ],
   "source": [
    "2 * 𝐀_𝓞.\"x0\" + 3 * 𝐀_𝓞.\"x1\" - 𝐀_𝓞.\"x2\""
   ]
  },
  {
   "cell_type": "code",
   "execution_count": 14,
   "id": "362dd86c",
   "metadata": {},
   "outputs": [
    {
     "data": {
      "text/plain": [
       "GAP: [ (𝓞0)-[{ 1*(x0) }]->(𝓞1), (𝓞0)-[{ 1*(x1) }]->(𝓞1), (𝓞0)-[{ 1*(x2) }]->(𝓞1) ]"
      ]
     },
     "execution_count": 14,
     "metadata": {},
     "output_type": "execute_result"
    }
   ],
   "source": [
    "BasisOfExternalHom( 𝐀_𝓞.\"𝓞0\", 𝐀_𝓞.\"𝓞1\" )"
   ]
  },
  {
   "cell_type": "code",
   "execution_count": 15,
   "id": "a6f3f0a1",
   "metadata": {},
   "outputs": [
    {
     "data": {
      "text/plain": [
       "GAP: \u001b[34mAlgebroid( \u001b[0m(Q * q_𝓞_op) / [ 1*(y1*x0) - 1*(y0*x1), 1*(y2*x0) - 1*(y0*x2), 1*(y2*x1) - 1*(y1*x2) ]\u001b[34m )\u001b[0m"
      ]
     },
     "execution_count": 15,
     "metadata": {},
     "output_type": "execute_result"
    }
   ],
   "source": [
    "𝐀_𝓞_op = OppositeAlgebroid( 𝐀_𝓞 )"
   ]
  },
  {
   "cell_type": "code",
   "execution_count": 16,
   "id": "0e412d91",
   "metadata": {},
   "outputs": [
    {
     "data": {
      "text/plain": [
       "GAP: q_𝓞_op(𝓞0,𝓞1,𝓞2)[x0:𝓞1->𝓞0,x1:𝓞1->𝓞0,x2:𝓞1->𝓞0,y0:𝓞2->𝓞1,y1:𝓞2->𝓞1,y2:𝓞2->𝓞1]"
      ]
     },
     "execution_count": 16,
     "metadata": {},
     "output_type": "execute_result"
    }
   ],
   "source": [
    "q_𝓞_op = UnderlyingQuiver( 𝐀_𝓞_op )"
   ]
  },
  {
   "cell_type": "code",
   "execution_count": 17,
   "id": "2afe68b7",
   "metadata": {},
   "outputs": [],
   "source": [
    "SetLabelsAsLaTeXStrings(\n",
    "    q_𝓞_op,\n",
    "    [ \"\\\\mathcal{O}(0)\", \"\\\\mathcal{O}(1)\", \"\\\\mathcal{O}(2)\" ],\n",
    "    [ \"x_1\", \"x_2\", \"x_3\", \"y_0\", \"y_1\", \"y_2\" ] )"
   ]
  },
  {
   "cell_type": "code",
   "execution_count": 18,
   "id": "389d6831",
   "metadata": {},
   "outputs": [
    {
     "data": {
      "text/plain": [
       "GAP: Category of matrices over Q"
      ]
     },
     "execution_count": 18,
     "metadata": {},
     "output_type": "execute_result"
    }
   ],
   "source": [
    "kmat = MatrixCategory( k )"
   ]
  },
  {
   "cell_type": "code",
   "execution_count": 19,
   "id": "d15108ee",
   "metadata": {},
   "outputs": [
    {
     "data": {
      "text/plain": [
       "GAP: FunctorCategory( \u001b[34mAlgebroid( \u001b[0m(Q * q_𝓞_op) / [ 1*(y1*x0) - 1*(y0*x1), 1*(y2*x0) - 1*(y0*x2), 1*(y2*x1) - 1*(y1*x2) ]\u001b[34m )\u001b[0m, Category of matrices over Q )"
      ]
     },
     "execution_count": 19,
     "metadata": {},
     "output_type": "execute_result"
    }
   ],
   "source": [
    "𝐀_𝓞mod = FunctorCategory( 𝐀_𝓞_op, kmat )"
   ]
  },
  {
   "cell_type": "code",
   "execution_count": 20,
   "id": "bd4bb462",
   "metadata": {},
   "outputs": [
    {
     "name": "stdout",
     "output_type": "stream",
     "text": [
      "102 primitive operations were used to derive 364 operations for this category which constructively\n",
      "* IsEquippedWithHomomorphismStructure\n",
      "* IsLinearCategoryOverCommutativeRing\n",
      "* IsAbelianCategoryWithEnoughInjectives\n",
      "* IsAbelianCategoryWithEnoughProjectives\n"
     ]
    }
   ],
   "source": [
    "InfoOfInstalledOperationsOfCategory( 𝐀_𝓞mod )"
   ]
  },
  {
   "cell_type": "code",
   "execution_count": 21,
   "id": "58074082",
   "metadata": {},
   "outputs": [
    {
     "data": {
      "text/plain": [
       "GAP: \u001b[32mHomotopy^• category( \u001b[0mFunctorCategory( \u001b[34mAlgebroid( \u001b[0m(Q * q_𝓞_op) / [ 1*(y1*x0) - 1*(y0*x1), 1*(y2*x0) - 1*(y0*x2), 1*(y2*x1) - 1*(y1*x2) ]\u001b[34m )\u001b[0m, Category of matrices over Q )\u001b[32m )\u001b[0m"
      ]
     },
     "execution_count": 21,
     "metadata": {},
     "output_type": "execute_result"
    }
   ],
   "source": [
    "K𝐀_𝓞 = HomotopyCategoryByCochains( 𝐀_𝓞mod )"
   ]
  },
  {
   "cell_type": "code",
   "execution_count": 22,
   "id": "e9d9eb7d",
   "metadata": {},
   "outputs": [
    {
     "data": {
      "text/plain": [
       "GAP: \u001b[35mDerived^• category(\u001b[0m FunctorCategory( \u001b[34mAlgebroid( \u001b[0m(Q * q_𝓞_op) / [ 1*(y1*x0) - 1*(y0*x1), 1*(y2*x0) - 1*(y0*x2), 1*(y2*x1) - 1*(y1*x2) ]\u001b[34m )\u001b[0m, Category of matrices over Q ) \u001b[35m)\u001b[0m"
      ]
     },
     "execution_count": 22,
     "metadata": {},
     "output_type": "execute_result"
    }
   ],
   "source": [
    "D𝐀_𝓞 = DerivedCategoryByCochains( 𝐀_𝓞mod )"
   ]
  },
  {
   "cell_type": "code",
   "execution_count": 23,
   "id": "bfdbf6ff",
   "metadata": {},
   "outputs": [
    {
     "data": {
      "text/plain": [
       "true"
      ]
     },
     "execution_count": 23,
     "metadata": {},
     "output_type": "execute_result"
    }
   ],
   "source": [
    "CanCompute( D𝐀_𝓞, \"IsCongruentForMorphisms\" )"
   ]
  },
  {
   "cell_type": "code",
   "execution_count": 24,
   "id": "87dcea72",
   "metadata": {},
   "outputs": [
    {
     "name": "stdout",
     "output_type": "stream",
     "text": [
      "1: The natural localization functor\n"
     ]
    }
   ],
   "source": [
    "KnownFunctors( K𝐀_𝓞, D𝐀_𝓞 )"
   ]
  },
  {
   "cell_type": "code",
   "execution_count": 25,
   "id": "55646dd7",
   "metadata": {},
   "outputs": [
    {
     "data": {
      "text/plain": [
       "GAP: Localization functor in derived category"
      ]
     },
     "execution_count": 25,
     "metadata": {},
     "output_type": "execute_result"
    }
   ],
   "source": [
    "L = Functor( K𝐀_𝓞, D𝐀_𝓞, 1 )"
   ]
  },
  {
   "cell_type": "code",
   "execution_count": 26,
   "id": "0a2c290b",
   "metadata": {},
   "outputs": [
    {
     "data": {
      "text/plain": [
       "GAP: Additive closure( \u001b[33mAlgebroid( \u001b[0m(Q * q_𝓞) / [ -1*(x1*y0) + 1*(x0*y1), -1*(x2*y0) + 1*(x0*y2), -1*(x2*y1) + 1*(x1*y2) ]\u001b[33m )\u001b[0m )"
      ]
     },
     "execution_count": 26,
     "metadata": {},
     "output_type": "execute_result"
    }
   ],
   "source": [
    "𝐀_𝓞add = AdditiveClosure( 𝐀_𝓞 )"
   ]
  },
  {
   "cell_type": "code",
   "execution_count": 27,
   "id": "cd3efe67",
   "metadata": {},
   "outputs": [
    {
     "data": {
      "text/plain": [
       "GAP: \u001b[32mFull additive subcategory generated by projective objects( \u001b[0mFunctorCategory( \u001b[34mAlgebroid( \u001b[0m(Q * q_𝓞_op) / [ 1*(y1*x0) - 1*(y0*x1), 1*(y2*x0) - 1*(y0*x2), 1*(y2*x1) - 1*(y1*x2) ]\u001b[34m )\u001b[0m, Category of matrices over Q )\u001b[32m )\u001b[0m"
      ]
     },
     "execution_count": 27,
     "metadata": {},
     "output_type": "execute_result"
    }
   ],
   "source": [
    "𝐀_𝓞proj = FullSubcategoryGeneratedByProjectiveObjects( 𝐀_𝓞mod )"
   ]
  },
  {
   "cell_type": "code",
   "execution_count": 28,
   "id": "543fcec5",
   "metadata": {},
   "outputs": [
    {
     "name": "stdout",
     "output_type": "stream",
     "text": [
      "1: Yoneda embedding\n"
     ]
    }
   ],
   "source": [
    "KnownFunctors( 𝐀_𝓞add, 𝐀_𝓞proj )"
   ]
  },
  {
   "cell_type": "code",
   "execution_count": 29,
   "id": "20c97f25",
   "metadata": {},
   "outputs": [
    {
     "data": {
      "text/plain": [
       "GAP: Yoneda embedding"
      ]
     },
     "execution_count": 29,
     "metadata": {},
     "output_type": "execute_result"
    }
   ],
   "source": [
    "Yadd = Functor( 𝐀_𝓞add, 𝐀_𝓞proj, 1 )"
   ]
  },
  {
   "cell_type": "code",
   "execution_count": 30,
   "id": "0603dd80",
   "metadata": {},
   "outputs": [
    {
     "name": "stdout",
     "output_type": "stream",
     "text": [
      "1: Decomposition of projective objects\n"
     ]
    }
   ],
   "source": [
    "KnownFunctors( 𝐀_𝓞proj, 𝐀_𝓞add )"
   ]
  },
  {
   "cell_type": "code",
   "execution_count": 31,
   "id": "f10faf17",
   "metadata": {},
   "outputs": [
    {
     "data": {
      "text/plain": [
       "GAP: Decomposition of projective objects"
      ]
     },
     "execution_count": 31,
     "metadata": {},
     "output_type": "execute_result"
    }
   ],
   "source": [
    "Dec = Functor( 𝐀_𝓞proj, 𝐀_𝓞add, 1 )"
   ]
  },
  {
   "cell_type": "code",
   "execution_count": 32,
   "id": "53f22f58",
   "metadata": {},
   "outputs": [
    {
     "data": {
      "text/plain": [
       "GAP: \u001b[34mHomotopy^• category( \u001b[0mAdditive closure( \u001b[33mAlgebroid( \u001b[0m(Q * q_𝓞) / [ -1*(x1*y0) + 1*(x0*y1), -1*(x2*y0) + 1*(x0*y2), -1*(x2*y1) + 1*(x1*y2) ]\u001b[33m )\u001b[0m )\u001b[34m )\u001b[0m"
      ]
     },
     "execution_count": 32,
     "metadata": {},
     "output_type": "execute_result"
    }
   ],
   "source": [
    "K𝐀_𝓞add = HomotopyCategoryByCochains( 𝐀_𝓞add )"
   ]
  },
  {
   "cell_type": "code",
   "execution_count": 33,
   "id": "55269311",
   "metadata": {},
   "outputs": [
    {
     "name": "stdout",
     "output_type": "stream",
     "text": [
      "61 primitive operations were used to derive 184 operations for this category which constructively\n",
      "* IsLinearCategoryOverCommutativeRing\n",
      "* IsAdditiveCategory\n"
     ]
    }
   ],
   "source": [
    "InfoOfInstalledOperationsOfCategory( K𝐀_𝓞add )"
   ]
  },
  {
   "cell_type": "code",
   "execution_count": 34,
   "id": "5e913b6e",
   "metadata": {},
   "outputs": [
    {
     "data": {
      "text/plain": [
       "GAP: \u001b[35mHomotopy^• category( \u001b[0m\u001b[32mFull additive subcategory generated by projective objects( \u001b[0mFunctorCategory( \u001b[34mAlgebroid( \u001b[0m(Q * q_𝓞_op) / [ 1*(y1*x0) - 1*(y0*x1), 1*(y2*x0) - 1*(y0*x2), 1*(y2*x1) - 1*(y1*x2) ]\u001b[34m )\u001b[0m, Category of matrices over Q )\u001b[32m )\u001b[0m\u001b[35m )\u001b[0m"
      ]
     },
     "execution_count": 34,
     "metadata": {},
     "output_type": "execute_result"
    }
   ],
   "source": [
    "K𝐀_𝓞proj = HomotopyCategoryByCochains( 𝐀_𝓞proj )"
   ]
  },
  {
   "cell_type": "code",
   "execution_count": 35,
   "id": "1a67f947",
   "metadata": {},
   "outputs": [
    {
     "data": {
      "text/plain": [
       "GAP: Extension of ( Yoneda embedding ) to homotopy categories"
      ]
     },
     "execution_count": 35,
     "metadata": {},
     "output_type": "execute_result"
    }
   ],
   "source": [
    "KYadd = ExtendFunctorToHomotopyCategoriesByCochains( Yadd )"
   ]
  },
  {
   "cell_type": "code",
   "execution_count": 36,
   "id": "fb52d55b",
   "metadata": {},
   "outputs": [
    {
     "name": "stdout",
     "output_type": "stream",
     "text": [
      "Extension of ( Yoneda embedding ) to homotopy categories\u001b[1m\u001b[31m:\u001b[0m\n",
      "\n",
      "\u001b[34mHomotopy^• category( \u001b[0mAdditive closure( \u001b[33mAlgebroid( \u001b[0m(Q * q_𝓞) / [ -1*(x1*y0) + 1*(x0*y1), -1*(x2*y0) + 1*(x0*y2), -1*(x2*y1) + 1*(x1*y2) ]\u001b[33m )\u001b[0m )\u001b[34m )\u001b[0m\n",
      "\u001b[1m\u001b[31m  |\n",
      "  V\u001b[0m\n",
      "\u001b[35mHomotopy^• category( \u001b[0m\u001b[32mFull additive subcategory generated by projective objects( \u001b[0mFunctorCategory( \u001b[34mAlgebroid( \u001b[0m(Q * q_𝓞_op) / [ 1*(y1*x0) - 1*(y0*x1), 1*(y2*x0) - 1*(y0*x2), 1*(y2*x1) - 1*(y1*x2) ]\u001b[34m )\u001b[0m, Category of matrices over Q )\u001b[32m )\u001b[0m\u001b[35m )\u001b[0m\n"
     ]
    }
   ],
   "source": [
    "Display( KYadd )"
   ]
  },
  {
   "cell_type": "code",
   "execution_count": 37,
   "id": "2c04c0ea",
   "metadata": {},
   "outputs": [
    {
     "data": {
      "text/plain": [
       "GAP: Extension of ( Decomposition of projective objects ) to homotopy categories"
      ]
     },
     "execution_count": 37,
     "metadata": {},
     "output_type": "execute_result"
    }
   ],
   "source": [
    "KDec = ExtendFunctorToHomotopyCategoriesByCochains( Dec )"
   ]
  },
  {
   "cell_type": "code",
   "execution_count": 38,
   "id": "69719519",
   "metadata": {},
   "outputs": [
    {
     "name": "stdout",
     "output_type": "stream",
     "text": [
      "Extension of ( Decomposition of projective objects ) to homotopy categories\u001b[1m\u001b[31m:\u001b[0m\n",
      "\n",
      "\u001b[35mHomotopy^• category( \u001b[0m\u001b[32mFull additive subcategory generated by projective objects( \u001b[0mFunctorCategory( \u001b[34mAlgebroid( \u001b[0m(Q * q_𝓞_op) / [ 1*(y1*x0) - 1*(y0*x1), 1*(y2*x0) - 1*(y0*x2), 1*(y2*x1) - 1*(y1*x2) ]\u001b[34m )\u001b[0m, Category of matrices over Q )\u001b[32m )\u001b[0m\u001b[35m )\u001b[0m\n",
      "\u001b[1m\u001b[31m  |\n",
      "  V\u001b[0m\n",
      "\u001b[34mHomotopy^• category( \u001b[0mAdditive closure( \u001b[33mAlgebroid( \u001b[0m(Q * q_𝓞) / [ -1*(x1*y0) + 1*(x0*y1), -1*(x2*y0) + 1*(x0*y2), -1*(x2*y1) + 1*(x1*y2) ]\u001b[33m )\u001b[0m )\u001b[34m )\u001b[0m\n"
     ]
    }
   ],
   "source": [
    "Display( KDec )"
   ]
  },
  {
   "cell_type": "code",
   "execution_count": 39,
   "id": "d4feb225",
   "metadata": {},
   "outputs": [
    {
     "name": "stdout",
     "output_type": "stream",
     "text": [
      "1: PreComposition of the following two functors:\n",
      "     * Apply ExtendFunctorToHomotopyCategoriesByCochains on ( The inclusion functor )\n",
      "     * The natural localization functor\n"
     ]
    }
   ],
   "source": [
    "KnownFunctors( K𝐀_𝓞proj, D𝐀_𝓞 )"
   ]
  },
  {
   "cell_type": "code",
   "execution_count": 40,
   "id": "2d8129b6",
   "metadata": {},
   "outputs": [
    {
     "data": {
      "text/plain": [
       "GAP: Composition of Extension of ( The inclusion functor ) to homotopy categories and Localization functor in derived category"
      ]
     },
     "execution_count": 40,
     "metadata": {},
     "output_type": "execute_result"
    }
   ],
   "source": [
    "V = Functor( K𝐀_𝓞proj, D𝐀_𝓞, 1 )"
   ]
  },
  {
   "cell_type": "code",
   "execution_count": 41,
   "id": "5d83e8dc",
   "metadata": {},
   "outputs": [
    {
     "name": "stdout",
     "output_type": "stream",
     "text": [
      "1: Universal functor from derived category\n"
     ]
    }
   ],
   "source": [
    "KnownFunctors( D𝐀_𝓞, K𝐀_𝓞proj )"
   ]
  },
  {
   "cell_type": "code",
   "execution_count": 42,
   "id": "b70497cf",
   "metadata": {},
   "outputs": [
    {
     "data": {
      "text/plain": [
       "GAP: Universal functor from derived category onto a localization category"
      ]
     },
     "execution_count": 42,
     "metadata": {},
     "output_type": "execute_result"
    }
   ],
   "source": [
    "U = Functor( D𝐀_𝓞, K𝐀_𝓞proj, 1 )"
   ]
  },
  {
   "cell_type": "code",
   "execution_count": 43,
   "id": "568e853d",
   "metadata": {},
   "outputs": [],
   "source": [
    "J = PreCompose( KYadd, V );"
   ]
  },
  {
   "cell_type": "code",
   "execution_count": 44,
   "id": "dcdaf86d",
   "metadata": {},
   "outputs": [
    {
     "name": "stdout",
     "output_type": "stream",
     "text": [
      "Composition of Extension of ( Yoneda embedding ) to homotopy categories and Composition of Extension of ( The inclusion functor ) to homotopy categories and Localization functor in derived category\u001b[1m\u001b[31m:\u001b[0m\n",
      "\n",
      "\u001b[34mHomotopy^• category( \u001b[0mAdditive closure( \u001b[33mAlgebroid( \u001b[0m(Q * q_𝓞) / [ -1*(x1*y0) + 1*(x0*y1), -1*(x2*y0) + 1*(x0*y2), -1*(x2*y1) + 1*(x1*y2) ]\u001b[33m )\u001b[0m )\u001b[34m )\u001b[0m\n",
      "\u001b[1m\u001b[31m  |\n",
      "  V\u001b[0m\n",
      "\u001b[35mDerived^• category(\u001b[0m FunctorCategory( \u001b[34mAlgebroid( \u001b[0m(Q * q_𝓞_op) / [ 1*(y1*x0) - 1*(y0*x1), 1*(y2*x0) - 1*(y0*x2), 1*(y2*x1) - 1*(y1*x2) ]\u001b[34m )\u001b[0m, Category of matrices over Q ) \u001b[35m)\u001b[0m\n"
     ]
    }
   ],
   "source": [
    "Display( J )"
   ]
  },
  {
   "cell_type": "code",
   "execution_count": 45,
   "id": "d0030a78",
   "metadata": {},
   "outputs": [
    {
     "data": {
      "text/plain": [
       "GAP: Equivalence functor from homotopy category onto derived category"
      ]
     },
     "execution_count": 45,
     "metadata": {},
     "output_type": "execute_result"
    }
   ],
   "source": [
    "J = EquivalenceOntoDerivedCategory( K𝐀_𝓞add )"
   ]
  },
  {
   "cell_type": "code",
   "execution_count": 46,
   "id": "2482e5c0",
   "metadata": {},
   "outputs": [
    {
     "name": "stdout",
     "output_type": "stream",
     "text": [
      "Equivalence functor from homotopy category onto derived category\u001b[1m\u001b[31m:\u001b[0m\n",
      "\n",
      "\u001b[34mHomotopy^• category( \u001b[0mAdditive closure( \u001b[33mAlgebroid( \u001b[0m(Q * q_𝓞) / [ -1*(x1*y0) + 1*(x0*y1), -1*(x2*y0) + 1*(x0*y2), -1*(x2*y1) + 1*(x1*y2) ]\u001b[33m )\u001b[0m )\u001b[34m )\u001b[0m\n",
      "\u001b[1m\u001b[31m  |\n",
      "  V\u001b[0m\n",
      "\u001b[35mDerived^• category(\u001b[0m FunctorCategory( \u001b[34mAlgebroid( \u001b[0m(Q * q_𝓞_op) / [ 1*(y1*x0) - 1*(y0*x1), 1*(y2*x0) - 1*(y0*x2), 1*(y2*x1) - 1*(y1*x2) ]\u001b[34m )\u001b[0m, Category of matrices over Q ) \u001b[35m)\u001b[0m\n"
     ]
    }
   ],
   "source": [
    "Display( J )"
   ]
  },
  {
   "cell_type": "code",
   "execution_count": 47,
   "id": "947bc816",
   "metadata": {},
   "outputs": [
    {
     "data": {
      "text/plain": [
       "GAP: <An object in Additive closure( \u001b[33mAlgebroid( \u001b[0m(Q * q_𝓞) / [ -1*(x1*y0) + 1*(x0*y1), -1*(x2*y0) + 1*(x0*y2), -1*(x2*y1) + 1*(x1*y2) ]\u001b[33m )\u001b[0m ) defined by 1 underlying objects>"
      ]
     },
     "execution_count": 47,
     "metadata": {},
     "output_type": "execute_result"
    }
   ],
   "source": [
    "Ω2_0 = [ 𝐀_𝓞.\"𝓞0\", 𝐀_𝓞.\"𝓞0\", 𝐀_𝓞.\"𝓞0\" ] / 𝐀_𝓞add;\n",
    "Ω2_1 = [ 𝐀_𝓞.\"𝓞1\", 𝐀_𝓞.\"𝓞1\", 𝐀_𝓞.\"𝓞1\" ] / 𝐀_𝓞add;\n",
    "Ω2_2 = [ 𝐀_𝓞.\"𝓞2\" ] / 𝐀_𝓞add"
   ]
  },
  {
   "cell_type": "code",
   "execution_count": 48,
   "id": "74283f98",
   "metadata": {},
   "outputs": [
    {
     "data": {
      "text/plain": [
       "GAP: <A morphism in Additive closure( \u001b[33mAlgebroid( \u001b[0m(Q * q_𝓞) / [ -1*(x1*y0) + 1*(x0*y1), -1*(x2*y0) + 1*(x0*y2), -1*(x2*y1) + 1*(x1*y2) ]\u001b[33m )\u001b[0m ) defined by a 3 x 1 matrix of underlying morphisms>"
      ]
     },
     "execution_count": 48,
     "metadata": {},
     "output_type": "execute_result"
    }
   ],
   "source": [
    "∂_0 = AdditiveClosureMorphism(\n",
    "    Ω2_0,\n",
    "    [ [ 𝐀_𝓞.\"x1\", -𝐀_𝓞.\"x0\", ZeroMorphism(𝐀_𝓞.\"𝓞0\", 𝐀_𝓞.\"𝓞1\") ],\n",
    "      [ 𝐀_𝓞.\"x2\", ZeroMorphism(𝐀_𝓞.\"𝓞0\", 𝐀_𝓞.\"𝓞1\"), -𝐀_𝓞.\"x0\" ],\n",
    "      [ ZeroMorphism(𝐀_𝓞.\"𝓞0\", 𝐀_𝓞.\"𝓞1\"), 𝐀_𝓞.\"x2\", -𝐀_𝓞.\"x1\" ] ],\n",
    "    Ω2_1 );\n",
    "\n",
    "∂_1 = AdditiveClosureMorphism(\n",
    "    Ω2_1,\n",
    "    [ [ 𝐀_𝓞.\"y0\" ],\n",
    "      [ 𝐀_𝓞.\"y1\" ],\n",
    "      [ 𝐀_𝓞.\"y2\" ] ],\n",
    "    Ω2_2 )"
   ]
  },
  {
   "cell_type": "code",
   "execution_count": 49,
   "id": "1691e613",
   "metadata": {},
   "outputs": [
    {
     "data": {
      "text/plain": [
       "GAP: <An object in \u001b[34mHomotopy^• category( \u001b[0mAdditive closure( \u001b[33mAlgebroid( \u001b[0m(Q * q_𝓞) / [ -1*(x1*y0) + 1*(x0*y1), -1*(x2*y0) + 1*(x0*y2), -1*(x2*y1) + 1*(x1*y2) ]\u001b[33m )\u001b[0m )\u001b[34m )\u001b[0m with active lower bound 0 and active upper bound 2>"
      ]
     },
     "execution_count": 49,
     "metadata": {},
     "output_type": "execute_result"
    }
   ],
   "source": [
    "Ω2 = [ [ ∂_0, ∂_1 ], 0 ] / K𝐀_𝓞add"
   ]
  },
  {
   "cell_type": "code",
   "execution_count": 50,
   "id": "bbddcd67",
   "metadata": {},
   "outputs": [
    {
     "data": {
      "text/plain": [
       "GAP: <An object in Additive closure( \u001b[33mAlgebroid( \u001b[0m(Q * q_𝓞) / [ -1*(x1*y0) + 1*(x0*y1), -1*(x2*y0) + 1*(x0*y2), -1*(x2*y1) + 1*(x1*y2) ]\u001b[33m )\u001b[0m ) defined by 1 underlying objects>"
      ]
     },
     "execution_count": 50,
     "metadata": {},
     "output_type": "execute_result"
    }
   ],
   "source": [
    "Ω1_0 = [ 𝐀_𝓞.\"𝓞0\", 𝐀_𝓞.\"𝓞0\", 𝐀_𝓞.\"𝓞0\" ] / 𝐀_𝓞add;\n",
    "Ω1_1 = [ 𝐀_𝓞.\"𝓞1\"] / 𝐀_𝓞add"
   ]
  },
  {
   "cell_type": "code",
   "execution_count": 51,
   "id": "cc4cb406",
   "metadata": {},
   "outputs": [
    {
     "data": {
      "text/plain": [
       "GAP: <A morphism in Additive closure( \u001b[33mAlgebroid( \u001b[0m(Q * q_𝓞) / [ -1*(x1*y0) + 1*(x0*y1), -1*(x2*y0) + 1*(x0*y2), -1*(x2*y1) + 1*(x1*y2) ]\u001b[33m )\u001b[0m ) defined by a 3 x 1 matrix of underlying morphisms>"
      ]
     },
     "execution_count": 51,
     "metadata": {},
     "output_type": "execute_result"
    }
   ],
   "source": [
    "∂_0 = AdditiveClosureMorphism(\n",
    "    Ω1_0,\n",
    "    [ [ 𝐀_𝓞.\"x0\" ],\n",
    "      [ 𝐀_𝓞.\"x1\" ],\n",
    "      [ 𝐀_𝓞.\"x2\" ] ],\n",
    "    Ω1_1 )"
   ]
  },
  {
   "cell_type": "code",
   "execution_count": 52,
   "id": "6778cc17",
   "metadata": {},
   "outputs": [
    {
     "data": {
      "text/plain": [
       "GAP: <An object in \u001b[34mHomotopy^• category( \u001b[0mAdditive closure( \u001b[33mAlgebroid( \u001b[0m(Q * q_𝓞) / [ -1*(x1*y0) + 1*(x0*y1), -1*(x2*y0) + 1*(x0*y2), -1*(x2*y1) + 1*(x1*y2) ]\u001b[33m )\u001b[0m )\u001b[34m )\u001b[0m with active lower bound 0 and active upper bound 1>"
      ]
     },
     "execution_count": 52,
     "metadata": {},
     "output_type": "execute_result"
    }
   ],
   "source": [
    "Ω1 = [ [ ∂_0 ], 0 ] / K𝐀_𝓞add"
   ]
  },
  {
   "cell_type": "code",
   "execution_count": 53,
   "id": "3ff405d3",
   "metadata": {},
   "outputs": [
    {
     "data": {
      "text/plain": [
       "GAP: <An object in \u001b[34mHomotopy^• category( \u001b[0mAdditive closure( \u001b[33mAlgebroid( \u001b[0m(Q * q_𝓞) / [ -1*(x1*y0) + 1*(x0*y1), -1*(x2*y0) + 1*(x0*y2), -1*(x2*y1) + 1*(x1*y2) ]\u001b[33m )\u001b[0m )\u001b[34m )\u001b[0m with active lower bound 0 and active upper bound 0>"
      ]
     },
     "execution_count": 53,
     "metadata": {},
     "output_type": "execute_result"
    }
   ],
   "source": [
    "Ω0 = [ 𝐀_𝓞.\"𝓞0\" ] / 𝐀_𝓞add / K𝐀_𝓞add"
   ]
  },
  {
   "cell_type": "code",
   "execution_count": 54,
   "id": "a126b2a5",
   "metadata": {},
   "outputs": [
    {
     "data": {
      "text/plain": [
       "GAP: <A strong exceptional collection defined by the objects of The full subcategory { Ω2, Ω1, Ω0 }>"
      ]
     },
     "execution_count": 54,
     "metadata": {},
     "output_type": "execute_result"
    }
   ],
   "source": [
    "Ω = CreateStrongExceptionalCollection(\n",
    "    [ Ω2, Ω1, Ω0 ],\n",
    "    [ \"Ω2\", \"Ω1\", \"Ω0\" ],\n",
    "    [ \"\\\\Omega^2(2)\", \"\\\\Omega^1(1)\", \"\\\\Omega^0(0)\" ] )"
   ]
  },
  {
   "cell_type": "code",
   "execution_count": 55,
   "id": "aea2dd2c",
   "metadata": {},
   "outputs": [
    {
     "data": {
      "text/plain": [
       "GAP: <An object in \u001b[34mHomotopy^• category( \u001b[0mAdditive closure( \u001b[33mAlgebroid( \u001b[0m(Q * q_𝓞) / [ -1*(x1*y0) + 1*(x0*y1), -1*(x2*y0) + 1*(x0*y2), -1*(x2*y1) + 1*(x1*y2) ]\u001b[33m )\u001b[0m )\u001b[34m )\u001b[0m with active lower bound 0 and active upper bound 2>"
      ]
     },
     "execution_count": 55,
     "metadata": {},
     "output_type": "execute_result"
    }
   ],
   "source": [
    "T_Ω = DirectSum( Ω )"
   ]
  },
  {
   "cell_type": "code",
   "execution_count": 56,
   "id": "959d8e2f",
   "metadata": {},
   "outputs": [
    {
     "data": {
      "text/latex": [
       "$$\\begin{array}{c}\n",
       " {\\mathcal{O}(2)}\n",
       " \\\\ \n",
       " { \\color{black}\\uparrow_{\\phantom{1}}} \n",
       " \\\\ \n",
       " \\begin{pmatrix}{y_0}\\\\ \n",
       "{y_1}\\\\ \n",
       "{y_2}\\\\ \n",
       "0\\end{pmatrix}\n",
       " \\\\ \n",
       " { \\color{black}\\vert_{1}} \n",
       " \n",
       " \\\\ \n",
       "{\\mathcal{O}(1)}^{\\oplus 4}\\\\ \n",
       " { \\color{black}\\uparrow_{\\phantom{0}}} \n",
       " \\\\ \n",
       " \\begin{pmatrix}{x_2}&-{x_1}&0&0\\\\ \n",
       "{x_3}&0&-{x_1}&0\\\\ \n",
       "0&{x_3}&-{x_2}&0\\\\ \n",
       "0&0&0&{x_1}\\\\ \n",
       "0&0&0&{x_2}\\\\ \n",
       "0&0&0&{x_3}\\\\ \n",
       "0&0&0&0\\end{pmatrix}\n",
       " \\\\ \n",
       " { \\color{black}\\vert_{0}} \n",
       " \n",
       " \\\\ \n",
       "{\\mathcal{O}(0)}^{\\oplus 7}\\end{array}$$"
      ]
     },
     "metadata": {},
     "output_type": "display_data"
    }
   ],
   "source": [
    "Show( T_Ω )"
   ]
  },
  {
   "cell_type": "code",
   "execution_count": 57,
   "id": "68a39658",
   "metadata": {},
   "outputs": [
    {
     "data": {
      "text/plain": [
       "true"
      ]
     },
     "execution_count": 57,
     "metadata": {},
     "output_type": "execute_result"
    }
   ],
   "source": [
    "Dimension( HomStructure( Ω2, Ω2 ) ) == 1 &&\n",
    "    Dimension( HomStructure( Ω1, Ω1 ) ) == 1 &&\n",
    "    Dimension( HomStructure( Ω0, Ω0 ) ) == 1"
   ]
  },
  {
   "cell_type": "code",
   "execution_count": 58,
   "id": "bbc10e3b",
   "metadata": {},
   "outputs": [
    {
     "data": {
      "text/plain": [
       "true"
      ]
     },
     "execution_count": 58,
     "metadata": {},
     "output_type": "execute_result"
    }
   ],
   "source": [
    "IsZero( HomStructure( Ω0, Ω1 ) ) &&\n",
    "    IsZero( HomStructure( Ω1, Ω2 ) ) &&\n",
    "    IsZero( HomStructure( Ω0, Ω2 ) )"
   ]
  },
  {
   "cell_type": "code",
   "execution_count": 59,
   "id": "187cce3e",
   "metadata": {},
   "outputs": [
    {
     "data": {
      "text/plain": [
       "true"
      ]
     },
     "execution_count": 59,
     "metadata": {},
     "output_type": "execute_result"
    }
   ],
   "source": [
    "IsZero( HomStructure( T_Ω, Shift( T_Ω, -2 ) ) ) &&\n",
    "    IsZero( HomStructure( T_Ω, Shift( T_Ω, -1 ) ) ) &&\n",
    "    IsZero( HomStructure( T_Ω, Shift( T_Ω, 1 ) ) ) &&\n",
    "    IsZero( HomStructure( T_Ω, Shift( T_Ω, 2 ) ) )"
   ]
  },
  {
   "cell_type": "code",
   "execution_count": 60,
   "id": "143cf183",
   "metadata": {},
   "outputs": [
    {
     "data": {
      "text/plain": [
       "GAP: <A vector space object over Q of dimension 12>"
      ]
     },
     "execution_count": 60,
     "metadata": {},
     "output_type": "execute_result"
    }
   ],
   "source": [
    "##\n",
    "HomStructure( T_Ω, T_Ω )"
   ]
  },
  {
   "cell_type": "code",
   "execution_count": 61,
   "id": "7874f727",
   "metadata": {},
   "outputs": [
    {
     "data": {
      "text/plain": [
       "GAP: <An object in \u001b[35mDerived^• category(\u001b[0m FunctorCategory( \u001b[34mAlgebroid( \u001b[0m(Q * q_𝓞_op) / [ 1*(y1*x0) - 1*(y0*x1), 1*(y2*x0) - 1*(y0*x2), 1*(y2*x1) - 1*(y1*x2) ]\u001b[34m )\u001b[0m, Category of matrices over Q ) \u001b[35m)\u001b[0m with active lower bound 0 and active upper bound 2>"
      ]
     },
     "execution_count": 61,
     "metadata": {},
     "output_type": "execute_result"
    }
   ],
   "source": [
    "JΩ2 = ApplyFunctor( J, Ω2 )"
   ]
  },
  {
   "cell_type": "code",
   "execution_count": 62,
   "id": "e306ec1b",
   "metadata": {},
   "outputs": [
    {
     "data": {
      "text/plain": [
       "GAP: [ 2 ]"
      ]
     },
     "execution_count": 62,
     "metadata": {},
     "output_type": "execute_result"
    }
   ],
   "source": [
    "CohomologySupport( JΩ2 )"
   ]
  },
  {
   "cell_type": "code",
   "execution_count": 63,
   "id": "11995f6e",
   "metadata": {},
   "outputs": [
    {
     "data": {
      "text/plain": [
       "GAP: <(𝓞0)->0, (𝓞1)->0, (𝓞2)->1; (x0)->0x0, (x1)->0x0, (x2)->0x0, (y0)->1x0, (y1)->1x0, (y2)->1x0>"
      ]
     },
     "execution_count": 63,
     "metadata": {},
     "output_type": "execute_result"
    }
   ],
   "source": [
    "H2 = CohomologyAt( JΩ2, 2 )"
   ]
  },
  {
   "cell_type": "code",
   "execution_count": 64,
   "id": "8cebf4ab",
   "metadata": {},
   "outputs": [
    {
     "data": {
      "text/latex": [
       "$$\\begin{array}{ccc}\n",
       " \\mathcal{O}(0) & \\mapsto & {\\mathbb{Q}}^{1\\times 0} \\\\ \\mathcal{O}(1) & \\mapsto & {\\mathbb{Q}}^{1\\times 0} \\\\ \\mathcal{O}(2) & \\mapsto & {\\mathbb{Q}}^{1\\times 1} \\\\ \\hline & & \\\\{x_1} & \\mapsto & ()_{0 \\times 0} \\\\ & & \\\\{x_2} & \\mapsto & ()_{0 \\times 0} \\\\ & & \\\\{x_3} & \\mapsto & ()_{0 \\times 0} \\\\ & & \\\\{y_0} & \\mapsto & ()_{1 \\times 0} \\\\ & & \\\\{y_1} & \\mapsto & ()_{1 \\times 0} \\\\ & & \\\\{y_2} & \\mapsto & ()_{1 \\times 0} \\\\ & & \\\\\\end{array}$$"
      ]
     },
     "metadata": {},
     "output_type": "display_data"
    }
   ],
   "source": [
    "Show( H2 )"
   ]
  },
  {
   "cell_type": "code",
   "execution_count": 65,
   "id": "b5118f72",
   "metadata": {},
   "outputs": [
    {
     "data": {
      "text/plain": [
       "GAP: <An object in \u001b[35mDerived^• category(\u001b[0m FunctorCategory( \u001b[34mAlgebroid( \u001b[0m(Q * q_𝓞_op) / [ 1*(y1*x0) - 1*(y0*x1), 1*(y2*x0) - 1*(y0*x2), 1*(y2*x1) - 1*(y1*x2) ]\u001b[34m )\u001b[0m, Category of matrices over Q ) \u001b[35m)\u001b[0m with active lower bound 0 and active upper bound 1>"
      ]
     },
     "execution_count": 65,
     "metadata": {},
     "output_type": "execute_result"
    }
   ],
   "source": [
    "JΩ1 = ApplyFunctor( J, Ω1 )"
   ]
  },
  {
   "cell_type": "code",
   "execution_count": 66,
   "id": "70ca8459",
   "metadata": {},
   "outputs": [
    {
     "data": {
      "text/plain": [
       "GAP: [ 1 ]"
      ]
     },
     "execution_count": 66,
     "metadata": {},
     "output_type": "execute_result"
    }
   ],
   "source": [
    "CohomologySupport( JΩ1 )"
   ]
  },
  {
   "cell_type": "code",
   "execution_count": 67,
   "id": "3bc559ba",
   "metadata": {},
   "outputs": [
    {
     "data": {
      "text/plain": [
       "GAP: <(𝓞0)->0, (𝓞1)->1, (𝓞2)->0; (x0)->1x0, (x1)->1x0, (x2)->1x0, (y0)->0x1, (y1)->0x1, (y2)->0x1>"
      ]
     },
     "execution_count": 67,
     "metadata": {},
     "output_type": "execute_result"
    }
   ],
   "source": [
    "H1 = CohomologyAt( JΩ1, 1 )"
   ]
  },
  {
   "cell_type": "code",
   "execution_count": 68,
   "id": "5c2a152f",
   "metadata": {},
   "outputs": [
    {
     "data": {
      "text/latex": [
       "$$\\begin{array}{ccc}\n",
       " \\mathcal{O}(0) & \\mapsto & {\\mathbb{Q}}^{1\\times 0} \\\\ \\mathcal{O}(1) & \\mapsto & {\\mathbb{Q}}^{1\\times 1} \\\\ \\mathcal{O}(2) & \\mapsto & {\\mathbb{Q}}^{1\\times 0} \\\\ \\hline & & \\\\{x_1} & \\mapsto & ()_{1 \\times 0} \\\\ & & \\\\{x_2} & \\mapsto & ()_{1 \\times 0} \\\\ & & \\\\{x_3} & \\mapsto & ()_{1 \\times 0} \\\\ & & \\\\{y_0} & \\mapsto & ()_{0 \\times 1} \\\\ & & \\\\{y_1} & \\mapsto & ()_{0 \\times 1} \\\\ & & \\\\{y_2} & \\mapsto & ()_{0 \\times 1} \\\\ & & \\\\\\end{array}$$"
      ]
     },
     "metadata": {},
     "output_type": "display_data"
    }
   ],
   "source": [
    "Show( H1 )"
   ]
  },
  {
   "cell_type": "code",
   "execution_count": 69,
   "id": "918e6cee",
   "metadata": {},
   "outputs": [
    {
     "data": {
      "text/plain": [
       "GAP: <An object in \u001b[35mDerived^• category(\u001b[0m FunctorCategory( \u001b[34mAlgebroid( \u001b[0m(Q * q_𝓞_op) / [ 1*(y1*x0) - 1*(y0*x1), 1*(y2*x0) - 1*(y0*x2), 1*(y2*x1) - 1*(y1*x2) ]\u001b[34m )\u001b[0m, Category of matrices over Q ) \u001b[35m)\u001b[0m with active lower bound 0 and active upper bound 0>"
      ]
     },
     "execution_count": 69,
     "metadata": {},
     "output_type": "execute_result"
    }
   ],
   "source": [
    "JΩ0 = ApplyFunctor( J, Ω0 )"
   ]
  },
  {
   "cell_type": "code",
   "execution_count": 70,
   "id": "f611dc3c",
   "metadata": {},
   "outputs": [
    {
     "data": {
      "text/plain": [
       "GAP: [ 0 ]"
      ]
     },
     "execution_count": 70,
     "metadata": {},
     "output_type": "execute_result"
    }
   ],
   "source": [
    "CohomologySupport( JΩ0 )"
   ]
  },
  {
   "cell_type": "code",
   "execution_count": 71,
   "id": "d5233f29",
   "metadata": {},
   "outputs": [
    {
     "data": {
      "text/plain": [
       "GAP: <(𝓞0)->1, (𝓞1)->0, (𝓞2)->0; (x0)->0x1, (x1)->0x1, (x2)->0x1, (y0)->0x0, (y1)->0x0, (y2)->0x0>"
      ]
     },
     "execution_count": 71,
     "metadata": {},
     "output_type": "execute_result"
    }
   ],
   "source": [
    "H0 = CohomologyAt( JΩ0, 0 )"
   ]
  },
  {
   "cell_type": "code",
   "execution_count": 72,
   "id": "1a375cc1",
   "metadata": {},
   "outputs": [
    {
     "data": {
      "text/latex": [
       "$$\\begin{array}{ccc}\n",
       " \\mathcal{O}(0) & \\mapsto & {\\mathbb{Q}}^{1\\times 1} \\\\ \\mathcal{O}(1) & \\mapsto & {\\mathbb{Q}}^{1\\times 0} \\\\ \\mathcal{O}(2) & \\mapsto & {\\mathbb{Q}}^{1\\times 0} \\\\ \\hline & & \\\\{x_1} & \\mapsto & ()_{0 \\times 1} \\\\ & & \\\\{x_2} & \\mapsto & ()_{0 \\times 1} \\\\ & & \\\\{x_3} & \\mapsto & ()_{0 \\times 1} \\\\ & & \\\\{y_0} & \\mapsto & ()_{0 \\times 0} \\\\ & & \\\\{y_1} & \\mapsto & ()_{0 \\times 0} \\\\ & & \\\\{y_2} & \\mapsto & ()_{0 \\times 0} \\\\ & & \\\\\\end{array}$$"
      ]
     },
     "metadata": {},
     "output_type": "display_data"
    }
   ],
   "source": [
    "Show( H0 )"
   ]
  },
  {
   "cell_type": "code",
   "execution_count": 73,
   "id": "c4334c50",
   "metadata": {},
   "outputs": [
    {
     "data": {
      "text/plain": [
       "GAP: \u001b[34mAlgebroid(\u001b[0m end( Ω2 ⊕ Ω1 ⊕ Ω0 ) \u001b[34m)\u001b[0m"
      ]
     },
     "execution_count": 73,
     "metadata": {},
     "output_type": "execute_result"
    }
   ],
   "source": [
    "𝐀_Ω = Algebroid( Ω )"
   ]
  },
  {
   "cell_type": "code",
   "execution_count": 74,
   "id": "c0e12a69",
   "metadata": {},
   "outputs": [
    {
     "data": {
      "text/plain": [
       "GAP: quiver(Ω2,Ω1,Ω0)[m1_2_1:Ω2->Ω1,m1_2_2:Ω2->Ω1,m1_2_3:Ω2->Ω1,m2_3_1:Ω1->Ω0,m2_3_2:Ω1->Ω0,m2_3_3:Ω1->Ω0]"
      ]
     },
     "execution_count": 74,
     "metadata": {},
     "output_type": "execute_result"
    }
   ],
   "source": [
    "q_Ω = UnderlyingQuiver( 𝐀_Ω )"
   ]
  },
  {
   "cell_type": "code",
   "execution_count": 75,
   "id": "90993dc2",
   "metadata": {},
   "outputs": [
    {
     "data": {
      "text/plain": [
       "GAP: [ (Ω2)-[1*(m1_2_1*m2_3_1)]->(Ω0), (Ω2)-[1*(m1_2_2*m2_3_1) + 1*(m1_2_1*m2_3_2)]->(Ω0), (Ω2)-[1*(m1_2_2*m2_3_2)]->(Ω0), (Ω2)-[1*(m1_2_3*m2_3_1) + 1*(m1_2_1*m2_3_3)]->(Ω0), (Ω2)-[1*(m1_2_3*m2_3_2) + 1*(m1_2_2*m2_3_3)]->(Ω0), (Ω2)-[1*(m1_2_3*m2_3_3)]->(Ω0) ]"
      ]
     },
     "execution_count": 75,
     "metadata": {},
     "output_type": "execute_result"
    }
   ],
   "source": [
    "ρ_Ω = RelationsOfAlgebroid( 𝐀_Ω )"
   ]
  },
  {
   "cell_type": "code",
   "execution_count": 76,
   "id": "8e2be7ea",
   "metadata": {},
   "outputs": [
    {
     "data": {
      "text/plain": [
       "GAP: The full subcategory { Ω2, Ω1, Ω0 }"
      ]
     },
     "execution_count": 76,
     "metadata": {},
     "output_type": "execute_result"
    }
   ],
   "source": [
    "𝐂_Ω = FullSubcategory( Ω )"
   ]
  },
  {
   "cell_type": "code",
   "execution_count": 77,
   "id": "a5217bf9",
   "metadata": {},
   "outputs": [
    {
     "data": {
      "text/plain": [
       "GAP: Abstraction isomorphism"
      ]
     },
     "execution_count": 77,
     "metadata": {},
     "output_type": "execute_result"
    }
   ],
   "source": [
    "abs = IsomorphismOntoAlgebroid( Ω )"
   ]
  },
  {
   "cell_type": "code",
   "execution_count": 78,
   "id": "7f64dfd9",
   "metadata": {},
   "outputs": [
    {
     "data": {
      "text/plain": [
       "GAP: Realization isomorphism"
      ]
     },
     "execution_count": 78,
     "metadata": {},
     "output_type": "execute_result"
    }
   ],
   "source": [
    "rel = IsomorphismFromAlgebroid( Ω )"
   ]
  },
  {
   "cell_type": "code",
   "execution_count": 79,
   "id": "40032394",
   "metadata": {},
   "outputs": [
    {
     "data": {
      "text/plain": [
       "GAP: (Ω2)-[{ 1*(m1_2_1) }]->(Ω1)"
      ]
     },
     "execution_count": 79,
     "metadata": {},
     "output_type": "execute_result"
    }
   ],
   "source": [
    "m = 𝐀_Ω.\"m1_2_1\""
   ]
  },
  {
   "cell_type": "code",
   "execution_count": 80,
   "id": "d1a979ea",
   "metadata": {},
   "outputs": [
    {
     "data": {
      "text/plain": [
       "GAP: A morphism in full subcategory given by: <A morphism in \u001b[34mHomotopy^• category( \u001b[0mAdditive closure( \u001b[33mAlgebroid( \u001b[0m(Q * q_𝓞) / [ -1*(x1*y0) + 1*(x0*y1), -1*(x2*y0) + 1*(x0*y2), -1*(x2*y1) + 1*(x1*y2) ]\u001b[33m )\u001b[0m )\u001b[34m )\u001b[0m with active lower bound 0 and active upper bound 1>"
      ]
     },
     "execution_count": 80,
     "metadata": {},
     "output_type": "execute_result"
    }
   ],
   "source": [
    "rel_m = ApplyFunctor( rel, m )"
   ]
  },
  {
   "cell_type": "code",
   "execution_count": 81,
   "id": "f26a41cc",
   "metadata": {},
   "outputs": [
    {
     "data": {
      "text/latex": [
       "$$\\begin{array}{ccc}\n",
       " {\\mathcal{O}(2)}&-\\phantom{-}{\\begin{pmatrix}\\\\\\end{pmatrix}}\\phantom{-}\\rightarrow&0\n",
       " \\\\ \n",
       " \\uparrow_{\\phantom{1}}&& \n",
       " \\uparrow_{\\phantom{1}}\n",
       " \\\\ \n",
       " \\begin{pmatrix}{y_0}\\\\ \n",
       "{y_1}\\\\ \n",
       "{y_2}\\end{pmatrix}&&\\begin{pmatrix}\\\\\\end{pmatrix}\n",
       " \\\\ \n",
       " \\vert_{1} &&\\vert_{1} \n",
       " \\\\ \n",
       " {\\mathcal{O}(1)}^{\\oplus 3}&-\\phantom{-}{\\begin{pmatrix}{\\mathcal{O}(1)}\\\\ \n",
       "0\\\\ \n",
       "0\\end{pmatrix}}\\phantom{-}\\rightarrow&{\\mathcal{O}(1)}\n",
       " \\\\ \n",
       "  \\uparrow_{\\phantom{0}}&& \n",
       " \\uparrow_{\\phantom{0}}\n",
       " \\\\ \n",
       " \\begin{pmatrix}{x_2}&-{x_1}&0\\\\ \n",
       "{x_3}&0&-{x_1}\\\\ \n",
       "0&{x_3}&-{x_2}\\end{pmatrix}&&\\begin{pmatrix}{x_1}\\\\ \n",
       "{x_2}\\\\ \n",
       "{x_3}\\end{pmatrix}\n",
       " \\\\ \n",
       " \\vert_{0} &&\\vert_{0} \n",
       " \\\\ \n",
       " {\\mathcal{O}(0)}^{\\oplus 3}&-\\phantom{-}{\\begin{pmatrix}0&{\\mathcal{O}(0)}&0\\\\ \n",
       "0&0&{\\mathcal{O}(0)}\\\\ \n",
       "0&0&0\\end{pmatrix}}\\phantom{-}\\rightarrow&{\\mathcal{O}(0)}^{\\oplus 3}\n",
       " \\\\ \n",
       " \\end{array}$$"
      ]
     },
     "metadata": {},
     "output_type": "display_data"
    }
   ],
   "source": [
    "Show( rel_m )"
   ]
  },
  {
   "cell_type": "code",
   "execution_count": 82,
   "id": "ee401e1a",
   "metadata": {},
   "outputs": [
    {
     "data": {
      "text/plain": [
       "true"
      ]
     },
     "execution_count": 82,
     "metadata": {},
     "output_type": "execute_result"
    }
   ],
   "source": [
    "rel_m == IrreducibleMorphisms( Ω, 1, 2 )[ 1 ]"
   ]
  },
  {
   "cell_type": "code",
   "execution_count": 83,
   "id": "5579b474",
   "metadata": {},
   "outputs": [
    {
     "data": {
      "text/plain": [
       "GAP: The triangulated subcategory generated by {Ω2, Ω1, Ω0}"
      ]
     },
     "execution_count": 83,
     "metadata": {},
     "output_type": "execute_result"
    }
   ],
   "source": [
    "𝐓_Ω = TriangulatedSubcategory( Ω )"
   ]
  },
  {
   "cell_type": "code",
   "execution_count": 84,
   "id": "9d4e6154",
   "metadata": {},
   "outputs": [
    {
     "data": {
      "text/plain": [
       "GAP: <An object in \u001b[34mHomotopy^• category( \u001b[0mAdditive closure( \u001b[33mAlgebroid( \u001b[0m(Q * q_𝓞) / [ -1*(x1*y0) + 1*(x0*y1), -1*(x2*y0) + 1*(x0*y2), -1*(x2*y1) + 1*(x1*y2) ]\u001b[33m )\u001b[0m )\u001b[34m )\u001b[0m with active lower bound 0 and active upper bound 0>"
      ]
     },
     "execution_count": 84,
     "metadata": {},
     "output_type": "execute_result"
    }
   ],
   "source": [
    "𝓞0 = [ 𝐀_𝓞.\"𝓞0\" ] / 𝐀_𝓞add / K𝐀_𝓞add"
   ]
  },
  {
   "cell_type": "code",
   "execution_count": 85,
   "id": "19989732",
   "metadata": {},
   "outputs": [
    {
     "data": {
      "text/plain": [
       "true"
      ]
     },
     "execution_count": 85,
     "metadata": {},
     "output_type": "execute_result"
    }
   ],
   "source": [
    "IsWellDefined( 𝓞0 / 𝐓_Ω )"
   ]
  },
  {
   "cell_type": "code",
   "execution_count": 86,
   "id": "e4a53359",
   "metadata": {},
   "outputs": [
    {
     "data": {
      "text/plain": [
       "GAP: <An object in \u001b[34mHomotopy^• category( \u001b[0mAdditive closure( \u001b[33mAlgebroid( \u001b[0m(Q * q_𝓞) / [ -1*(x1*y0) + 1*(x0*y1), -1*(x2*y0) + 1*(x0*y2), -1*(x2*y1) + 1*(x1*y2) ]\u001b[33m )\u001b[0m )\u001b[34m )\u001b[0m with active lower bound 0 and active upper bound 0>"
      ]
     },
     "execution_count": 86,
     "metadata": {},
     "output_type": "execute_result"
    }
   ],
   "source": [
    "𝓞1 = [ 𝐀_𝓞.\"𝓞1\" ] / 𝐀_𝓞add / K𝐀_𝓞add"
   ]
  },
  {
   "cell_type": "code",
   "execution_count": 87,
   "id": "9bd9c2bb",
   "metadata": {},
   "outputs": [
    {
     "data": {
      "text/plain": [
       "true"
      ]
     },
     "execution_count": 87,
     "metadata": {},
     "output_type": "execute_result"
    }
   ],
   "source": [
    "IsWellDefined( 𝓞1 / 𝐓_Ω )"
   ]
  },
  {
   "cell_type": "code",
   "execution_count": 88,
   "id": "a0844e0b",
   "metadata": {},
   "outputs": [
    {
     "data": {
      "text/plain": [
       "GAP: <An object in \u001b[34mHomotopy^• category( \u001b[0mAdditive closure( \u001b[33mAlgebroid( \u001b[0m(Q * q_𝓞) / [ -1*(x1*y0) + 1*(x0*y1), -1*(x2*y0) + 1*(x0*y2), -1*(x2*y1) + 1*(x1*y2) ]\u001b[33m )\u001b[0m )\u001b[34m )\u001b[0m with active lower bound 0 and active upper bound 0>"
      ]
     },
     "execution_count": 88,
     "metadata": {},
     "output_type": "execute_result"
    }
   ],
   "source": [
    "𝓞2 = [ 𝐀_𝓞.\"𝓞2\" ] / 𝐀_𝓞add / K𝐀_𝓞add"
   ]
  },
  {
   "cell_type": "code",
   "execution_count": 89,
   "id": "b6775336",
   "metadata": {},
   "outputs": [
    {
     "data": {
      "text/plain": [
       "true"
      ]
     },
     "execution_count": 89,
     "metadata": {},
     "output_type": "execute_result"
    }
   ],
   "source": [
    "IsWellDefined( 𝓞2 / 𝐓_Ω )"
   ]
  },
  {
   "cell_type": "code",
   "execution_count": 90,
   "id": "a66b9c0e",
   "metadata": {},
   "outputs": [
    {
     "data": {
      "text/plain": [
       "GAP: Replacement functor"
      ]
     },
     "execution_count": 90,
     "metadata": {},
     "output_type": "execute_result"
    }
   ],
   "source": [
    "G = ReplacementFunctor( Ω )"
   ]
  },
  {
   "cell_type": "code",
   "execution_count": 91,
   "id": "54a47e92",
   "metadata": {},
   "outputs": [
    {
     "data": {
      "text/plain": [
       "GAP: Convolution functor"
      ]
     },
     "execution_count": 91,
     "metadata": {},
     "output_type": "execute_result"
    }
   ],
   "source": [
    "F = ConvolutionFunctor( Ω )"
   ]
  },
  {
   "cell_type": "code",
   "execution_count": 92,
   "id": "36532210",
   "metadata": {},
   "outputs": [
    {
     "data": {
      "text/plain": [
       "GAP: <An object in \u001b[32mHomotopy^• category( \u001b[0mAdditive closure( The full subcategory { Ω2, Ω1, Ω0 } )\u001b[32m )\u001b[0m with active lower bound 0 and active upper bound 0>"
      ]
     },
     "execution_count": 92,
     "metadata": {},
     "output_type": "execute_result"
    }
   ],
   "source": [
    "G_𝓞0 = ApplyFunctor( G, 𝓞0 )"
   ]
  },
  {
   "cell_type": "code",
   "execution_count": 93,
   "id": "4fbf08de",
   "metadata": {},
   "outputs": [
    {
     "data": {
      "text/plain": [
       "GAP: <An object in \u001b[32mHomotopy^• category( \u001b[0mAdditive closure( The full subcategory { Ω2, Ω1, Ω0 } )\u001b[32m )\u001b[0m with active lower bound -1 and active upper bound 0>"
      ]
     },
     "execution_count": 93,
     "metadata": {},
     "output_type": "execute_result"
    }
   ],
   "source": [
    "G_𝓞1 = ApplyFunctor( G, 𝓞1 )"
   ]
  },
  {
   "cell_type": "code",
   "execution_count": 94,
   "id": "6c0d8601",
   "metadata": {},
   "outputs": [
    {
     "data": {
      "text/plain": [
       "GAP: <An object in \u001b[32mHomotopy^• category( \u001b[0mAdditive closure( The full subcategory { Ω2, Ω1, Ω0 } )\u001b[32m )\u001b[0m with active lower bound -2 and active upper bound 0>"
      ]
     },
     "execution_count": 94,
     "metadata": {},
     "output_type": "execute_result"
    }
   ],
   "source": [
    "G_𝓞2 = ApplyFunctor( G, 𝓞2 )"
   ]
  },
  {
   "cell_type": "code",
   "execution_count": 95,
   "id": "719151d5",
   "metadata": {},
   "outputs": [],
   "source": [
    "abs = ExtendFunctorToAdditiveClosures( abs );\n",
    "abs = ExtendFunctorToHomotopyCategoriesByCochains( abs );"
   ]
  },
  {
   "cell_type": "code",
   "execution_count": 96,
   "id": "9f4e340b",
   "metadata": {},
   "outputs": [
    {
     "data": {
      "text/latex": [
       "$$\\begin{array}{c}\n",
       " {\\Omega^0(0)}\n",
       " \\end{array}$$"
      ]
     },
     "metadata": {},
     "output_type": "display_data"
    }
   ],
   "source": [
    "Show( ApplyFunctor( abs, G_𝓞0 ) )"
   ]
  },
  {
   "cell_type": "code",
   "execution_count": 97,
   "id": "32b1789c",
   "metadata": {},
   "outputs": [
    {
     "data": {
      "text/latex": [
       "$$\\begin{array}{c}\n",
       " {\\Omega^0(0)}^{\\oplus 3}\n",
       " \\\\ \n",
       " { \\color{black}\\uparrow_{\\phantom{-1}}} \n",
       " \\\\ \n",
       " \\begin{pmatrix}-{m_{2,3}^{1}}&-{m_{2,3}^{2}}&-{m_{2,3}^{3}}\\end{pmatrix}\n",
       " \\\\ \n",
       " { \\color{black}\\vert_{-1}} \n",
       " \n",
       " \\\\ \n",
       "{\\Omega^1(1)}\\end{array}$$"
      ]
     },
     "metadata": {},
     "output_type": "display_data"
    }
   ],
   "source": [
    "Show( ApplyFunctor( abs, G_𝓞1 ) )"
   ]
  },
  {
   "cell_type": "code",
   "execution_count": 98,
   "id": "fcfe7b0f",
   "metadata": {},
   "outputs": [
    {
     "data": {
      "text/latex": [
       "$$\\begin{array}{c}\n",
       " {\\Omega^0(0)}^{\\oplus 6}\n",
       " \\\\ \n",
       " { \\color{black}\\uparrow_{\\phantom{-1}}} \n",
       " \\\\ \n",
       " \\begin{pmatrix}-{m_{2,3}^{1}}&-{m_{2,3}^{2}}&-{m_{2,3}^{3}}&0&0&0\\\\ \n",
       "0&-{m_{2,3}^{1}}&0&-{m_{2,3}^{2}}&-{m_{2,3}^{3}}&0\\\\ \n",
       "0&0&-{m_{2,3}^{1}}&0&-{m_{2,3}^{2}}&-{m_{2,3}^{3}}\\end{pmatrix}\n",
       " \\\\ \n",
       " { \\color{black}\\vert_{-1}} \n",
       " \n",
       " \\\\ \n",
       "{\\Omega^1(1)}^{\\oplus 3}\\\\ \n",
       " { \\color{black}\\uparrow_{\\phantom{-2}}} \n",
       " \\\\ \n",
       " \\begin{pmatrix}-{m_{1,2}^{1}}&-{m_{1,2}^{2}}&-{m_{1,2}^{3}}\\end{pmatrix}\n",
       " \\\\ \n",
       " { \\color{black}\\vert_{-2}} \n",
       " \n",
       " \\\\ \n",
       "{\\Omega^2(2)}\\end{array}$$"
      ]
     },
     "metadata": {},
     "output_type": "display_data"
    }
   ],
   "source": [
    "Show( ApplyFunctor( abs, G_𝓞2 ) )"
   ]
  },
  {
   "cell_type": "code",
   "execution_count": 99,
   "id": "382680b3",
   "metadata": {},
   "outputs": [
    {
     "data": {
      "text/plain": [
       "GAP: Conv( Rep( - ) ) => Id"
      ]
     },
     "execution_count": 99,
     "metadata": {},
     "output_type": "execute_result"
    }
   ],
   "source": [
    "ϵ = CounitOfConvolutionReplacementAdjunction( Ω )"
   ]
  },
  {
   "cell_type": "code",
   "execution_count": 100,
   "id": "99c192c9",
   "metadata": {},
   "outputs": [
    {
     "data": {
      "text/plain": [
       "GAP: <A morphism in \u001b[34mHomotopy^• category( \u001b[0mAdditive closure( \u001b[33mAlgebroid( \u001b[0m(Q * q_𝓞) / [ -1*(x1*y0) + 1*(x0*y1), -1*(x2*y0) + 1*(x0*y2), -1*(x2*y1) + 1*(x1*y2) ]\u001b[33m )\u001b[0m )\u001b[34m )\u001b[0m with active lower bound 0 and active upper bound 1>"
      ]
     },
     "execution_count": 100,
     "metadata": {},
     "output_type": "execute_result"
    }
   ],
   "source": [
    "ϵ_𝓞2 = ϵ( 𝓞2 )"
   ]
  },
  {
   "cell_type": "code",
   "execution_count": 101,
   "id": "4a4520db",
   "metadata": {},
   "outputs": [
    {
     "data": {
      "text/latex": [
       "$$\\begin{array}{ccc}\n",
       " 0&-\\phantom{-}{0}\\phantom{-}\\rightarrow&0\n",
       " \\\\ \n",
       " \\uparrow_{\\phantom{0}}&& \n",
       " \\uparrow_{\\phantom{0}}\n",
       " \\\\ \n",
       " \\begin{pmatrix}\\\\ \n",
       "\\\\ \n",
       "\\\\ \n",
       "\\\\ \n",
       "\\\\ \n",
       "\\\\ \n",
       "\\\\ \n",
       "\\\\ \n",
       "\\\\ \n",
       "\\end{pmatrix}&&\\begin{pmatrix}\\\\\\end{pmatrix}\n",
       " \\\\ \n",
       " \\vert_{0} &&\\vert_{0} \n",
       " \\\\ \n",
       " {\\mathcal{O}(2)}\\oplus{\\mathcal{O}(1)}^{\\oplus 3}\\oplus{\\mathcal{O}(0)}^{\\oplus 6}&-\\phantom{-}{\\begin{pmatrix}{\\mathcal{O}(2)}\\\\ \n",
       "-{y_0}\\\\ \n",
       "-{y_1}\\\\ \n",
       "-{y_2}\\\\ \n",
       "{x_1y_0}\\\\ \n",
       "{x_1y_1}\\\\ \n",
       "{x_1y_2}\\\\ \n",
       "{x_2y_1}\\\\ \n",
       "{x_2y_2}\\\\ \n",
       "{x_3y_2}\\end{pmatrix}}\\phantom{-}\\rightarrow&{\\mathcal{O}(2)}\n",
       " \\\\ \n",
       "  \\uparrow_{\\phantom{-1}}&& \n",
       " \\uparrow_{\\phantom{-1}}\n",
       " \\\\ \n",
       " \\begin{pmatrix}{y_0}&{\\mathcal{O}(1)}&0&0&0&0&0&0&0&0\\\\ \n",
       "{y_1}&0&{\\mathcal{O}(1)}&0&0&0&0&0&0&0\\\\ \n",
       "{y_2}&0&0&{\\mathcal{O}(1)}&0&0&0&0&0&0\\\\ \n",
       "0&-{x_1}&0&0&-{\\mathcal{O}(0)}&0&0&0&0&0\\\\ \n",
       "0&-{x_2}&0&0&0&-{\\mathcal{O}(0)}&0&0&0&0\\\\ \n",
       "0&-{x_3}&0&0&0&0&-{\\mathcal{O}(0)}&0&0&0\\\\ \n",
       "0&0&-{x_1}&0&0&-{\\mathcal{O}(0)}&0&0&0&0\\\\ \n",
       "0&0&-{x_2}&0&0&0&0&-{\\mathcal{O}(0)}&0&0\\\\ \n",
       "0&0&-{x_3}&0&0&0&0&0&-{\\mathcal{O}(0)}&0\\\\ \n",
       "0&0&0&-{x_1}&0&0&-{\\mathcal{O}(0)}&0&0&0\\\\ \n",
       "0&0&0&-{x_2}&0&0&0&0&-{\\mathcal{O}(0)}&0\\\\ \n",
       "0&0&0&-{x_3}&0&0&0&0&0&-{\\mathcal{O}(0)}\\end{pmatrix}&&0\n",
       " \\\\ \n",
       " \\vert_{-1} &&\\vert_{-1} \n",
       " \\\\ \n",
       " {\\mathcal{O}(1)}^{\\oplus 3}\\oplus{\\mathcal{O}(0)}^{\\oplus 9}&-\\phantom{-}{\\begin{pmatrix}\\\\ \n",
       "\\\\ \n",
       "\\\\ \n",
       "\\\\ \n",
       "\\\\ \n",
       "\\\\ \n",
       "\\\\ \n",
       "\\\\ \n",
       "\\\\ \n",
       "\\\\ \n",
       "\\\\ \n",
       "\\end{pmatrix}}\\phantom{-}\\rightarrow&0\n",
       " \\\\ \n",
       "  \\uparrow_{\\phantom{-2}}&& \n",
       " \\uparrow_{\\phantom{-2}}\n",
       " \\\\ \n",
       " \\begin{pmatrix}{x_2}&-{x_1}&0&0&{\\mathcal{O}(0)}&0&-{\\mathcal{O}(0)}&0&0&0&0&0\\\\ \n",
       "{x_3}&0&-{x_1}&0&0&{\\mathcal{O}(0)}&0&0&0&-{\\mathcal{O}(0)}&0&0\\\\ \n",
       "0&{x_3}&-{x_2}&0&0&0&0&0&{\\mathcal{O}(0)}&0&-{\\mathcal{O}(0)}&0\\end{pmatrix}&&0\n",
       " \\\\ \n",
       " \\vert_{-2} &&\\vert_{-2} \n",
       " \\\\ \n",
       " {\\mathcal{O}(0)}^{\\oplus 3}&-\\phantom{-}{\\begin{pmatrix}\\\\ \n",
       "\\\\ \n",
       "\\end{pmatrix}}\\phantom{-}\\rightarrow&0\n",
       " \\\\ \n",
       " \\end{array}$$"
      ]
     },
     "metadata": {},
     "output_type": "display_data"
    }
   ],
   "source": [
    "Show( ϵ_𝓞2 )"
   ]
  },
  {
   "cell_type": "code",
   "execution_count": 102,
   "id": "32fcae34",
   "metadata": {},
   "outputs": [
    {
     "data": {
      "text/plain": [
       "true"
      ]
     },
     "execution_count": 102,
     "metadata": {},
     "output_type": "execute_result"
    }
   ],
   "source": [
    "IsIsomorphism( ϵ_𝓞2 )"
   ]
  },
  {
   "cell_type": "code",
   "execution_count": 103,
   "id": "e2274a65",
   "metadata": {},
   "outputs": [
    {
     "data": {
      "text/plain": [
       "GAP: <A morphism in \u001b[34mHomotopy^• category( \u001b[0mAdditive closure( \u001b[33mAlgebroid( \u001b[0m(Q * q_𝓞) / [ -1*(x1*y0) + 1*(x0*y1), -1*(x2*y0) + 1*(x0*y2), -1*(x2*y1) + 1*(x1*y2) ]\u001b[33m )\u001b[0m )\u001b[34m )\u001b[0m with active lower bound 0 and active upper bound 1>"
      ]
     },
     "execution_count": 103,
     "metadata": {},
     "output_type": "execute_result"
    }
   ],
   "source": [
    "inv_ϵ_𝓞2 = InverseForMorphisms( ϵ_𝓞2 )"
   ]
  },
  {
   "cell_type": "code",
   "execution_count": 104,
   "id": "8a376dbe",
   "metadata": {},
   "outputs": [
    {
     "data": {
      "text/latex": [
       "$$\\begin{array}{ccc}\n",
       " 0&-\\phantom{-}{0}\\phantom{-}\\rightarrow&0\n",
       " \\\\ \n",
       " \\uparrow_{\\phantom{0}}&& \n",
       " \\uparrow_{\\phantom{0}}\n",
       " \\\\ \n",
       " \\begin{pmatrix}\\\\\\end{pmatrix}&&\\begin{pmatrix}\\\\ \n",
       "\\\\ \n",
       "\\\\ \n",
       "\\\\ \n",
       "\\\\ \n",
       "\\\\ \n",
       "\\\\ \n",
       "\\\\ \n",
       "\\\\ \n",
       "\\end{pmatrix}\n",
       " \\\\ \n",
       " \\vert_{0} &&\\vert_{0} \n",
       " \\\\ \n",
       " {\\mathcal{O}(2)}&-\\phantom{-}{\\begin{pmatrix}{\\mathcal{O}(2)}&0&0&0&0&0&0&0&0&0\\end{pmatrix}}\\phantom{-}\\rightarrow&{\\mathcal{O}(2)}\\oplus{\\mathcal{O}(1)}^{\\oplus 3}\\oplus{\\mathcal{O}(0)}^{\\oplus 6}\n",
       " \\\\ \n",
       "  \\uparrow_{\\phantom{-1}}&& \n",
       " \\uparrow_{\\phantom{-1}}\n",
       " \\\\ \n",
       " 0&&\\begin{pmatrix}{y_0}&{\\mathcal{O}(1)}&0&0&0&0&0&0&0&0\\\\ \n",
       "{y_1}&0&{\\mathcal{O}(1)}&0&0&0&0&0&0&0\\\\ \n",
       "{y_2}&0&0&{\\mathcal{O}(1)}&0&0&0&0&0&0\\\\ \n",
       "0&-{x_1}&0&0&-{\\mathcal{O}(0)}&0&0&0&0&0\\\\ \n",
       "0&-{x_2}&0&0&0&-{\\mathcal{O}(0)}&0&0&0&0\\\\ \n",
       "0&-{x_3}&0&0&0&0&-{\\mathcal{O}(0)}&0&0&0\\\\ \n",
       "0&0&-{x_1}&0&0&-{\\mathcal{O}(0)}&0&0&0&0\\\\ \n",
       "0&0&-{x_2}&0&0&0&0&-{\\mathcal{O}(0)}&0&0\\\\ \n",
       "0&0&-{x_3}&0&0&0&0&0&-{\\mathcal{O}(0)}&0\\\\ \n",
       "0&0&0&-{x_1}&0&0&-{\\mathcal{O}(0)}&0&0&0\\\\ \n",
       "0&0&0&-{x_2}&0&0&0&0&-{\\mathcal{O}(0)}&0\\\\ \n",
       "0&0&0&-{x_3}&0&0&0&0&0&-{\\mathcal{O}(0)}\\end{pmatrix}\n",
       " \\\\ \n",
       " \\vert_{-1} &&\\vert_{-1} \n",
       " \\\\ \n",
       " 0&-\\phantom{-}{0}\\phantom{-}\\rightarrow&{\\mathcal{O}(1)}^{\\oplus 3}\\oplus{\\mathcal{O}(0)}^{\\oplus 9}\n",
       " \\\\ \n",
       "  \\uparrow_{\\phantom{-2}}&& \n",
       " \\uparrow_{\\phantom{-2}}\n",
       " \\\\ \n",
       " 0&&\\begin{pmatrix}{x_2}&-{x_1}&0&0&{\\mathcal{O}(0)}&0&-{\\mathcal{O}(0)}&0&0&0&0&0\\\\ \n",
       "{x_3}&0&-{x_1}&0&0&{\\mathcal{O}(0)}&0&0&0&-{\\mathcal{O}(0)}&0&0\\\\ \n",
       "0&{x_3}&-{x_2}&0&0&0&0&0&{\\mathcal{O}(0)}&0&-{\\mathcal{O}(0)}&0\\end{pmatrix}\n",
       " \\\\ \n",
       " \\vert_{-2} &&\\vert_{-2} \n",
       " \\\\ \n",
       " 0&-\\phantom{-}{0}\\phantom{-}\\rightarrow&{\\mathcal{O}(0)}^{\\oplus 3}\n",
       " \\\\ \n",
       " \\end{array}$$"
      ]
     },
     "metadata": {},
     "output_type": "display_data"
    }
   ],
   "source": [
    "Show( inv_ϵ_𝓞2 )"
   ]
  },
  {
   "cell_type": "code",
   "execution_count": 105,
   "id": "86c30b09",
   "metadata": {},
   "outputs": [
    {
     "data": {
      "text/plain": [
       "GAP: <A morphism in \u001b[35mDerived^• category(\u001b[0m FunctorCategory( \u001b[34mAlgebroid( \u001b[0m(Q * q_𝓞_op) / [ 1*(y1*x0) - 1*(y0*x1), 1*(y2*x0) - 1*(y0*x2), 1*(y2*x1) - 1*(y1*x2) ]\u001b[34m )\u001b[0m, Category of matrices over Q ) \u001b[35m)\u001b[0m>"
      ]
     },
     "execution_count": 105,
     "metadata": {},
     "output_type": "execute_result"
    }
   ],
   "source": [
    "J_ϵ_𝓞2 = ApplyFunctor( J, ϵ_𝓞2 )"
   ]
  },
  {
   "cell_type": "code",
   "execution_count": 106,
   "id": "46f11d58",
   "metadata": {},
   "outputs": [
    {
     "data": {
      "text/plain": [
       "true"
      ]
     },
     "execution_count": 106,
     "metadata": {},
     "output_type": "execute_result"
    }
   ],
   "source": [
    "IsIsomorphism( J_ϵ_𝓞2 )"
   ]
  },
  {
   "cell_type": "code",
   "execution_count": 107,
   "id": "62c8abfb",
   "metadata": {},
   "outputs": [
    {
     "data": {
      "text/plain": [
       "GAP: Equivalence functor onto derived category of endomorphism algebra"
      ]
     },
     "execution_count": 107,
     "metadata": {},
     "output_type": "execute_result"
    }
   ],
   "source": [
    "I = EquivalenceOntoDerivedCategory( Ω )"
   ]
  },
  {
   "cell_type": "code",
   "execution_count": 108,
   "id": "16c7f045",
   "metadata": {},
   "outputs": [
    {
     "name": "stdout",
     "output_type": "stream",
     "text": [
      "Equivalence functor onto derived category of endomorphism algebra\u001b[1m\u001b[31m:\u001b[0m\n",
      "\n",
      "\u001b[32mHomotopy^• category( \u001b[0mAdditive closure( The full subcategory { Ω2, Ω1, Ω0 } )\u001b[32m )\u001b[0m\n",
      "\u001b[1m\u001b[31m  |\n",
      "  V\u001b[0m\n",
      "\u001b[33mDerived^• category(\u001b[0m FunctorCategory( \u001b[34mAlgebroid( \u001b[0mend( Ω2 ⊕ Ω1 ⊕ Ω0 )^op\u001b[34m )\u001b[0m, Category of matrices over Q ) \u001b[33m)\u001b[0m\n"
     ]
    }
   ],
   "source": [
    "Display( I )"
   ]
  },
  {
   "cell_type": "code",
   "execution_count": 109,
   "id": "1b2e0df0",
   "metadata": {},
   "outputs": [
    {
     "data": {
      "text/plain": [
       "GAP: <An object in \u001b[33mDerived^• category(\u001b[0m FunctorCategory( \u001b[34mAlgebroid( \u001b[0mend( Ω2 ⊕ Ω1 ⊕ Ω0 )^op\u001b[34m )\u001b[0m, Category of matrices over Q ) \u001b[33m)\u001b[0m with active lower bound 0 and active upper bound 0>"
      ]
     },
     "execution_count": 109,
     "metadata": {},
     "output_type": "execute_result"
    }
   ],
   "source": [
    "IG_𝓞0 = ApplyFunctor( I, G_𝓞0 )"
   ]
  },
  {
   "cell_type": "code",
   "execution_count": 110,
   "id": "a18b9246",
   "metadata": {},
   "outputs": [
    {
     "data": {
      "text/plain": [
       "GAP: [ 0 ]"
      ]
     },
     "execution_count": 110,
     "metadata": {},
     "output_type": "execute_result"
    }
   ],
   "source": [
    "CohomologySupport( IG_𝓞0 )"
   ]
  },
  {
   "cell_type": "code",
   "execution_count": 111,
   "id": "95e1bdde",
   "metadata": {},
   "outputs": [
    {
     "data": {
      "text/plain": [
       "GAP: <(Ω2)->3, (Ω1)->3, (Ω0)->1; (m1_2_1)->3x3, (m1_2_2)->3x3, (m1_2_3)->3x3, (m2_3_1)->1x3, (m2_3_2)->1x3, (m2_3_3)->1x3>"
      ]
     },
     "execution_count": 111,
     "metadata": {},
     "output_type": "execute_result"
    }
   ],
   "source": [
    "CohomologyAt( IG_𝓞0, 0 )"
   ]
  },
  {
   "cell_type": "code",
   "execution_count": 112,
   "id": "7fa33c92",
   "metadata": {},
   "outputs": [
    {
     "name": "stdout",
     "output_type": "stream",
     "text": [
      "Image of <(Ω2)>:\n",
      "A vector space object over Q of dimension 3\n",
      "\n",
      "Image of <(Ω1)>:\n",
      "A vector space object over Q of dimension 3\n",
      "\n",
      "Image of <(Ω0)>:\n",
      "A vector space object over Q of dimension 1\n",
      "\n",
      "Image of (Ω1)-[{ 1*(m1_2_1) }]->(Ω2):\n",
      "[ [   0,   0,   0 ],\n",
      "  [  -1,   0,   0 ],\n",
      "  [   0,  -1,   0 ] ]\n",
      "\n",
      "A morphism in Category of matrices over Q\n",
      "\n",
      "Image of (Ω1)-[{ 1*(m1_2_2) }]->(Ω2):\n",
      "[ [   1,   0,   0 ],\n",
      "  [   0,   0,   0 ],\n",
      "  [   0,   0,  -1 ] ]\n",
      "\n",
      "A morphism in Category of matrices over Q\n",
      "\n",
      "Image of (Ω1)-[{ 1*(m1_2_3) }]->(Ω2):\n",
      "[ [  0,  1,  0 ],\n",
      "  [  0,  0,  1 ],\n",
      "  [  0,  0,  0 ] ]\n",
      "\n",
      "A morphism in Category of matrices over Q\n",
      "\n",
      "Image of (Ω0)-[{ 1*(m2_3_1) }]->(Ω1):\n",
      "[ [  1,  0,  0 ] ]\n",
      "\n",
      "A morphism in Category of matrices over Q\n",
      "\n",
      "Image of (Ω0)-[{ 1*(m2_3_2) }]->(Ω1):\n",
      "[ [  0,  1,  0 ] ]\n",
      "\n",
      "A morphism in Category of matrices over Q\n",
      "\n",
      "Image of (Ω0)-[{ 1*(m2_3_3) }]->(Ω1):\n",
      "[ [  0,  0,  1 ] ]\n",
      "\n",
      "A morphism in Category of matrices over Q\n",
      "\n",
      "An object in FunctorCategory( \u001b[34mAlgebroid( \u001b[0mend( Ω2 ⊕ Ω1 ⊕ Ω0 )^op\u001b[34m )\u001b[0m, Category of matrices over Q ) given by the above data\n"
     ]
    }
   ],
   "source": [
    "Display( ans )"
   ]
  },
  {
   "cell_type": "code",
   "execution_count": 113,
   "id": "9a4a2337",
   "metadata": {},
   "outputs": [
    {
     "data": {
      "text/plain": [
       "GAP: <An object in \u001b[33mDerived^• category(\u001b[0m FunctorCategory( \u001b[34mAlgebroid( \u001b[0mend( Ω2 ⊕ Ω1 ⊕ Ω0 )^op\u001b[34m )\u001b[0m, Category of matrices over Q ) \u001b[33m)\u001b[0m with active lower bound -1 and active upper bound 0>"
      ]
     },
     "execution_count": 113,
     "metadata": {},
     "output_type": "execute_result"
    }
   ],
   "source": [
    "IG_𝓞1 = ApplyFunctor( I, G_𝓞1 )"
   ]
  },
  {
   "cell_type": "code",
   "execution_count": 114,
   "id": "c6a8af8c",
   "metadata": {},
   "outputs": [
    {
     "data": {
      "text/plain": [
       "GAP: <(Ω2)->6, (Ω1)->8, (Ω0)->3; (m1_2_1)->8x6, (m1_2_2)->8x6, (m1_2_3)->8x6, (m2_3_1)->3x8, (m2_3_2)->3x8, (m2_3_3)->3x8>"
      ]
     },
     "execution_count": 114,
     "metadata": {},
     "output_type": "execute_result"
    }
   ],
   "source": [
    "CohomologyAt( IG_𝓞1, 0 )"
   ]
  },
  {
   "cell_type": "code",
   "execution_count": 115,
   "id": "78327dec",
   "metadata": {},
   "outputs": [
    {
     "name": "stdout",
     "output_type": "stream",
     "text": [
      "Image of <(Ω2)>:\n",
      "A vector space object over Q of dimension 6\n",
      "\n",
      "Image of <(Ω1)>:\n",
      "A vector space object over Q of dimension 8\n",
      "\n",
      "Image of <(Ω0)>:\n",
      "A vector space object over Q of dimension 3\n",
      "\n",
      "Image of (Ω1)-[{ 1*(m1_2_1) }]->(Ω2):\n",
      "[ [   0,   0,   0,   0,   0,  -1 ],\n",
      "  [   0,   0,   1,   0,   0,   0 ],\n",
      "  [   0,   0,   0,   0,   0,   0 ],\n",
      "  [   0,   0,   0,   0,   1,   0 ],\n",
      "  [   0,  -1,   0,   0,   0,   0 ],\n",
      "  [   0,   0,   0,   0,   0,   0 ],\n",
      "  [   0,   0,   0,  -1,   0,   0 ],\n",
      "  [   0,   0,   0,   0,  -1,   0 ] ]\n",
      "\n",
      "A morphism in Category of matrices over Q\n",
      "\n",
      "Image of (Ω1)-[{ 1*(m1_2_2) }]->(Ω2):\n",
      "[ [   0,   0,   0,   0,   0,   0 ],\n",
      "  [  -1,   0,   0,   0,   0,   0 ],\n",
      "  [   0,   0,   0,   0,  -1,   0 ],\n",
      "  [   0,   0,   0,   0,   0,   0 ],\n",
      "  [   0,   0,  -1,   0,   0,   0 ],\n",
      "  [   0,   0,   0,   1,   0,   0 ],\n",
      "  [   0,   0,   0,   0,   0,   0 ],\n",
      "  [   0,   0,   0,   0,   0,  -1 ] ]\n",
      "\n",
      "A morphism in Category of matrices over Q\n",
      "\n",
      "Image of (Ω1)-[{ 1*(m1_2_3) }]->(Ω2):\n",
      "[ [  1,  0,  0,  0,  0,  0 ],\n",
      "  [  0,  0,  0,  0,  0,  0 ],\n",
      "  [  0,  1,  0,  0,  0,  0 ],\n",
      "  [  0,  0,  1,  0,  0,  0 ],\n",
      "  [  0,  0,  0,  0,  0,  0 ],\n",
      "  [  0,  0,  0,  0,  1,  0 ],\n",
      "  [  0,  0,  0,  0,  0,  1 ],\n",
      "  [  0,  0,  0,  0,  0,  0 ] ]\n",
      "\n",
      "A morphism in Category of matrices over Q\n",
      "\n",
      "Image of (Ω0)-[{ 1*(m2_3_1) }]->(Ω1):\n",
      "[ [   0,   0,   0,  -1,   0,   0,   0,  -1 ],\n",
      "  [   0,   0,   1,   0,   0,   0,   0,   0 ],\n",
      "  [   0,   0,   0,   0,   0,   1,   0,   0 ] ]\n",
      "\n",
      "A morphism in Category of matrices over Q\n",
      "\n",
      "Image of (Ω0)-[{ 1*(m2_3_2) }]->(Ω1):\n",
      "[ [  1,  0,  0,  0,  0,  0,  0,  0 ],\n",
      "  [  0,  0,  0,  1,  0,  0,  0,  0 ],\n",
      "  [  0,  0,  0,  0,  0,  0,  1,  0 ] ]\n",
      "\n",
      "A morphism in Category of matrices over Q\n",
      "\n",
      "Image of (Ω0)-[{ 1*(m2_3_3) }]->(Ω1):\n",
      "[ [  0,  1,  0,  0,  0,  0,  0,  0 ],\n",
      "  [  0,  0,  0,  0,  1,  0,  0,  0 ],\n",
      "  [  0,  0,  0,  0,  0,  0,  0,  1 ] ]\n",
      "\n",
      "A morphism in Category of matrices over Q\n",
      "\n",
      "An object in FunctorCategory( \u001b[34mAlgebroid( \u001b[0mend( Ω2 ⊕ Ω1 ⊕ Ω0 )^op\u001b[34m )\u001b[0m, Category of matrices over Q ) given by the above data\n"
     ]
    }
   ],
   "source": [
    "Display( ans )"
   ]
  },
  {
   "cell_type": "code",
   "execution_count": 116,
   "id": "c66a1c4e",
   "metadata": {},
   "outputs": [
    {
     "data": {
      "text/plain": [
       "GAP: <An object in \u001b[33mDerived^• category(\u001b[0m FunctorCategory( \u001b[34mAlgebroid( \u001b[0mend( Ω2 ⊕ Ω1 ⊕ Ω0 )^op\u001b[34m )\u001b[0m, Category of matrices over Q ) \u001b[33m)\u001b[0m with active lower bound -2 and active upper bound 0>"
      ]
     },
     "execution_count": 116,
     "metadata": {},
     "output_type": "execute_result"
    }
   ],
   "source": [
    "IG_𝓞2 = ApplyFunctor( I, G_𝓞2 )"
   ]
  },
  {
   "cell_type": "code",
   "execution_count": 117,
   "id": "346cdfc5",
   "metadata": {},
   "outputs": [
    {
     "data": {
      "text/plain": [
       "GAP: <(Ω2)->10, (Ω1)->15, (Ω0)->6; (m1_2_1)->15x10, (m1_2_2)->15x10, (m1_2_3)->15x10, (m2_3_1)->6x15, (m2_3_2)->6x15, (m2_3_3)->6x15>"
      ]
     },
     "execution_count": 117,
     "metadata": {},
     "output_type": "execute_result"
    }
   ],
   "source": [
    "CohomologyAt( IG_𝓞2, 0 )"
   ]
  },
  {
   "cell_type": "code",
   "execution_count": 118,
   "id": "998639c2",
   "metadata": {},
   "outputs": [
    {
     "name": "stdout",
     "output_type": "stream",
     "text": [
      "Image of <(Ω2)>:\n",
      "A vector space object over Q of dimension 10\n",
      "\n",
      "Image of <(Ω1)>:\n",
      "A vector space object over Q of dimension 15\n",
      "\n",
      "Image of <(Ω0)>:\n",
      "A vector space object over Q of dimension 6\n",
      "\n",
      "Image of (Ω1)-[{ 1*(m1_2_1) }]->(Ω2):\n",
      "[ [   0,   0,  -1,   0,   0,   0,   0,   0,   0,   0 ],\n",
      "  [   0,   1,   0,   0,   0,   0,   0,   0,   0,   0 ],\n",
      "  [   0,   0,   0,   0,   0,   0,  -1,   0,   0,   0 ],\n",
      "  [   0,   0,   0,   0,   1,   0,   0,   0,   0,   0 ],\n",
      "  [   0,   0,   0,   0,   0,   0,   0,   0,   0,  -1 ],\n",
      "  [   0,   0,   0,   0,   0,   0,   1,   0,   0,   0 ],\n",
      "  [   0,   0,   0,   0,   0,   0,   0,   0,   0,   0 ],\n",
      "  [   0,   0,   0,   0,   0,   1,   0,   0,   0,   0 ],\n",
      "  [   0,   0,   0,  -1,   0,   0,   0,   0,   0,   0 ],\n",
      "  [   0,   0,   0,   0,   0,   0,   0,   0,   0,   0 ],\n",
      "  [   0,   0,   0,   0,   0,   0,   0,   0,   1,   0 ],\n",
      "  [   0,   0,   0,   0,   0,  -1,   0,   0,   0,   0 ],\n",
      "  [   0,   0,   0,   0,   0,   0,   0,   0,   0,   0 ],\n",
      "  [   0,   0,   0,   0,   0,   0,   0,  -1,   0,   0 ],\n",
      "  [   0,   0,   0,   0,   0,   0,   0,   0,  -1,   0 ] ]\n",
      "\n",
      "A morphism in Category of matrices over Q\n",
      "\n",
      "Image of (Ω1)-[{ 1*(m1_2_2) }]->(Ω2):\n",
      "[ [   0,   0,   0,   0,   0,   0,   0,   0,   0,   0 ],\n",
      "  [  -1,   0,   0,   0,   0,   0,   0,   0,   0,   0 ],\n",
      "  [   0,   0,   0,   0,   0,   0,   0,   0,   0,   0 ],\n",
      "  [   0,  -1,   0,   0,   0,   0,   0,   0,   0,   0 ],\n",
      "  [   0,   0,   0,   0,   0,   0,   0,   0,   0,   0 ],\n",
      "  [   0,   0,  -1,   0,   0,   0,   0,   0,   0,   0 ],\n",
      "  [   0,   0,   0,   0,   0,  -1,   0,   0,   0,   0 ],\n",
      "  [   0,   0,   0,   0,   0,   0,   0,   0,   0,   0 ],\n",
      "  [   0,   0,   0,   0,  -1,   0,   0,   0,   0,   0 ],\n",
      "  [   0,   0,   0,   0,   0,   0,   0,   0,  -1,   0 ],\n",
      "  [   0,   0,   0,   0,   0,   0,   0,   0,   0,   0 ],\n",
      "  [   0,   0,   0,   0,   0,   0,  -1,   0,   0,   0 ],\n",
      "  [   0,   0,   0,   0,   0,   0,   0,   1,   0,   0 ],\n",
      "  [   0,   0,   0,   0,   0,   0,   0,   0,   0,   0 ],\n",
      "  [   0,   0,   0,   0,   0,   0,   0,   0,   0,  -1 ] ]\n",
      "\n",
      "A morphism in Category of matrices over Q\n",
      "\n",
      "Image of (Ω1)-[{ 1*(m1_2_3) }]->(Ω2):\n",
      "[ [  1,  0,  0,  0,  0,  0,  0,  0,  0,  0 ],\n",
      "  [  0,  0,  0,  0,  0,  0,  0,  0,  0,  0 ],\n",
      "  [  0,  1,  0,  0,  0,  0,  0,  0,  0,  0 ],\n",
      "  [  0,  0,  0,  0,  0,  0,  0,  0,  0,  0 ],\n",
      "  [  0,  0,  1,  0,  0,  0,  0,  0,  0,  0 ],\n",
      "  [  0,  0,  0,  0,  0,  0,  0,  0,  0,  0 ],\n",
      "  [  0,  0,  0,  1,  0,  0,  0,  0,  0,  0 ],\n",
      "  [  0,  0,  0,  0,  1,  0,  0,  0,  0,  0 ],\n",
      "  [  0,  0,  0,  0,  0,  0,  0,  0,  0,  0 ],\n",
      "  [  0,  0,  0,  0,  0,  1,  0,  0,  0,  0 ],\n",
      "  [  0,  0,  0,  0,  0,  0,  1,  0,  0,  0 ],\n",
      "  [  0,  0,  0,  0,  0,  0,  0,  0,  0,  0 ],\n",
      "  [  0,  0,  0,  0,  0,  0,  0,  0,  1,  0 ],\n",
      "  [  0,  0,  0,  0,  0,  0,  0,  0,  0,  1 ],\n",
      "  [  0,  0,  0,  0,  0,  0,  0,  0,  0,  0 ] ]\n",
      "\n",
      "A morphism in Category of matrices over Q\n",
      "\n",
      "Image of (Ω0)-[{ 1*(m2_3_1) }]->(Ω1):\n",
      "[ [   0,   0,  -1,   0,   0,  -1,   0,   0,   0,   0,   0,   0,   0,   0,   0 ],\n",
      "  [   0,   0,   0,   0,   0,   0,   0,  -1,   0,   0,   0,  -1,   0,   0,   0 ],\n",
      "  [   0,   0,   0,   0,   0,   0,   0,   0,   0,   0,  -1,   0,   0,   0,  -1 ],\n",
      "  [   0,   0,   0,   0,   0,   0,   1,   0,   0,   0,   0,   0,   0,   0,   0 ],\n",
      "  [   0,   0,   0,   0,   0,   0,   0,   0,   0,   1,   0,   0,   0,   0,   0 ],\n",
      "  [   0,   0,   0,   0,   0,   0,   0,   0,   0,   0,   0,   0,   1,   0,   0 ] ]\n",
      "\n",
      "A morphism in Category of matrices over Q\n",
      "\n",
      "Image of (Ω0)-[{ 1*(m2_3_2) }]->(Ω1):\n",
      "[ [  1,  0,  0,  0,  0,  0,  0,  0,  0,  0,  0,  0,  0,  0,  0 ],\n",
      "  [  0,  0,  1,  0,  0,  0,  0,  0,  0,  0,  0,  0,  0,  0,  0 ],\n",
      "  [  0,  0,  0,  0,  1,  0,  0,  0,  0,  0,  0,  0,  0,  0,  0 ],\n",
      "  [  0,  0,  0,  0,  0,  0,  0,  1,  0,  0,  0,  0,  0,  0,  0 ],\n",
      "  [  0,  0,  0,  0,  0,  0,  0,  0,  0,  0,  1,  0,  0,  0,  0 ],\n",
      "  [  0,  0,  0,  0,  0,  0,  0,  0,  0,  0,  0,  0,  0,  1,  0 ] ]\n",
      "\n",
      "A morphism in Category of matrices over Q\n",
      "\n",
      "Image of (Ω0)-[{ 1*(m2_3_3) }]->(Ω1):\n",
      "[ [  0,  1,  0,  0,  0,  0,  0,  0,  0,  0,  0,  0,  0,  0,  0 ],\n",
      "  [  0,  0,  0,  1,  0,  0,  0,  0,  0,  0,  0,  0,  0,  0,  0 ],\n",
      "  [  0,  0,  0,  0,  0,  1,  0,  0,  0,  0,  0,  0,  0,  0,  0 ],\n",
      "  [  0,  0,  0,  0,  0,  0,  0,  0,  1,  0,  0,  0,  0,  0,  0 ],\n",
      "  [  0,  0,  0,  0,  0,  0,  0,  0,  0,  0,  0,  1,  0,  0,  0 ],\n",
      "  [  0,  0,  0,  0,  0,  0,  0,  0,  0,  0,  0,  0,  0,  0,  1 ] ]\n",
      "\n",
      "A morphism in Category of matrices over Q\n",
      "\n",
      "An object in FunctorCategory( \u001b[34mAlgebroid( \u001b[0mend( Ω2 ⊕ Ω1 ⊕ Ω0 )^op\u001b[34m )\u001b[0m, Category of matrices over Q ) given by the above data\n"
     ]
    }
   ],
   "source": [
    "Display( ans )"
   ]
  }
 ],
 "metadata": {
  "kernelspec": {
   "display_name": "Julia 1.7.3",
   "language": "julia",
   "name": "julia-1.7"
  },
  "language_info": {
   "file_extension": ".jl",
   "mimetype": "application/julia",
   "name": "julia",
   "version": "1.7.3"
  }
 },
 "nbformat": 4,
 "nbformat_minor": 5
}

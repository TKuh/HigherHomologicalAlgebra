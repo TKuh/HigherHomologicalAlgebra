{
 "cells": [
  {
   "cell_type": "markdown",
   "id": "5dd5d895",
   "metadata": {},
   "source": [
    "[![Binder](https://mybinder.org/badge_logo.svg)](https://gesis.mybinder.org/v2/gh/homalg-project/CapAndHomalgNotebooks/master?urlpath=git-pull%3Frepo%3Dhttps%253A%252F%252Fgithub.com%252Fhomalg-project%252FHigherHomologicalAlgebra%26urlpath%3Dtree%252FHigherHomologicalAlgebra%252FDerivedCategories%252Fexamples%252F%252Fnotebooks%252FHappelTheorem.ipynb%26branch%3Dmaster)"
   ]
  },
  {
   "cell_type": "code",
   "execution_count": 1,
   "id": "aa96f67f",
   "metadata": {},
   "outputs": [
    {
     "name": "stdout",
     "output_type": "stream",
     "text": [
      "CapAndHomalg v\u001b[32m1.4.4\u001b[39m\n",
      "Imported OSCAR's components GAP and Singular_jll\n",
      "Type: ?CapAndHomalg for more information\n"
     ]
    }
   ],
   "source": [
    "using CapAndHomalg"
   ]
  },
  {
   "cell_type": "code",
   "execution_count": 2,
   "id": "bb8e8f5e",
   "metadata": {},
   "outputs": [],
   "source": [
    "LoadPackage( \"DerivedCategories\" )\n",
    "EnhanceAllPackages();"
   ]
  },
  {
   "cell_type": "code",
   "execution_count": 3,
   "id": "b5d93b29",
   "metadata": {},
   "outputs": [
    {
     "data": {
      "text/plain": [
       "GAP: q(v₁,v₂,v₃,v₄)[a:v₁->v₂,b:v₂->v₄,c:v₁->v₃,d:v₃->v₄]"
      ]
     },
     "execution_count": 3,
     "metadata": {},
     "output_type": "execute_result"
    }
   ],
   "source": [
    "𝓺 = RightQuiver( \"q(v₁,v₂,v₃,v₄)[a:v₁->v₂,b:v₂->v₄,c:v₁->v₃,d:v₃->v₄]\" )"
   ]
  },
  {
   "cell_type": "code",
   "execution_count": 4,
   "id": "27c2277a",
   "metadata": {},
   "outputs": [],
   "source": [
    "SetLabelsAsLaTeXStrings( 𝓺, [ \"v_1\", \"v_2\", \"v_3\", \"v_4\" ], [ \"a\", \"b\", \"c\", \"d\" ] );"
   ]
  },
  {
   "cell_type": "code",
   "execution_count": 5,
   "id": "e771ce10",
   "metadata": {},
   "outputs": [
    {
     "data": {
      "text/plain": [
       "GAP: q_op(v₁,v₂,v₃,v₄)[a:v₂->v₁,b:v₄->v₂,c:v₃->v₁,d:v₄->v₃]"
      ]
     },
     "execution_count": 5,
     "metadata": {},
     "output_type": "execute_result"
    }
   ],
   "source": [
    "𝓺ᵒᵖ = OppositeQuiver( 𝓺 )"
   ]
  },
  {
   "cell_type": "code",
   "execution_count": 6,
   "id": "77f69cb9",
   "metadata": {},
   "outputs": [],
   "source": [
    "SetLabelsAsLaTeXStrings( 𝓺ᵒᵖ, [ \"v_1\", \"v_2\", \"v_3\", \"v_4\" ], [ \"a\", \"b\", \"c\", \"d\" ] );"
   ]
  },
  {
   "cell_type": "code",
   "execution_count": 7,
   "id": "b6d91f1b",
   "metadata": {},
   "outputs": [
    {
     "data": {
      "text/plain": [
       "GAP: FreeCategory( RightQuiver( \"q(v₁,v₂,v₃,v₄)[a:v₁->v₂,b:v₂->v₄,c:v₁->v₃,d:v₃->v₄]\" ) )"
      ]
     },
     "execution_count": 7,
     "metadata": {},
     "output_type": "execute_result"
    }
   ],
   "source": [
    "F𝓺 = FreeCategory( 𝓺 )"
   ]
  },
  {
   "cell_type": "code",
   "execution_count": 8,
   "id": "8fe61ecc",
   "metadata": {},
   "outputs": [
    {
     "data": {
      "text/plain": [
       "GAP: Q"
      ]
     },
     "execution_count": 8,
     "metadata": {},
     "output_type": "execute_result"
    }
   ],
   "source": [
    "ℚ = HomalgFieldOfRationals()"
   ]
  },
  {
   "cell_type": "code",
   "execution_count": 9,
   "id": "c21030bc",
   "metadata": {},
   "outputs": [
    {
     "data": {
      "text/plain": [
       "GAP: Q"
      ]
     },
     "execution_count": 9,
     "metadata": {},
     "output_type": "execute_result"
    }
   ],
   "source": [
    "k = ℚ"
   ]
  },
  {
   "cell_type": "code",
   "execution_count": 10,
   "id": "2a8bf73e",
   "metadata": {},
   "outputs": [
    {
     "data": {
      "text/plain": [
       "GAP: Algebroid( Q * q )"
      ]
     },
     "execution_count": 10,
     "metadata": {},
     "output_type": "execute_result"
    }
   ],
   "source": [
    "kF𝓺 = k[ F𝓺 ]"
   ]
  },
  {
   "cell_type": "code",
   "execution_count": 11,
   "id": "64326da2",
   "metadata": {},
   "outputs": [
    {
     "data": {
      "text/plain": [
       "1-element Vector{GapObj}:\n",
       " GAP: (v₁)-[-1*(c*d) + 1*(a*b)]->(v₄)"
      ]
     },
     "execution_count": 11,
     "metadata": {},
     "output_type": "execute_result"
    }
   ],
   "source": [
    "ρ = [ PreCompose( kF𝓺.\"a\", kF𝓺.\"b\" ) - PreCompose( kF𝓺.\"c\", kF𝓺.\"d\" ) ]"
   ]
  },
  {
   "cell_type": "code",
   "execution_count": 12,
   "id": "be2b2a85",
   "metadata": {},
   "outputs": [
    {
     "data": {
      "text/plain": [
       "GAP: Algebroid( (Q * q) / [ -1*(c*d) + 1*(a*b) ] )"
      ]
     },
     "execution_count": 12,
     "metadata": {},
     "output_type": "execute_result"
    }
   ],
   "source": [
    "𝐀 =  kF𝓺 / ρ"
   ]
  },
  {
   "cell_type": "code",
   "execution_count": 13,
   "id": "7f1adc77",
   "metadata": {},
   "outputs": [
    {
     "name": "stdout",
     "output_type": "stream",
     "text": [
      "27 primitive operations were used to derive 73 operations for this category which constructively\n",
      "* IsEquippedWithHomomorphismStructure\n",
      "* IsLinearCategoryOverCommutativeRing\n"
     ]
    }
   ],
   "source": [
    "InfoOfInstalledOperationsOfCategory( 𝐀 )"
   ]
  },
  {
   "cell_type": "code",
   "execution_count": 14,
   "id": "8a17f4ab",
   "metadata": {},
   "outputs": [
    {
     "data": {
      "text/plain": [
       "GAP: <(v₄)>"
      ]
     },
     "execution_count": 14,
     "metadata": {},
     "output_type": "execute_result"
    }
   ],
   "source": [
    "v₁ = 𝐀.\"v₁\"; v₂ = 𝐀.\"v₂\"; v₃ = 𝐀.\"v₃\"; v₄ = 𝐀.\"v₄\""
   ]
  },
  {
   "cell_type": "code",
   "execution_count": 15,
   "id": "3a97d0a2",
   "metadata": {},
   "outputs": [
    {
     "data": {
      "text/plain": [
       "GAP: [ <(v₁)>, <(v₂)>, <(v₃)>, <(v₄)> ]"
      ]
     },
     "execution_count": 15,
     "metadata": {},
     "output_type": "execute_result"
    }
   ],
   "source": [
    "SetOfObjects( 𝐀 )"
   ]
  },
  {
   "cell_type": "code",
   "execution_count": 16,
   "id": "f343cb14",
   "metadata": {},
   "outputs": [
    {
     "data": {
      "text/plain": [
       "GAP: Category of matrices over Q"
      ]
     },
     "execution_count": 16,
     "metadata": {},
     "output_type": "execute_result"
    }
   ],
   "source": [
    "RangeCategoryOfHomomorphismStructure( 𝐀 )"
   ]
  },
  {
   "cell_type": "code",
   "execution_count": 17,
   "id": "049ef4d5",
   "metadata": {},
   "outputs": [
    {
     "data": {
      "text/plain": [
       "GAP: <A vector space object over Q of dimension 1>"
      ]
     },
     "execution_count": 17,
     "metadata": {},
     "output_type": "execute_result"
    }
   ],
   "source": [
    "HomStructure( v₁, v₄ )"
   ]
  },
  {
   "cell_type": "code",
   "execution_count": 18,
   "id": "0e69581e",
   "metadata": {},
   "outputs": [
    {
     "data": {
      "text/plain": [
       "GAP: [ (v₁)-[{ 1*(a*b) }]->(v₄) ]"
      ]
     },
     "execution_count": 18,
     "metadata": {},
     "output_type": "execute_result"
    }
   ],
   "source": [
    "B_v₁v₄ = BasisOfExternalHom( v₁, v₄ )"
   ]
  },
  {
   "cell_type": "code",
   "execution_count": 19,
   "id": "8ab36c55",
   "metadata": {},
   "outputs": [
    {
     "data": {
      "text/latex": [
       "$${v_1}-\\left({{ab}}\\right)\\rightarrow{v_4}$$"
      ]
     },
     "metadata": {},
     "output_type": "display_data"
    }
   ],
   "source": [
    "Show( B_v₁v₄[ 1 ] )"
   ]
  },
  {
   "cell_type": "code",
   "execution_count": 20,
   "id": "acc57dd8",
   "metadata": {},
   "outputs": [
    {
     "data": {
      "text/plain": [
       "GAP: Category of matrices over Q"
      ]
     },
     "execution_count": 20,
     "metadata": {},
     "output_type": "execute_result"
    }
   ],
   "source": [
    "k₋mat = MatrixCategory( k )"
   ]
  },
  {
   "cell_type": "code",
   "execution_count": 21,
   "id": "d2befa3c",
   "metadata": {},
   "outputs": [
    {
     "data": {
      "text/plain": [
       "GAP: FunctorCategory( Algebroid( (Q * q) / [ -1*(c*d) + 1*(a*b) ] ), Category of matrices over Q )"
      ]
     },
     "execution_count": 21,
     "metadata": {},
     "output_type": "execute_result"
    }
   ],
   "source": [
    "mod₋𝐀 = FunctorCategory( 𝐀, k₋mat )"
   ]
  },
  {
   "cell_type": "code",
   "execution_count": 22,
   "id": "5180fd54",
   "metadata": {},
   "outputs": [
    {
     "name": "stdout",
     "output_type": "stream",
     "text": [
      "102 primitive operations were used to derive 364 operations for this category which constructively\n",
      "* IsEquippedWithHomomorphismStructure\n",
      "* IsLinearCategoryOverCommutativeRing\n",
      "* IsAbelianCategoryWithEnoughInjectives\n",
      "* IsAbelianCategoryWithEnoughProjectives\n"
     ]
    }
   ],
   "source": [
    "InfoOfInstalledOperationsOfCategory( mod₋𝐀 )"
   ]
  },
  {
   "cell_type": "code",
   "execution_count": 23,
   "id": "dc7ca457",
   "metadata": {},
   "outputs": [
    {
     "data": {
      "text/plain": [
       "GAP: <(v₁)->4, (v₂)->2, (v₃)->1, (v₄)->2; (a)->4x2, (b)->2x2, (c)->4x1, (d)->1x2>"
      ]
     },
     "execution_count": 23,
     "metadata": {},
     "output_type": "execute_result"
    }
   ],
   "source": [
    "F = AsObjectInFunctorCategory( 𝐀,\n",
    "        [ 4 / k₋mat, 2 / k₋mat, 1 / k₋mat, 2 / k₋mat ],\n",
    "        [\n",
    "            HomalgMatrix( \"[ [ 0, 0 ], [ 1, 0 ], [ 0, 1 ], [ 0, 0 ] ]\", 4, 2, k ) / k₋mat,\n",
    "            HomalgMatrix( \"[ [  0,  1 ], [  0,  0 ] ]\", 2, 2, k ) / k₋mat,\n",
    "            HomalgMatrix( \"[ [ 0 ], [ 1 ], [ 0 ], [ 0 ] ]\", 4, 1, k ) / k₋mat,\n",
    "            HomalgMatrix( \"[ [ 0, 1 ] ]\", 1, 2, k ) / k₋mat\n",
    "        ]\n",
    "    )"
   ]
  },
  {
   "cell_type": "code",
   "execution_count": 24,
   "id": "93f3ff0e",
   "metadata": {},
   "outputs": [
    {
     "name": "stdout",
     "output_type": "stream",
     "text": [
      "Image of <(v₁)>:\n",
      "A vector space object over Q of dimension 4\n",
      "\n",
      "Image of <(v₂)>:\n",
      "A vector space object over Q of dimension 2\n",
      "\n",
      "Image of <(v₃)>:\n",
      "A vector space object over Q of dimension 1\n",
      "\n",
      "Image of <(v₄)>:\n",
      "A vector space object over Q of dimension 2\n",
      "\n",
      "Image of (v₁)-[{ 1*(a) }]->(v₂):\n",
      "[ [  0,  0 ],\n",
      "  [  1,  0 ],\n",
      "  [  0,  1 ],\n",
      "  [  0,  0 ] ]\n",
      "\n",
      "A morphism in Category of matrices over Q\n",
      "\n",
      "Image of (v₂)-[{ 1*(b) }]->(v₄):\n",
      "[ [  0,  1 ],\n",
      "  [  0,  0 ] ]\n",
      "\n",
      "A morphism in Category of matrices over Q\n",
      "\n",
      "Image of (v₁)-[{ 1*(c) }]->(v₃):\n",
      "[ [  0 ],\n",
      "  [  1 ],\n",
      "  [  0 ],\n",
      "  [  0 ] ]\n",
      "\n",
      "A morphism in Category of matrices over Q\n",
      "\n",
      "Image of (v₃)-[{ 1*(d) }]->(v₄):\n",
      "[ [  0,  1 ] ]\n",
      "\n",
      "A morphism in Category of matrices over Q\n",
      "\n",
      "An object in FunctorCategory( Algebroid( (Q * q) / [ -1*(c*d) + 1*(a*b) ] ), Category of matrices over Q ) given by the above data\n"
     ]
    }
   ],
   "source": [
    "Display( F )"
   ]
  },
  {
   "cell_type": "code",
   "execution_count": 25,
   "id": "7a732b09",
   "metadata": {},
   "outputs": [
    {
     "data": {
      "text/plain": [
       "true"
      ]
     },
     "execution_count": 25,
     "metadata": {},
     "output_type": "execute_result"
    }
   ],
   "source": [
    "IsWellDefined( F )"
   ]
  },
  {
   "cell_type": "code",
   "execution_count": 26,
   "id": "ab4cb802",
   "metadata": {},
   "outputs": [
    {
     "data": {
      "text/plain": [
       "GAP: (v₁)-[{ 1*(a*b) }]->(v₄)"
      ]
     },
     "execution_count": 26,
     "metadata": {},
     "output_type": "execute_result"
    }
   ],
   "source": [
    "φ = PreCompose( 𝐀.\"a\", 𝐀.\"b\" )"
   ]
  },
  {
   "cell_type": "code",
   "execution_count": 27,
   "id": "5f4abad1",
   "metadata": {},
   "outputs": [
    {
     "data": {
      "text/latex": [
       "$${v_1}-\\left({{ab}}\\right)\\rightarrow{v_4}$$"
      ]
     },
     "metadata": {},
     "output_type": "display_data"
    }
   ],
   "source": [
    "Show( φ )"
   ]
  },
  {
   "cell_type": "code",
   "execution_count": 28,
   "id": "57f378b3",
   "metadata": {},
   "outputs": [
    {
     "data": {
      "text/plain": [
       "GAP: <A morphism in Category of matrices over Q>"
      ]
     },
     "execution_count": 28,
     "metadata": {},
     "output_type": "execute_result"
    }
   ],
   "source": [
    "Fₘ = F( φ )"
   ]
  },
  {
   "cell_type": "code",
   "execution_count": 29,
   "id": "2dbcafe8",
   "metadata": {},
   "outputs": [
    {
     "name": "stdout",
     "output_type": "stream",
     "text": [
      "[ [  0,  0 ],\n",
      "  [  0,  1 ],\n",
      "  [  0,  0 ],\n",
      "  [  0,  0 ] ]\n",
      "\n",
      "A morphism in Category of matrices over Q\n"
     ]
    }
   ],
   "source": [
    "Display( Fₘ )"
   ]
  },
  {
   "cell_type": "code",
   "execution_count": 30,
   "id": "68cfdaf1",
   "metadata": {},
   "outputs": [
    {
     "data": {
      "text/plain": [
       "GAP: <(v₁)->1, (v₂)->4, (v₃)->2, (v₄)->0; (a)->1x4, (b)->4x0, (c)->1x2, (d)->2x0>"
      ]
     },
     "execution_count": 30,
     "metadata": {},
     "output_type": "execute_result"
    }
   ],
   "source": [
    "G = AsObjectInFunctorCategory( 𝐀,\n",
    "        [ 1 / k₋mat, 4 / k₋mat, 2 / k₋mat, 0 / k₋mat ],\n",
    "        [\n",
    "            HomalgMatrix( \"[ [ 0, 1, 0, 0 ] ]\", 1, 4, k ) / k₋mat,\n",
    "            HomalgZeroMatrix( 4, 0, k ) / k₋mat,\n",
    "            HomalgMatrix( \"[ [ 1, 0 ] ]\", 1, 2, k ) / k₋mat,\n",
    "            HomalgZeroMatrix( 2, 0, k ) / k₋mat\n",
    "        ]\n",
    "    )"
   ]
  },
  {
   "cell_type": "code",
   "execution_count": 31,
   "id": "e4ee6591",
   "metadata": {},
   "outputs": [
    {
     "name": "stdout",
     "output_type": "stream",
     "text": [
      "Image of <(v₁)>:\n",
      "A vector space object over Q of dimension 1\n",
      "\n",
      "Image of <(v₂)>:\n",
      "A vector space object over Q of dimension 4\n",
      "\n",
      "Image of <(v₃)>:\n",
      "A vector space object over Q of dimension 2\n",
      "\n",
      "Image of <(v₄)>:\n",
      "A vector space object over Q of dimension 0\n",
      "\n",
      "Image of (v₁)-[{ 1*(a) }]->(v₂):\n",
      "[ [  0,  1,  0,  0 ] ]\n",
      "\n",
      "A morphism in Category of matrices over Q\n",
      "\n",
      "Image of (v₂)-[{ 1*(b) }]->(v₄):\n",
      "(an empty 4 x 0 matrix)\n",
      "\n",
      "A morphism in Category of matrices over Q\n",
      "\n",
      "Image of (v₁)-[{ 1*(c) }]->(v₃):\n",
      "[ [  1,  0 ] ]\n",
      "\n",
      "A morphism in Category of matrices over Q\n",
      "\n",
      "Image of (v₃)-[{ 1*(d) }]->(v₄):\n",
      "(an empty 2 x 0 matrix)\n",
      "\n",
      "A morphism in Category of matrices over Q\n",
      "\n",
      "An object in FunctorCategory( Algebroid( (Q * q) / [ -1*(c*d) + 1*(a*b) ] ), Category of matrices over Q ) given by the above data\n"
     ]
    }
   ],
   "source": [
    "Display( G )"
   ]
  },
  {
   "cell_type": "code",
   "execution_count": 32,
   "id": "29718292",
   "metadata": {},
   "outputs": [
    {
     "data": {
      "text/plain": [
       "true"
      ]
     },
     "execution_count": 32,
     "metadata": {},
     "output_type": "execute_result"
    }
   ],
   "source": [
    "IsWellDefined( G )"
   ]
  },
  {
   "cell_type": "code",
   "execution_count": 33,
   "id": "0a314585",
   "metadata": {},
   "outputs": [
    {
     "data": {
      "text/plain": [
       "GAP: <(v₁)->4x1, (v₂)->2x4, (v₃)->1x2, (v₄)->2x0>"
      ]
     },
     "execution_count": 33,
     "metadata": {},
     "output_type": "execute_result"
    }
   ],
   "source": [
    "ψ = AsMorphismInFunctorCategory(\n",
    "        F,\n",
    "        [\n",
    "            HomalgMatrix( \"[ [ 0 ], [ 1 ], [ 0 ], [ 0 ] ]\", 4, 1, k ) / k₋mat;\n",
    "            HomalgMatrix( \"[ [ 0, 1, 0, 0 ], [ 0, 0, 0, 0 ] ]\", 2, 4, k ) / k₋mat;\n",
    "            HomalgMatrix( \"[ [ 1, 0 ] ]\", 1, 2, k ) / k₋mat;\n",
    "            HomalgZeroMatrix( 2, 0, k ) / k₋mat\n",
    "        ],\n",
    "        G\n",
    "    )"
   ]
  },
  {
   "cell_type": "code",
   "execution_count": 34,
   "id": "1130fb2b",
   "metadata": {},
   "outputs": [
    {
     "name": "stdout",
     "output_type": "stream",
     "text": [
      "Image of <(v₁)>:\n",
      "[ [  0 ],\n",
      "  [  1 ],\n",
      "  [  0 ],\n",
      "  [  0 ] ]\n",
      "\n",
      "A morphism in Category of matrices over Q\n",
      "\n",
      "Image of <(v₂)>:\n",
      "[ [  0,  1,  0,  0 ],\n",
      "  [  0,  0,  0,  0 ] ]\n",
      "\n",
      "A morphism in Category of matrices over Q\n",
      "\n",
      "Image of <(v₃)>:\n",
      "[ [  1,  0 ] ]\n",
      "\n",
      "A morphism in Category of matrices over Q\n",
      "\n",
      "Image of <(v₄)>:\n",
      "(an empty 2 x 0 matrix)\n",
      "\n",
      "A morphism in Category of matrices over Q\n",
      "\n",
      "A morphism in FunctorCategory( Algebroid( (Q * q) / [ -1*(c*d) + 1*(a*b) ] ), Category of matrices over Q ) given by the above data\n"
     ]
    }
   ],
   "source": [
    "Display( ψ )"
   ]
  },
  {
   "cell_type": "code",
   "execution_count": 35,
   "id": "dceed755",
   "metadata": {},
   "outputs": [
    {
     "data": {
      "text/plain": [
       "true"
      ]
     },
     "execution_count": 35,
     "metadata": {},
     "output_type": "execute_result"
    }
   ],
   "source": [
    "IsWellDefined( ψ )"
   ]
  },
  {
   "cell_type": "code",
   "execution_count": 36,
   "id": "15332e2b",
   "metadata": {},
   "outputs": [
    {
     "data": {
      "text/plain": [
       "false"
      ]
     },
     "execution_count": 36,
     "metadata": {},
     "output_type": "execute_result"
    }
   ],
   "source": [
    "IsMonomorphism( ψ )"
   ]
  },
  {
   "cell_type": "code",
   "execution_count": 37,
   "id": "f4c9099b",
   "metadata": {},
   "outputs": [
    {
     "data": {
      "text/plain": [
       "false"
      ]
     },
     "execution_count": 37,
     "metadata": {},
     "output_type": "execute_result"
    }
   ],
   "source": [
    "IsEpimorphism( ψ )"
   ]
  },
  {
   "cell_type": "code",
   "execution_count": 38,
   "id": "da0f680c",
   "metadata": {},
   "outputs": [
    {
     "data": {
      "text/plain": [
       "GAP: <(v₁)->3, (v₂)->1, (v₃)->0, (v₄)->2; (a)->3x1, (b)->1x2, (c)->3x0, (d)->0x2>"
      ]
     },
     "execution_count": 38,
     "metadata": {},
     "output_type": "execute_result"
    }
   ],
   "source": [
    "ker_ψ = KernelObject( ψ )"
   ]
  },
  {
   "cell_type": "code",
   "execution_count": 39,
   "id": "4b8217f9",
   "metadata": {},
   "outputs": [
    {
     "data": {
      "text/plain": [
       "GAP: Category of matrices over Q"
      ]
     },
     "execution_count": 39,
     "metadata": {},
     "output_type": "execute_result"
    }
   ],
   "source": [
    "RangeCategoryOfHomomorphismStructure( mod₋𝐀 )"
   ]
  },
  {
   "cell_type": "code",
   "execution_count": 40,
   "id": "6023a61d",
   "metadata": {},
   "outputs": [
    {
     "data": {
      "text/plain": [
       "GAP: <A vector space object over Q of dimension 1>"
      ]
     },
     "execution_count": 40,
     "metadata": {},
     "output_type": "execute_result"
    }
   ],
   "source": [
    "HomStructure( F, G )"
   ]
  },
  {
   "cell_type": "code",
   "execution_count": 41,
   "id": "b14a7863",
   "metadata": {},
   "outputs": [
    {
     "data": {
      "text/plain": [
       "GAP: <A vector space object over Q of dimension 6>"
      ]
     },
     "execution_count": 41,
     "metadata": {},
     "output_type": "execute_result"
    }
   ],
   "source": [
    "HomStructure( G, F )"
   ]
  },
  {
   "cell_type": "code",
   "execution_count": 42,
   "id": "ad58b438",
   "metadata": {},
   "outputs": [],
   "source": [
    "B_GF = BasisOfExternalHom( G, F );"
   ]
  },
  {
   "cell_type": "code",
   "execution_count": 43,
   "id": "0a919bfc",
   "metadata": {},
   "outputs": [
    {
     "data": {
      "text/plain": [
       "GAP: <(v₁)->1x4, (v₂)->4x2, (v₃)->2x1, (v₄)->0x2>"
      ]
     },
     "execution_count": 43,
     "metadata": {},
     "output_type": "execute_result"
    }
   ],
   "source": [
    "τ = -5 * B_GF[1] + 2 * B_GF[4] + 15 * B_GF[6]"
   ]
  },
  {
   "cell_type": "code",
   "execution_count": 44,
   "id": "e9b33c3f",
   "metadata": {},
   "outputs": [
    {
     "data": {
      "text/plain": [
       "GAP: [ -5, 0, 0, 2, 0, 15 ]"
      ]
     },
     "execution_count": 44,
     "metadata": {},
     "output_type": "execute_result"
    }
   ],
   "source": [
    "CoefficientsOfMorphism( τ )"
   ]
  },
  {
   "cell_type": "code",
   "execution_count": 45,
   "id": "4d175150",
   "metadata": {},
   "outputs": [
    {
     "data": {
      "text/plain": [
       "GAP: <(v₁)->4, (v₂)->4, (v₃)->4, (v₄)->5; (a)->4x4, (b)->4x5, (c)->4x4, (d)->4x5>"
      ]
     },
     "execution_count": 45,
     "metadata": {},
     "output_type": "execute_result"
    }
   ],
   "source": [
    "P_F = SomeProjectiveObject( F )"
   ]
  },
  {
   "cell_type": "code",
   "execution_count": 46,
   "id": "c42209fb",
   "metadata": {},
   "outputs": [
    {
     "data": {
      "text/plain": [
       "true"
      ]
     },
     "execution_count": 46,
     "metadata": {},
     "output_type": "execute_result"
    }
   ],
   "source": [
    "IsProjective( P_F )"
   ]
  },
  {
   "cell_type": "code",
   "execution_count": 47,
   "id": "c1fc7009",
   "metadata": {},
   "outputs": [
    {
     "name": "stdout",
     "output_type": "stream",
     "text": [
      "Image of <(v₁)>:\n",
      "A vector space object over Q of dimension 4\n",
      "\n",
      "Image of <(v₂)>:\n",
      "A vector space object over Q of dimension 4\n",
      "\n",
      "Image of <(v₃)>:\n",
      "A vector space object over Q of dimension 4\n",
      "\n",
      "Image of <(v₄)>:\n",
      "A vector space object over Q of dimension 5\n",
      "\n",
      "Image of (v₁)-[{ 1*(a) }]->(v₂):\n",
      "[ [  1,  0,  0,  0 ],\n",
      "  [  0,  1,  0,  0 ],\n",
      "  [  0,  0,  1,  0 ],\n",
      "  [  0,  0,  0,  1 ] ]\n",
      "\n",
      "A morphism in Category of matrices over Q\n",
      "\n",
      "Image of (v₂)-[{ 1*(b) }]->(v₄):\n",
      "[ [  1,  0,  0,  0,  0 ],\n",
      "  [  0,  1,  0,  0,  0 ],\n",
      "  [  0,  0,  1,  0,  0 ],\n",
      "  [  0,  0,  0,  1,  0 ] ]\n",
      "\n",
      "A morphism in Category of matrices over Q\n",
      "\n",
      "Image of (v₁)-[{ 1*(c) }]->(v₃):\n",
      "[ [  1,  0,  0,  0 ],\n",
      "  [  0,  1,  0,  0 ],\n",
      "  [  0,  0,  1,  0 ],\n",
      "  [  0,  0,  0,  1 ] ]\n",
      "\n",
      "A morphism in Category of matrices over Q\n",
      "\n",
      "Image of (v₃)-[{ 1*(d) }]->(v₄):\n",
      "[ [  1,  0,  0,  0,  0 ],\n",
      "  [  0,  1,  0,  0,  0 ],\n",
      "  [  0,  0,  1,  0,  0 ],\n",
      "  [  0,  0,  0,  1,  0 ] ]\n",
      "\n",
      "A morphism in Category of matrices over Q\n",
      "\n",
      "An object in FunctorCategory( Algebroid( (Q * q) / [ -1*(c*d) + 1*(a*b) ] ), Category of matrices over Q ) given by the above data\n"
     ]
    }
   ],
   "source": [
    "Display( P_F )"
   ]
  },
  {
   "cell_type": "code",
   "execution_count": 48,
   "id": "d203f5b3",
   "metadata": {},
   "outputs": [
    {
     "data": {
      "text/plain": [
       "GAP: <(v₁)->4x4, (v₂)->4x2, (v₃)->4x1, (v₄)->5x2>"
      ]
     },
     "execution_count": 48,
     "metadata": {},
     "output_type": "execute_result"
    }
   ],
   "source": [
    "π_F = EpimorphismFromSomeProjectiveObject( F )"
   ]
  },
  {
   "cell_type": "code",
   "execution_count": 49,
   "id": "b5c36477",
   "metadata": {},
   "outputs": [
    {
     "name": "stdout",
     "output_type": "stream",
     "text": [
      "Image of <(v₁)>:\n",
      "[ [  1,  0,  0,  0 ],\n",
      "  [  0,  1,  0,  0 ],\n",
      "  [  0,  0,  1,  0 ],\n",
      "  [  0,  0,  0,  1 ] ]\n",
      "\n",
      "A morphism in Category of matrices over Q\n",
      "\n",
      "Image of <(v₂)>:\n",
      "[ [  0,  0 ],\n",
      "  [  1,  0 ],\n",
      "  [  0,  1 ],\n",
      "  [  0,  0 ] ]\n",
      "\n",
      "A morphism in Category of matrices over Q\n",
      "\n",
      "Image of <(v₃)>:\n",
      "[ [  0 ],\n",
      "  [  1 ],\n",
      "  [  0 ],\n",
      "  [  0 ] ]\n",
      "\n",
      "A morphism in Category of matrices over Q\n",
      "\n",
      "Image of <(v₄)>:\n",
      "[ [  0,  0 ],\n",
      "  [  0,  1 ],\n",
      "  [  0,  0 ],\n",
      "  [  0,  0 ],\n",
      "  [  1,  0 ] ]\n",
      "\n",
      "A morphism in Category of matrices over Q\n",
      "\n",
      "A morphism in FunctorCategory( Algebroid( (Q * q) / [ -1*(c*d) + 1*(a*b) ] ), Category of matrices over Q ) given by the above data\n"
     ]
    }
   ],
   "source": [
    "Display( π_F )"
   ]
  },
  {
   "cell_type": "code",
   "execution_count": 50,
   "id": "00fd7e96",
   "metadata": {},
   "outputs": [
    {
     "data": {
      "text/plain": [
       "GAP: <(v₁)->5, (v₂)->3, (v₃)->2, (v₄)->2; (a)->5x3, (b)->3x2, (c)->5x2, (d)->2x2>"
      ]
     },
     "execution_count": 50,
     "metadata": {},
     "output_type": "execute_result"
    }
   ],
   "source": [
    "I_F = SomeInjectiveObject( F )"
   ]
  },
  {
   "cell_type": "code",
   "execution_count": 51,
   "id": "9b31afa9",
   "metadata": {},
   "outputs": [
    {
     "data": {
      "text/plain": [
       "true"
      ]
     },
     "execution_count": 51,
     "metadata": {},
     "output_type": "execute_result"
    }
   ],
   "source": [
    "IsInjective( I_F )"
   ]
  },
  {
   "cell_type": "code",
   "execution_count": 52,
   "id": "0a885455",
   "metadata": {},
   "outputs": [
    {
     "name": "stdout",
     "output_type": "stream",
     "text": [
      "Image of <(v₁)>:\n",
      "A vector space object over Q of dimension 5\n",
      "\n",
      "Image of <(v₂)>:\n",
      "A vector space object over Q of dimension 3\n",
      "\n",
      "Image of <(v₃)>:\n",
      "A vector space object over Q of dimension 2\n",
      "\n",
      "Image of <(v₄)>:\n",
      "A vector space object over Q of dimension 2\n",
      "\n",
      "Image of (v₁)-[{ 1*(a) }]->(v₂):\n",
      "[ [  0,  0,  0 ],\n",
      "  [  0,  0,  0 ],\n",
      "  [  1,  0,  0 ],\n",
      "  [  0,  1,  0 ],\n",
      "  [  0,  0,  1 ] ]\n",
      "\n",
      "A morphism in Category of matrices over Q\n",
      "\n",
      "Image of (v₂)-[{ 1*(b) }]->(v₄):\n",
      "[ [  0,  0 ],\n",
      "  [  1,  0 ],\n",
      "  [  0,  1 ] ]\n",
      "\n",
      "A morphism in Category of matrices over Q\n",
      "\n",
      "Image of (v₁)-[{ 1*(c) }]->(v₃):\n",
      "[ [  0,  0 ],\n",
      "  [  0,  0 ],\n",
      "  [  0,  0 ],\n",
      "  [  1,  0 ],\n",
      "  [  0,  1 ] ]\n",
      "\n",
      "A morphism in Category of matrices over Q\n",
      "\n",
      "Image of (v₃)-[{ 1*(d) }]->(v₄):\n",
      "[ [  1,  0 ],\n",
      "  [  0,  1 ] ]\n",
      "\n",
      "A morphism in Category of matrices over Q\n",
      "\n",
      "An object in FunctorCategory( Algebroid( (Q * q) / [ -1*(c*d) + 1*(a*b) ] ), Category of matrices over Q ) given by the above data\n"
     ]
    }
   ],
   "source": [
    "Display( I_F )"
   ]
  },
  {
   "cell_type": "code",
   "execution_count": 53,
   "id": "2d8780b3",
   "metadata": {},
   "outputs": [
    {
     "data": {
      "text/plain": [
       "GAP: <(v₁)->4x5, (v₂)->2x3, (v₃)->1x2, (v₄)->2x2>"
      ]
     },
     "execution_count": 53,
     "metadata": {},
     "output_type": "execute_result"
    }
   ],
   "source": [
    "ι_F = MonomorphismIntoSomeInjectiveObject( F )"
   ]
  },
  {
   "cell_type": "code",
   "execution_count": 54,
   "id": "60a69b7f",
   "metadata": {},
   "outputs": [
    {
     "name": "stdout",
     "output_type": "stream",
     "text": [
      "Image of <(v₁)>:\n",
      "[ [  1,  0,  0,  0,  0 ],\n",
      "  [  0,  0,  0,  0,  1 ],\n",
      "  [  0,  0,  1,  0,  0 ],\n",
      "  [  0,  1,  0,  0,  0 ] ]\n",
      "\n",
      "A morphism in Category of matrices over Q\n",
      "\n",
      "Image of <(v₂)>:\n",
      "[ [  0,  0,  1 ],\n",
      "  [  1,  0,  0 ] ]\n",
      "\n",
      "A morphism in Category of matrices over Q\n",
      "\n",
      "Image of <(v₃)>:\n",
      "[ [  0,  1 ] ]\n",
      "\n",
      "A morphism in Category of matrices over Q\n",
      "\n",
      "Image of <(v₄)>:\n",
      "[ [  1,  0 ],\n",
      "  [  0,  1 ] ]\n",
      "\n",
      "A morphism in Category of matrices over Q\n",
      "\n",
      "A morphism in FunctorCategory( Algebroid( (Q * q) / [ -1*(c*d) + 1*(a*b) ] ), Category of matrices over Q ) given by the above data\n"
     ]
    }
   ],
   "source": [
    "Display( ι_F )"
   ]
  },
  {
   "cell_type": "code",
   "execution_count": 55,
   "id": "a98b7bad",
   "metadata": {},
   "outputs": [
    {
     "data": {
      "text/plain": [
       "GAP: Algebroid( (Q * q_op) / [ -1*(d*c) + 1*(b*a) ] )"
      ]
     },
     "execution_count": 55,
     "metadata": {},
     "output_type": "execute_result"
    }
   ],
   "source": [
    "𝐀ᵒᵖ = OppositeAlgebroid( 𝐀 )"
   ]
  },
  {
   "cell_type": "code",
   "execution_count": 56,
   "id": "2e33d7ae",
   "metadata": {},
   "outputs": [
    {
     "data": {
      "text/plain": [
       "GAP: Yoneda embedding functor"
      ]
     },
     "execution_count": 56,
     "metadata": {},
     "output_type": "execute_result"
    }
   ],
   "source": [
    "𝕐 = YonedaEmbedding( 𝐀ᵒᵖ )"
   ]
  },
  {
   "cell_type": "code",
   "execution_count": 57,
   "id": "5db02500",
   "metadata": {},
   "outputs": [
    {
     "name": "stdout",
     "output_type": "stream",
     "text": [
      "Yoneda embedding functor:\n",
      "\n",
      "Algebroid( (Q * q_op) / [ -1*(d*c) + 1*(b*a) ] )\n",
      "  |\n",
      "  V\n",
      "FunctorCategory( Algebroid( (Q * q) / [ -1*(c*d) + 1*(a*b) ] ), Category of matrices over Q )\n"
     ]
    }
   ],
   "source": [
    "Display( 𝕐 )"
   ]
  },
  {
   "cell_type": "code",
   "execution_count": 58,
   "id": "788707ed",
   "metadata": {},
   "outputs": [
    {
     "data": {
      "text/plain": [
       "true"
      ]
     },
     "execution_count": 58,
     "metadata": {},
     "output_type": "execute_result"
    }
   ],
   "source": [
    "IsIdenticalObj( RangeOfFunctor( 𝕐 ), mod₋𝐀 )"
   ]
  },
  {
   "cell_type": "code",
   "execution_count": 59,
   "id": "dea36410",
   "metadata": {},
   "outputs": [
    {
     "data": {
      "text/plain": [
       "GAP: <(v₁)->1, (v₂)->1, (v₃)->1, (v₄)->1; (a)->1x1, (b)->1x1, (c)->1x1, (d)->1x1>"
      ]
     },
     "execution_count": 59,
     "metadata": {},
     "output_type": "execute_result"
    }
   ],
   "source": [
    "P₁ = ApplyFunctor( 𝕐, 𝐀ᵒᵖ.\"v₁\" )"
   ]
  },
  {
   "cell_type": "code",
   "execution_count": 60,
   "id": "b07cfc57",
   "metadata": {},
   "outputs": [
    {
     "name": "stdout",
     "output_type": "stream",
     "text": [
      "Image of <(v₁)>:\n",
      "A vector space object over Q of dimension 1\n",
      "\n",
      "Image of <(v₂)>:\n",
      "A vector space object over Q of dimension 1\n",
      "\n",
      "Image of <(v₃)>:\n",
      "A vector space object over Q of dimension 1\n",
      "\n",
      "Image of <(v₄)>:\n",
      "A vector space object over Q of dimension 1\n",
      "\n",
      "Image of (v₁)-[{ 1*(a) }]->(v₂):\n",
      "[ [  1 ] ]\n",
      "\n",
      "A morphism in Category of matrices over Q\n",
      "\n",
      "Image of (v₂)-[{ 1*(b) }]->(v₄):\n",
      "[ [  1 ] ]\n",
      "\n",
      "A morphism in Category of matrices over Q\n",
      "\n",
      "Image of (v₁)-[{ 1*(c) }]->(v₃):\n",
      "[ [  1 ] ]\n",
      "\n",
      "A morphism in Category of matrices over Q\n",
      "\n",
      "Image of (v₃)-[{ 1*(d) }]->(v₄):\n",
      "[ [  1 ] ]\n",
      "\n",
      "A morphism in Category of matrices over Q\n",
      "\n",
      "An object in FunctorCategory( Algebroid( (Q * q) / [ -1*(c*d) + 1*(a*b) ] ), Category of matrices over Q ) given by the above data\n"
     ]
    }
   ],
   "source": [
    "Display( P₁ )"
   ]
  },
  {
   "cell_type": "code",
   "execution_count": 61,
   "id": "0b1700ee",
   "metadata": {},
   "outputs": [
    {
     "data": {
      "text/plain": [
       "GAP: <(v₁)->0, (v₂)->1, (v₃)->0, (v₄)->1; (a)->0x1, (b)->1x1, (c)->0x0, (d)->0x1>"
      ]
     },
     "execution_count": 61,
     "metadata": {},
     "output_type": "execute_result"
    }
   ],
   "source": [
    "P₂ = ApplyFunctor( 𝕐, 𝐀ᵒᵖ.\"v₂\" )"
   ]
  },
  {
   "cell_type": "code",
   "execution_count": 62,
   "id": "da45e88f",
   "metadata": {},
   "outputs": [
    {
     "name": "stdout",
     "output_type": "stream",
     "text": [
      "Image of <(v₁)>:\n",
      "A vector space object over Q of dimension 0\n",
      "\n",
      "Image of <(v₂)>:\n",
      "A vector space object over Q of dimension 1\n",
      "\n",
      "Image of <(v₃)>:\n",
      "A vector space object over Q of dimension 0\n",
      "\n",
      "Image of <(v₄)>:\n",
      "A vector space object over Q of dimension 1\n",
      "\n",
      "Image of (v₁)-[{ 1*(a) }]->(v₂):\n",
      "(an empty 0 x 1 matrix)\n",
      "\n",
      "A zero morphism in Category of matrices over Q\n",
      "\n",
      "Image of (v₂)-[{ 1*(b) }]->(v₄):\n",
      "[ [  1 ] ]\n",
      "\n",
      "A morphism in Category of matrices over Q\n",
      "\n",
      "Image of (v₁)-[{ 1*(c) }]->(v₃):\n",
      "(an empty 0 x 0 matrix)\n",
      "\n",
      "A zero morphism in Category of matrices over Q\n",
      "\n",
      "Image of (v₃)-[{ 1*(d) }]->(v₄):\n",
      "(an empty 0 x 1 matrix)\n",
      "\n",
      "A zero morphism in Category of matrices over Q\n",
      "\n",
      "An object in FunctorCategory( Algebroid( (Q * q) / [ -1*(c*d) + 1*(a*b) ] ), Category of matrices over Q ) given by the above data\n"
     ]
    }
   ],
   "source": [
    "Display( P₂ )"
   ]
  },
  {
   "cell_type": "code",
   "execution_count": 63,
   "id": "3e657d04",
   "metadata": {},
   "outputs": [
    {
     "data": {
      "text/plain": [
       "GAP: <(v₁)->0, (v₂)->0, (v₃)->1, (v₄)->1; (a)->0x0, (b)->0x1, (c)->0x1, (d)->1x1>"
      ]
     },
     "execution_count": 63,
     "metadata": {},
     "output_type": "execute_result"
    }
   ],
   "source": [
    "P₃ = ApplyFunctor( 𝕐, 𝐀ᵒᵖ.\"v₃\" )"
   ]
  },
  {
   "cell_type": "code",
   "execution_count": 64,
   "id": "b45a0453",
   "metadata": {},
   "outputs": [
    {
     "name": "stdout",
     "output_type": "stream",
     "text": [
      "Image of <(v₁)>:\n",
      "A vector space object over Q of dimension 0\n",
      "\n",
      "Image of <(v₂)>:\n",
      "A vector space object over Q of dimension 0\n",
      "\n",
      "Image of <(v₃)>:\n",
      "A vector space object over Q of dimension 1\n",
      "\n",
      "Image of <(v₄)>:\n",
      "A vector space object over Q of dimension 1\n",
      "\n",
      "Image of (v₁)-[{ 1*(a) }]->(v₂):\n",
      "(an empty 0 x 0 matrix)\n",
      "\n",
      "A zero morphism in Category of matrices over Q\n",
      "\n",
      "Image of (v₂)-[{ 1*(b) }]->(v₄):\n",
      "(an empty 0 x 1 matrix)\n",
      "\n",
      "A zero morphism in Category of matrices over Q\n",
      "\n",
      "Image of (v₁)-[{ 1*(c) }]->(v₃):\n",
      "(an empty 0 x 1 matrix)\n",
      "\n",
      "A zero morphism in Category of matrices over Q\n",
      "\n",
      "Image of (v₃)-[{ 1*(d) }]->(v₄):\n",
      "[ [  1 ] ]\n",
      "\n",
      "A morphism in Category of matrices over Q\n",
      "\n",
      "An object in FunctorCategory( Algebroid( (Q * q) / [ -1*(c*d) + 1*(a*b) ] ), Category of matrices over Q ) given by the above data\n"
     ]
    }
   ],
   "source": [
    "Display( P₃ )"
   ]
  },
  {
   "cell_type": "code",
   "execution_count": 65,
   "id": "92e06732",
   "metadata": {},
   "outputs": [
    {
     "data": {
      "text/plain": [
       "GAP: <(v₁)->0, (v₂)->0, (v₃)->0, (v₄)->1; (a)->0x0, (b)->0x1, (c)->0x0, (d)->0x1>"
      ]
     },
     "execution_count": 65,
     "metadata": {},
     "output_type": "execute_result"
    }
   ],
   "source": [
    "P₄ = ApplyFunctor( 𝕐, 𝐀ᵒᵖ.\"v₄\" )"
   ]
  },
  {
   "cell_type": "code",
   "execution_count": 66,
   "id": "163ab149",
   "metadata": {},
   "outputs": [
    {
     "name": "stdout",
     "output_type": "stream",
     "text": [
      "Image of <(v₁)>:\n",
      "A vector space object over Q of dimension 0\n",
      "\n",
      "Image of <(v₂)>:\n",
      "A vector space object over Q of dimension 0\n",
      "\n",
      "Image of <(v₃)>:\n",
      "A vector space object over Q of dimension 0\n",
      "\n",
      "Image of <(v₄)>:\n",
      "A vector space object over Q of dimension 1\n",
      "\n",
      "Image of (v₁)-[{ 1*(a) }]->(v₂):\n",
      "(an empty 0 x 0 matrix)\n",
      "\n",
      "A zero morphism in Category of matrices over Q\n",
      "\n",
      "Image of (v₂)-[{ 1*(b) }]->(v₄):\n",
      "(an empty 0 x 1 matrix)\n",
      "\n",
      "A zero morphism in Category of matrices over Q\n",
      "\n",
      "Image of (v₁)-[{ 1*(c) }]->(v₃):\n",
      "(an empty 0 x 0 matrix)\n",
      "\n",
      "A zero morphism in Category of matrices over Q\n",
      "\n",
      "Image of (v₃)-[{ 1*(d) }]->(v₄):\n",
      "(an empty 0 x 1 matrix)\n",
      "\n",
      "A zero morphism in Category of matrices over Q\n",
      "\n",
      "An object in FunctorCategory( Algebroid( (Q * q) / [ -1*(c*d) + 1*(a*b) ] ), Category of matrices over Q ) given by the above data\n"
     ]
    }
   ],
   "source": [
    "Display( P₄ )"
   ]
  },
  {
   "cell_type": "code",
   "execution_count": 67,
   "id": "d4dff8d0",
   "metadata": {},
   "outputs": [
    {
     "data": {
      "text/plain": [
       "GAP: (v₄)-[{ 1*(b*a) }]->(v₁)"
      ]
     },
     "execution_count": 67,
     "metadata": {},
     "output_type": "execute_result"
    }
   ],
   "source": [
    "γ =  PreCompose( 𝐀ᵒᵖ.b, 𝐀ᵒᵖ.a )"
   ]
  },
  {
   "cell_type": "code",
   "execution_count": 68,
   "id": "7cd3f264",
   "metadata": {},
   "outputs": [
    {
     "data": {
      "text/latex": [
       "$${v_4}-\\left({{ba}}\\right)\\rightarrow{v_1}$$"
      ]
     },
     "metadata": {},
     "output_type": "display_data"
    }
   ],
   "source": [
    "Show( γ )"
   ]
  },
  {
   "cell_type": "code",
   "execution_count": 69,
   "id": "70f0da7f",
   "metadata": {},
   "outputs": [
    {
     "data": {
      "text/plain": [
       "GAP: <(v₁)->0x1, (v₂)->0x1, (v₃)->0x1, (v₄)->1x1>"
      ]
     },
     "execution_count": 69,
     "metadata": {},
     "output_type": "execute_result"
    }
   ],
   "source": [
    "Pᵧ = ApplyFunctor( 𝕐, γ )"
   ]
  },
  {
   "cell_type": "code",
   "execution_count": 70,
   "id": "c2b54b12",
   "metadata": {},
   "outputs": [
    {
     "name": "stdout",
     "output_type": "stream",
     "text": [
      "Image of <(v₁)>:\n",
      "(an empty 0 x 1 matrix)\n",
      "\n",
      "A zero morphism in Category of matrices over Q\n",
      "\n",
      "Image of <(v₂)>:\n",
      "(an empty 0 x 1 matrix)\n",
      "\n",
      "A zero morphism in Category of matrices over Q\n",
      "\n",
      "Image of <(v₃)>:\n",
      "(an empty 0 x 1 matrix)\n",
      "\n",
      "A zero morphism in Category of matrices over Q\n",
      "\n",
      "Image of <(v₄)>:\n",
      "[ [  1 ] ]\n",
      "\n",
      "A morphism in Category of matrices over Q\n",
      "\n",
      "A morphism in FunctorCategory( Algebroid( (Q * q) / [ -1*(c*d) + 1*(a*b) ] ), Category of matrices over Q ) given by the above data\n"
     ]
    }
   ],
   "source": [
    "Display( Pᵧ )"
   ]
  },
  {
   "cell_type": "code",
   "execution_count": 71,
   "id": "e5b18e36",
   "metadata": {},
   "outputs": [
    {
     "data": {
      "text/plain": [
       "GAP: Additive closure( Algebroid( (Q * q_op) / [ -1*(d*c) + 1*(b*a) ] ) )"
      ]
     },
     "execution_count": 71,
     "metadata": {},
     "output_type": "execute_result"
    }
   ],
   "source": [
    "𝐀ᵒᵖ_plus = AdditiveClosure( 𝐀ᵒᵖ )"
   ]
  },
  {
   "cell_type": "code",
   "execution_count": 72,
   "id": "69ecef1b",
   "metadata": {},
   "outputs": [
    {
     "data": {
      "text/plain": [
       "GAP: Full additive subcategory generated by projective objects( FunctorCategory( Algebroid( (Q * q) / [ -1*(c*d) + 1*(a*b) ] ), Category of matrices over Q ) )"
      ]
     },
     "execution_count": 72,
     "metadata": {},
     "output_type": "execute_result"
    }
   ],
   "source": [
    "proj₋𝐀 = FullSubcategoryGeneratedByProjectiveObjects( mod₋𝐀 )"
   ]
  },
  {
   "cell_type": "code",
   "execution_count": 73,
   "id": "35dc1c42",
   "metadata": {},
   "outputs": [
    {
     "name": "stdout",
     "output_type": "stream",
     "text": [
      "1: Yoneda embedding\n"
     ]
    }
   ],
   "source": [
    "KnownFunctors( 𝐀ᵒᵖ_plus, proj₋𝐀 )"
   ]
  },
  {
   "cell_type": "code",
   "execution_count": 74,
   "id": "05094db8",
   "metadata": {},
   "outputs": [
    {
     "data": {
      "text/plain": [
       "GAP: Yoneda embedding"
      ]
     },
     "execution_count": 74,
     "metadata": {},
     "output_type": "execute_result"
    }
   ],
   "source": [
    "𝕐 = Functor( 𝐀ᵒᵖ_plus, proj₋𝐀, 1 )"
   ]
  },
  {
   "cell_type": "code",
   "execution_count": 75,
   "id": "24e00e3d",
   "metadata": {},
   "outputs": [
    {
     "name": "stdout",
     "output_type": "stream",
     "text": [
      "1: Decomposition of projective objects\n"
     ]
    }
   ],
   "source": [
    "KnownFunctors( proj₋𝐀, 𝐀ᵒᵖ_plus )"
   ]
  },
  {
   "cell_type": "code",
   "execution_count": 76,
   "id": "a1d3fd95",
   "metadata": {},
   "outputs": [
    {
     "data": {
      "text/plain": [
       "GAP: Decomposition of projective objects"
      ]
     },
     "execution_count": 76,
     "metadata": {},
     "output_type": "execute_result"
    }
   ],
   "source": [
    "𝔻 = Functor( proj₋𝐀, 𝐀ᵒᵖ_plus, 1 )"
   ]
  },
  {
   "cell_type": "code",
   "execution_count": 77,
   "id": "8f4c5ca5",
   "metadata": {},
   "outputs": [
    {
     "data": {
      "text/plain": [
       "GAP: <(v₁)->3, (v₂)->4, (v₃)->1, (v₄)->2; (a)->3x4, (b)->4x2, (c)->3x1, (d)->1x2>"
      ]
     },
     "execution_count": 77,
     "metadata": {},
     "output_type": "execute_result"
    }
   ],
   "source": [
    "K = DirectSum( KernelObject( ψ ), CokernelObject( ψ ) )"
   ]
  },
  {
   "cell_type": "code",
   "execution_count": 78,
   "id": "0ebba33e",
   "metadata": {},
   "outputs": [
    {
     "data": {
      "text/plain": [
       "false"
      ]
     },
     "execution_count": 78,
     "metadata": {},
     "output_type": "execute_result"
    }
   ],
   "source": [
    "IsProjective( K )"
   ]
  },
  {
   "cell_type": "code",
   "execution_count": 79,
   "id": "3802290d",
   "metadata": {},
   "outputs": [
    {
     "data": {
      "text/plain": [
       "GAP: <(v₁)->3, (v₂)->6, (v₃)->4, (v₄)->9; (a)->3x6, (b)->6x9, (c)->3x4, (d)->4x9>"
      ]
     },
     "execution_count": 79,
     "metadata": {},
     "output_type": "execute_result"
    }
   ],
   "source": [
    "P = SomeProjectiveObject( K )"
   ]
  },
  {
   "cell_type": "code",
   "execution_count": 80,
   "id": "b69cef11",
   "metadata": {},
   "outputs": [
    {
     "name": "stdout",
     "output_type": "stream",
     "text": [
      "Image of <(v₁)>:\n",
      "A vector space object over Q of dimension 3\n",
      "\n",
      "Image of <(v₂)>:\n",
      "A vector space object over Q of dimension 6\n",
      "\n",
      "Image of <(v₃)>:\n",
      "A vector space object over Q of dimension 4\n",
      "\n",
      "Image of <(v₄)>:\n",
      "A vector space object over Q of dimension 9\n",
      "\n",
      "Image of (v₁)-[{ 1*(a) }]->(v₂):\n",
      "[ [  1,  0,  0,  0,  0,  0 ],\n",
      "  [  0,  1,  0,  0,  0,  0 ],\n",
      "  [  0,  0,  1,  0,  0,  0 ] ]\n",
      "\n",
      "A morphism in Category of matrices over Q\n",
      "\n",
      "Image of (v₂)-[{ 1*(b) }]->(v₄):\n",
      "[ [  1,  0,  0,  0,  0,  0,  0,  0,  0 ],\n",
      "  [  0,  1,  0,  0,  0,  0,  0,  0,  0 ],\n",
      "  [  0,  0,  1,  0,  0,  0,  0,  0,  0 ],\n",
      "  [  0,  0,  0,  1,  0,  0,  0,  0,  0 ],\n",
      "  [  0,  0,  0,  0,  1,  0,  0,  0,  0 ],\n",
      "  [  0,  0,  0,  0,  0,  1,  0,  0,  0 ] ]\n",
      "\n",
      "A morphism in Category of matrices over Q\n",
      "\n",
      "Image of (v₁)-[{ 1*(c) }]->(v₃):\n",
      "[ [  1,  0,  0,  0 ],\n",
      "  [  0,  1,  0,  0 ],\n",
      "  [  0,  0,  1,  0 ] ]\n",
      "\n",
      "A morphism in Category of matrices over Q\n",
      "\n",
      "Image of (v₃)-[{ 1*(d) }]->(v₄):\n",
      "[ [  1,  0,  0,  0,  0,  0,  0,  0,  0 ],\n",
      "  [  0,  1,  0,  0,  0,  0,  0,  0,  0 ],\n",
      "  [  0,  0,  1,  0,  0,  0,  0,  0,  0 ],\n",
      "  [  0,  0,  0,  0,  0,  0,  1,  0,  0 ] ]\n",
      "\n",
      "A morphism in Category of matrices over Q\n",
      "\n",
      "An object in FunctorCategory( Algebroid( (Q * q) / [ -1*(c*d) + 1*(a*b) ] ), Category of matrices over Q ) given by the above data\n"
     ]
    }
   ],
   "source": [
    "Display( P )"
   ]
  },
  {
   "cell_type": "code",
   "execution_count": 81,
   "id": "10188925",
   "metadata": {},
   "outputs": [
    {
     "data": {
      "text/plain": [
       "GAP: An object in full subcategory given by: <(v₁)->3, (v₂)->6, (v₃)->4, (v₄)->9; (a)->3x6, (b)->6x9, (c)->3x4, (d)->4x9>"
      ]
     },
     "execution_count": 81,
     "metadata": {},
     "output_type": "execute_result"
    }
   ],
   "source": [
    "P =  P / proj₋𝐀"
   ]
  },
  {
   "cell_type": "code",
   "execution_count": 82,
   "id": "112eedec",
   "metadata": {},
   "outputs": [
    {
     "data": {
      "text/plain": [
       "GAP: <An object in Additive closure( Algebroid( (Q * q_op) / [ -1*(d*c) + 1*(b*a) ] ) ) defined by 9 underlying objects>"
      ]
     },
     "execution_count": 82,
     "metadata": {},
     "output_type": "execute_result"
    }
   ],
   "source": [
    "𝔻_P = ApplyFunctor( 𝔻, P )"
   ]
  },
  {
   "cell_type": "code",
   "execution_count": 83,
   "id": "96e5deeb",
   "metadata": {},
   "outputs": [
    {
     "data": {
      "text/latex": [
       "$${v_1}^{\\oplus 3}\\oplus{v_2}^{\\oplus 3}\\oplus{v_3}\\oplus{v_4}^{\\oplus 2}$$"
      ]
     },
     "metadata": {},
     "output_type": "display_data"
    }
   ],
   "source": [
    "Show( 𝔻_P )"
   ]
  },
  {
   "cell_type": "code",
   "execution_count": 84,
   "id": "4f68efba",
   "metadata": {},
   "outputs": [
    {
     "data": {
      "text/plain": [
       "GAP: <A morphism in Additive closure( Algebroid( (Q * q_op) / [ -1*(d*c) + 1*(b*a) ] ) ) defined by a 9 x 9 matrix of underlying morphisms>"
      ]
     },
     "execution_count": 84,
     "metadata": {},
     "output_type": "execute_result"
    }
   ],
   "source": [
    "φ = Sum( BasisOfExternalHom( 𝔻_P, 𝔻_P ) )"
   ]
  },
  {
   "cell_type": "code",
   "execution_count": 85,
   "id": "63f45fcc",
   "metadata": {},
   "outputs": [
    {
     "data": {
      "text/latex": [
       "$${v_1}^{\\oplus 3}\\oplus{v_2}^{\\oplus 3}\\oplus{v_3}\\oplus{v_4}^{\\oplus 2}\\xrightarrow{\\begin{pmatrix}{v_1}&{v_1}&{v_1}&0&0&0&0&0&0\\\\ \n",
       "{v_1}&{v_1}&{v_1}&0&0&0&0&0&0\\\\ \n",
       "{v_1}&{v_1}&{v_1}&0&0&0&0&0&0\\\\ \n",
       "{a}&{a}&{a}&{v_2}&{v_2}&{v_2}&0&0&0\\\\ \n",
       "{a}&{a}&{a}&{v_2}&{v_2}&{v_2}&0&0&0\\\\ \n",
       "{a}&{a}&{a}&{v_2}&{v_2}&{v_2}&0&0&0\\\\ \n",
       "{c}&{c}&{c}&0&0&0&{v_3}&0&0\\\\ \n",
       "{ba}&{ba}&{ba}&{b}&{b}&{b}&{d}&{v_4}&{v_4}\\\\ \n",
       "{ba}&{ba}&{ba}&{b}&{b}&{b}&{d}&{v_4}&{v_4}\\end{pmatrix}}{v_1}^{\\oplus 3}\\oplus{v_2}^{\\oplus 3}\\oplus{v_3}\\oplus{v_4}^{\\oplus 2}$$"
      ]
     },
     "metadata": {},
     "output_type": "display_data"
    }
   ],
   "source": [
    "Show( φ )"
   ]
  },
  {
   "cell_type": "code",
   "execution_count": 86,
   "id": "275765d0",
   "metadata": {},
   "outputs": [
    {
     "data": {
      "text/plain": [
       "GAP: A morphism in full subcategory given by: <(v₁)->3x3, (v₂)->6x6, (v₃)->4x4, (v₄)->9x9>"
      ]
     },
     "execution_count": 86,
     "metadata": {},
     "output_type": "execute_result"
    }
   ],
   "source": [
    "𝕐_φ = ApplyFunctor( 𝕐, φ )"
   ]
  },
  {
   "cell_type": "code",
   "execution_count": 87,
   "id": "70758500",
   "metadata": {},
   "outputs": [
    {
     "data": {
      "text/plain": [
       "GAP: Homotopy^• category( Additive closure( Algebroid( (Q * q_op) / [ -1*(d*c) + 1*(b*a) ] ) ) )"
      ]
     },
     "execution_count": 87,
     "metadata": {},
     "output_type": "execute_result"
    }
   ],
   "source": [
    "𝓚ᵇ𝐀ᵒᵖ_plus = HomotopyCategoryByCochains( 𝐀ᵒᵖ_plus )"
   ]
  },
  {
   "cell_type": "code",
   "execution_count": 88,
   "id": "a63bf9c8",
   "metadata": {},
   "outputs": [
    {
     "data": {
      "text/plain": [
       "GAP: Homotopy^• category( Full additive subcategory generated by projective objects( FunctorCategory( Algebroid( (Q * q) / [ -1*(c*d) + 1*(a*b) ] ), Category of matrices over Q ) ) )"
      ]
     },
     "execution_count": 88,
     "metadata": {},
     "output_type": "execute_result"
    }
   ],
   "source": [
    "𝓚ᵇproj₋𝐀 = HomotopyCategoryByCochains( proj₋𝐀 )"
   ]
  },
  {
   "cell_type": "code",
   "execution_count": 89,
   "id": "032067c8",
   "metadata": {},
   "outputs": [
    {
     "data": {
      "text/plain": [
       "GAP: Extension of ( Yoneda embedding ) to homotopy categories"
      ]
     },
     "execution_count": 89,
     "metadata": {},
     "output_type": "execute_result"
    }
   ],
   "source": [
    "𝕐 = ExtendFunctorToHomotopyCategoriesByCochains( 𝕐 )"
   ]
  },
  {
   "cell_type": "code",
   "execution_count": 90,
   "id": "41e930cb",
   "metadata": {},
   "outputs": [
    {
     "name": "stdout",
     "output_type": "stream",
     "text": [
      "Extension of ( Yoneda embedding ) to homotopy categories:\n",
      "\n",
      "Homotopy^• category( Additive closure( Algebroid( (Q * q_op) / [ -1*(d*c) + 1*(b*a) ] ) ) )\n",
      "  |\n",
      "  V\n",
      "Homotopy^• category( Full additive subcategory generated by projective objects( FunctorCategory( Algebroid( (Q * q) / [ -1*(c*d) + 1*(a*b) ] ), Category of matrices over Q ) ) )\n"
     ]
    }
   ],
   "source": [
    "Display( 𝕐 )"
   ]
  },
  {
   "cell_type": "code",
   "execution_count": 91,
   "id": "b3a5ef99",
   "metadata": {},
   "outputs": [
    {
     "data": {
      "text/plain": [
       "GAP: Extension of ( Decomposition of projective objects ) to homotopy categories"
      ]
     },
     "execution_count": 91,
     "metadata": {},
     "output_type": "execute_result"
    }
   ],
   "source": [
    "𝔻 = ExtendFunctorToHomotopyCategoriesByCochains( 𝔻 )"
   ]
  },
  {
   "cell_type": "code",
   "execution_count": 92,
   "id": "bd0e4c0e",
   "metadata": {},
   "outputs": [
    {
     "name": "stdout",
     "output_type": "stream",
     "text": [
      "Extension of ( Decomposition of projective objects ) to homotopy categories:\n",
      "\n",
      "Homotopy^• category( Full additive subcategory generated by projective objects( FunctorCategory( Algebroid( (Q * q) / [ -1*(c*d) + 1*(a*b) ] ), Category of matrices over Q ) ) )\n",
      "  |\n",
      "  V\n",
      "Homotopy^• category( Additive closure( Algebroid( (Q * q_op) / [ -1*(d*c) + 1*(b*a) ] ) ) )\n"
     ]
    }
   ],
   "source": [
    "Display( 𝔻 )"
   ]
  },
  {
   "cell_type": "code",
   "execution_count": 93,
   "id": "783c38a9",
   "metadata": {},
   "outputs": [
    {
     "data": {
      "text/plain": [
       "GAP: Cochain complexes( FunctorCategory( Algebroid( (Q * q) / [ -1*(c*d) + 1*(a*b) ] ), Category of matrices over Q ) )"
      ]
     },
     "execution_count": 93,
     "metadata": {},
     "output_type": "execute_result"
    }
   ],
   "source": [
    "𝓒ᵇmod₋𝐀 = ComplexCategoryByCochains( mod₋𝐀 )"
   ]
  },
  {
   "cell_type": "code",
   "execution_count": 94,
   "id": "cc6a8931",
   "metadata": {},
   "outputs": [
    {
     "data": {
      "text/plain": [
       "GAP: Homotopy^• category( FunctorCategory( Algebroid( (Q * q) / [ -1*(c*d) + 1*(a*b) ] ), Category of matrices over Q ) )"
      ]
     },
     "execution_count": 94,
     "metadata": {},
     "output_type": "execute_result"
    }
   ],
   "source": [
    "𝓚ᵇmod₋𝐀 = HomotopyCategoryByCochains( mod₋𝐀 )"
   ]
  },
  {
   "cell_type": "code",
   "execution_count": 95,
   "id": "f0151499",
   "metadata": {},
   "outputs": [
    {
     "data": {
      "text/plain": [
       "GAP: Derived^• category( FunctorCategory( Algebroid( (Q * q) / [ -1*(c*d) + 1*(a*b) ] ), Category of matrices over Q ) )"
      ]
     },
     "execution_count": 95,
     "metadata": {},
     "output_type": "execute_result"
    }
   ],
   "source": [
    "𝓓ᵇmod₋𝐀 = DerivedCategoryByCochains( mod₋𝐀 )"
   ]
  },
  {
   "cell_type": "code",
   "execution_count": 96,
   "id": "a2de4602",
   "metadata": {},
   "outputs": [
    {
     "name": "stdout",
     "output_type": "stream",
     "text": [
      "Extension of ( The inclusion functor from Full additive subcategory generated by projective objects( FunctorCategory( Algebroid( (Q * q) / [ -1*(c*d) + 1*(a*b) ] ), Category of matrices over Q ) ) in FunctorCategory( Algebroid( (Q * q) / [ -1*(c*d) + 1*(a*b) ] ), Category of matrices over Q ) ) to homotopy categories:\n",
      "\n",
      "Homotopy^• category( Full additive subcategory generated by projective objects( FunctorCategory( Algebroid( (Q * q) / [ -1*(c*d) + 1*(a*b) ] ), Category of matrices over Q ) ) )\n",
      "  |\n",
      "  V\n",
      "Homotopy^• category( FunctorCategory( Algebroid( (Q * q) / [ -1*(c*d) + 1*(a*b) ] ), Category of matrices over Q ) )\n"
     ]
    }
   ],
   "source": [
    "𝕀 = InclusionFunctor( proj₋𝐀 ); 𝕀 = ExtendFunctorToHomotopyCategoriesByCochains( 𝕀 ); Display( 𝕀 )"
   ]
  },
  {
   "cell_type": "code",
   "execution_count": 97,
   "id": "7a1588a2",
   "metadata": {},
   "outputs": [
    {
     "data": {
      "text/plain": [
       "GAP: Localization functor in derived category"
      ]
     },
     "execution_count": 97,
     "metadata": {},
     "output_type": "execute_result"
    }
   ],
   "source": [
    "𝕃 = LocalizationFunctor( 𝓚ᵇmod₋𝐀 )"
   ]
  },
  {
   "cell_type": "code",
   "execution_count": 98,
   "id": "3ab8cab9",
   "metadata": {},
   "outputs": [
    {
     "name": "stdout",
     "output_type": "stream",
     "text": [
      "Localization functor in derived category:\n",
      "\n",
      "Homotopy^• category( FunctorCategory( Algebroid( (Q * q) / [ -1*(c*d) + 1*(a*b) ] ), Category of matrices over Q ) )\n",
      "  |\n",
      "  V\n",
      "Derived^• category( FunctorCategory( Algebroid( (Q * q) / [ -1*(c*d) + 1*(a*b) ] ), Category of matrices over Q ) )\n"
     ]
    }
   ],
   "source": [
    "Display( 𝕃 )"
   ]
  },
  {
   "cell_type": "code",
   "execution_count": 99,
   "id": "ee7c93c5",
   "metadata": {},
   "outputs": [],
   "source": [
    "𝕐𝕀𝕃 = PreCompose( [ 𝕐, 𝕀, 𝕃 ] );"
   ]
  },
  {
   "cell_type": "code",
   "execution_count": 100,
   "id": "40ea43f5",
   "metadata": {},
   "outputs": [
    {
     "name": "stdout",
     "output_type": "stream",
     "text": [
      "Composition of Composition of Extension of ( Yoneda embedding ) to homotopy categories and Extension of ( The inclusion functor from Full additive subcategory generated by projective objects( FunctorCategory( Algebroid( (Q * q) / [ -1*(c*d) + 1*(a*b) ] ), Category of matrices over Q ) ) in FunctorCategory( Algebroid( (Q * q) / [ -1*(c*d) + 1*(a*b) ] ), Category of matrices over Q ) ) to homotopy categories and Localization functor in derived category:\n",
      "\n",
      "Homotopy^• category( Additive closure( Algebroid( (Q * q_op) / [ -1*(d*c) + 1*(b*a) ] ) ) )\n",
      "  |\n",
      "  V\n",
      "Derived^• category( FunctorCategory( Algebroid( (Q * q) / [ -1*(c*d) + 1*(a*b) ] ), Category of matrices over Q ) )\n"
     ]
    }
   ],
   "source": [
    "Display( 𝕐𝕀𝕃 )"
   ]
  },
  {
   "cell_type": "code",
   "execution_count": 101,
   "id": "57f58a13",
   "metadata": {},
   "outputs": [
    {
     "data": {
      "text/plain": [
       "GAP: Localization functor by projective objects"
      ]
     },
     "execution_count": 101,
     "metadata": {},
     "output_type": "execute_result"
    }
   ],
   "source": [
    "ℙ = LocalizationFunctorByProjectiveObjects( 𝓚ᵇmod₋𝐀 )"
   ]
  },
  {
   "cell_type": "code",
   "execution_count": 102,
   "id": "2517b63a",
   "metadata": {},
   "outputs": [
    {
     "data": {
      "text/plain": [
       "GAP: Universal functor from derived category onto a localization category"
      ]
     },
     "execution_count": 102,
     "metadata": {},
     "output_type": "execute_result"
    }
   ],
   "source": [
    "𝕌 = UniversalFunctorFromDerivedCategory( PreCompose( ℙ, 𝔻 ) )"
   ]
  },
  {
   "cell_type": "code",
   "execution_count": 103,
   "id": "b4042e72",
   "metadata": {},
   "outputs": [
    {
     "name": "stdout",
     "output_type": "stream",
     "text": [
      "Universal functor from derived category onto a localization category:\n",
      "\n",
      "Derived^• category( FunctorCategory( Algebroid( (Q * q) / [ -1*(c*d) + 1*(a*b) ] ), Category of matrices over Q ) )\n",
      "  |\n",
      "  V\n",
      "Homotopy^• category( Additive closure( Algebroid( (Q * q_op) / [ -1*(d*c) + 1*(b*a) ] ) ) )\n"
     ]
    }
   ],
   "source": [
    "Display( 𝕌 )"
   ]
  },
  {
   "cell_type": "code",
   "execution_count": 104,
   "id": "9a6e62a0",
   "metadata": {},
   "outputs": [
    {
     "data": {
      "text/plain": [
       "GAP: <An object in Additive closure( Algebroid( (Q * q_op) / [ -1*(d*c) + 1*(b*a) ] ) ) defined by 1 underlying objects>"
      ]
     },
     "execution_count": 104,
     "metadata": {},
     "output_type": "execute_result"
    }
   ],
   "source": [
    "C⁻¹ = AdditiveClosureObject(\n",
    "            [ 𝐀ᵒᵖ.\"v₄\" ], \n",
    "            𝐀ᵒᵖ_plus\n",
    "        )"
   ]
  },
  {
   "cell_type": "code",
   "execution_count": 105,
   "id": "3fa57b39",
   "metadata": {},
   "outputs": [
    {
     "data": {
      "text/plain": [
       "GAP: <An object in Additive closure( Algebroid( (Q * q_op) / [ -1*(d*c) + 1*(b*a) ] ) ) defined by 2 underlying objects>"
      ]
     },
     "execution_count": 105,
     "metadata": {},
     "output_type": "execute_result"
    }
   ],
   "source": [
    "C⁰ = AdditiveClosureObject(\n",
    "            [ 𝐀ᵒᵖ.\"v₂\", 𝐀ᵒᵖ.\"v₃\" ], \n",
    "            𝐀ᵒᵖ_plus\n",
    "        )"
   ]
  },
  {
   "cell_type": "code",
   "execution_count": 106,
   "id": "15e3c85d",
   "metadata": {},
   "outputs": [
    {
     "data": {
      "text/plain": [
       "GAP: <A morphism in Additive closure( Algebroid( (Q * q_op) / [ -1*(d*c) + 1*(b*a) ] ) ) defined by a 1 x 2 matrix of underlying morphisms>"
      ]
     },
     "execution_count": 106,
     "metadata": {},
     "output_type": "execute_result"
    }
   ],
   "source": [
    "∂⁻¹ = AdditiveClosureMorphism(\n",
    "            C⁻¹, \n",
    "            [\n",
    "                [ 𝐀ᵒᵖ.\"b\", 𝐀ᵒᵖ.\"d\" ],\n",
    "            ],\n",
    "            C⁰\n",
    "        )"
   ]
  },
  {
   "cell_type": "code",
   "execution_count": 107,
   "id": "0958c5ad",
   "metadata": {},
   "outputs": [
    {
     "data": {
      "text/latex": [
       "$${v_4}\\xrightarrow{\\begin{pmatrix}{b}&{d}\\end{pmatrix}}{v_2}\\oplus{v_3}$$"
      ]
     },
     "metadata": {},
     "output_type": "display_data"
    }
   ],
   "source": [
    "Show( ∂⁻¹ )"
   ]
  },
  {
   "cell_type": "code",
   "execution_count": 108,
   "id": "d6eae5f7",
   "metadata": {},
   "outputs": [
    {
     "data": {
      "text/plain": [
       "GAP: <An object in Homotopy^• category( Additive closure( Algebroid( (Q * q_op) / [ -1*(d*c) + 1*(b*a) ] ) ) ) with active lower bound -1 and active upper bound 0>"
      ]
     },
     "execution_count": 108,
     "metadata": {},
     "output_type": "execute_result"
    }
   ],
   "source": [
    "C = HomotopyCategoryObject( 𝓚ᵇ𝐀ᵒᵖ_plus, [ ∂⁻¹ ], -1 )"
   ]
  },
  {
   "cell_type": "code",
   "execution_count": 109,
   "id": "1bceac9d",
   "metadata": {},
   "outputs": [
    {
     "data": {
      "text/latex": [
       "$$\\begin{array}{c}\n",
       " {v_2}\\oplus{v_3}\n",
       " \\\\ \n",
       " { \\color{black}\\uparrow_{\\phantom{-1}}} \n",
       " \\\\ \n",
       " \\begin{pmatrix}{b}&{d}\\end{pmatrix}\n",
       " \\\\ \n",
       " { \\color{black}\\vert_{-1}} \n",
       " \n",
       " \\\\ \n",
       "{v_4}\\end{array}$$"
      ]
     },
     "metadata": {},
     "output_type": "display_data"
    }
   ],
   "source": [
    "Show( C )"
   ]
  },
  {
   "cell_type": "code",
   "execution_count": 110,
   "id": "d98e4108",
   "metadata": {},
   "outputs": [
    {
     "data": {
      "text/plain": [
       "GAP: <An object in Derived^• category( FunctorCategory( Algebroid( (Q * q) / [ -1*(c*d) + 1*(a*b) ] ), Category of matrices over Q ) ) with active lower bound -1 and active upper bound 0>"
      ]
     },
     "execution_count": 110,
     "metadata": {},
     "output_type": "execute_result"
    }
   ],
   "source": [
    "𝕐𝕀𝕃_C = ApplyFunctor( 𝕐𝕀𝕃, C )"
   ]
  },
  {
   "cell_type": "code",
   "execution_count": 111,
   "id": "b9e5e342",
   "metadata": {},
   "outputs": [
    {
     "name": "stdout",
     "output_type": "stream",
     "text": [
      "== 0 =======================\n",
      "Image of <(v₁)>:\n",
      "A vector space object over Q of dimension 0\n",
      "\n",
      "Image of <(v₂)>:\n",
      "A vector space object over Q of dimension 1\n",
      "\n",
      "Image of <(v₃)>:\n",
      "A vector space object over Q of dimension 1\n",
      "\n",
      "Image of <(v₄)>:\n",
      "A vector space object over Q of dimension 2\n",
      "\n",
      "Image of (v₁)-[{ 1*(a) }]->(v₂):\n",
      "(an empty 0 x 1 matrix)\n",
      "\n",
      "A morphism in Category of matrices over Q\n",
      "\n",
      "Image of (v₂)-[{ 1*(b) }]->(v₄):\n",
      "[ [  1,  0 ] ]\n",
      "\n",
      "A morphism in Category of matrices over Q\n",
      "\n",
      "Image of (v₁)-[{ 1*(c) }]->(v₃):\n",
      "(an empty 0 x 1 matrix)\n",
      "\n",
      "A morphism in Category of matrices over Q\n",
      "\n",
      "Image of (v₃)-[{ 1*(d) }]->(v₄):\n",
      "[ [  0,  1 ] ]\n",
      "\n",
      "A morphism in Category of matrices over Q\n",
      "\n",
      "An object in FunctorCategory( Algebroid( (Q * q) / [ -1*(c*d) + 1*(a*b) ] ), Category of matrices over Q ) given by the above data\n",
      "\n",
      "============================\n",
      "\n",
      "   Λ\n",
      "   |\n",
      "Image of <(v₁)>:\n",
      "(an empty 0 x 0 matrix)\n",
      "\n",
      "A morphism in Category of matrices over Q\n",
      "\n",
      "Image of <(v₂)>:\n",
      "(an empty 0 x 1 matrix)\n",
      "\n",
      "A morphism in Category of matrices over Q\n",
      "\n",
      "Image of <(v₃)>:\n",
      "(an empty 0 x 1 matrix)\n",
      "\n",
      "A morphism in Category of matrices over Q\n",
      "\n",
      "Image of <(v₄)>:\n",
      "[ [  1,  1 ] ]\n",
      "\n",
      "A morphism in Category of matrices over Q\n",
      "\n",
      "A morphism in FunctorCategory( Algebroid( (Q * q) / [ -1*(c*d) + 1*(a*b) ] ), Category of matrices over Q ) given by the above data\n",
      "\n",
      "   |\n",
      "\n",
      "== -1 =======================\n",
      "Image of <(v₁)>:\n",
      "A vector space object over Q of dimension 0\n",
      "\n",
      "Image of <(v₂)>:\n",
      "A vector space object over Q of dimension 0\n",
      "\n",
      "Image of <(v₃)>:\n",
      "A vector space object over Q of dimension 0\n",
      "\n",
      "Image of <(v₄)>:\n",
      "A vector space object over Q of dimension 1\n",
      "\n",
      "Image of (v₁)-[{ 1*(a) }]->(v₂):\n",
      "(an empty 0 x 0 matrix)\n",
      "\n",
      "A morphism in Category of matrices over Q\n",
      "\n",
      "Image of (v₂)-[{ 1*(b) }]->(v₄):\n",
      "(an empty 0 x 1 matrix)\n",
      "\n",
      "A morphism in Category of matrices over Q\n",
      "\n",
      "Image of (v₁)-[{ 1*(c) }]->(v₃):\n",
      "(an empty 0 x 0 matrix)\n",
      "\n",
      "A morphism in Category of matrices over Q\n",
      "\n",
      "Image of (v₃)-[{ 1*(d) }]->(v₄):\n",
      "(an empty 0 x 1 matrix)\n",
      "\n",
      "A morphism in Category of matrices over Q\n",
      "\n",
      "An object in FunctorCategory( Algebroid( (Q * q) / [ -1*(c*d) + 1*(a*b) ] ), Category of matrices over Q ) given by the above data\n",
      "\n",
      "=============================\n",
      "\n",
      "\n",
      "An object in Derived^• category( FunctorCategory( Algebroid( (Q * q) / [ -1*(c*d) + 1*(a*b) ] ), Category of matrices over Q ) ) given by the above data\n"
     ]
    }
   ],
   "source": [
    "Display( 𝕐𝕀𝕃_C )"
   ]
  },
  {
   "cell_type": "code",
   "execution_count": 112,
   "id": "abcd89f3",
   "metadata": {},
   "outputs": [
    {
     "data": {
      "text/plain": [
       "GAP: [ 0 ]"
      ]
     },
     "execution_count": 112,
     "metadata": {},
     "output_type": "execute_result"
    }
   ],
   "source": [
    "CohomologySupport( 𝕐𝕀𝕃_C )"
   ]
  },
  {
   "cell_type": "code",
   "execution_count": 113,
   "id": "dd33a385",
   "metadata": {},
   "outputs": [
    {
     "data": {
      "text/plain": [
       "GAP: <(v₁)->0, (v₂)->1, (v₃)->1, (v₄)->1; (a)->0x1, (b)->1x1, (c)->0x1, (d)->1x1>"
      ]
     },
     "execution_count": 113,
     "metadata": {},
     "output_type": "execute_result"
    }
   ],
   "source": [
    "H⁰ = CohomologyAt( 𝕐𝕀𝕃_C, 0 )"
   ]
  },
  {
   "cell_type": "code",
   "execution_count": 114,
   "id": "7d7d5649",
   "metadata": {},
   "outputs": [
    {
     "name": "stdout",
     "output_type": "stream",
     "text": [
      "Image of <(v₁)>:\n",
      "A vector space object over Q of dimension 0\n",
      "\n",
      "Image of <(v₂)>:\n",
      "A vector space object over Q of dimension 1\n",
      "\n",
      "Image of <(v₃)>:\n",
      "A vector space object over Q of dimension 1\n",
      "\n",
      "Image of <(v₄)>:\n",
      "A vector space object over Q of dimension 1\n",
      "\n",
      "Image of (v₁)-[{ 1*(a) }]->(v₂):\n",
      "(an empty 0 x 1 matrix)\n",
      "\n",
      "A morphism in Category of matrices over Q\n",
      "\n",
      "Image of (v₂)-[{ 1*(b) }]->(v₄):\n",
      "[ [  -1 ] ]\n",
      "\n",
      "A morphism in Category of matrices over Q\n",
      "\n",
      "Image of (v₁)-[{ 1*(c) }]->(v₃):\n",
      "(an empty 0 x 1 matrix)\n",
      "\n",
      "A morphism in Category of matrices over Q\n",
      "\n",
      "Image of (v₃)-[{ 1*(d) }]->(v₄):\n",
      "[ [  1 ] ]\n",
      "\n",
      "A morphism in Category of matrices over Q\n",
      "\n",
      "An object in FunctorCategory( Algebroid( (Q * q) / [ -1*(c*d) + 1*(a*b) ] ), Category of matrices over Q ) given by the above data\n"
     ]
    }
   ],
   "source": [
    "Display( H⁰ )"
   ]
  },
  {
   "cell_type": "code",
   "execution_count": 115,
   "id": "223e5270",
   "metadata": {},
   "outputs": [],
   "source": [
    "∂⁻¹ = DifferentialAt( 𝕐𝕀𝕃_C, -1 );"
   ]
  },
  {
   "cell_type": "code",
   "execution_count": 116,
   "id": "7db901f8",
   "metadata": {},
   "outputs": [
    {
     "name": "stdout",
     "output_type": "stream",
     "text": [
      "Image of <(v₁)>:\n",
      "(an empty 0 x 0 matrix)\n",
      "\n",
      "A morphism in Category of matrices over Q\n",
      "\n",
      "Image of <(v₂)>:\n",
      "(an empty 0 x 1 matrix)\n",
      "\n",
      "A morphism in Category of matrices over Q\n",
      "\n",
      "Image of <(v₃)>:\n",
      "(an empty 0 x 1 matrix)\n",
      "\n",
      "A morphism in Category of matrices over Q\n",
      "\n",
      "Image of <(v₄)>:\n",
      "[ [  1,  1 ] ]\n",
      "\n",
      "A morphism in Category of matrices over Q\n",
      "\n",
      "A morphism in FunctorCategory( Algebroid( (Q * q) / [ -1*(c*d) + 1*(a*b) ] ), Category of matrices over Q ) given by the above data\n"
     ]
    }
   ],
   "source": [
    "Display( ∂⁻¹ )"
   ]
  },
  {
   "cell_type": "code",
   "execution_count": 117,
   "id": "005eab3a",
   "metadata": {},
   "outputs": [
    {
     "data": {
      "text/plain": [
       "GAP: <(v₁)->0x0, (v₂)->1x1, (v₃)->1x1, (v₄)->2x1>"
      ]
     },
     "execution_count": 117,
     "metadata": {},
     "output_type": "execute_result"
    }
   ],
   "source": [
    "∂⁰ = CokernelProjection( ∂⁻¹ )"
   ]
  },
  {
   "cell_type": "code",
   "execution_count": 118,
   "id": "5697df39",
   "metadata": {},
   "outputs": [
    {
     "name": "stdout",
     "output_type": "stream",
     "text": [
      "Image of <(v₁)>:\n",
      "(an empty 0 x 0 matrix)\n",
      "\n",
      "A morphism in Category of matrices over Q\n",
      "\n",
      "Image of <(v₂)>:\n",
      "[ [  1 ] ]\n",
      "\n",
      "A morphism in Category of matrices over Q\n",
      "\n",
      "Image of <(v₃)>:\n",
      "[ [  1 ] ]\n",
      "\n",
      "A morphism in Category of matrices over Q\n",
      "\n",
      "Image of <(v₄)>:\n",
      "[ [  -1 ],\n",
      "  [   1 ] ]\n",
      "\n",
      "A morphism in Category of matrices over Q\n",
      "\n",
      "A morphism in FunctorCategory( Algebroid( (Q * q) / [ -1*(c*d) + 1*(a*b) ] ), Category of matrices over Q ) given by the above data\n"
     ]
    }
   ],
   "source": [
    "Display( ∂⁰ )"
   ]
  },
  {
   "cell_type": "code",
   "execution_count": 119,
   "id": "193ba345",
   "metadata": {},
   "outputs": [
    {
     "data": {
      "text/plain": [
       "true"
      ]
     },
     "execution_count": 119,
     "metadata": {},
     "output_type": "execute_result"
    }
   ],
   "source": [
    "IsEqualForObjects( H⁰, Range( ∂⁰ ) )"
   ]
  },
  {
   "cell_type": "code",
   "execution_count": 120,
   "id": "80c4653e",
   "metadata": {},
   "outputs": [
    {
     "data": {
      "text/plain": [
       "GAP: <An object in Derived^• category( FunctorCategory( Algebroid( (Q * q) / [ -1*(c*d) + 1*(a*b) ] ), Category of matrices over Q ) ) with active lower bound -1 and active upper bound 1>"
      ]
     },
     "execution_count": 120,
     "metadata": {},
     "output_type": "execute_result"
    }
   ],
   "source": [
    "B = DerivedCategoryObject( 𝓓ᵇmod₋𝐀, [ ∂⁻¹, ∂⁰ ], -1 )"
   ]
  },
  {
   "cell_type": "code",
   "execution_count": 121,
   "id": "a7879940",
   "metadata": {},
   "outputs": [
    {
     "data": {
      "text/plain": [
       "GAP: [  ]"
      ]
     },
     "execution_count": 121,
     "metadata": {},
     "output_type": "execute_result"
    }
   ],
   "source": [
    "CohomologySupport( B )"
   ]
  },
  {
   "cell_type": "code",
   "execution_count": 122,
   "id": "5d7576ea",
   "metadata": {},
   "outputs": [
    {
     "data": {
      "text/plain": [
       "true"
      ]
     },
     "execution_count": 122,
     "metadata": {},
     "output_type": "execute_result"
    }
   ],
   "source": [
    "IsZero( B )"
   ]
  },
  {
   "cell_type": "code",
   "execution_count": 123,
   "id": "f53ccaf1",
   "metadata": {},
   "outputs": [
    {
     "data": {
      "text/plain": [
       "GAP: <An object in Homotopy^• category( Additive closure( Algebroid( (Q * q_op) / [ -1*(d*c) + 1*(b*a) ] ) ) ) with active lower bound -1 and active upper bound 1>"
      ]
     },
     "execution_count": 123,
     "metadata": {},
     "output_type": "execute_result"
    }
   ],
   "source": [
    "𝕌_B = ApplyFunctor( 𝕌, B )"
   ]
  },
  {
   "cell_type": "code",
   "execution_count": 124,
   "id": "b54ec4c7",
   "metadata": {},
   "outputs": [
    {
     "data": {
      "text/latex": [
       "$$\\begin{array}{c}\n",
       " {v_2}\\oplus{v_3}\n",
       " \\\\ \n",
       " { \\color{black}\\uparrow_{\\phantom{0}}} \n",
       " \\\\ \n",
       " \\begin{pmatrix}{v_2}&0\\\\ \n",
       "0&{v_3}\\\\ \n",
       "-{b}&-{d}\\end{pmatrix}\n",
       " \\\\ \n",
       " { \\color{black}\\vert_{0}} \n",
       " \n",
       " \\\\ \n",
       "{v_2}\\oplus{v_3}\\oplus{v_4}\\\\ \n",
       " { \\color{black}\\uparrow_{\\phantom{-1}}} \n",
       " \\\\ \n",
       " \\begin{pmatrix}{b}&{d}&{v_4}\\end{pmatrix}\n",
       " \\\\ \n",
       " { \\color{black}\\vert_{-1}} \n",
       " \n",
       " \\\\ \n",
       "{v_4}\\end{array}$$"
      ]
     },
     "metadata": {},
     "output_type": "display_data"
    }
   ],
   "source": [
    "Show( 𝕌_B )"
   ]
  },
  {
   "cell_type": "code",
   "execution_count": 125,
   "id": "13b667d6",
   "metadata": {},
   "outputs": [
    {
     "data": {
      "text/plain": [
       "true"
      ]
     },
     "execution_count": 125,
     "metadata": {},
     "output_type": "execute_result"
    }
   ],
   "source": [
    "IsZero( 𝕌_B )"
   ]
  },
  {
   "cell_type": "code",
   "execution_count": 126,
   "id": "ae07d385",
   "metadata": {},
   "outputs": [
    {
     "data": {
      "text/plain": [
       "GAP: <(v₁)->1, (v₂)->1, (v₃)->1, (v₄)->1; (a)->1x1, (b)->1x1, (c)->1x1, (d)->1x1>"
      ]
     },
     "execution_count": 126,
     "metadata": {},
     "output_type": "execute_result"
    }
   ],
   "source": [
    "𝓔₁ = P₂; 𝓔₂ = P₃; 𝓔₃ = H⁰; 𝓔₄ = P₁"
   ]
  },
  {
   "cell_type": "code",
   "execution_count": 127,
   "id": "b0ae3e55",
   "metadata": {},
   "outputs": [
    {
     "data": {
      "text/plain": [
       "GAP: <(v₁)->1, (v₂)->3, (v₃)->3, (v₄)->4; (a)->1x3, (b)->3x4, (c)->1x3, (d)->3x4>"
      ]
     },
     "execution_count": 127,
     "metadata": {},
     "output_type": "execute_result"
    }
   ],
   "source": [
    "T_𝓔 = DirectSum( 𝓔₁, 𝓔₂, 𝓔₃, 𝓔₄ )"
   ]
  },
  {
   "cell_type": "code",
   "execution_count": 128,
   "id": "1518d1c3",
   "metadata": {},
   "outputs": [
    {
     "name": "stdout",
     "output_type": "stream",
     "text": [
      "Image of <(v₁)>:\n",
      "A vector space object over Q of dimension 1\n",
      "\n",
      "Image of <(v₂)>:\n",
      "A vector space object over Q of dimension 3\n",
      "\n",
      "Image of <(v₃)>:\n",
      "A vector space object over Q of dimension 3\n",
      "\n",
      "Image of <(v₄)>:\n",
      "A vector space object over Q of dimension 4\n",
      "\n",
      "Image of (v₁)-[{ 1*(a) }]->(v₂):\n",
      "[ [  0,  0,  1 ] ]\n",
      "\n",
      "A morphism in Category of matrices over Q\n",
      "\n",
      "Image of (v₂)-[{ 1*(b) }]->(v₄):\n",
      "[ [   1,   0,   0,   0 ],\n",
      "  [   0,   0,  -1,   0 ],\n",
      "  [   0,   0,   0,   1 ] ]\n",
      "\n",
      "A morphism in Category of matrices over Q\n",
      "\n",
      "Image of (v₁)-[{ 1*(c) }]->(v₃):\n",
      "[ [  0,  0,  1 ] ]\n",
      "\n",
      "A morphism in Category of matrices over Q\n",
      "\n",
      "Image of (v₃)-[{ 1*(d) }]->(v₄):\n",
      "[ [  0,  1,  0,  0 ],\n",
      "  [  0,  0,  1,  0 ],\n",
      "  [  0,  0,  0,  1 ] ]\n",
      "\n",
      "A morphism in Category of matrices over Q\n",
      "\n",
      "An object in FunctorCategory( Algebroid( (Q * q) / [ -1*(c*d) + 1*(a*b) ] ), Category of matrices over Q ) given by the above data\n"
     ]
    }
   ],
   "source": [
    "Display( T_𝓔 )"
   ]
  },
  {
   "cell_type": "code",
   "execution_count": 129,
   "id": "f435dd41",
   "metadata": {},
   "outputs": [
    {
     "data": {
      "text/plain": [
       "GAP: <A vector space object over Q of dimension 9>"
      ]
     },
     "execution_count": 129,
     "metadata": {},
     "output_type": "execute_result"
    }
   ],
   "source": [
    "HomStructure( T_𝓔, T_𝓔 )"
   ]
  },
  {
   "cell_type": "code",
   "execution_count": 130,
   "id": "07aa87e3",
   "metadata": {},
   "outputs": [
    {
     "data": {
      "text/plain": [
       "GAP: <A strong exceptional collection defined by the objects of The full subcategory { [0101], [0011], [0111], [1111] }>"
      ]
     },
     "execution_count": 130,
     "metadata": {},
     "output_type": "execute_result"
    }
   ],
   "source": [
    "𝓔 = CreateStrongExceptionalCollection( [ 𝓔₁, 𝓔₂, 𝓔₃, 𝓔₄ ], [ \"[0101]\", \"[0011]\", \"[0111]\", \"[1111]\" ] )"
   ]
  },
  {
   "cell_type": "code",
   "execution_count": 131,
   "id": "9ba75291",
   "metadata": {},
   "outputs": [
    {
     "data": {
      "text/plain": [
       "GAP: Algebroid( End( [0101] ⊕ [0011] ⊕ [0111] ⊕ [1111] ) )"
      ]
     },
     "execution_count": 131,
     "metadata": {},
     "output_type": "execute_result"
    }
   ],
   "source": [
    "𝐀_𝓔 = Algebroid( 𝓔 )"
   ]
  },
  {
   "cell_type": "code",
   "execution_count": 132,
   "id": "a0ce0cfb",
   "metadata": {},
   "outputs": [
    {
     "data": {
      "text/plain": [
       "GAP: quiver([0101],[0011],[0111],[1111])[m1_3_1:[0101]->[0111],m2_3_1:[0011]->[0111],m3_4_1:[0111]->[1111]]"
      ]
     },
     "execution_count": 132,
     "metadata": {},
     "output_type": "execute_result"
    }
   ],
   "source": [
    "𝔮_𝓔 = UnderlyingQuiver( 𝐀_𝓔 )"
   ]
  },
  {
   "cell_type": "code",
   "execution_count": 133,
   "id": "d54f8cde",
   "metadata": {},
   "outputs": [
    {
     "data": {
      "text/plain": [
       "GAP: [  ]"
      ]
     },
     "execution_count": 133,
     "metadata": {},
     "output_type": "execute_result"
    }
   ],
   "source": [
    "RelationsOfAlgebroid( 𝐀_𝓔 )"
   ]
  },
  {
   "cell_type": "code",
   "execution_count": 134,
   "id": "d3f96b10",
   "metadata": {},
   "outputs": [
    {
     "data": {
      "text/plain": [
       "GAP: Abstraction isomorphism"
      ]
     },
     "execution_count": 134,
     "metadata": {},
     "output_type": "execute_result"
    }
   ],
   "source": [
    "𝕒 = IsomorphismOntoAlgebroid( 𝓔 )"
   ]
  },
  {
   "cell_type": "code",
   "execution_count": 135,
   "id": "eedb8fe8",
   "metadata": {},
   "outputs": [
    {
     "data": {
      "text/plain": [
       "GAP: Realization isomorphism"
      ]
     },
     "execution_count": 135,
     "metadata": {},
     "output_type": "execute_result"
    }
   ],
   "source": [
    "𝕣 = IsomorphismFromAlgebroid( 𝓔 )"
   ]
  },
  {
   "cell_type": "code",
   "execution_count": 136,
   "id": "ca10df49",
   "metadata": {},
   "outputs": [
    {
     "data": {
      "text/plain": [
       "GAP: <([1111])>"
      ]
     },
     "execution_count": 136,
     "metadata": {},
     "output_type": "execute_result"
    }
   ],
   "source": [
    "ApplyFunctor( 𝕒, 𝓔[ 4 ] )"
   ]
  },
  {
   "cell_type": "code",
   "execution_count": 137,
   "id": "486a6bcc",
   "metadata": {},
   "outputs": [
    {
     "data": {
      "text/plain": [
       "true"
      ]
     },
     "execution_count": 137,
     "metadata": {},
     "output_type": "execute_result"
    }
   ],
   "source": [
    "ApplyFunctor( 𝕣, 𝐀_𝓔.\"[1111]\" ) == 𝓔[ 4 ]"
   ]
  },
  {
   "cell_type": "code",
   "execution_count": 138,
   "id": "d810b990",
   "metadata": {},
   "outputs": [
    {
     "data": {
      "text/plain": [
       "GAP: Algebroid( End( [0101] ⊕ [0011] ⊕ [0111] ⊕ [1111] )^op )"
      ]
     },
     "execution_count": 138,
     "metadata": {},
     "output_type": "execute_result"
    }
   ],
   "source": [
    "𝐀ᵒᵖ_𝓔 = OppositeAlgebroid( 𝐀_𝓔 )"
   ]
  },
  {
   "cell_type": "code",
   "execution_count": 139,
   "id": "23f7d81a",
   "metadata": {},
   "outputs": [
    {
     "data": {
      "text/plain": [
       "GAP: FunctorCategory( Algebroid( End( [0101] ⊕ [0011] ⊕ [0111] ⊕ [1111] )^op ), Category of matrices over Q )"
      ]
     },
     "execution_count": 139,
     "metadata": {},
     "output_type": "execute_result"
    }
   ],
   "source": [
    "𝐀_𝓔₋mod = FunctorCategory( 𝐀ᵒᵖ_𝓔, k₋mat )"
   ]
  },
  {
   "cell_type": "code",
   "execution_count": 140,
   "id": "b43a27a7",
   "metadata": {},
   "outputs": [
    {
     "data": {
      "text/plain": [
       "GAP: Hom(T,-) functor"
      ]
     },
     "execution_count": 140,
     "metadata": {},
     "output_type": "execute_result"
    }
   ],
   "source": [
    "Hom☾T◞₋☽ = HomFunctorToCategoryOfFunctors( 𝓔 ) # ◞ is \\lrarc"
   ]
  },
  {
   "cell_type": "code",
   "execution_count": 141,
   "id": "b4086c2f",
   "metadata": {},
   "outputs": [
    {
     "name": "stdout",
     "output_type": "stream",
     "text": [
      "Hom(T,-) functor:\n",
      "\n",
      "FunctorCategory( Algebroid( (Q * q) / [ -1*(c*d) + 1*(a*b) ] ), Category of matrices over Q )\n",
      "  |\n",
      "  V\n",
      "FunctorCategory( Algebroid( End( [0101] ⊕ [0011] ⊕ [0111] ⊕ [1111] )^op ), Category of matrices over Q )\n"
     ]
    }
   ],
   "source": [
    "Display( Hom☾T◞₋☽ )"
   ]
  },
  {
   "cell_type": "code",
   "execution_count": 142,
   "id": "d9d7d31e",
   "metadata": {},
   "outputs": [
    {
     "data": {
      "text/plain": [
       "GAP: -⊗ T functor"
      ]
     },
     "execution_count": 142,
     "metadata": {},
     "output_type": "execute_result"
    }
   ],
   "source": [
    "₋⨂T = TensorFunctorFromCategoryOfFunctors( 𝓔 )"
   ]
  },
  {
   "cell_type": "code",
   "execution_count": 143,
   "id": "90964e71",
   "metadata": {},
   "outputs": [
    {
     "data": {
      "text/plain": [
       "GAP: Hom(T,-) ⊗ T => Id"
      ]
     },
     "execution_count": 143,
     "metadata": {},
     "output_type": "execute_result"
    }
   ],
   "source": [
    "ϵ = CounitOfTensorHomAdjunction( 𝓔, ₋⨂T, Hom☾T◞₋☽ )"
   ]
  },
  {
   "cell_type": "code",
   "execution_count": 144,
   "id": "28e40572",
   "metadata": {},
   "outputs": [
    {
     "data": {
      "text/plain": [
       "GAP: Id => Hom(T,-⊗ T)"
      ]
     },
     "execution_count": 144,
     "metadata": {},
     "output_type": "execute_result"
    }
   ],
   "source": [
    "η = UnitOfTensorHomAdjunction( 𝓔, ₋⨂T, Hom☾T◞₋☽ )"
   ]
  },
  {
   "cell_type": "code",
   "execution_count": 145,
   "id": "cdfd9f47",
   "metadata": {},
   "outputs": [
    {
     "data": {
      "text/plain": [
       "GAP: <(v₁)->4, (v₂)->2, (v₃)->1, (v₄)->2; (a)->4x2, (b)->2x2, (c)->4x1, (d)->1x2>"
      ]
     },
     "execution_count": 145,
     "metadata": {},
     "output_type": "execute_result"
    }
   ],
   "source": [
    "F"
   ]
  },
  {
   "cell_type": "code",
   "execution_count": 146,
   "id": "4d899a51",
   "metadata": {},
   "outputs": [
    {
     "data": {
      "text/plain": [
       "GAP: <(v₁)->4, (v₂)->2, (v₃)->1, (v₄)->1; (a)->4x2, (b)->2x1, (c)->4x1, (d)->1x1>"
      ]
     },
     "execution_count": 146,
     "metadata": {},
     "output_type": "execute_result"
    }
   ],
   "source": [
    "Hom☾T◞F☽⨂T = ₋⨂T( Hom☾T◞₋☽( F ) )"
   ]
  },
  {
   "cell_type": "code",
   "execution_count": 147,
   "id": "bae455cc",
   "metadata": {},
   "outputs": [
    {
     "name": "stdout",
     "output_type": "stream",
     "text": [
      "Image of <(v₁)>:\n",
      "A vector space object over Q of dimension 4\n",
      "\n",
      "Image of <(v₂)>:\n",
      "A vector space object over Q of dimension 2\n",
      "\n",
      "Image of <(v₃)>:\n",
      "A vector space object over Q of dimension 1\n",
      "\n",
      "Image of <(v₄)>:\n",
      "A vector space object over Q of dimension 1\n",
      "\n",
      "Image of (v₁)-[{ 1*(a) }]->(v₂):\n",
      "[ [  0,  0 ],\n",
      "  [  0,  0 ],\n",
      "  [  1,  0 ],\n",
      "  [  0,  1 ] ]\n",
      "\n",
      "A morphism in Category of matrices over Q\n",
      "\n",
      "Image of (v₂)-[{ 1*(b) }]->(v₄):\n",
      "[ [  0 ],\n",
      "  [  1 ] ]\n",
      "\n",
      "A morphism in Category of matrices over Q\n",
      "\n",
      "Image of (v₁)-[{ 1*(c) }]->(v₃):\n",
      "[ [  0 ],\n",
      "  [  0 ],\n",
      "  [  0 ],\n",
      "  [  1 ] ]\n",
      "\n",
      "A morphism in Category of matrices over Q\n",
      "\n",
      "Image of (v₃)-[{ 1*(d) }]->(v₄):\n",
      "[ [  1 ] ]\n",
      "\n",
      "A morphism in Category of matrices over Q\n",
      "\n",
      "An object in FunctorCategory( Algebroid( (Q * q) / [ -1*(c*d) + 1*(a*b) ] ), Category of matrices over Q ) given by the above data\n"
     ]
    }
   ],
   "source": [
    "Display( Hom☾T◞F☽⨂T )"
   ]
  },
  {
   "cell_type": "code",
   "execution_count": 148,
   "id": "d160b580",
   "metadata": {},
   "outputs": [
    {
     "data": {
      "text/plain": [
       "GAP: <(v₁)->4x4, (v₂)->2x2, (v₃)->1x1, (v₄)->1x2>"
      ]
     },
     "execution_count": 148,
     "metadata": {},
     "output_type": "execute_result"
    }
   ],
   "source": [
    "ϵ_F = ϵ( F )"
   ]
  },
  {
   "cell_type": "code",
   "execution_count": 149,
   "id": "aaa9dc60",
   "metadata": {},
   "outputs": [
    {
     "name": "stdout",
     "output_type": "stream",
     "text": [
      "Image of <(v₁)>:\n",
      "[ [  1,  0,  0,  0 ],\n",
      "  [  0,  0,  0,  1 ],\n",
      "  [  0,  0,  1,  0 ],\n",
      "  [  0,  1,  0,  0 ] ]\n",
      "\n",
      "A morphism in Category of matrices over Q\n",
      "\n",
      "Image of <(v₂)>:\n",
      "[ [  0,  1 ],\n",
      "  [  1,  0 ] ]\n",
      "\n",
      "A morphism in Category of matrices over Q\n",
      "\n",
      "Image of <(v₃)>:\n",
      "[ [  1 ] ]\n",
      "\n",
      "A morphism in Category of matrices over Q\n",
      "\n",
      "Image of <(v₄)>:\n",
      "[ [  0,  1 ] ]\n",
      "\n",
      "A morphism in Category of matrices over Q\n",
      "\n",
      "A morphism in FunctorCategory( Algebroid( (Q * q) / [ -1*(c*d) + 1*(a*b) ] ), Category of matrices over Q ) given by the above data\n"
     ]
    }
   ],
   "source": [
    "Display( ϵ_F )"
   ]
  },
  {
   "cell_type": "code",
   "execution_count": 150,
   "id": "4fbe7b6e",
   "metadata": {},
   "outputs": [
    {
     "data": {
      "text/plain": [
       "true"
      ]
     },
     "execution_count": 150,
     "metadata": {},
     "output_type": "execute_result"
    }
   ],
   "source": [
    "PreCompose( ϵ( F ), ψ ) == PreCompose( ₋⨂T( Hom☾T◞₋☽( ψ ) ), ϵ( G ) )"
   ]
  },
  {
   "cell_type": "code",
   "execution_count": 151,
   "id": "bad03fe0",
   "metadata": {},
   "outputs": [
    {
     "data": {
      "text/plain": [
       "GAP: Extension of ( Hom(T,-) functor ) to homotopy categories"
      ]
     },
     "execution_count": 151,
     "metadata": {},
     "output_type": "execute_result"
    }
   ],
   "source": [
    "Hom☾T◞₋☽ = ExtendFunctorToHomotopyCategoriesByCochains( Hom☾T◞₋☽ )"
   ]
  },
  {
   "cell_type": "code",
   "execution_count": 152,
   "id": "be9b0822",
   "metadata": {},
   "outputs": [
    {
     "data": {
      "text/plain": [
       "GAP: Extension of ( -⊗ T functor ) to homotopy categories"
      ]
     },
     "execution_count": 152,
     "metadata": {},
     "output_type": "execute_result"
    }
   ],
   "source": [
    "₋⨂T = ExtendFunctorToHomotopyCategoriesByCochains( ₋⨂T )"
   ]
  },
  {
   "cell_type": "code",
   "execution_count": 153,
   "id": "a032836c",
   "metadata": {},
   "outputs": [
    {
     "data": {
      "text/plain": [
       "GAP: Extention of natural transformation ( Hom(T,-) ⊗ T => Id ) : Extension of ( Composition of Hom(T,-) functor and -⊗ T functor ) to homotopy categories ===> Extension of ( Identity functor of FunctorCategory( Algebroid( (Q * q) / [ -1*(c*d) + 1*(a*b) ] ), Category of matrices over Q ) ) to homotopy categories"
      ]
     },
     "execution_count": 153,
     "metadata": {},
     "output_type": "execute_result"
    }
   ],
   "source": [
    "ϵ = ExtendNaturalTransformationToHomotopyCategoriesByCochains( ϵ )"
   ]
  },
  {
   "cell_type": "code",
   "execution_count": 154,
   "id": "112db08b",
   "metadata": {},
   "outputs": [
    {
     "data": {
      "text/plain": [
       "GAP: Homotopy^• category( FunctorCategory( Algebroid( (Q * q) / [ -1*(c*d) + 1*(a*b) ] ), Category of matrices over Q ) )"
      ]
     },
     "execution_count": 154,
     "metadata": {},
     "output_type": "execute_result"
    }
   ],
   "source": [
    "𝓚ᵇmod₋𝐀 = SourceOfFunctor( Hom☾T◞₋☽ )"
   ]
  },
  {
   "cell_type": "code",
   "execution_count": 155,
   "id": "63701a77",
   "metadata": {},
   "outputs": [
    {
     "data": {
      "text/plain": [
       "GAP: Homotopy^• category( FunctorCategory( Algebroid( End( [0101] ⊕ [0011] ⊕ [0111] ⊕ [1111] )^op ), Category of matrices over Q ) )"
      ]
     },
     "execution_count": 155,
     "metadata": {},
     "output_type": "execute_result"
    }
   ],
   "source": [
    "𝓚ᵇ𝐀_𝓔₋mod = RangeOfFunctor( Hom☾T◞₋☽ )"
   ]
  },
  {
   "cell_type": "code",
   "execution_count": 156,
   "id": "d005f66d",
   "metadata": {},
   "outputs": [
    {
     "data": {
      "text/plain": [
       "GAP: <An object in Homotopy^• category( FunctorCategory( Algebroid( (Q * q) / [ -1*(c*d) + 1*(a*b) ] ), Category of matrices over Q ) ) with active lower bound 0 and active upper bound 0>"
      ]
     },
     "execution_count": 156,
     "metadata": {},
     "output_type": "execute_result"
    }
   ],
   "source": [
    "P₄ = P₄ / 𝓚ᵇmod₋𝐀"
   ]
  },
  {
   "cell_type": "code",
   "execution_count": 157,
   "id": "2c3fac03",
   "metadata": {},
   "outputs": [
    {
     "name": "stdout",
     "output_type": "stream",
     "text": [
      "== 0 =======================\n",
      "Image of <(v₁)>:\n",
      "A vector space object over Q of dimension 0\n",
      "\n",
      "Image of <(v₂)>:\n",
      "A vector space object over Q of dimension 0\n",
      "\n",
      "Image of <(v₃)>:\n",
      "A vector space object over Q of dimension 0\n",
      "\n",
      "Image of <(v₄)>:\n",
      "A vector space object over Q of dimension 1\n",
      "\n",
      "Image of (v₁)-[{ 1*(a) }]->(v₂):\n",
      "(an empty 0 x 0 matrix)\n",
      "\n",
      "A zero, isomorphism in Category of matrices over Q\n",
      "\n",
      "Image of (v₂)-[{ 1*(b) }]->(v₄):\n",
      "(an empty 0 x 1 matrix)\n",
      "\n",
      "A zero, split monomorphism in Category of matrices over Q\n",
      "\n",
      "Image of (v₁)-[{ 1*(c) }]->(v₃):\n",
      "(an empty 0 x 0 matrix)\n",
      "\n",
      "A zero, isomorphism in Category of matrices over Q\n",
      "\n",
      "Image of (v₃)-[{ 1*(d) }]->(v₄):\n",
      "(an empty 0 x 1 matrix)\n",
      "\n",
      "A zero, split monomorphism in Category of matrices over Q\n",
      "\n",
      "An object in FunctorCategory( Algebroid( (Q * q) / [ -1*(c*d) + 1*(a*b) ] ), Category of matrices over Q ) given by the above data\n",
      "\n",
      "============================\n",
      "\n",
      "\n",
      "An object in Homotopy^• category( FunctorCategory( Algebroid( (Q * q) / [ -1*(c*d) + 1*(a*b) ] ), Category of matrices over Q ) ) given by the above data\n"
     ]
    }
   ],
   "source": [
    "Display( P₄ )"
   ]
  },
  {
   "cell_type": "code",
   "execution_count": 158,
   "id": "aa550974",
   "metadata": {},
   "outputs": [
    {
     "data": {
      "text/plain": [
       "GAP: <An object in Homotopy^• category( FunctorCategory( Algebroid( (Q * q) / [ -1*(c*d) + 1*(a*b) ] ), Category of matrices over Q ) ) with active lower bound 0 and active upper bound 2>"
      ]
     },
     "execution_count": 158,
     "metadata": {},
     "output_type": "execute_result"
    }
   ],
   "source": [
    "𝕀P₄ = InjectiveResolution( P₄, true )"
   ]
  },
  {
   "cell_type": "code",
   "execution_count": 159,
   "id": "ae44b35a",
   "metadata": {},
   "outputs": [
    {
     "data": {
      "text/plain": [
       "GAP: <An object in Homotopy^• category( FunctorCategory( Algebroid( End( [0101] ⊕ [0011] ⊕ [0111] ⊕ [1111] )^op ), Category of matrices over Q ) ) with active lower bound 0 and active upper bound 2>"
      ]
     },
     "execution_count": 159,
     "metadata": {},
     "output_type": "execute_result"
    }
   ],
   "source": [
    "Hom☾T◞𝕀P₄☽ = Hom☾T◞₋☽( 𝕀P₄ )"
   ]
  },
  {
   "cell_type": "code",
   "execution_count": 160,
   "id": "ac76a59f",
   "metadata": {},
   "outputs": [
    {
     "data": {
      "text/plain": [
       "GAP: <An object in Homotopy^• category( FunctorCategory( Algebroid( End( [0101] ⊕ [0011] ⊕ [0111] ⊕ [1111] )^op ), Category of matrices over Q ) ) with active lower bound 0 and active upper bound 2>"
      ]
     },
     "execution_count": 160,
     "metadata": {},
     "output_type": "execute_result"
    }
   ],
   "source": [
    "ℙHom☾T◞𝕀P₄☽ = ProjectiveResolution( Hom☾T◞𝕀P₄☽, true )"
   ]
  },
  {
   "cell_type": "code",
   "execution_count": 161,
   "id": "6814ff7f",
   "metadata": {},
   "outputs": [
    {
     "data": {
      "text/plain": [
       "GAP: <A morphism in Homotopy^• category( FunctorCategory( Algebroid( End( [0101] ⊕ [0011] ⊕ [0111] ⊕ [1111] )^op ), Category of matrices over Q ) ) with active lower bound 0 and active upper bound 2>"
      ]
     },
     "execution_count": 161,
     "metadata": {},
     "output_type": "execute_result"
    }
   ],
   "source": [
    "𝕢Hom☾T◞𝕀P₄☽ = QuasiIsomorphismFromProjectiveResolution( Hom☾T◞𝕀P₄☽, true )"
   ]
  },
  {
   "cell_type": "code",
   "execution_count": 162,
   "id": "bfe596c0",
   "metadata": {},
   "outputs": [
    {
     "data": {
      "text/plain": [
       "true"
      ]
     },
     "execution_count": 162,
     "metadata": {},
     "output_type": "execute_result"
    }
   ],
   "source": [
    "IsQuasiIsomorphism( 𝕢Hom☾T◞𝕀P₄☽ )"
   ]
  },
  {
   "cell_type": "code",
   "execution_count": 163,
   "id": "4346353d",
   "metadata": {},
   "outputs": [
    {
     "data": {
      "text/plain": [
       "GAP: <An object in Homotopy^• category( FunctorCategory( Algebroid( (Q * q) / [ -1*(c*d) + 1*(a*b) ] ), Category of matrices over Q ) ) with active lower bound 0 and active upper bound 2>"
      ]
     },
     "execution_count": 163,
     "metadata": {},
     "output_type": "execute_result"
    }
   ],
   "source": [
    "ℙHom☾T◞𝕀P₄☽⨂T = ₋⨂T( ℙHom☾T◞𝕀P₄☽ )"
   ]
  },
  {
   "cell_type": "code",
   "execution_count": 164,
   "id": "b73ce97b",
   "metadata": {},
   "outputs": [
    {
     "name": "stdout",
     "output_type": "stream",
     "text": [
      "== 2 =======================\n",
      "Image of <(v₁)>:\n",
      "A vector space object over Q of dimension 1\n",
      "\n",
      "Image of <(v₂)>:\n",
      "A vector space object over Q of dimension 1\n",
      "\n",
      "Image of <(v₃)>:\n",
      "A vector space object over Q of dimension 1\n",
      "\n",
      "Image of <(v₄)>:\n",
      "A vector space object over Q of dimension 1\n",
      "\n",
      "Image of (v₁)-[{ 1*(a) }]->(v₂):\n",
      "[ [  1 ] ]\n",
      "\n",
      "A morphism in Category of matrices over Q\n",
      "\n",
      "Image of (v₂)-[{ 1*(b) }]->(v₄):\n",
      "[ [  1 ] ]\n",
      "\n",
      "A morphism in Category of matrices over Q\n",
      "\n",
      "Image of (v₁)-[{ 1*(c) }]->(v₃):\n",
      "[ [  1 ] ]\n",
      "\n",
      "A morphism in Category of matrices over Q\n",
      "\n",
      "Image of (v₃)-[{ 1*(d) }]->(v₄):\n",
      "[ [  1 ] ]\n",
      "\n",
      "A morphism in Category of matrices over Q\n",
      "\n",
      "An object in FunctorCategory( Algebroid( (Q * q) / [ -1*(c*d) + 1*(a*b) ] ), Category of matrices over Q ) given by the above data\n",
      "\n",
      "============================\n",
      "\n",
      "   Λ\n",
      "   |\n",
      "Image of <(v₁)>:\n",
      "[ [  -1 ],\n",
      "  [   1 ] ]\n",
      "\n",
      "A morphism in Category of matrices over Q\n",
      "\n",
      "Image of <(v₂)>:\n",
      "[ [   1 ],\n",
      "  [  -1 ],\n",
      "  [   1 ] ]\n",
      "\n",
      "A morphism in Category of matrices over Q\n",
      "\n",
      "Image of <(v₃)>:\n",
      "[ [  -1 ],\n",
      "  [  -1 ],\n",
      "  [   1 ] ]\n",
      "\n",
      "A morphism in Category of matrices over Q\n",
      "\n",
      "Image of <(v₄)>:\n",
      "[ [  -1 ],\n",
      "  [  -1 ],\n",
      "  [   1 ] ]\n",
      "\n",
      "A morphism in Category of matrices over Q\n",
      "\n",
      "A morphism in FunctorCategory( Algebroid( (Q * q) / [ -1*(c*d) + 1*(a*b) ] ), Category of matrices over Q ) given by the above data\n",
      "\n",
      "   |\n",
      "\n",
      "== 1 =======================\n",
      "Image of <(v₁)>:\n",
      "A vector space object over Q of dimension 2\n",
      "\n",
      "Image of <(v₂)>:\n",
      "A vector space object over Q of dimension 3\n",
      "\n",
      "Image of <(v₃)>:\n",
      "A vector space object over Q of dimension 3\n",
      "\n",
      "Image of <(v₄)>:\n",
      "A vector space object over Q of dimension 3\n",
      "\n",
      "Image of (v₁)-[{ 1*(a) }]->(v₂):\n",
      "[ [  0,  1,  0 ],\n",
      "  [  0,  0,  1 ] ]\n",
      "\n",
      "A morphism in Category of matrices over Q\n",
      "\n",
      "Image of (v₂)-[{ 1*(b) }]->(v₄):\n",
      "[ [  -1,   0,   0 ],\n",
      "  [   0,   1,   0 ],\n",
      "  [   0,   0,   1 ] ]\n",
      "\n",
      "A morphism in Category of matrices over Q\n",
      "\n",
      "Image of (v₁)-[{ 1*(c) }]->(v₃):\n",
      "[ [  0,  1,  0 ],\n",
      "  [  0,  0,  1 ] ]\n",
      "\n",
      "A morphism in Category of matrices over Q\n",
      "\n",
      "Image of (v₃)-[{ 1*(d) }]->(v₄):\n",
      "[ [  1,  0,  0 ],\n",
      "  [  0,  1,  0 ],\n",
      "  [  0,  0,  1 ] ]\n",
      "\n",
      "A morphism in Category of matrices over Q\n",
      "\n",
      "An object in FunctorCategory( Algebroid( (Q * q) / [ -1*(c*d) + 1*(a*b) ] ), Category of matrices over Q ) given by the above data\n",
      "\n",
      "============================\n",
      "\n",
      "   Λ\n",
      "   |\n",
      "Image of <(v₁)>:\n",
      "[ [  1,  1 ] ]\n",
      "\n",
      "A morphism in Category of matrices over Q\n",
      "\n",
      "Image of <(v₂)>:\n",
      "[ [   1,   0,  -1 ],\n",
      "  [   0,   1,   1 ] ]\n",
      "\n",
      "A morphism in Category of matrices over Q\n",
      "\n",
      "Image of <(v₃)>:\n",
      "[ [   1,  -1,   0 ],\n",
      "  [   0,   1,   1 ] ]\n",
      "\n",
      "A morphism in Category of matrices over Q\n",
      "\n",
      "Image of <(v₄)>:\n",
      "[ [  -1,   0,  -1 ],\n",
      "  [   1,  -1,   0 ],\n",
      "  [   0,   1,   1 ] ]\n",
      "\n",
      "A morphism in Category of matrices over Q\n",
      "\n",
      "A morphism in FunctorCategory( Algebroid( (Q * q) / [ -1*(c*d) + 1*(a*b) ] ), Category of matrices over Q ) given by the above data\n",
      "\n",
      "   |\n",
      "\n",
      "== 0 =======================\n",
      "Image of <(v₁)>:\n",
      "A vector space object over Q of dimension 1\n",
      "\n",
      "Image of <(v₂)>:\n",
      "A vector space object over Q of dimension 2\n",
      "\n",
      "Image of <(v₃)>:\n",
      "A vector space object over Q of dimension 2\n",
      "\n",
      "Image of <(v₄)>:\n",
      "A vector space object over Q of dimension 3\n",
      "\n",
      "Image of (v₁)-[{ 1*(a) }]->(v₂):\n",
      "[ [  0,  1 ] ]\n",
      "\n",
      "A morphism in Category of matrices over Q\n",
      "\n",
      "Image of (v₂)-[{ 1*(b) }]->(v₄):\n",
      "[ [  1,  0,  0 ],\n",
      "  [  0,  0,  1 ] ]\n",
      "\n",
      "A morphism in Category of matrices over Q\n",
      "\n",
      "Image of (v₁)-[{ 1*(c) }]->(v₃):\n",
      "[ [  0,  1 ] ]\n",
      "\n",
      "A morphism in Category of matrices over Q\n",
      "\n",
      "Image of (v₃)-[{ 1*(d) }]->(v₄):\n",
      "[ [  0,  1,  0 ],\n",
      "  [  0,  0,  1 ] ]\n",
      "\n",
      "A morphism in Category of matrices over Q\n",
      "\n",
      "An object in FunctorCategory( Algebroid( (Q * q) / [ -1*(c*d) + 1*(a*b) ] ), Category of matrices over Q ) given by the above data\n",
      "\n",
      "============================\n",
      "\n",
      "\n",
      "An object in Homotopy^• category( FunctorCategory( Algebroid( (Q * q) / [ -1*(c*d) + 1*(a*b) ] ), Category of matrices over Q ) ) given by the above data\n"
     ]
    }
   ],
   "source": [
    "Display( ℙHom☾T◞𝕀P₄☽⨂T )"
   ]
  },
  {
   "cell_type": "code",
   "execution_count": 165,
   "id": "f845f67a",
   "metadata": {},
   "outputs": [
    {
     "data": {
      "text/plain": [
       "GAP: <A morphism in Homotopy^• category( FunctorCategory( Algebroid( (Q * q) / [ -1*(c*d) + 1*(a*b) ] ), Category of matrices over Q ) ) with active lower bound 0 and active upper bound 2>"
      ]
     },
     "execution_count": 165,
     "metadata": {},
     "output_type": "execute_result"
    }
   ],
   "source": [
    "ι_𝕀P₄ = PreCompose( ₋⨂T( 𝕢Hom☾T◞𝕀P₄☽ ), ϵ( 𝕀P₄ ) )"
   ]
  },
  {
   "cell_type": "code",
   "execution_count": 166,
   "id": "b5d107e9",
   "metadata": {},
   "outputs": [
    {
     "data": {
      "text/plain": [
       "true"
      ]
     },
     "execution_count": 166,
     "metadata": {},
     "output_type": "execute_result"
    }
   ],
   "source": [
    "Source( ι_𝕀P₄ ) == ℙHom☾T◞𝕀P₄☽⨂T && Range( ι_𝕀P₄ ) == 𝕀P₄"
   ]
  },
  {
   "cell_type": "code",
   "execution_count": 167,
   "id": "062ccdfc",
   "metadata": {},
   "outputs": [
    {
     "data": {
      "text/plain": [
       "true"
      ]
     },
     "execution_count": 167,
     "metadata": {},
     "output_type": "execute_result"
    }
   ],
   "source": [
    "IsQuasiIsomorphism( ι_𝕀P₄ )"
   ]
  },
  {
   "cell_type": "code",
   "execution_count": 168,
   "id": "79578914",
   "metadata": {},
   "outputs": [
    {
     "name": "stdout",
     "output_type": "stream",
     "text": [
      "Image of <(v₁)>:\n",
      "[ [  -1 ] ]\n",
      "\n",
      "A morphism in Category of matrices over Q\n",
      "\n",
      "Image of <(v₂)>:\n",
      "[ [   0 ],\n",
      "  [  -1 ] ]\n",
      "\n",
      "A morphism in Category of matrices over Q\n",
      "\n",
      "Image of <(v₃)>:\n",
      "[ [   0 ],\n",
      "  [  -1 ] ]\n",
      "\n",
      "A morphism in Category of matrices over Q\n",
      "\n",
      "Image of <(v₄)>:\n",
      "[ [   0 ],\n",
      "  [   0 ],\n",
      "  [  -1 ] ]\n",
      "\n",
      "A morphism in Category of matrices over Q\n",
      "\n",
      "A morphism in FunctorCategory( Algebroid( (Q * q) / [ -1*(c*d) + 1*(a*b) ] ), Category of matrices over Q ) given by the above data\n"
     ]
    }
   ],
   "source": [
    "Display( ι_𝕀P₄[ 0 ] )"
   ]
  },
  {
   "cell_type": "code",
   "execution_count": 169,
   "id": "6d017fde",
   "metadata": {},
   "outputs": [
    {
     "name": "stdout",
     "output_type": "stream",
     "text": [
      "Image of <(v₁)>:\n",
      "[ [  -1,   0 ],\n",
      "  [   0,  -1 ] ]\n",
      "\n",
      "A morphism in Category of matrices over Q\n",
      "\n",
      "Image of <(v₂)>:\n",
      "[ [   0 ],\n",
      "  [  -1 ],\n",
      "  [   0 ] ]\n",
      "\n",
      "A morphism in Category of matrices over Q\n",
      "\n",
      "Image of <(v₃)>:\n",
      "[ [   0 ],\n",
      "  [   0 ],\n",
      "  [  -1 ] ]\n",
      "\n",
      "A morphism in Category of matrices over Q\n",
      "\n",
      "Image of <(v₄)>:\n",
      "(an empty 3 x 0 matrix)\n",
      "\n",
      "A morphism in Category of matrices over Q\n",
      "\n",
      "A morphism in FunctorCategory( Algebroid( (Q * q) / [ -1*(c*d) + 1*(a*b) ] ), Category of matrices over Q ) given by the above data\n"
     ]
    }
   ],
   "source": [
    "Display( ι_𝕀P₄[ 1 ] )"
   ]
  },
  {
   "cell_type": "code",
   "execution_count": 170,
   "id": "dbdd4200",
   "metadata": {},
   "outputs": [
    {
     "name": "stdout",
     "output_type": "stream",
     "text": [
      "Image of <(v₁)>:\n",
      "[ [  -1 ] ]\n",
      "\n",
      "A morphism in Category of matrices over Q\n",
      "\n",
      "Image of <(v₂)>:\n",
      "(an empty 1 x 0 matrix)\n",
      "\n",
      "A morphism in Category of matrices over Q\n",
      "\n",
      "Image of <(v₃)>:\n",
      "(an empty 1 x 0 matrix)\n",
      "\n",
      "A morphism in Category of matrices over Q\n",
      "\n",
      "Image of <(v₄)>:\n",
      "(an empty 1 x 0 matrix)\n",
      "\n",
      "A morphism in Category of matrices over Q\n",
      "\n",
      "A morphism in FunctorCategory( Algebroid( (Q * q) / [ -1*(c*d) + 1*(a*b) ] ), Category of matrices over Q ) given by the above data\n"
     ]
    }
   ],
   "source": [
    "Display( ι_𝕀P₄[ 2 ] )"
   ]
  },
  {
   "cell_type": "code",
   "execution_count": 171,
   "id": "f2143a26",
   "metadata": {},
   "outputs": [
    {
     "data": {
      "text/plain": [
       "GAP: Additive closure( Algebroid( End( [0101] ⊕ [0011] ⊕ [0111] ⊕ [1111] ) ) )"
      ]
     },
     "execution_count": 171,
     "metadata": {},
     "output_type": "execute_result"
    }
   ],
   "source": [
    "𝐀_𝓔_plus = AdditiveClosure( 𝐀_𝓔 )"
   ]
  },
  {
   "cell_type": "code",
   "execution_count": 172,
   "id": "8cdadc9b",
   "metadata": {},
   "outputs": [
    {
     "data": {
      "text/plain": [
       "GAP: Homotopy^• category( Additive closure( Algebroid( End( [0101] ⊕ [0011] ⊕ [0111] ⊕ [1111] ) ) ) )"
      ]
     },
     "execution_count": 172,
     "metadata": {},
     "output_type": "execute_result"
    }
   ],
   "source": [
    "𝓚ᵇ𝐀_𝓔_plus = HomotopyCategoryByCochains( 𝐀_𝓔_plus )"
   ]
  },
  {
   "cell_type": "code",
   "execution_count": 173,
   "id": "57c61ca7",
   "metadata": {},
   "outputs": [
    {
     "data": {
      "text/plain": [
       "GAP: Full additive subcategory generated by projective objects( FunctorCategory( Algebroid( End( [0101] ⊕ [0011] ⊕ [0111] ⊕ [1111] )^op ), Category of matrices over Q ) )"
      ]
     },
     "execution_count": 173,
     "metadata": {},
     "output_type": "execute_result"
    }
   ],
   "source": [
    "𝐀_𝓔₋proj = FullSubcategoryGeneratedByProjectiveObjects( 𝐀_𝓔₋mod )"
   ]
  },
  {
   "cell_type": "code",
   "execution_count": 174,
   "id": "68eaafe1",
   "metadata": {},
   "outputs": [
    {
     "data": {
      "text/plain": [
       "GAP: Homotopy^• category( Full additive subcategory generated by projective objects( FunctorCategory( Algebroid( End( [0101] ⊕ [0011] ⊕ [0111] ⊕ [1111] )^op ), Category of matrices over Q ) ) )"
      ]
     },
     "execution_count": 174,
     "metadata": {},
     "output_type": "execute_result"
    }
   ],
   "source": [
    "𝓚ᵇ𝐀_𝓔₋proj = HomotopyCategoryByCochains( 𝐀_𝓔₋proj )"
   ]
  },
  {
   "cell_type": "code",
   "execution_count": 175,
   "id": "d10c645a",
   "metadata": {},
   "outputs": [
    {
     "data": {
      "text/plain": [
       "GAP: Localization functor by projective objects"
      ]
     },
     "execution_count": 175,
     "metadata": {},
     "output_type": "execute_result"
    }
   ],
   "source": [
    "𝕃 = LocalizationFunctorByProjectiveObjects( 𝓚ᵇ𝐀_𝓔₋mod )"
   ]
  },
  {
   "cell_type": "code",
   "execution_count": 176,
   "id": "f397c7a8",
   "metadata": {},
   "outputs": [
    {
     "data": {
      "text/plain": [
       "true"
      ]
     },
     "execution_count": 176,
     "metadata": {},
     "output_type": "execute_result"
    }
   ],
   "source": [
    "RangeOfFunctor( 𝕃 ) == 𝓚ᵇ𝐀_𝓔₋proj"
   ]
  },
  {
   "cell_type": "code",
   "execution_count": 177,
   "id": "18e736f9",
   "metadata": {},
   "outputs": [
    {
     "name": "stdout",
     "output_type": "stream",
     "text": [
      "1: Apply ExtendFunctorToHomotopyCategoriesByCochains on ( Decomposition of projective objects )\n"
     ]
    }
   ],
   "source": [
    "KnownFunctors( 𝓚ᵇ𝐀_𝓔₋proj, 𝓚ᵇ𝐀_𝓔_plus )"
   ]
  },
  {
   "cell_type": "code",
   "execution_count": 178,
   "id": "db3ac686",
   "metadata": {},
   "outputs": [
    {
     "data": {
      "text/plain": [
       "GAP: Extension of ( Decomposition of projective objects ) to homotopy categories"
      ]
     },
     "execution_count": 178,
     "metadata": {},
     "output_type": "execute_result"
    }
   ],
   "source": [
    "𝔻 = Functor( 𝓚ᵇ𝐀_𝓔₋proj, 𝓚ᵇ𝐀_𝓔_plus, 1 )"
   ]
  },
  {
   "cell_type": "code",
   "execution_count": 179,
   "id": "c4721e2f",
   "metadata": {},
   "outputs": [
    {
     "data": {
      "text/plain": [
       "GAP: <An object in Homotopy^• category( Additive closure( Algebroid( End( [0101] ⊕ [0011] ⊕ [0111] ⊕ [1111] ) ) ) ) with active lower bound 0 and active upper bound 2>"
      ]
     },
     "execution_count": 179,
     "metadata": {},
     "output_type": "execute_result"
    }
   ],
   "source": [
    "𝕃𝔻_Hom☾T◞𝕀P₄☽ = 𝔻( 𝕃( Hom☾T◞𝕀P₄☽ ) )\n"
   ]
  },
  {
   "cell_type": "code",
   "execution_count": 180,
   "id": "ce323e1b",
   "metadata": {},
   "outputs": [
    {
     "data": {
      "text/latex": [
       "$$\\begin{array}{c}\n",
       " {[1111]}\n",
       " \\\\ \n",
       " { \\color{black}\\uparrow_{\\phantom{1}}} \n",
       " \\\\ \n",
       " \\begin{pmatrix}-{m_{3,4}^{1}}\\\\ \n",
       "-{[1111]}\\\\ \n",
       "{[1111]}\\end{pmatrix}\n",
       " \\\\ \n",
       " { \\color{black}\\vert_{1}} \n",
       " \n",
       " \\\\ \n",
       "{[0111]}\\oplus{[1111]}^{\\oplus 2}\\\\ \n",
       " { \\color{black}\\uparrow_{\\phantom{0}}} \n",
       " \\\\ \n",
       " \\begin{pmatrix}-{m_{1,3}^{1}}&0&-{m_{1,3}^{1}m_{3,4}^{1}}\\\\ \n",
       "{m_{2,3}^{1}}&-{m_{2,3}^{1}m_{3,4}^{1}}&0\\\\ \n",
       "0&{[1111]}&{[1111]}\\end{pmatrix}\n",
       " \\\\ \n",
       " { \\color{black}\\vert_{0}} \n",
       " \n",
       " \\\\ \n",
       "{[0101]}\\oplus{[0011]}\\oplus{[1111]}\\end{array}$$"
      ]
     },
     "metadata": {},
     "output_type": "display_data"
    }
   ],
   "source": [
    "Show( 𝕃𝔻_Hom☾T◞𝕀P₄☽ )"
   ]
  },
  {
   "cell_type": "code",
   "execution_count": 181,
   "id": "c926acde",
   "metadata": {},
   "outputs": [
    {
     "data": {
      "text/plain": [
       "GAP: <An object in Homotopy^• category( Additive closure( Algebroid( End( [0101] ⊕ [0011] ⊕ [0111] ⊕ [1111] ) ) ) ) with active lower bound 0 and active upper bound 2>"
      ]
     },
     "execution_count": 181,
     "metadata": {},
     "output_type": "execute_result"
    }
   ],
   "source": [
    "𝕊implfied_𝕃𝔻_Hom☾T◞𝕀P₄☽ = SimplifyObject( 𝕃𝔻_Hom☾T◞𝕀P₄☽, infinity )"
   ]
  },
  {
   "cell_type": "code",
   "execution_count": 182,
   "id": "d1d99ba2",
   "metadata": {},
   "outputs": [
    {
     "data": {
      "text/latex": [
       "$$\\begin{array}{c}\n",
       " 0\n",
       " \\\\ \n",
       " { \\color{black}\\uparrow_{\\phantom{1}}} \n",
       " \\\\ \n",
       " \\begin{pmatrix}\\\\\\end{pmatrix}\n",
       " \\\\ \n",
       " { \\color{black}\\vert_{1}} \n",
       " \n",
       " \\\\ \n",
       "{[0111]}\\\\ \n",
       " { \\color{black}\\uparrow_{\\phantom{0}}} \n",
       " \\\\ \n",
       " \\begin{pmatrix}{m_{1,3}^{1}}\\\\ \n",
       "-{m_{2,3}^{1}}\\end{pmatrix}\n",
       " \\\\ \n",
       " { \\color{black}\\vert_{0}} \n",
       " \n",
       " \\\\ \n",
       "{[0101]}\\oplus{[0011]}\\end{array}$$"
      ]
     },
     "metadata": {},
     "output_type": "display_data"
    }
   ],
   "source": [
    "Show( 𝕊implfied_𝕃𝔻_Hom☾T◞𝕀P₄☽ )"
   ]
  },
  {
   "cell_type": "code",
   "execution_count": 183,
   "id": "6ab0db58",
   "metadata": {},
   "outputs": [
    {
     "data": {
      "text/plain": [
       "GAP: <A morphism in Homotopy^• category( Additive closure( Algebroid( End( [0101] ⊕ [0011] ⊕ [0111] ⊕ [1111] ) ) ) ) with active lower bound 0 and active upper bound 2>"
      ]
     },
     "execution_count": 183,
     "metadata": {},
     "output_type": "execute_result"
    }
   ],
   "source": [
    "λ = SimplifyObject_IsoToInputObject( 𝕃𝔻_Hom☾T◞𝕀P₄☽, infinity )"
   ]
  },
  {
   "cell_type": "code",
   "execution_count": 184,
   "id": "1bfda030",
   "metadata": {},
   "outputs": [
    {
     "data": {
      "text/latex": [
       "$$\\begin{array}{ccc}\n",
       " 0&-\\phantom{-}{0}\\phantom{-}\\rightarrow&{[1111]}\n",
       " \\\\ \n",
       " \\uparrow_{\\phantom{1}}&& \n",
       " \\uparrow_{\\phantom{1}}\n",
       " \\\\ \n",
       " \\begin{pmatrix}\\\\\\end{pmatrix}&&\\begin{pmatrix}-{m_{3,4}^{1}}\\\\ \n",
       "-{[1111]}\\\\ \n",
       "{[1111]}\\end{pmatrix}\n",
       " \\\\ \n",
       " \\vert_{1} &&\\vert_{1} \n",
       " \\\\ \n",
       " {[0111]}&-\\phantom{-}{\\begin{pmatrix}{[0111]}&-{m_{3,4}^{1}}&0\\end{pmatrix}}\\phantom{-}\\rightarrow&{[0111]}\\oplus{[1111]}^{\\oplus 2}\n",
       " \\\\ \n",
       "  \\uparrow_{\\phantom{0}}&& \n",
       " \\uparrow_{\\phantom{0}}\n",
       " \\\\ \n",
       " \\begin{pmatrix}{m_{1,3}^{1}}\\\\ \n",
       "-{m_{2,3}^{1}}\\end{pmatrix}&&\\begin{pmatrix}-{m_{1,3}^{1}}&0&-{m_{1,3}^{1}m_{3,4}^{1}}\\\\ \n",
       "{m_{2,3}^{1}}&-{m_{2,3}^{1}m_{3,4}^{1}}&0\\\\ \n",
       "0&{[1111]}&{[1111]}\\end{pmatrix}\n",
       " \\\\ \n",
       " \\vert_{0} &&\\vert_{0} \n",
       " \\\\ \n",
       " {[0101]}\\oplus{[0011]}&-\\phantom{-}{\\begin{pmatrix}-{[0101]}&0&-{m_{1,3}^{1}m_{3,4}^{1}}\\\\ \n",
       "0&-{[0011]}&0\\end{pmatrix}}\\phantom{-}\\rightarrow&{[0101]}\\oplus{[0011]}\\oplus{[1111]}\n",
       " \\\\ \n",
       " \\end{array}$$"
      ]
     },
     "metadata": {},
     "output_type": "display_data"
    }
   ],
   "source": [
    "Show( λ )"
   ]
  },
  {
   "cell_type": "code",
   "execution_count": 185,
   "id": "0dbb090b",
   "metadata": {},
   "outputs": [
    {
     "data": {
      "text/plain": [
       "GAP: <A morphism in Homotopy^• category( Additive closure( Algebroid( End( [0101] ⊕ [0011] ⊕ [0111] ⊕ [1111] ) ) ) ) with active lower bound 0 and active upper bound 2>"
      ]
     },
     "execution_count": 185,
     "metadata": {},
     "output_type": "execute_result"
    }
   ],
   "source": [
    "λ⁻¹ = InverseForMorphisms( λ )"
   ]
  },
  {
   "cell_type": "code",
   "execution_count": 186,
   "id": "c7ad12f0",
   "metadata": {},
   "outputs": [
    {
     "data": {
      "text/latex": [
       "$$\\begin{array}{ccc}\n",
       " {[1111]}&-\\phantom{-}{\\begin{pmatrix}\\\\\\end{pmatrix}}\\phantom{-}\\rightarrow&0\n",
       " \\\\ \n",
       " \\uparrow_{\\phantom{1}}&& \n",
       " \\uparrow_{\\phantom{1}}\n",
       " \\\\ \n",
       " \\begin{pmatrix}-{m_{3,4}^{1}}\\\\ \n",
       "-{[1111]}\\\\ \n",
       "{[1111]}\\end{pmatrix}&&\\begin{pmatrix}\\\\\\end{pmatrix}\n",
       " \\\\ \n",
       " \\vert_{1} &&\\vert_{1} \n",
       " \\\\ \n",
       " {[0111]}\\oplus{[1111]}^{\\oplus 2}&-\\phantom{-}{\\begin{pmatrix}{[0111]}\\\\ \n",
       "0\\\\ \n",
       "0\\end{pmatrix}}\\phantom{-}\\rightarrow&{[0111]}\n",
       " \\\\ \n",
       "  \\uparrow_{\\phantom{0}}&& \n",
       " \\uparrow_{\\phantom{0}}\n",
       " \\\\ \n",
       " \\begin{pmatrix}-{m_{1,3}^{1}}&0&-{m_{1,3}^{1}m_{3,4}^{1}}\\\\ \n",
       "{m_{2,3}^{1}}&-{m_{2,3}^{1}m_{3,4}^{1}}&0\\\\ \n",
       "0&{[1111]}&{[1111]}\\end{pmatrix}&&\\begin{pmatrix}{m_{1,3}^{1}}\\\\ \n",
       "-{m_{2,3}^{1}}\\end{pmatrix}\n",
       " \\\\ \n",
       " \\vert_{0} &&\\vert_{0} \n",
       " \\\\ \n",
       " {[0101]}\\oplus{[0011]}\\oplus{[1111]}&-\\phantom{-}{\\begin{pmatrix}-{[0101]}&0\\\\ \n",
       "0&-{[0011]}\\\\ \n",
       "0&0\\end{pmatrix}}\\phantom{-}\\rightarrow&{[0101]}\\oplus{[0011]}\n",
       " \\\\ \n",
       " \\end{array}$$"
      ]
     },
     "metadata": {},
     "output_type": "display_data"
    }
   ],
   "source": [
    "Show( λ⁻¹ )"
   ]
  },
  {
   "cell_type": "code",
   "execution_count": 187,
   "id": "d47b9b76",
   "metadata": {},
   "outputs": [
    {
     "name": "stdout",
     "output_type": "stream",
     "text": [
      "1: Apply ExtendFunctorToHomotopyCategoriesByCochains on ( Yoneda embedding )\n"
     ]
    }
   ],
   "source": [
    "KnownFunctors( 𝓚ᵇ𝐀_𝓔_plus, 𝓚ᵇ𝐀_𝓔₋proj )"
   ]
  },
  {
   "cell_type": "code",
   "execution_count": 188,
   "id": "8bfced3f",
   "metadata": {},
   "outputs": [
    {
     "data": {
      "text/plain": [
       "GAP: Extension of ( Yoneda embedding ) to homotopy categories"
      ]
     },
     "execution_count": 188,
     "metadata": {},
     "output_type": "execute_result"
    }
   ],
   "source": [
    "𝕐 = Functor( 𝓚ᵇ𝐀_𝓔_plus, 𝓚ᵇ𝐀_𝓔₋proj, 1 )"
   ]
  },
  {
   "cell_type": "code",
   "execution_count": 189,
   "id": "4308c4c5",
   "metadata": {},
   "outputs": [
    {
     "name": "stdout",
     "output_type": "stream",
     "text": [
      "1: Apply ExtendFunctorToHomotopyCategoriesByCochains on ( The inclusion functor )\n"
     ]
    }
   ],
   "source": [
    "KnownFunctors( 𝓚ᵇ𝐀_𝓔₋proj, 𝓚ᵇ𝐀_𝓔₋mod )"
   ]
  },
  {
   "cell_type": "code",
   "execution_count": 190,
   "id": "95e99ebd",
   "metadata": {},
   "outputs": [
    {
     "data": {
      "text/plain": [
       "GAP: Extension of ( The inclusion functor ) to homotopy categories"
      ]
     },
     "execution_count": 190,
     "metadata": {},
     "output_type": "execute_result"
    }
   ],
   "source": [
    "𝕁 = Functor( 𝓚ᵇ𝐀_𝓔₋proj, 𝓚ᵇ𝐀_𝓔₋mod, 1 )"
   ]
  },
  {
   "cell_type": "code",
   "execution_count": 191,
   "id": "c0eae3cc",
   "metadata": {},
   "outputs": [
    {
     "data": {
      "text/plain": [
       "GAP: <A morphism in Homotopy^• category( FunctorCategory( Algebroid( (Q * q) / [ -1*(c*d) + 1*(a*b) ] ), Category of matrices over Q ) ) with active lower bound 0 and active upper bound 2>"
      ]
     },
     "execution_count": 191,
     "metadata": {},
     "output_type": "execute_result"
    }
   ],
   "source": [
    "ζ = PreCompose( ₋⨂T( 𝕁( 𝕐( λ ) ) ), ι_𝕀P₄ )"
   ]
  },
  {
   "cell_type": "code",
   "execution_count": 192,
   "id": "e39345da",
   "metadata": {},
   "outputs": [
    {
     "data": {
      "text/plain": [
       "true"
      ]
     },
     "execution_count": 192,
     "metadata": {},
     "output_type": "execute_result"
    }
   ],
   "source": [
    "IsWellDefined( ζ )"
   ]
  },
  {
   "cell_type": "code",
   "execution_count": 193,
   "id": "e22c5439",
   "metadata": {},
   "outputs": [
    {
     "data": {
      "text/plain": [
       "true"
      ]
     },
     "execution_count": 193,
     "metadata": {},
     "output_type": "execute_result"
    }
   ],
   "source": [
    "IsQuasiIsomorphism( ζ )"
   ]
  },
  {
   "cell_type": "code",
   "execution_count": 194,
   "id": "66b716c4",
   "metadata": {},
   "outputs": [
    {
     "name": "stdout",
     "output_type": "stream",
     "text": [
      "\n",
      "== 2 =======================\n",
      "Image of <(v₁)>:\n",
      "(an empty 0 x 1 matrix)\n",
      "\n",
      "A morphism in Category of matrices over Q\n",
      "\n",
      "Image of <(v₂)>:\n",
      "(an empty 0 x 0 matrix)\n",
      "\n",
      "A morphism in Category of matrices over Q\n",
      "\n",
      "Image of <(v₃)>:\n",
      "(an empty 0 x 0 matrix)\n",
      "\n",
      "A morphism in Category of matrices over Q\n",
      "\n",
      "Image of <(v₄)>:\n",
      "(an empty 0 x 0 matrix)\n",
      "\n",
      "A morphism in Category of matrices over Q\n",
      "\n",
      "A morphism in FunctorCategory( Algebroid( (Q * q) / [ -1*(c*d) + 1*(a*b) ] ), Category of matrices over Q ) given by the above data\n",
      "\n",
      "== 1 =======================\n",
      "Image of <(v₁)>:\n",
      "(an empty 0 x 2 matrix)\n",
      "\n",
      "A morphism in Category of matrices over Q\n",
      "\n",
      "Image of <(v₂)>:\n",
      "[ [  -1 ] ]\n",
      "\n",
      "A morphism in Category of matrices over Q\n",
      "\n",
      "Image of <(v₃)>:\n",
      "[ [  0 ] ]\n",
      "\n",
      "A morphism in Category of matrices over Q\n",
      "\n",
      "Image of <(v₄)>:\n",
      "(an empty 1 x 0 matrix)\n",
      "\n",
      "A morphism in Category of matrices over Q\n",
      "\n",
      "A morphism in FunctorCategory( Algebroid( (Q * q) / [ -1*(c*d) + 1*(a*b) ] ), Category of matrices over Q ) given by the above data\n",
      "\n",
      "== 0 =======================\n",
      "Image of <(v₁)>:\n",
      "(an empty 0 x 1 matrix)\n",
      "\n",
      "A morphism in Category of matrices over Q\n",
      "\n",
      "Image of <(v₂)>:\n",
      "[ [  1 ] ]\n",
      "\n",
      "A morphism in Category of matrices over Q\n",
      "\n",
      "Image of <(v₃)>:\n",
      "[ [  0 ] ]\n",
      "\n",
      "A morphism in Category of matrices over Q\n",
      "\n",
      "Image of <(v₄)>:\n",
      "[ [  1 ],\n",
      "  [  0 ] ]\n",
      "\n",
      "A morphism in Category of matrices over Q\n",
      "\n",
      "A morphism in FunctorCategory( Algebroid( (Q * q) / [ -1*(c*d) + 1*(a*b) ] ), Category of matrices over Q ) given by the above data\n",
      "\n",
      "\n",
      "A morphism in Homotopy^• category( FunctorCategory( Algebroid( (Q * q) / [ -1*(c*d) + 1*(a*b) ] ), Category of matrices over Q ) ) given by the above data\n"
     ]
    }
   ],
   "source": [
    "Display( ζ )"
   ]
  },
  {
   "cell_type": "code",
   "execution_count": 195,
   "id": "5063fece",
   "metadata": {},
   "outputs": [
    {
     "name": "stdout",
     "output_type": "stream",
     "text": [
      "Image of <(v₁)>:\n",
      "A vector space object over Q of dimension 0\n",
      "\n",
      "Image of <(v₂)>:\n",
      "A vector space object over Q of dimension 0\n",
      "\n",
      "Image of <(v₃)>:\n",
      "A vector space object over Q of dimension 0\n",
      "\n",
      "Image of <(v₄)>:\n",
      "A vector space object over Q of dimension 1\n",
      "\n",
      "Image of (v₁)-[{ 1*(a) }]->(v₂):\n",
      "(an empty 0 x 0 matrix)\n",
      "\n",
      "A zero, isomorphism in Category of matrices over Q\n",
      "\n",
      "Image of (v₂)-[{ 1*(b) }]->(v₄):\n",
      "(an empty 0 x 1 matrix)\n",
      "\n",
      "A zero, split monomorphism in Category of matrices over Q\n",
      "\n",
      "Image of (v₁)-[{ 1*(c) }]->(v₃):\n",
      "(an empty 0 x 0 matrix)\n",
      "\n",
      "A zero, isomorphism in Category of matrices over Q\n",
      "\n",
      "Image of (v₃)-[{ 1*(d) }]->(v₄):\n",
      "(an empty 0 x 1 matrix)\n",
      "\n",
      "A zero, split monomorphism in Category of matrices over Q\n",
      "\n",
      "An object in FunctorCategory( Algebroid( (Q * q) / [ -1*(c*d) + 1*(a*b) ] ), Category of matrices over Q ) given by the above data\n"
     ]
    }
   ],
   "source": [
    "Display( P₄[0] )"
   ]
  },
  {
   "cell_type": "code",
   "execution_count": 196,
   "id": "4e3fc1aa",
   "metadata": {},
   "outputs": [
    {
     "name": "stdout",
     "output_type": "stream",
     "text": [
      "Image of <(v₁)>:\n",
      "A vector space object over Q of dimension 0\n",
      "\n",
      "Image of <(v₂)>:\n",
      "A vector space object over Q of dimension 0\n",
      "\n",
      "Image of <(v₃)>:\n",
      "A vector space object over Q of dimension 0\n",
      "\n",
      "Image of <(v₄)>:\n",
      "A vector space object over Q of dimension 1\n",
      "\n",
      "Image of (v₁)-[{ 1*(a) }]->(v₂):\n",
      "(an empty 0 x 0 matrix)\n",
      "\n",
      "A morphism in Category of matrices over Q\n",
      "\n",
      "Image of (v₂)-[{ 1*(b) }]->(v₄):\n",
      "(an empty 0 x 1 matrix)\n",
      "\n",
      "A morphism in Category of matrices over Q\n",
      "\n",
      "Image of (v₁)-[{ 1*(c) }]->(v₃):\n",
      "(an empty 0 x 0 matrix)\n",
      "\n",
      "A morphism in Category of matrices over Q\n",
      "\n",
      "Image of (v₃)-[{ 1*(d) }]->(v₄):\n",
      "(an empty 0 x 1 matrix)\n",
      "\n",
      "A morphism in Category of matrices over Q\n",
      "\n",
      "An object in FunctorCategory( Algebroid( (Q * q) / [ -1*(c*d) + 1*(a*b) ] ), Category of matrices over Q ) given by the above data\n"
     ]
    }
   ],
   "source": [
    "Display( CohomologyAt( Source( ζ ), 0 ) )"
   ]
  },
  {
   "cell_type": "code",
   "execution_count": 197,
   "id": "ee0c1c5b",
   "metadata": {},
   "outputs": [
    {
     "name": "stdout",
     "output_type": "stream",
     "text": [
      "Image of <(v₁)>:\n",
      "A vector space object over Q of dimension 0\n",
      "\n",
      "Image of <(v₂)>:\n",
      "A vector space object over Q of dimension 0\n",
      "\n",
      "Image of <(v₃)>:\n",
      "A vector space object over Q of dimension 0\n",
      "\n",
      "Image of <(v₄)>:\n",
      "A vector space object over Q of dimension 1\n",
      "\n",
      "Image of (v₁)-[{ 1*(a) }]->(v₂):\n",
      "(an empty 0 x 0 matrix)\n",
      "\n",
      "A morphism in Category of matrices over Q\n",
      "\n",
      "Image of (v₂)-[{ 1*(b) }]->(v₄):\n",
      "(an empty 0 x 1 matrix)\n",
      "\n",
      "A morphism in Category of matrices over Q\n",
      "\n",
      "Image of (v₁)-[{ 1*(c) }]->(v₃):\n",
      "(an empty 0 x 0 matrix)\n",
      "\n",
      "A morphism in Category of matrices over Q\n",
      "\n",
      "Image of (v₃)-[{ 1*(d) }]->(v₄):\n",
      "(an empty 0 x 1 matrix)\n",
      "\n",
      "A morphism in Category of matrices over Q\n",
      "\n",
      "An object in FunctorCategory( Algebroid( (Q * q) / [ -1*(c*d) + 1*(a*b) ] ), Category of matrices over Q ) given by the above data\n"
     ]
    }
   ],
   "source": [
    "Display( CohomologyAt( Range( ζ ), 0 ) )"
   ]
  },
  {
   "cell_type": "code",
   "execution_count": null,
   "id": "42abfb3c",
   "metadata": {},
   "outputs": [],
   "source": []
  }
 ],
 "metadata": {
  "kernelspec": {
   "display_name": "Julia 1.7.3",
   "language": "julia",
   "name": "julia-1.7"
  },
  "language_info": {
   "file_extension": ".jl",
   "mimetype": "application/julia",
   "name": "julia",
   "version": "1.7.3"
  }
 },
 "nbformat": 4,
 "nbformat_minor": 5
}

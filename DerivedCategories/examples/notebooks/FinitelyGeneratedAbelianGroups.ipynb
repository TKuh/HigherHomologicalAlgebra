{
 "cells": [
  {
   "cell_type": "markdown",
   "metadata": {},
   "source": [
    "[![Binder](https://mybinder.org/badge_logo.svg)](https://gesis.mybinder.org/v2/gh/homalg-project/CapAndHomalgNotebooks/master?urlpath=git-pull%3Frepo%3Dhttps%253A%252F%252Fgithub.com%252Fhomalg-project%252FHigherHomologicalAlgebra%26urlpath%3Dtree%252FHigherHomologicalAlgebra%252FDerivedCategories%252Fexamples%252F%252Fnotebooks%252FFinitelyGeneratedAbelianGroups.ipynb%26branch%3Dmaster)"
   ]
  },
  {
   "cell_type": "code",
   "execution_count": 1,
   "metadata": {
    "scrolled": true
   },
   "outputs": [
    {
     "name": "stdout",
     "output_type": "stream",
     "text": [
      "CapAndHomalg v\u001b[32m1.4.7\u001b[39m\n",
      "Imported OSCAR's components GAP and Singular_jll\n",
      "Type: ?CapAndHomalg for more information\n"
     ]
    }
   ],
   "source": [
    "using CapAndHomalg"
   ]
  },
  {
   "cell_type": "code",
   "execution_count": 2,
   "metadata": {},
   "outputs": [],
   "source": [
    "LoadPackage( \"FreydCategoriesForCAP\" )"
   ]
  },
  {
   "cell_type": "code",
   "execution_count": 3,
   "metadata": {},
   "outputs": [],
   "source": [
    "LoadPackage( \"DerivedCategories\" )\n",
    "EnhanceAllPackages( );"
   ]
  },
  {
   "cell_type": "code",
   "execution_count": 4,
   "metadata": {},
   "outputs": [
    {
     "data": {
      "text/plain": [
       "GAP: Z"
      ]
     },
     "execution_count": 4,
     "metadata": {},
     "output_type": "execute_result"
    }
   ],
   "source": [
    "ℤ = HomalgRingOfIntegers( )"
   ]
  },
  {
   "cell_type": "code",
   "execution_count": 5,
   "metadata": {},
   "outputs": [
    {
     "data": {
      "text/plain": [
       "GAP: Rows( Z )"
      ]
     },
     "execution_count": 5,
     "metadata": {},
     "output_type": "execute_result"
    }
   ],
   "source": [
    "ℤ₋rows = CategoryOfRows( ℤ )"
   ]
  },
  {
   "cell_type": "markdown",
   "metadata": {},
   "source": [
    "---\n",
    "\n",
    "Then $\\mathcal{A}(\\mathbb{Z}\\mbox{-}\\mathrm{rows}) \\cong ab$, i.e., the finitely generated abelian groups."
   ]
  },
  {
   "cell_type": "code",
   "execution_count": 6,
   "metadata": {},
   "outputs": [
    {
     "data": {
      "text/plain": [
       "GAP: Freyd( Rows( Z ) )"
      ]
     },
     "execution_count": 6,
     "metadata": {},
     "output_type": "execute_result"
    }
   ],
   "source": [
    "𝓐☾ℤ₋rows☽ = FreydCategory( ℤ₋rows )"
   ]
  },
  {
   "cell_type": "code",
   "execution_count": 7,
   "metadata": {},
   "outputs": [
    {
     "name": "stdout",
     "output_type": "stream",
     "text": [
      "68 primitive operations were used to derive 401 operations for this category which algorithmically\n",
      "* IsLinearCategoryOverCommutativeRing\n",
      "* IsAbelianCategoryWithEnoughProjectives\n",
      "* IsSymmetricClosedMonoidalCategory\n",
      "and furthermore mathematically\n",
      "* IsFiniteCocompleteCategory (but not yet algorithmically)\n",
      "* IsFiniteCompleteCategory (but not yet algorithmically)\n"
     ]
    }
   ],
   "source": [
    "InfoOfInstalledOperationsOfCategory( 𝓐☾ℤ₋rows☽ )"
   ]
  },
  {
   "cell_type": "code",
   "execution_count": 8,
   "metadata": {},
   "outputs": [
    {
     "data": {
      "text/plain": [
       "GAP: Freyd( Rows( Z ) )"
      ]
     },
     "execution_count": 8,
     "metadata": {},
     "output_type": "execute_result"
    }
   ],
   "source": [
    "RangeCategoryOfHomomorphismStructure( 𝓐☾ℤ₋rows☽ )"
   ]
  },
  {
   "cell_type": "code",
   "execution_count": 9,
   "metadata": {},
   "outputs": [
    {
     "data": {
      "text/plain": [
       "GAP: <A projective object in Freyd( Rows( Z ) )>"
      ]
     },
     "execution_count": 9,
     "metadata": {},
     "output_type": "execute_result"
    }
   ],
   "source": [
    "𝟙 = DistinguishedObjectOfHomomorphismStructure( 𝓐☾ℤ₋rows☽ )"
   ]
  },
  {
   "cell_type": "code",
   "execution_count": 10,
   "metadata": {},
   "outputs": [
    {
     "data": {
      "text/latex": [
       "$$\\big(\\mathbb{Z}^{1 \\times 0}\\xrightarrow{{\\color{blue}{()_{0 \\times 1}}}}\\mathbb{Z}^{1 \\times 1}\\big)_{\\mathcal{A}}$$"
      ]
     },
     "metadata": {},
     "output_type": "display_data"
    }
   ],
   "source": [
    "Show( 𝟙 )"
   ]
  },
  {
   "cell_type": "markdown",
   "metadata": {},
   "source": [
    "---\n",
    "\n",
    "So, if $B,C$ are objects in $\\mathcal{A}(\\mathbb{Z}\\mbox{-}\\mathrm{rows})$, then $\\nu:\\mathrm{Hom}(B,C) \\cong \\mathrm{Hom}( \\mathbb{1}, H(B,C) ):\\nu^{-1}$."
   ]
  },
  {
   "cell_type": "code",
   "execution_count": 11,
   "metadata": {},
   "outputs": [
    {
     "data": {
      "text/plain": [
       "GAP: <An object in Freyd( Rows( Z ) )>"
      ]
     },
     "execution_count": 11,
     "metadata": {},
     "output_type": "execute_result"
    }
   ],
   "source": [
    "B = HomalgMatrix( \"[[1,-4,0,1],[0,-2,3,1],[0,-2,-1,-1]]\", 3, 4, ℤ ) / ℤ₋rows / 𝓐☾ℤ₋rows☽"
   ]
  },
  {
   "cell_type": "code",
   "execution_count": 12,
   "metadata": {},
   "outputs": [
    {
     "data": {
      "text/latex": [
       "$$\\big(\\mathbb{Z}^{1 \\times 3}\\xrightarrow{{\\color{blue}{\\left( \\begin{array}{rrrr}\n",
       " 1 & -4 & \\cdot & 1 \\\\ \n",
       " \\cdot & -2 & 3 & 1 \\\\ \n",
       " \\cdot & -2 & -1 & -1 \n",
       "\\end{array} \\right)}}}\\mathbb{Z}^{1 \\times 4}\\big)_{\\mathcal{A}}$$"
      ]
     },
     "metadata": {},
     "output_type": "display_data"
    }
   ],
   "source": [
    "Show( B )"
   ]
  },
  {
   "cell_type": "code",
   "execution_count": 13,
   "metadata": {},
   "outputs": [
    {
     "data": {
      "text/plain": [
       "GAP: <An object in Freyd( Rows( Z ) )>"
      ]
     },
     "execution_count": 13,
     "metadata": {},
     "output_type": "execute_result"
    }
   ],
   "source": [
    "C = HomalgMatrix( \"[[0,-2,2],[4,0,0]]\", 2, 3, ℤ ) / ℤ₋rows / 𝓐☾ℤ₋rows☽"
   ]
  },
  {
   "cell_type": "code",
   "execution_count": 14,
   "metadata": {},
   "outputs": [
    {
     "data": {
      "text/latex": [
       "$$\\big(\\mathbb{Z}^{1 \\times 2}\\xrightarrow{{\\color{blue}{\\left( \\begin{array}{rrr}\n",
       " \\cdot & -2 & 2 \\\\ \n",
       " 4 & \\cdot & \\cdot \n",
       "\\end{array} \\right)}}}\\mathbb{Z}^{1 \\times 3}\\big)_{\\mathcal{A}}$$"
      ]
     },
     "metadata": {},
     "output_type": "display_data"
    }
   ],
   "source": [
    "Show( C )"
   ]
  },
  {
   "cell_type": "code",
   "execution_count": 15,
   "metadata": {},
   "outputs": [
    {
     "data": {
      "text/plain": [
       "GAP: <An object in Freyd( Rows( Z ) )>"
      ]
     },
     "execution_count": 15,
     "metadata": {},
     "output_type": "execute_result"
    }
   ],
   "source": [
    "H☾B◞C☽ = HomomorphismStructureOnObjects( B, C )"
   ]
  },
  {
   "cell_type": "code",
   "execution_count": 16,
   "metadata": {},
   "outputs": [
    {
     "data": {
      "text/latex": [
       "$$\\big(\\mathbb{Z}^{1 \\times 8}\\xrightarrow{{\\color{blue}{\\left( \\begin{array}{rrrrrrrrr}\n",
       " \\cdot & \\cdot & \\cdot & 1 & \\cdot & \\cdot & \\cdot & \\cdot & \\cdot \\\\ \n",
       " \\cdot & \\cdot & \\cdot & \\cdot & 1 & \\cdot & \\cdot & \\cdot & \\cdot \\\\ \n",
       " \\cdot & -2 & 2 & -4 & \\cdot & -2 & \\cdot & -2 & \\cdot \\\\ \n",
       " \\cdot & \\cdot & \\cdot & \\cdot & -4 & \\cdot & -2 & \\cdot & -2 \\\\ \n",
       " -2 & 2 & 2 & \\cdot & \\cdot & 3 & \\cdot & -1 & \\cdot \\\\ \n",
       " -2 & -4 & \\cdot & \\cdot & \\cdot & \\cdot & 3 & \\cdot & -1 \\\\ \n",
       " \\cdot & 2 & -2 & 1 & \\cdot & 1 & \\cdot & -1 & \\cdot \\\\ \n",
       " \\cdot & \\cdot & 4 & \\cdot & 1 & \\cdot & 1 & \\cdot & -1 \n",
       "\\end{array} \\right)}}}\\mathbb{Z}^{1 \\times 9}\\big)_{\\mathcal{A}}$$"
      ]
     },
     "metadata": {},
     "output_type": "display_data"
    }
   ],
   "source": [
    "Show( H☾B◞C☽ )"
   ]
  },
  {
   "cell_type": "code",
   "execution_count": 17,
   "metadata": {},
   "outputs": [
    {
     "data": {
      "text/plain": [
       "GAP: <An object in Freyd( Rows( Z ) )>"
      ]
     },
     "execution_count": 17,
     "metadata": {},
     "output_type": "execute_result"
    }
   ],
   "source": [
    "Ĥ☾B◞C☽ = SimplifyObject( H☾B◞C☽, infinity )"
   ]
  },
  {
   "cell_type": "code",
   "execution_count": 18,
   "metadata": {},
   "outputs": [
    {
     "data": {
      "text/latex": [
       "$$\\big(\\mathbb{Z}^{1 \\times 4}\\xrightarrow{{\\color{blue}{\\left( \\begin{array}{rrrrr}\n",
       " 2 & \\cdot & \\cdot & \\cdot & \\cdot \\\\ \n",
       " \\cdot & 2 & \\cdot & \\cdot & \\cdot \\\\ \n",
       " \\cdot & \\cdot & 2 & \\cdot & \\cdot \\\\ \n",
       " \\cdot & \\cdot & \\cdot & 4 & \\cdot \n",
       "\\end{array} \\right)}}}\\mathbb{Z}^{1 \\times 5}\\big)_{\\mathcal{A}}$$"
      ]
     },
     "metadata": {},
     "output_type": "display_data"
    }
   ],
   "source": [
    "Show( Ĥ☾B◞C☽ )"
   ]
  },
  {
   "cell_type": "markdown",
   "metadata": {},
   "source": [
    "This means, $H(B,C) \\cong \\mathbb{Z}/2\\mathbb{Z} \\oplus \\mathbb{Z}/2\\mathbb{Z} \\oplus \\mathbb{Z}/2\\mathbb{Z} \\oplus \\mathbb{Z}/4\\mathbb{Z} \\oplus \\mathbb{Z}$.\n",
    "\n",
    "---\n",
    "Let us find the isomorphism $t : \\hat{H}(B,C) \\to H(B,C)$:"
   ]
  },
  {
   "cell_type": "code",
   "execution_count": 19,
   "metadata": {},
   "outputs": [
    {
     "data": {
      "text/plain": [
       "GAP: <A morphism in Freyd( Rows( Z ) )>"
      ]
     },
     "execution_count": 19,
     "metadata": {},
     "output_type": "execute_result"
    }
   ],
   "source": [
    "ι = SimplifyObject_IsoToInputObject( H☾B◞C☽, infinity )"
   ]
  },
  {
   "cell_type": "code",
   "execution_count": 20,
   "metadata": {},
   "outputs": [
    {
     "data": {
      "text/latex": [
       "$${ \\tiny \\big(\\mathbb{Z}^{1 \\times 4}\\xrightarrow{{\\color{blue}{\\left( \\begin{array}{rrrrr}\n",
       " 2 & \\cdot & \\cdot & \\cdot & \\cdot \\\\ \n",
       " \\cdot & 2 & \\cdot & \\cdot & \\cdot \\\\ \n",
       " \\cdot & \\cdot & 2 & \\cdot & \\cdot \\\\ \n",
       " \\cdot & \\cdot & \\cdot & 4 & \\cdot \n",
       "\\end{array} \\right)}}}\\mathbb{Z}^{1 \\times 5}\\big)_{\\mathcal{A}}}{\\color{blue}{\\xrightarrow{{\\color{blue}{\\left( \\begin{array}{rrrrrrrrr}\n",
       " 2 & -1 & 1 & -1 & 1 & 1 & -1 & 1 & -43 \\\\ \n",
       " 1 & -2 & \\cdot & \\cdot & \\cdot & 2 & -1 & 1 & -49 \\\\ \n",
       " 2 & -2 & \\cdot & \\cdot & \\cdot & 2 & -2 & 3 & -55 \\\\ \n",
       " 2 & -2 & \\cdot & \\cdot & \\cdot & 2 & -2 & 2 & -59 \\\\ \n",
       " 1 & -1 & \\cdot & \\cdot & \\cdot & 1 & -1 & 1 & -29 \n",
       "\\end{array} \\right)}}}}}{ \\tiny \\big(\\mathbb{Z}^{1 \\times 8}\\xrightarrow{{\\color{blue}{\\left( \\begin{array}{rrrrrrrrr}\n",
       " \\cdot & \\cdot & \\cdot & 1 & \\cdot & \\cdot & \\cdot & \\cdot & \\cdot \\\\ \n",
       " \\cdot & \\cdot & \\cdot & \\cdot & 1 & \\cdot & \\cdot & \\cdot & \\cdot \\\\ \n",
       " \\cdot & -2 & 2 & -4 & \\cdot & -2 & \\cdot & -2 & \\cdot \\\\ \n",
       " \\cdot & \\cdot & \\cdot & \\cdot & -4 & \\cdot & -2 & \\cdot & -2 \\\\ \n",
       " -2 & 2 & 2 & \\cdot & \\cdot & 3 & \\cdot & -1 & \\cdot \\\\ \n",
       " -2 & -4 & \\cdot & \\cdot & \\cdot & \\cdot & 3 & \\cdot & -1 \\\\ \n",
       " \\cdot & 2 & -2 & 1 & \\cdot & 1 & \\cdot & -1 & \\cdot \\\\ \n",
       " \\cdot & \\cdot & 4 & \\cdot & 1 & \\cdot & 1 & \\cdot & -1 \n",
       "\\end{array} \\right)}}}\\mathbb{Z}^{1 \\times 9}\\big)_{\\mathcal{A}}}$$"
      ]
     },
     "metadata": {},
     "output_type": "display_data"
    }
   ],
   "source": [
    "Show( ι )"
   ]
  },
  {
   "cell_type": "code",
   "execution_count": 21,
   "metadata": {},
   "outputs": [
    {
     "data": {
      "text/plain": [
       "true"
      ]
     },
     "execution_count": 21,
     "metadata": {},
     "output_type": "execute_result"
    }
   ],
   "source": [
    "IsIsomorphism( ι )"
   ]
  },
  {
   "cell_type": "code",
   "execution_count": 22,
   "metadata": {},
   "outputs": [
    {
     "data": {
      "text/plain": [
       "GAP: <A morphism in Freyd( Rows( Z ) )>"
      ]
     },
     "execution_count": 22,
     "metadata": {},
     "output_type": "execute_result"
    }
   ],
   "source": [
    "ℓ = FreydCategoryMorphism( 𝟙, HomalgMatrix( \"[[1,0,0,0,0]]\", 1, 5, ℤ ) / ℤ₋rows, Ĥ☾B◞C☽ )"
   ]
  },
  {
   "cell_type": "code",
   "execution_count": 23,
   "metadata": {},
   "outputs": [
    {
     "data": {
      "text/latex": [
       "$${ \\tiny \\big(\\mathbb{Z}^{1 \\times 0}\\xrightarrow{{\\color{blue}{()_{0 \\times 1}}}}\\mathbb{Z}^{1 \\times 1}\\big)_{\\mathcal{A}}}{\\color{blue}{\\xrightarrow{{\\color{blue}{\\left( \\begin{array}{rrrrr}\n",
       " 1 & \\cdot & \\cdot & \\cdot & \\cdot \n",
       "\\end{array} \\right)}}}}}{ \\tiny \\big(\\mathbb{Z}^{1 \\times 4}\\xrightarrow{{\\color{blue}{\\left( \\begin{array}{rrrrr}\n",
       " 2 & \\cdot & \\cdot & \\cdot & \\cdot \\\\ \n",
       " \\cdot & 2 & \\cdot & \\cdot & \\cdot \\\\ \n",
       " \\cdot & \\cdot & 2 & \\cdot & \\cdot \\\\ \n",
       " \\cdot & \\cdot & \\cdot & 4 & \\cdot \n",
       "\\end{array} \\right)}}}\\mathbb{Z}^{1 \\times 5}\\big)_{\\mathcal{A}}}$$"
      ]
     },
     "metadata": {},
     "output_type": "display_data"
    }
   ],
   "source": [
    "Show( ℓ )"
   ]
  },
  {
   "cell_type": "code",
   "execution_count": 24,
   "metadata": {},
   "outputs": [
    {
     "data": {
      "text/plain": [
       "GAP: <A morphism in Freyd( Rows( Z ) )>"
      ]
     },
     "execution_count": 24,
     "metadata": {},
     "output_type": "execute_result"
    }
   ],
   "source": [
    "λ = PreCompose( ℓ, ι )"
   ]
  },
  {
   "cell_type": "code",
   "execution_count": 25,
   "metadata": {},
   "outputs": [
    {
     "data": {
      "text/latex": [
       "$${ \\tiny \\big(\\mathbb{Z}^{1 \\times 0}\\xrightarrow{{\\color{blue}{()_{0 \\times 1}}}}\\mathbb{Z}^{1 \\times 1}\\big)_{\\mathcal{A}}}{\\color{blue}{\\xrightarrow{{\\color{blue}{\\left( \\begin{array}{rrrrrrrrr}\n",
       " 2 & -1 & 1 & -1 & 1 & 1 & -1 & 1 & -43 \n",
       "\\end{array} \\right)}}}}}{ \\tiny \\big(\\mathbb{Z}^{1 \\times 8}\\xrightarrow{{\\color{blue}{\\left( \\begin{array}{rrrrrrrrr}\n",
       " \\cdot & \\cdot & \\cdot & 1 & \\cdot & \\cdot & \\cdot & \\cdot & \\cdot \\\\ \n",
       " \\cdot & \\cdot & \\cdot & \\cdot & 1 & \\cdot & \\cdot & \\cdot & \\cdot \\\\ \n",
       " \\cdot & -2 & 2 & -4 & \\cdot & -2 & \\cdot & -2 & \\cdot \\\\ \n",
       " \\cdot & \\cdot & \\cdot & \\cdot & -4 & \\cdot & -2 & \\cdot & -2 \\\\ \n",
       " -2 & 2 & 2 & \\cdot & \\cdot & 3 & \\cdot & -1 & \\cdot \\\\ \n",
       " -2 & -4 & \\cdot & \\cdot & \\cdot & \\cdot & 3 & \\cdot & -1 \\\\ \n",
       " \\cdot & 2 & -2 & 1 & \\cdot & 1 & \\cdot & -1 & \\cdot \\\\ \n",
       " \\cdot & \\cdot & 4 & \\cdot & 1 & \\cdot & 1 & \\cdot & -1 \n",
       "\\end{array} \\right)}}}\\mathbb{Z}^{1 \\times 9}\\big)_{\\mathcal{A}}}$$"
      ]
     },
     "metadata": {},
     "output_type": "display_data"
    }
   ],
   "source": [
    "Show( λ )"
   ]
  },
  {
   "cell_type": "markdown",
   "metadata": {},
   "source": [
    "---\n",
    "\n",
    "The morphism $\\lambda:\\mathbb{1} \\to H(B,C)$ corresonds to the morphism $\\varphi:=\\nu^{-1}(\\lambda):B \\to C$."
   ]
  },
  {
   "cell_type": "code",
   "execution_count": 26,
   "metadata": {},
   "outputs": [
    {
     "data": {
      "text/plain": [
       "GAP: <A morphism in Freyd( Rows( Z ) )>"
      ]
     },
     "execution_count": 26,
     "metadata": {},
     "output_type": "execute_result"
    }
   ],
   "source": [
    "φ = InterpretMorphismFromDistinguishedObjectToHomomorphismStructureAsMorphism( B, C, λ )"
   ]
  },
  {
   "cell_type": "code",
   "execution_count": 27,
   "metadata": {},
   "outputs": [
    {
     "data": {
      "text/latex": [
       "$${ \\tiny \\big(\\mathbb{Z}^{1 \\times 3}\\xrightarrow{{\\color{blue}{\\left( \\begin{array}{rrrr}\n",
       " 1 & -4 & \\cdot & 1 \\\\ \n",
       " \\cdot & -2 & 3 & 1 \\\\ \n",
       " \\cdot & -2 & -1 & -1 \n",
       "\\end{array} \\right)}}}\\mathbb{Z}^{1 \\times 4}\\big)_{\\mathcal{A}}}{\\color{blue}{\\xrightarrow{{\\color{blue}{\\left( \\begin{array}{rrr}\n",
       " -176 & -54 & 54 \\\\ \n",
       " -54 & -7 & 7 \\\\ \n",
       " -20 & -12 & 12 \\\\ \n",
       " -44 & 24 & -24 \n",
       "\\end{array} \\right)}}}}}{ \\tiny \\big(\\mathbb{Z}^{1 \\times 2}\\xrightarrow{{\\color{blue}{\\left( \\begin{array}{rrr}\n",
       " \\cdot & -2 & 2 \\\\ \n",
       " 4 & \\cdot & \\cdot \n",
       "\\end{array} \\right)}}}\\mathbb{Z}^{1 \\times 3}\\big)_{\\mathcal{A}}}$$"
      ]
     },
     "metadata": {},
     "output_type": "display_data"
    }
   ],
   "source": [
    "Show( φ )"
   ]
  },
  {
   "cell_type": "markdown",
   "metadata": {},
   "source": [
    "---\n",
    "\n",
    "Let us check that $\\nu(\\varphi)=\\lambda$."
   ]
  },
  {
   "cell_type": "code",
   "execution_count": 28,
   "metadata": {},
   "outputs": [
    {
     "data": {
      "text/plain": [
       "GAP: <A morphism in Freyd( Rows( Z ) )>"
      ]
     },
     "execution_count": 28,
     "metadata": {},
     "output_type": "execute_result"
    }
   ],
   "source": [
    "ν_φ = InterpretMorphismAsMorphismFromDistinguishedObjectToHomomorphismStructure( φ )"
   ]
  },
  {
   "cell_type": "code",
   "execution_count": 29,
   "metadata": {},
   "outputs": [
    {
     "data": {
      "text/plain": [
       "true"
      ]
     },
     "execution_count": 29,
     "metadata": {},
     "output_type": "execute_result"
    }
   ],
   "source": [
    "IsCongruentForMorphisms( ν_φ, λ )"
   ]
  },
  {
   "cell_type": "code",
   "execution_count": 30,
   "metadata": {},
   "outputs": [
    {
     "data": {
      "text/plain": [
       "GAP: <A morphism in Freyd( Rows( Z ) )>"
      ]
     },
     "execution_count": 30,
     "metadata": {},
     "output_type": "execute_result"
    }
   ],
   "source": [
    "ψ = 2 * φ"
   ]
  },
  {
   "cell_type": "code",
   "execution_count": 31,
   "metadata": {},
   "outputs": [
    {
     "data": {
      "text/latex": [
       "$${ \\tiny \\big(\\mathbb{Z}^{1 \\times 3}\\xrightarrow{{\\color{blue}{\\left( \\begin{array}{rrrr}\n",
       " 1 & -4 & \\cdot & 1 \\\\ \n",
       " \\cdot & -2 & 3 & 1 \\\\ \n",
       " \\cdot & -2 & -1 & -1 \n",
       "\\end{array} \\right)}}}\\mathbb{Z}^{1 \\times 4}\\big)_{\\mathcal{A}}}{\\color{blue}{\\xrightarrow{{\\color{blue}{\\left( \\begin{array}{rrr}\n",
       " -352 & -108 & 108 \\\\ \n",
       " -108 & -14 & 14 \\\\ \n",
       " -40 & -24 & 24 \\\\ \n",
       " -88 & 48 & -48 \n",
       "\\end{array} \\right)}}}}}{ \\tiny \\big(\\mathbb{Z}^{1 \\times 2}\\xrightarrow{{\\color{blue}{\\left( \\begin{array}{rrr}\n",
       " \\cdot & -2 & 2 \\\\ \n",
       " 4 & \\cdot & \\cdot \n",
       "\\end{array} \\right)}}}\\mathbb{Z}^{1 \\times 3}\\big)_{\\mathcal{A}}}$$"
      ]
     },
     "metadata": {},
     "output_type": "display_data"
    }
   ],
   "source": [
    "Show( ψ )"
   ]
  },
  {
   "cell_type": "code",
   "execution_count": 32,
   "metadata": {},
   "outputs": [
    {
     "data": {
      "text/plain": [
       "true"
      ]
     },
     "execution_count": 32,
     "metadata": {},
     "output_type": "execute_result"
    }
   ],
   "source": [
    "IsZero( ψ )"
   ]
  },
  {
   "cell_type": "markdown",
   "metadata": {},
   "source": [
    "---\n",
    "\n",
    "The homomorphism structure can be lifted to other categories:"
   ]
  },
  {
   "cell_type": "code",
   "execution_count": 33,
   "metadata": {},
   "outputs": [
    {
     "data": {
      "text/plain": [
       "GAP: Chain complexes( Freyd( Rows( Z ) ) )"
      ]
     },
     "execution_count": 33,
     "metadata": {},
     "output_type": "execute_result"
    }
   ],
   "source": [
    "𝓒ᵇ𝓐☾ℤ₋rows☽ = ComplexCategoryByChains( 𝓐☾ℤ₋rows☽ )"
   ]
  },
  {
   "cell_type": "code",
   "execution_count": 34,
   "metadata": {},
   "outputs": [
    {
     "data": {
      "text/plain": [
       "GAP: Freyd( Rows( Z ) )"
      ]
     },
     "execution_count": 34,
     "metadata": {},
     "output_type": "execute_result"
    }
   ],
   "source": [
    "RangeCategoryOfHomomorphismStructure( 𝓒ᵇ𝓐☾ℤ₋rows☽ )"
   ]
  },
  {
   "cell_type": "code",
   "execution_count": 35,
   "metadata": {},
   "outputs": [
    {
     "data": {
      "text/plain": [
       "GAP: <A projective object in Freyd( Rows( Z ) )>"
      ]
     },
     "execution_count": 35,
     "metadata": {},
     "output_type": "execute_result"
    }
   ],
   "source": [
    "𝟙 = DistinguishedObjectOfHomomorphismStructure( 𝓒ᵇ𝓐☾ℤ₋rows☽ )"
   ]
  },
  {
   "cell_type": "code",
   "execution_count": 36,
   "metadata": {},
   "outputs": [
    {
     "data": {
      "text/latex": [
       "$$\\big(\\mathbb{Z}^{1 \\times 0}\\xrightarrow{{\\color{blue}{()_{0 \\times 1}}}}\\mathbb{Z}^{1 \\times 1}\\big)_{\\mathcal{A}}$$"
      ]
     },
     "metadata": {},
     "output_type": "display_data"
    }
   ],
   "source": [
    "Show( 𝟙 )"
   ]
  },
  {
   "cell_type": "code",
   "execution_count": 37,
   "metadata": {},
   "outputs": [
    {
     "data": {
      "text/plain": [
       "GAP: Homotopy category( Freyd( Rows( Z ) ) )"
      ]
     },
     "execution_count": 37,
     "metadata": {},
     "output_type": "execute_result"
    }
   ],
   "source": [
    "𝓚ᵇ𝓐☾ℤ₋rows☽ = HomotopyCategoryByChains( 𝓐☾ℤ₋rows☽ )"
   ]
  },
  {
   "cell_type": "code",
   "execution_count": 38,
   "metadata": {},
   "outputs": [
    {
     "data": {
      "text/plain": [
       "GAP: Derived_• category( Freyd( Rows( Z ) ) )"
      ]
     },
     "execution_count": 38,
     "metadata": {},
     "output_type": "execute_result"
    }
   ],
   "source": [
    "𝓓ᵇ𝓐☾ℤ₋rows☽ = DerivedCategoryByChains( 𝓐☾ℤ₋rows☽ )"
   ]
  },
  {
   "cell_type": "markdown",
   "metadata": {},
   "source": [
    "---\n",
    "\n",
    "In the following we create an object $B$ in $\\mathcal{C}^{b}(\\mathcal{A}(\\mathbb{Z}\\mbox{-}\\mathrm{rows}))$ and compute its projective resolution $\\mathrm{proj}_B$. Then\n",
    "we will see how Hom-spaces between them changes between $\\mathcal{C}^{b}(\\mathcal{A}(\\mathbb{Z}\\mbox{-}\\mathrm{rows}))$, $\\mathcal{K}^{b}(\\mathcal{A}(\\mathbb{Z}\\mbox{-}\\mathrm{rows}))$ and\n",
    "$\\mathcal{D}^{b}(\\mathcal{A}(\\mathbb{Z}\\mbox{-}\\mathrm{rows}))$"
   ]
  },
  {
   "cell_type": "code",
   "execution_count": 39,
   "metadata": {},
   "outputs": [
    {
     "data": {
      "text/plain": [
       "GAP: <An object in Freyd( Rows( Z ) )>"
      ]
     },
     "execution_count": 39,
     "metadata": {},
     "output_type": "execute_result"
    }
   ],
   "source": [
    "B⁻¹ = HomalgMatrix( [ [ -18 ] ], 1, 1, ℤ ) / ℤ₋rows / 𝓐☾ℤ₋rows☽\n",
    "B⁰ = HomalgMatrix( [ [ -360 ] ], 1, 1, ℤ ) / ℤ₋rows / 𝓐☾ℤ₋rows☽\n",
    "B¹ = HomalgMatrix( [ [ 220 ] ], 1, 1, ℤ ) / ℤ₋rows / 𝓐☾ℤ₋rows☽"
   ]
  },
  {
   "cell_type": "code",
   "execution_count": 40,
   "metadata": {},
   "outputs": [
    {
     "data": {
      "text/plain": [
       "GAP: <A morphism in Freyd( Rows( Z ) )>"
      ]
     },
     "execution_count": 40,
     "metadata": {},
     "output_type": "execute_result"
    }
   ],
   "source": [
    "∂⁰ = FreydCategoryMorphism(\n",
    "            B⁰,\n",
    "            HomalgMatrix( [ [ -13 ] ], 1, 1, ℤ ) / ℤ₋rows,\n",
    "            B⁻¹\n",
    "        )\n",
    "\n",
    "∂¹ = FreydCategoryMorphism(\n",
    "            B¹,\n",
    "            HomalgMatrix( [ [ -162 ] ], 1, 1, ℤ ) / ℤ₋rows,\n",
    "            B⁰\n",
    "        )"
   ]
  },
  {
   "cell_type": "code",
   "execution_count": 41,
   "metadata": {},
   "outputs": [
    {
     "data": {
      "text/plain": [
       "GAP: <An object in Chain complexes( Freyd( Rows( Z ) ) ) with active lower bound -1 and active upper bound 1>"
      ]
     },
     "execution_count": 41,
     "metadata": {},
     "output_type": "execute_result"
    }
   ],
   "source": [
    "B = ChainComplex( [ ∂⁰, ∂¹ ], 0 )"
   ]
  },
  {
   "cell_type": "code",
   "execution_count": 42,
   "metadata": {},
   "outputs": [
    {
     "data": {
      "text/latex": [
       "$$\\begin{array}{c}\n",
       " \\\\ \n",
       " \\big(\\mathbb{Z}^{1 \\times 1}\\xrightarrow{{\\color{blue}{\\left( \\begin{array}{r}\n",
       " 220 \n",
       "\\end{array} \\right)}}}\\mathbb{Z}^{1 \\times 1}\\big)_{\\mathcal{A}} \n",
       " \\\\ \n",
       "  { \\color{black}\\vert^{1}} \n",
       " \\\\ \n",
       " {\\color{blue}{{\\color{blue}{\\left( \\begin{array}{r}\n",
       " -162 \n",
       "\\end{array} \\right)}}}} \n",
       " \\\\ \n",
       " { \\color{black} \\downarrow_{\\phantom{1}}} \n",
       " \\\\ \n",
       " \\big(\\mathbb{Z}^{1 \\times 1}\\xrightarrow{{\\color{blue}{\\left( \\begin{array}{r}\n",
       " -360 \n",
       "\\end{array} \\right)}}}\\mathbb{Z}^{1 \\times 1}\\big)_{\\mathcal{A}} \n",
       " \\\\ \n",
       "  { \\color{black}\\vert^{0}} \n",
       " \\\\ \n",
       " {\\color{blue}{{\\color{blue}{\\left( \\begin{array}{r}\n",
       " -13 \n",
       "\\end{array} \\right)}}}} \n",
       " \\\\ \n",
       " { \\color{black} \\downarrow_{\\phantom{0}}} \n",
       " \\\\ \n",
       " \\big(\\mathbb{Z}^{1 \\times 1}\\xrightarrow{{\\color{blue}{\\left( \\begin{array}{r}\n",
       " -18 \n",
       "\\end{array} \\right)}}}\\mathbb{Z}^{1 \\times 1}\\big)_{\\mathcal{A}}\\end{array}$$"
      ]
     },
     "metadata": {},
     "output_type": "display_data"
    }
   ],
   "source": [
    "Show( B )"
   ]
  },
  {
   "cell_type": "code",
   "execution_count": 43,
   "metadata": {},
   "outputs": [
    {
     "data": {
      "text/plain": [
       "true"
      ]
     },
     "execution_count": 43,
     "metadata": {},
     "output_type": "execute_result"
    }
   ],
   "source": [
    "IsWellDefined( B )"
   ]
  },
  {
   "cell_type": "code",
   "execution_count": 44,
   "metadata": {},
   "outputs": [
    {
     "data": {
      "text/plain": [
       "GAP: <An object in Chain complexes( Freyd( Rows( Z ) ) ) with active lower bound -1 and active upper bound 2>"
      ]
     },
     "execution_count": 44,
     "metadata": {},
     "output_type": "execute_result"
    }
   ],
   "source": [
    "ℙB = ProjectiveResolution( B, true )"
   ]
  },
  {
   "cell_type": "code",
   "execution_count": 45,
   "metadata": {},
   "outputs": [
    {
     "data": {
      "text/plain": [
       "GAP: <A morphism in Chain complexes( Freyd( Rows( Z ) ) ) with active lower bound -1 and active upper bound 1>"
      ]
     },
     "execution_count": 45,
     "metadata": {},
     "output_type": "execute_result"
    }
   ],
   "source": [
    "𝕢B = QuasiIsomorphismFromProjectiveResolution( B, true )"
   ]
  },
  {
   "cell_type": "code",
   "execution_count": 46,
   "metadata": {},
   "outputs": [
    {
     "data": {
      "text/latex": [
       "$$\\begin{array}{ccc}\n",
       " \\\\ \n",
       "\\big(\\mathbb{Z}^{1 \\times 0}\\xrightarrow{{\\color{blue}{()_{0 \\times 1}}}}\\mathbb{Z}^{1 \\times 1}\\big)_{\\mathcal{A}}&-\\phantom{-}{{\\color{blue}{{\\color{blue}{()_{1 \\times 0}}}}}}\\phantom{-}\\rightarrow&\\big(\\mathbb{Z}^{1 \\times 0}\\xrightarrow{{\\color{blue}{()_{0 \\times 0}}}}\\mathbb{Z}^{1 \\times 0}\\big)_{\\mathcal{A}}\n",
       " \\\\ \n",
       " \\vert^{2} &&\\vert^{2} \n",
       " \\\\ \n",
       " {\\color{blue}{{\\color{blue}{\\left( \\begin{array}{rr}\n",
       " 220 & -99 \n",
       "\\end{array} \\right)}}}}&&{\\color{blue}{{\\color{blue}{()_{0 \\times 1}}}}}\n",
       " \\\\ \n",
       "  \\downarrow_{\\phantom{2}}&& \n",
       " \\downarrow_{\\phantom{2}}\\\\ \n",
       "\\big(\\mathbb{Z}^{1 \\times 0}\\xrightarrow{{\\color{blue}{()_{0 \\times 2}}}}\\mathbb{Z}^{1 \\times 2}\\big)_{\\mathcal{A}}&-\\phantom{-}{{\\color{blue}{{\\color{blue}{\\left( \\begin{array}{r}\n",
       " -1 \\\\ \n",
       " \\cdot \n",
       "\\end{array} \\right)}}}}}\\phantom{-}\\rightarrow&\\big(\\mathbb{Z}^{1 \\times 1}\\xrightarrow{{\\color{blue}{\\left( \\begin{array}{r}\n",
       " 220 \n",
       "\\end{array} \\right)}}}\\mathbb{Z}^{1 \\times 1}\\big)_{\\mathcal{A}}\n",
       " \\\\ \n",
       " \\vert^{1} &&\\vert^{1} \n",
       " \\\\ \n",
       " {\\color{blue}{{\\color{blue}{\\left( \\begin{array}{rr}\n",
       " -162 & 117 \\\\ \n",
       " -360 & 260 \n",
       "\\end{array} \\right)}}}}&&{\\color{blue}{{\\color{blue}{\\left( \\begin{array}{r}\n",
       " -162 \n",
       "\\end{array} \\right)}}}}\n",
       " \\\\ \n",
       "  \\downarrow_{\\phantom{1}}&& \n",
       " \\downarrow_{\\phantom{1}}\\\\ \n",
       "\\big(\\mathbb{Z}^{1 \\times 0}\\xrightarrow{{\\color{blue}{()_{0 \\times 2}}}}\\mathbb{Z}^{1 \\times 2}\\big)_{\\mathcal{A}}&-\\phantom{-}{{\\color{blue}{{\\color{blue}{\\left( \\begin{array}{r}\n",
       " -1 \\\\ \n",
       " \\cdot \n",
       "\\end{array} \\right)}}}}}\\phantom{-}\\rightarrow&\\big(\\mathbb{Z}^{1 \\times 1}\\xrightarrow{{\\color{blue}{\\left( \\begin{array}{r}\n",
       " -360 \n",
       "\\end{array} \\right)}}}\\mathbb{Z}^{1 \\times 1}\\big)_{\\mathcal{A}}\n",
       " \\\\ \n",
       " \\vert^{0} &&\\vert^{0} \n",
       " \\\\ \n",
       " {\\color{blue}{{\\color{blue}{\\left( \\begin{array}{r}\n",
       " -13 \\\\ \n",
       " -18 \n",
       "\\end{array} \\right)}}}}&&{\\color{blue}{{\\color{blue}{\\left( \\begin{array}{r}\n",
       " -13 \n",
       "\\end{array} \\right)}}}}\n",
       " \\\\ \n",
       "  \\downarrow_{\\phantom{0}}&& \n",
       " \\downarrow_{\\phantom{0}}\\\\ \n",
       "\\big(\\mathbb{Z}^{1 \\times 0}\\xrightarrow{{\\color{blue}{()_{0 \\times 1}}}}\\mathbb{Z}^{1 \\times 1}\\big)_{\\mathcal{A}}&-\\phantom{-}{{\\color{blue}{{\\color{blue}{\\left( \\begin{array}{r}\n",
       " -1 \n",
       "\\end{array} \\right)}}}}}\\phantom{-}\\rightarrow&\\big(\\mathbb{Z}^{1 \\times 1}\\xrightarrow{{\\color{blue}{\\left( \\begin{array}{r}\n",
       " -18 \n",
       "\\end{array} \\right)}}}\\mathbb{Z}^{1 \\times 1}\\big)_{\\mathcal{A}}\n",
       " \\\\ \n",
       " \\end{array}$$"
      ]
     },
     "metadata": {},
     "output_type": "display_data"
    }
   ],
   "source": [
    "Show( 𝕢B )"
   ]
  },
  {
   "cell_type": "code",
   "execution_count": 47,
   "metadata": {},
   "outputs": [
    {
     "data": {
      "text/latex": [
       "$$\\big(\\mathbb{Z}^{1 \\times 2}\\xrightarrow{{\\color{blue}{\\left( \\begin{array}{rr}\n",
       " 220 & \\cdot \\\\ \n",
       " \\cdot & 3960 \n",
       "\\end{array} \\right)}}}\\mathbb{Z}^{1 \\times 2}\\big)_{\\mathcal{A}}$$"
      ]
     },
     "metadata": {},
     "output_type": "display_data"
    }
   ],
   "source": [
    "Show( SimplifyObject( HomStructure( ℙB, B ), infinity ) )"
   ]
  },
  {
   "cell_type": "code",
   "execution_count": 48,
   "metadata": {},
   "outputs": [
    {
     "data": {
      "text/latex": [
       "$$\\big(\\mathbb{Z}^{1 \\times 1}\\xrightarrow{{\\color{blue}{\\left( \\begin{array}{r}\n",
       " 11 \n",
       "\\end{array} \\right)}}}\\mathbb{Z}^{1 \\times 1}\\big)_{\\mathcal{A}}$$"
      ]
     },
     "metadata": {},
     "output_type": "display_data"
    }
   ],
   "source": [
    "Show( SimplifyObject( HomStructure( ℙB / 𝓚ᵇ𝓐☾ℤ₋rows☽, B / 𝓚ᵇ𝓐☾ℤ₋rows☽ ), infinity ) )"
   ]
  },
  {
   "cell_type": "code",
   "execution_count": 49,
   "metadata": {},
   "outputs": [
    {
     "data": {
      "text/latex": [
       "$$\\big(\\mathbb{Z}^{1 \\times 1}\\xrightarrow{{\\color{blue}{\\left( \\begin{array}{r}\n",
       " 11 \n",
       "\\end{array} \\right)}}}\\mathbb{Z}^{1 \\times 1}\\big)_{\\mathcal{A}}$$"
      ]
     },
     "metadata": {},
     "output_type": "display_data"
    }
   ],
   "source": [
    "Show( SimplifyObject( HomStructure( ℙB / 𝓚ᵇ𝓐☾ℤ₋rows☽ / 𝓓ᵇ𝓐☾ℤ₋rows☽, B / 𝓚ᵇ𝓐☾ℤ₋rows☽ / 𝓓ᵇ𝓐☾ℤ₋rows☽ ), infinity ) )"
   ]
  },
  {
   "cell_type": "markdown",
   "metadata": {},
   "source": [
    "---\n",
    "\n",
    "In theory, the quasi-isomorphism $\\mathbb{q}_B:\\mathbb{P}_B \\to B$ should be an isomorphism in the derived category $\\mathcal{D}^{b}(\\mathcal{A}(\\mathbb{Z}\\mbox{-}\\mathrm{rows}))$"
   ]
  },
  {
   "cell_type": "code",
   "execution_count": 50,
   "metadata": {},
   "outputs": [
    {
     "data": {
      "text/plain": [
       "GAP: <A morphism in Chain complexes( Freyd( Rows( Z ) ) ) with active lower bound -1 and active upper bound 1>"
      ]
     },
     "execution_count": 50,
     "metadata": {},
     "output_type": "execute_result"
    }
   ],
   "source": [
    "𝕢B"
   ]
  },
  {
   "cell_type": "code",
   "execution_count": 51,
   "metadata": {},
   "outputs": [
    {
     "data": {
      "text/plain": [
       "false"
      ]
     },
     "execution_count": 51,
     "metadata": {},
     "output_type": "execute_result"
    }
   ],
   "source": [
    "IsIsomorphism( 𝕢B )"
   ]
  },
  {
   "cell_type": "code",
   "execution_count": 52,
   "metadata": {},
   "outputs": [
    {
     "data": {
      "text/plain": [
       "true"
      ]
     },
     "execution_count": 52,
     "metadata": {},
     "output_type": "execute_result"
    }
   ],
   "source": [
    "IsQuasiIsomorphism( 𝕢B )"
   ]
  },
  {
   "cell_type": "code",
   "execution_count": 53,
   "metadata": {},
   "outputs": [
    {
     "data": {
      "text/plain": [
       "GAP: <A morphism in Derived_• category( Freyd( Rows( Z ) ) )>"
      ]
     },
     "execution_count": 53,
     "metadata": {},
     "output_type": "execute_result"
    }
   ],
   "source": [
    "𝕢B = 𝕢B / 𝓚ᵇ𝓐☾ℤ₋rows☽ / 𝓓ᵇ𝓐☾ℤ₋rows☽"
   ]
  },
  {
   "cell_type": "code",
   "execution_count": 54,
   "metadata": {},
   "outputs": [
    {
     "data": {
      "text/plain": [
       "true"
      ]
     },
     "execution_count": 54,
     "metadata": {},
     "output_type": "execute_result"
    }
   ],
   "source": [
    "IsIsomorphism( 𝕢B )"
   ]
  },
  {
   "cell_type": "code",
   "execution_count": 55,
   "metadata": {},
   "outputs": [
    {
     "data": {
      "text/plain": [
       "GAP: <A morphism in Derived_• category( Freyd( Rows( Z ) ) )>"
      ]
     },
     "execution_count": 55,
     "metadata": {},
     "output_type": "execute_result"
    }
   ],
   "source": [
    "𝕢B⁻¹ = InverseForMorphisms( 𝕢B )"
   ]
  },
  {
   "cell_type": "code",
   "execution_count": 56,
   "metadata": {},
   "outputs": [
    {
     "data": {
      "text/latex": [
       "$$\\begin{array}{ccccc}\n",
       " \\\\ \n",
       "\\big(\\mathbb{Z}^{1 \\times 0}\\xrightarrow{{\\color{blue}{()_{0 \\times 1}}}}\\mathbb{Z}^{1 \\times 1}\\big)_{\\mathcal{A}}&\\leftarrow\\phantom{-}{{\\color{blue}{{\\color{blue}{\\left( \\begin{array}{r}\n",
       " 1 \n",
       "\\end{array} \\right)}}}}}\\phantom{-}-&\\big(\\mathbb{Z}^{1 \\times 0}\\xrightarrow{{\\color{blue}{()_{0 \\times 1}}}}\\mathbb{Z}^{1 \\times 1}\\big)_{\\mathcal{A}}&-\\phantom{-}{{\\color{blue}{{\\color{blue}{()_{1 \\times 0}}}}}}\\phantom{-}\\rightarrow&\\big(\\mathbb{Z}^{1 \\times 0}\\xrightarrow{{\\color{blue}{()_{0 \\times 0}}}}\\mathbb{Z}^{1 \\times 0}\\big)_{\\mathcal{A}}\n",
       " \\\\ \n",
       " \\vert^{2} && \n",
       "\\vert^{2}&&\\vert^{2} \n",
       " \\\\ \n",
       " {\\color{blue}{{\\color{blue}{\\left( \\begin{array}{rr}\n",
       " 220 & -99 \n",
       "\\end{array} \\right)}}}}&&{\\color{blue}{{\\color{blue}{\\left( \\begin{array}{rr}\n",
       " 220 & -99 \n",
       "\\end{array} \\right)}}}}&&{\\color{blue}{{\\color{blue}{()_{0 \\times 1}}}}}\n",
       " \\\\ \n",
       "  \\downarrow_{\\phantom{2}}&& \\downarrow_{\\phantom{2}}&& \n",
       " \\downarrow_{\\phantom{2}}\\\\ \n",
       "\\big(\\mathbb{Z}^{1 \\times 0}\\xrightarrow{{\\color{blue}{()_{0 \\times 2}}}}\\mathbb{Z}^{1 \\times 2}\\big)_{\\mathcal{A}}&\\leftarrow\\phantom{-}{{\\color{blue}{{\\color{blue}{\\left( \\begin{array}{rr}\n",
       " 1 & \\cdot \\\\ \n",
       " \\cdot & 1 \n",
       "\\end{array} \\right)}}}}}\\phantom{-}-&\\big(\\mathbb{Z}^{1 \\times 0}\\xrightarrow{{\\color{blue}{()_{0 \\times 2}}}}\\mathbb{Z}^{1 \\times 2}\\big)_{\\mathcal{A}}&-\\phantom{-}{{\\color{blue}{{\\color{blue}{\\left( \\begin{array}{r}\n",
       " -1 \\\\ \n",
       " \\cdot \n",
       "\\end{array} \\right)}}}}}\\phantom{-}\\rightarrow&\\big(\\mathbb{Z}^{1 \\times 1}\\xrightarrow{{\\color{blue}{\\left( \\begin{array}{r}\n",
       " 220 \n",
       "\\end{array} \\right)}}}\\mathbb{Z}^{1 \\times 1}\\big)_{\\mathcal{A}}\n",
       " \\\\ \n",
       " \\vert^{1} && \n",
       "\\vert^{1}&&\\vert^{1} \n",
       " \\\\ \n",
       " {\\color{blue}{{\\color{blue}{\\left( \\begin{array}{rr}\n",
       " -162 & 117 \\\\ \n",
       " -360 & 260 \n",
       "\\end{array} \\right)}}}}&&{\\color{blue}{{\\color{blue}{\\left( \\begin{array}{rr}\n",
       " -162 & 117 \\\\ \n",
       " -360 & 260 \n",
       "\\end{array} \\right)}}}}&&{\\color{blue}{{\\color{blue}{\\left( \\begin{array}{r}\n",
       " -162 \n",
       "\\end{array} \\right)}}}}\n",
       " \\\\ \n",
       "  \\downarrow_{\\phantom{1}}&& \\downarrow_{\\phantom{1}}&& \n",
       " \\downarrow_{\\phantom{1}}\\\\ \n",
       "\\big(\\mathbb{Z}^{1 \\times 0}\\xrightarrow{{\\color{blue}{()_{0 \\times 2}}}}\\mathbb{Z}^{1 \\times 2}\\big)_{\\mathcal{A}}&\\leftarrow\\phantom{-}{{\\color{blue}{{\\color{blue}{\\left( \\begin{array}{rr}\n",
       " 1 & \\cdot \\\\ \n",
       " \\cdot & 1 \n",
       "\\end{array} \\right)}}}}}\\phantom{-}-&\\big(\\mathbb{Z}^{1 \\times 0}\\xrightarrow{{\\color{blue}{()_{0 \\times 2}}}}\\mathbb{Z}^{1 \\times 2}\\big)_{\\mathcal{A}}&-\\phantom{-}{{\\color{blue}{{\\color{blue}{\\left( \\begin{array}{r}\n",
       " -1 \\\\ \n",
       " \\cdot \n",
       "\\end{array} \\right)}}}}}\\phantom{-}\\rightarrow&\\big(\\mathbb{Z}^{1 \\times 1}\\xrightarrow{{\\color{blue}{\\left( \\begin{array}{r}\n",
       " -360 \n",
       "\\end{array} \\right)}}}\\mathbb{Z}^{1 \\times 1}\\big)_{\\mathcal{A}}\n",
       " \\\\ \n",
       " \\vert^{0} && \n",
       "\\vert^{0}&&\\vert^{0} \n",
       " \\\\ \n",
       " {\\color{blue}{{\\color{blue}{\\left( \\begin{array}{r}\n",
       " -13 \\\\ \n",
       " -18 \n",
       "\\end{array} \\right)}}}}&&{\\color{blue}{{\\color{blue}{\\left( \\begin{array}{r}\n",
       " -13 \\\\ \n",
       " -18 \n",
       "\\end{array} \\right)}}}}&&{\\color{blue}{{\\color{blue}{\\left( \\begin{array}{r}\n",
       " -13 \n",
       "\\end{array} \\right)}}}}\n",
       " \\\\ \n",
       "  \\downarrow_{\\phantom{0}}&& \\downarrow_{\\phantom{0}}&& \n",
       " \\downarrow_{\\phantom{0}}\\\\ \n",
       "\\big(\\mathbb{Z}^{1 \\times 0}\\xrightarrow{{\\color{blue}{()_{0 \\times 1}}}}\\mathbb{Z}^{1 \\times 1}\\big)_{\\mathcal{A}}&\\leftarrow\\phantom{-}{{\\color{blue}{{\\color{blue}{\\left( \\begin{array}{r}\n",
       " 1 \n",
       "\\end{array} \\right)}}}}}\\phantom{-}-&\\big(\\mathbb{Z}^{1 \\times 0}\\xrightarrow{{\\color{blue}{()_{0 \\times 1}}}}\\mathbb{Z}^{1 \\times 1}\\big)_{\\mathcal{A}}&-\\phantom{-}{{\\color{blue}{{\\color{blue}{\\left( \\begin{array}{r}\n",
       " -1 \n",
       "\\end{array} \\right)}}}}}\\phantom{-}\\rightarrow&\\big(\\mathbb{Z}^{1 \\times 1}\\xrightarrow{{\\color{blue}{\\left( \\begin{array}{r}\n",
       " -18 \n",
       "\\end{array} \\right)}}}\\mathbb{Z}^{1 \\times 1}\\big)_{\\mathcal{A}}\n",
       " \\\\ \n",
       " \\end{array}$$"
      ]
     },
     "metadata": {},
     "output_type": "display_data"
    }
   ],
   "source": [
    "Show( 𝕢B )"
   ]
  },
  {
   "cell_type": "markdown",
   "metadata": {},
   "source": [
    "Note that morphisms in $\\mathcal{D}^{b}(\\mathcal{A}(\\mathbb{Z}\\mbox{-}\\mathrm{rows}))$ are given by roofs:"
   ]
  },
  {
   "cell_type": "code",
   "execution_count": 57,
   "metadata": {},
   "outputs": [
    {
     "data": {
      "text/latex": [
       "$$\\begin{array}{ccccc}\n",
       " \\\\ \n",
       "\\big(\\mathbb{Z}^{1 \\times 0}\\xrightarrow{{\\color{blue}{()_{0 \\times 0}}}}\\mathbb{Z}^{1 \\times 0}\\big)_{\\mathcal{A}}&\\leftarrow\\phantom{-}{{\\color{blue}{{\\color{blue}{()_{1 \\times 0}}}}}}\\phantom{-}-&\\big(\\mathbb{Z}^{1 \\times 0}\\xrightarrow{{\\color{blue}{()_{0 \\times 1}}}}\\mathbb{Z}^{1 \\times 1}\\big)_{\\mathcal{A}}&-\\phantom{-}{{\\color{blue}{{\\color{blue}{\\left( \\begin{array}{r}\n",
       " 1 \n",
       "\\end{array} \\right)}}}}}\\phantom{-}\\rightarrow&\\big(\\mathbb{Z}^{1 \\times 0}\\xrightarrow{{\\color{blue}{()_{0 \\times 1}}}}\\mathbb{Z}^{1 \\times 1}\\big)_{\\mathcal{A}}\n",
       " \\\\ \n",
       " \\vert^{2} && \n",
       "\\vert^{2}&&\\vert^{2} \n",
       " \\\\ \n",
       " {\\color{blue}{{\\color{blue}{()_{0 \\times 1}}}}}&&{\\color{blue}{{\\color{blue}{\\left( \\begin{array}{rr}\n",
       " 220 & -99 \n",
       "\\end{array} \\right)}}}}&&{\\color{blue}{{\\color{blue}{\\left( \\begin{array}{rr}\n",
       " 220 & -99 \n",
       "\\end{array} \\right)}}}}\n",
       " \\\\ \n",
       "  \\downarrow_{\\phantom{2}}&& \\downarrow_{\\phantom{2}}&& \n",
       " \\downarrow_{\\phantom{2}}\\\\ \n",
       "\\big(\\mathbb{Z}^{1 \\times 1}\\xrightarrow{{\\color{blue}{\\left( \\begin{array}{r}\n",
       " 220 \n",
       "\\end{array} \\right)}}}\\mathbb{Z}^{1 \\times 1}\\big)_{\\mathcal{A}}&\\leftarrow\\phantom{-}{{\\color{blue}{{\\color{blue}{\\left( \\begin{array}{r}\n",
       " -1 \\\\ \n",
       " \\cdot \n",
       "\\end{array} \\right)}}}}}\\phantom{-}-&\\big(\\mathbb{Z}^{1 \\times 0}\\xrightarrow{{\\color{blue}{()_{0 \\times 2}}}}\\mathbb{Z}^{1 \\times 2}\\big)_{\\mathcal{A}}&-\\phantom{-}{{\\color{blue}{{\\color{blue}{\\left( \\begin{array}{rr}\n",
       " 1 & \\cdot \\\\ \n",
       " \\cdot & 1 \n",
       "\\end{array} \\right)}}}}}\\phantom{-}\\rightarrow&\\big(\\mathbb{Z}^{1 \\times 0}\\xrightarrow{{\\color{blue}{()_{0 \\times 2}}}}\\mathbb{Z}^{1 \\times 2}\\big)_{\\mathcal{A}}\n",
       " \\\\ \n",
       " \\vert^{1} && \n",
       "\\vert^{1}&&\\vert^{1} \n",
       " \\\\ \n",
       " {\\color{blue}{{\\color{blue}{\\left( \\begin{array}{r}\n",
       " -162 \n",
       "\\end{array} \\right)}}}}&&{\\color{blue}{{\\color{blue}{\\left( \\begin{array}{rr}\n",
       " -162 & 117 \\\\ \n",
       " -360 & 260 \n",
       "\\end{array} \\right)}}}}&&{\\color{blue}{{\\color{blue}{\\left( \\begin{array}{rr}\n",
       " -162 & 117 \\\\ \n",
       " -360 & 260 \n",
       "\\end{array} \\right)}}}}\n",
       " \\\\ \n",
       "  \\downarrow_{\\phantom{1}}&& \\downarrow_{\\phantom{1}}&& \n",
       " \\downarrow_{\\phantom{1}}\\\\ \n",
       "\\big(\\mathbb{Z}^{1 \\times 1}\\xrightarrow{{\\color{blue}{\\left( \\begin{array}{r}\n",
       " -360 \n",
       "\\end{array} \\right)}}}\\mathbb{Z}^{1 \\times 1}\\big)_{\\mathcal{A}}&\\leftarrow\\phantom{-}{{\\color{blue}{{\\color{blue}{\\left( \\begin{array}{r}\n",
       " -1 \\\\ \n",
       " \\cdot \n",
       "\\end{array} \\right)}}}}}\\phantom{-}-&\\big(\\mathbb{Z}^{1 \\times 0}\\xrightarrow{{\\color{blue}{()_{0 \\times 2}}}}\\mathbb{Z}^{1 \\times 2}\\big)_{\\mathcal{A}}&-\\phantom{-}{{\\color{blue}{{\\color{blue}{\\left( \\begin{array}{rr}\n",
       " 1 & \\cdot \\\\ \n",
       " \\cdot & 1 \n",
       "\\end{array} \\right)}}}}}\\phantom{-}\\rightarrow&\\big(\\mathbb{Z}^{1 \\times 0}\\xrightarrow{{\\color{blue}{()_{0 \\times 2}}}}\\mathbb{Z}^{1 \\times 2}\\big)_{\\mathcal{A}}\n",
       " \\\\ \n",
       " \\vert^{0} && \n",
       "\\vert^{0}&&\\vert^{0} \n",
       " \\\\ \n",
       " {\\color{blue}{{\\color{blue}{\\left( \\begin{array}{r}\n",
       " -13 \n",
       "\\end{array} \\right)}}}}&&{\\color{blue}{{\\color{blue}{\\left( \\begin{array}{r}\n",
       " -13 \\\\ \n",
       " -18 \n",
       "\\end{array} \\right)}}}}&&{\\color{blue}{{\\color{blue}{\\left( \\begin{array}{r}\n",
       " -13 \\\\ \n",
       " -18 \n",
       "\\end{array} \\right)}}}}\n",
       " \\\\ \n",
       "  \\downarrow_{\\phantom{0}}&& \\downarrow_{\\phantom{0}}&& \n",
       " \\downarrow_{\\phantom{0}}\\\\ \n",
       "\\big(\\mathbb{Z}^{1 \\times 1}\\xrightarrow{{\\color{blue}{\\left( \\begin{array}{r}\n",
       " -18 \n",
       "\\end{array} \\right)}}}\\mathbb{Z}^{1 \\times 1}\\big)_{\\mathcal{A}}&\\leftarrow\\phantom{-}{{\\color{blue}{{\\color{blue}{\\left( \\begin{array}{r}\n",
       " -1 \n",
       "\\end{array} \\right)}}}}}\\phantom{-}-&\\big(\\mathbb{Z}^{1 \\times 0}\\xrightarrow{{\\color{blue}{()_{0 \\times 1}}}}\\mathbb{Z}^{1 \\times 1}\\big)_{\\mathcal{A}}&-\\phantom{-}{{\\color{blue}{{\\color{blue}{\\left( \\begin{array}{r}\n",
       " 1 \n",
       "\\end{array} \\right)}}}}}\\phantom{-}\\rightarrow&\\big(\\mathbb{Z}^{1 \\times 0}\\xrightarrow{{\\color{blue}{()_{0 \\times 1}}}}\\mathbb{Z}^{1 \\times 1}\\big)_{\\mathcal{A}}\n",
       " \\\\ \n",
       " \\end{array}$$"
      ]
     },
     "metadata": {},
     "output_type": "display_data"
    }
   ],
   "source": [
    "Show( 𝕢B⁻¹ )"
   ]
  }
 ],
 "metadata": {
  "@webio": {
   "lastCommId": null,
   "lastKernelId": null
  },
  "kernelspec": {
   "display_name": "Julia 1.8.1",
   "language": "julia",
   "name": "julia-1.8"
  },
  "language_info": {
   "file_extension": ".jl",
   "mimetype": "application/julia",
   "name": "julia",
   "version": "1.8.1"
  }
 },
 "nbformat": 4,
 "nbformat_minor": 2
}

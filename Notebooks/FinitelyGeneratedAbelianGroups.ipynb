{
 "cells": [
  {
   "cell_type": "code",
   "execution_count": 1,
   "metadata": {},
   "outputs": [
    {
     "name": "stdout",
     "output_type": "stream",
     "text": [
      " ┌───────┐   GAP 4.11.1 of 2021-03-02\n",
      " │  GAP  │   https://www.gap-system.org\n",
      " └───────┘   Architecture: x86_64-pc-linux-gnu-julia64-kv7\n",
      " Configuration:  gmp 6.1.2, Julia GC, Julia 1.5.2, readline\n",
      " Loading the library and packages ...\n",
      " Packages:   GAPDoc 1.6.3, IO 4.7.1, JuliaInterface 0.5.2, PrimGrp 3.4.0, \n",
      "             SmallGrp 1.4.1, TransGrp 2.0.5\n",
      " Try '??help' for help. See also '?copyright', '?cite' and '?authors'\n",
      "CapAndHomalg v\u001b[32m1.1.3\u001b[39m\n",
      "Imported OSCAR's components GAP and Singular_jll\n",
      "Type: ?CapAndHomalg for more information\n"
     ]
    }
   ],
   "source": [
    "using CapAndHomalg"
   ]
  },
  {
   "cell_type": "code",
   "execution_count": 2,
   "metadata": {},
   "outputs": [],
   "source": [
    "LoadPackage( \"FreydCategoriesForCAP\" )"
   ]
  },
  {
   "cell_type": "code",
   "execution_count": 3,
   "metadata": {},
   "outputs": [],
   "source": [
    "LoadPackage( \"HomotopyCategories\" )\n",
    "LoadPackage( \"DerivedCategories\" )\n",
    "\n",
    "EnhanceAllPackages( );"
   ]
  },
  {
   "cell_type": "code",
   "execution_count": 4,
   "metadata": {},
   "outputs": [
    {
     "data": {
      "text/plain": [
       "GAP: Z"
      ]
     },
     "execution_count": 4,
     "metadata": {},
     "output_type": "execute_result"
    }
   ],
   "source": [
    "ℤ = HomalgRingOfIntegers( )"
   ]
  },
  {
   "cell_type": "code",
   "execution_count": 5,
   "metadata": {},
   "outputs": [
    {
     "data": {
      "text/plain": [
       "GAP: Rows( Z )"
      ]
     },
     "execution_count": 5,
     "metadata": {},
     "output_type": "execute_result"
    }
   ],
   "source": [
    "Rows_ℤ = CategoryOfRows( ℤ )"
   ]
  },
  {
   "cell_type": "markdown",
   "metadata": {},
   "source": [
    "---\n",
    "\n",
    "Then $\\mathcal{A}(\\mathrm{Rows}_{\\mathbb{Z}}) \\cong ab$, i.e., the finitely generated abelian groups."
   ]
  },
  {
   "cell_type": "code",
   "execution_count": 6,
   "metadata": {},
   "outputs": [
    {
     "data": {
      "text/plain": [
       "GAP: Freyd( Rows( Z ) )"
      ]
     },
     "execution_count": 6,
     "metadata": {},
     "output_type": "execute_result"
    }
   ],
   "source": [
    "A_Rows_ℤ = FreydCategory( Rows_ℤ )"
   ]
  },
  {
   "cell_type": "code",
   "execution_count": 7,
   "metadata": {},
   "outputs": [
    {
     "name": "stdout",
     "output_type": "stream",
     "text": [
      "57 primitive operations were used to derive 293 operations for this category which\n",
      "* IsLinearCategoryOverCommutativeRing\n",
      "* IsSymmetricClosedMonoidalCategory\n",
      "* IsClosedMonoidalCategory\n",
      "* IsAbelianCategoryWithEnoughProjectives\n"
     ]
    }
   ],
   "source": [
    "InfoOfInstalledOperationsOfCategory( A_Rows_ℤ )"
   ]
  },
  {
   "cell_type": "code",
   "execution_count": 8,
   "metadata": {},
   "outputs": [
    {
     "data": {
      "text/plain": [
       "GAP: Freyd( Rows( Z ) )"
      ]
     },
     "execution_count": 8,
     "metadata": {},
     "output_type": "execute_result"
    }
   ],
   "source": [
    "RangeCategoryOfHomomorphismStructure( A_Rows_ℤ )"
   ]
  },
  {
   "cell_type": "code",
   "execution_count": 9,
   "metadata": {},
   "outputs": [
    {
     "data": {
      "text/plain": [
       "GAP: <A projective object in Freyd( Rows( Z ) )>"
      ]
     },
     "execution_count": 9,
     "metadata": {},
     "output_type": "execute_result"
    }
   ],
   "source": [
    "𝟙 = DistinguishedObjectOfHomomorphismStructure( A_Rows_ℤ )"
   ]
  },
  {
   "cell_type": "code",
   "execution_count": 10,
   "metadata": {},
   "outputs": [
    {
     "data": {
      "text/latex": [
       "$$\\big(\\mathbb{Z}^{1 \\times 0}\\xrightarrow{()_{0 \\times 1}}\\mathbb{Z}^{1 \\times 1}\\big)_{\\mathcal{A}}$$"
      ]
     },
     "metadata": {},
     "output_type": "display_data"
    }
   ],
   "source": [
    "Show( 𝟙 )"
   ]
  },
  {
   "cell_type": "markdown",
   "metadata": {},
   "source": [
    "---\n",
    "\n",
    "So, if $B,C$ are objects in $\\mathcal{A}(\\mathrm{Rows}_\\mathbb{Z})$, then $\\nu:\\mathrm{Hom}(B,C) \\cong \\mathrm{Hom}( \\mathbb{1}, H(B,C) ):\\nu^{-1}$."
   ]
  },
  {
   "cell_type": "code",
   "execution_count": 11,
   "metadata": {},
   "outputs": [
    {
     "data": {
      "text/plain": [
       "GAP: <An object in Freyd( Rows( Z ) )>"
      ]
     },
     "execution_count": 11,
     "metadata": {},
     "output_type": "execute_result"
    }
   ],
   "source": [
    "B = HomalgMatrix( \"[[1,-4,0,1],[0,-2,3,1],[0,-2,-1,-1]]\", 3, 4, ℤ ) / Rows_ℤ / A_Rows_ℤ"
   ]
  },
  {
   "cell_type": "code",
   "execution_count": 12,
   "metadata": {},
   "outputs": [
    {
     "data": {
      "text/latex": [
       "$$\\big(\\mathbb{Z}^{1 \\times 3}\\xrightarrow{\\left( \\begin{array}{rrrr}\n",
       " 1 & -4 & \\cdot & 1 \\\\ \n",
       " \\cdot & -2 & 3 & 1 \\\\ \n",
       " \\cdot & -2 & -1 & -1 \n",
       "\\end{array} \\right)}\\mathbb{Z}^{1 \\times 4}\\big)_{\\mathcal{A}}$$"
      ]
     },
     "metadata": {},
     "output_type": "display_data"
    }
   ],
   "source": [
    "Show( B )"
   ]
  },
  {
   "cell_type": "code",
   "execution_count": 13,
   "metadata": {},
   "outputs": [
    {
     "data": {
      "text/plain": [
       "GAP: <An object in Freyd( Rows( Z ) )>"
      ]
     },
     "execution_count": 13,
     "metadata": {},
     "output_type": "execute_result"
    }
   ],
   "source": [
    "C = HomalgMatrix( \"[[0,-2,2],[4,0,0]]\", 2, 3, ℤ ) / Rows_ℤ / A_Rows_ℤ"
   ]
  },
  {
   "cell_type": "code",
   "execution_count": 14,
   "metadata": {},
   "outputs": [
    {
     "data": {
      "text/latex": [
       "$$\\big(\\mathbb{Z}^{1 \\times 2}\\xrightarrow{\\left( \\begin{array}{rrr}\n",
       " \\cdot & -2 & 2 \\\\ \n",
       " 4 & \\cdot & \\cdot \n",
       "\\end{array} \\right)}\\mathbb{Z}^{1 \\times 3}\\big)_{\\mathcal{A}}$$"
      ]
     },
     "metadata": {},
     "output_type": "display_data"
    }
   ],
   "source": [
    "Show( C )"
   ]
  },
  {
   "cell_type": "code",
   "execution_count": 15,
   "metadata": {},
   "outputs": [
    {
     "data": {
      "text/plain": [
       "GAP: <An object in Freyd( Rows( Z ) )>"
      ]
     },
     "execution_count": 15,
     "metadata": {},
     "output_type": "execute_result"
    }
   ],
   "source": [
    "H_BC = HomomorphismStructureOnObjects( B, C )"
   ]
  },
  {
   "cell_type": "code",
   "execution_count": 16,
   "metadata": {},
   "outputs": [
    {
     "data": {
      "text/latex": [
       "$$\\big(\\mathbb{Z}^{1 \\times 8}\\xrightarrow{\\left( \\begin{array}{rrrrrrrrr}\n",
       " \\cdot & \\cdot & \\cdot & 1 & \\cdot & \\cdot & \\cdot & \\cdot & \\cdot \\\\ \n",
       " \\cdot & \\cdot & \\cdot & \\cdot & 1 & \\cdot & \\cdot & \\cdot & \\cdot \\\\ \n",
       " \\cdot & -2 & 2 & -4 & \\cdot & -2 & \\cdot & -2 & \\cdot \\\\ \n",
       " \\cdot & \\cdot & \\cdot & \\cdot & -4 & \\cdot & -2 & \\cdot & -2 \\\\ \n",
       " -2 & 2 & 2 & \\cdot & \\cdot & 3 & \\cdot & -1 & \\cdot \\\\ \n",
       " -2 & -4 & \\cdot & \\cdot & \\cdot & \\cdot & 3 & \\cdot & -1 \\\\ \n",
       " \\cdot & 2 & -2 & 1 & \\cdot & 1 & \\cdot & -1 & \\cdot \\\\ \n",
       " \\cdot & \\cdot & 4 & \\cdot & 1 & \\cdot & 1 & \\cdot & -1 \n",
       "\\end{array} \\right)}\\mathbb{Z}^{1 \\times 9}\\big)_{\\mathcal{A}}$$"
      ]
     },
     "metadata": {},
     "output_type": "display_data"
    }
   ],
   "source": [
    "Show( H_BC )"
   ]
  },
  {
   "cell_type": "code",
   "execution_count": 17,
   "metadata": {},
   "outputs": [
    {
     "data": {
      "text/plain": [
       "GAP: <An object in Freyd( Rows( Z ) )>"
      ]
     },
     "execution_count": 17,
     "metadata": {},
     "output_type": "execute_result"
    }
   ],
   "source": [
    "sH_BC = SimplifyObject( H_BC, infinity )"
   ]
  },
  {
   "cell_type": "code",
   "execution_count": 18,
   "metadata": {},
   "outputs": [
    {
     "data": {
      "text/latex": [
       "$$\\big(\\mathbb{Z}^{1 \\times 4}\\xrightarrow{\\left( \\begin{array}{rrrrr}\n",
       " 2 & \\cdot & \\cdot & \\cdot & \\cdot \\\\ \n",
       " \\cdot & 2 & \\cdot & \\cdot & \\cdot \\\\ \n",
       " \\cdot & \\cdot & 2 & \\cdot & \\cdot \\\\ \n",
       " \\cdot & \\cdot & \\cdot & 4 & \\cdot \n",
       "\\end{array} \\right)}\\mathbb{Z}^{1 \\times 5}\\big)_{\\mathcal{A}}$$"
      ]
     },
     "metadata": {},
     "output_type": "display_data"
    }
   ],
   "source": [
    "Show( sH_BC )"
   ]
  },
  {
   "cell_type": "markdown",
   "metadata": {},
   "source": [
    "This means, $H(B,C) \\cong \\mathbb{Z}/2\\mathbb{Z} \\oplus \\mathbb{Z}/2\\mathbb{Z} \\oplus \\mathbb{Z}/2\\mathbb{Z} \\oplus \\mathbb{Z}/4\\mathbb{Z} \\oplus \\mathbb{Z}$.\n",
    "\n",
    "---\n",
    "Let us find the isomorphism $t : sH(B,C) \\to H(B,C)$:"
   ]
  },
  {
   "cell_type": "code",
   "execution_count": 19,
   "metadata": {},
   "outputs": [
    {
     "data": {
      "text/plain": [
       "GAP: <A morphism in Freyd( Rows( Z ) )>"
      ]
     },
     "execution_count": 19,
     "metadata": {},
     "output_type": "execute_result"
    }
   ],
   "source": [
    "t = SimplifyObject_IsoToInputObject( H_BC, infinity )"
   ]
  },
  {
   "cell_type": "code",
   "execution_count": 20,
   "metadata": {},
   "outputs": [
    {
     "data": {
      "text/latex": [
       "$${ \\tiny \\big(\\mathbb{Z}^{1 \\times 4}\\xrightarrow{\\left( \\begin{array}{rrrrr}\n",
       " 2 & \\cdot & \\cdot & \\cdot & \\cdot \\\\ \n",
       " \\cdot & 2 & \\cdot & \\cdot & \\cdot \\\\ \n",
       " \\cdot & \\cdot & 2 & \\cdot & \\cdot \\\\ \n",
       " \\cdot & \\cdot & \\cdot & 4 & \\cdot \n",
       "\\end{array} \\right)}\\mathbb{Z}^{1 \\times 5}\\big)_{\\mathcal{A}}}{\\color{blue}{\\xrightarrow{\\left( \\begin{array}{rrrrrrrrr}\n",
       " 2 & -1 & 1 & -1 & 1 & 1 & -1 & 1 & -43 \\\\ \n",
       " 1 & -2 & \\cdot & \\cdot & \\cdot & 2 & -1 & 1 & -49 \\\\ \n",
       " 2 & -2 & \\cdot & \\cdot & \\cdot & 2 & -2 & 3 & -55 \\\\ \n",
       " 2 & -2 & \\cdot & \\cdot & \\cdot & 2 & -2 & 2 & -59 \\\\ \n",
       " 1 & -1 & \\cdot & \\cdot & \\cdot & 1 & -1 & 1 & -29 \n",
       "\\end{array} \\right)}}}{ \\tiny \\big(\\mathbb{Z}^{1 \\times 8}\\xrightarrow{\\left( \\begin{array}{rrrrrrrrr}\n",
       " \\cdot & \\cdot & \\cdot & 1 & \\cdot & \\cdot & \\cdot & \\cdot & \\cdot \\\\ \n",
       " \\cdot & \\cdot & \\cdot & \\cdot & 1 & \\cdot & \\cdot & \\cdot & \\cdot \\\\ \n",
       " \\cdot & -2 & 2 & -4 & \\cdot & -2 & \\cdot & -2 & \\cdot \\\\ \n",
       " \\cdot & \\cdot & \\cdot & \\cdot & -4 & \\cdot & -2 & \\cdot & -2 \\\\ \n",
       " -2 & 2 & 2 & \\cdot & \\cdot & 3 & \\cdot & -1 & \\cdot \\\\ \n",
       " -2 & -4 & \\cdot & \\cdot & \\cdot & \\cdot & 3 & \\cdot & -1 \\\\ \n",
       " \\cdot & 2 & -2 & 1 & \\cdot & 1 & \\cdot & -1 & \\cdot \\\\ \n",
       " \\cdot & \\cdot & 4 & \\cdot & 1 & \\cdot & 1 & \\cdot & -1 \n",
       "\\end{array} \\right)}\\mathbb{Z}^{1 \\times 9}\\big)_{\\mathcal{A}}}$$"
      ]
     },
     "metadata": {},
     "output_type": "display_data"
    }
   ],
   "source": [
    "Show( t )"
   ]
  },
  {
   "cell_type": "code",
   "execution_count": 21,
   "metadata": {},
   "outputs": [
    {
     "data": {
      "text/plain": [
       "true"
      ]
     },
     "execution_count": 21,
     "metadata": {},
     "output_type": "execute_result"
    }
   ],
   "source": [
    "IsIsomorphism( t )"
   ]
  },
  {
   "cell_type": "code",
   "execution_count": 22,
   "metadata": {},
   "outputs": [
    {
     "data": {
      "text/plain": [
       "GAP: <A morphism in Freyd( Rows( Z ) )>"
      ]
     },
     "execution_count": 22,
     "metadata": {},
     "output_type": "execute_result"
    }
   ],
   "source": [
    "ℓ = FreydCategoryMorphism( 𝟙, HomalgMatrix( \"[[1,0,0,0,0]]\", 1, 5, ℤ ) / Rows_ℤ, sH_BC )"
   ]
  },
  {
   "cell_type": "code",
   "execution_count": 23,
   "metadata": {
    "scrolled": true
   },
   "outputs": [
    {
     "data": {
      "text/latex": [
       "$${ \\tiny \\big(\\mathbb{Z}^{1 \\times 0}\\xrightarrow{()_{0 \\times 1}}\\mathbb{Z}^{1 \\times 1}\\big)_{\\mathcal{A}}}{\\color{blue}{\\xrightarrow{\\left( \\begin{array}{rrrrr}\n",
       " 1 & \\cdot & \\cdot & \\cdot & \\cdot \n",
       "\\end{array} \\right)}}}{ \\tiny \\big(\\mathbb{Z}^{1 \\times 4}\\xrightarrow{\\left( \\begin{array}{rrrrr}\n",
       " 2 & \\cdot & \\cdot & \\cdot & \\cdot \\\\ \n",
       " \\cdot & 2 & \\cdot & \\cdot & \\cdot \\\\ \n",
       " \\cdot & \\cdot & 2 & \\cdot & \\cdot \\\\ \n",
       " \\cdot & \\cdot & \\cdot & 4 & \\cdot \n",
       "\\end{array} \\right)}\\mathbb{Z}^{1 \\times 5}\\big)_{\\mathcal{A}}}$$"
      ]
     },
     "metadata": {},
     "output_type": "display_data"
    }
   ],
   "source": [
    "Show( ℓ )"
   ]
  },
  {
   "cell_type": "code",
   "execution_count": 24,
   "metadata": {},
   "outputs": [
    {
     "data": {
      "text/plain": [
       "GAP: <A morphism in Freyd( Rows( Z ) )>"
      ]
     },
     "execution_count": 24,
     "metadata": {},
     "output_type": "execute_result"
    }
   ],
   "source": [
    "ℓ = PreCompose( ℓ, t )"
   ]
  },
  {
   "cell_type": "code",
   "execution_count": 25,
   "metadata": {},
   "outputs": [
    {
     "data": {
      "text/latex": [
       "$${ \\tiny \\big(\\mathbb{Z}^{1 \\times 0}\\xrightarrow{()_{0 \\times 1}}\\mathbb{Z}^{1 \\times 1}\\big)_{\\mathcal{A}}}{\\color{blue}{\\xrightarrow{\\left( \\begin{array}{rrrrrrrrr}\n",
       " 2 & -1 & 1 & -1 & 1 & 1 & -1 & 1 & -43 \n",
       "\\end{array} \\right)}}}{ \\tiny \\big(\\mathbb{Z}^{1 \\times 8}\\xrightarrow{\\left( \\begin{array}{rrrrrrrrr}\n",
       " \\cdot & \\cdot & \\cdot & 1 & \\cdot & \\cdot & \\cdot & \\cdot & \\cdot \\\\ \n",
       " \\cdot & \\cdot & \\cdot & \\cdot & 1 & \\cdot & \\cdot & \\cdot & \\cdot \\\\ \n",
       " \\cdot & -2 & 2 & -4 & \\cdot & -2 & \\cdot & -2 & \\cdot \\\\ \n",
       " \\cdot & \\cdot & \\cdot & \\cdot & -4 & \\cdot & -2 & \\cdot & -2 \\\\ \n",
       " -2 & 2 & 2 & \\cdot & \\cdot & 3 & \\cdot & -1 & \\cdot \\\\ \n",
       " -2 & -4 & \\cdot & \\cdot & \\cdot & \\cdot & 3 & \\cdot & -1 \\\\ \n",
       " \\cdot & 2 & -2 & 1 & \\cdot & 1 & \\cdot & -1 & \\cdot \\\\ \n",
       " \\cdot & \\cdot & 4 & \\cdot & 1 & \\cdot & 1 & \\cdot & -1 \n",
       "\\end{array} \\right)}\\mathbb{Z}^{1 \\times 9}\\big)_{\\mathcal{A}}}$$"
      ]
     },
     "metadata": {},
     "output_type": "display_data"
    }
   ],
   "source": [
    "Show( ℓ )"
   ]
  },
  {
   "cell_type": "markdown",
   "metadata": {},
   "source": [
    "---\n",
    "\n",
    "The morphism $\\ell:\\mathbb{1} \\to H(B,C)$ corresonds to the morphism $\\varphi:=\\nu^{-1}(\\ell):B \\to C$."
   ]
  },
  {
   "cell_type": "code",
   "execution_count": 26,
   "metadata": {},
   "outputs": [
    {
     "data": {
      "text/plain": [
       "GAP: <A morphism in Freyd( Rows( Z ) )>"
      ]
     },
     "execution_count": 26,
     "metadata": {},
     "output_type": "execute_result"
    }
   ],
   "source": [
    "φ = InterpretMorphismFromDistinguishedObjectToHomomorphismStructureAsMorphism( B, C, ℓ )"
   ]
  },
  {
   "cell_type": "code",
   "execution_count": 27,
   "metadata": {},
   "outputs": [
    {
     "data": {
      "text/latex": [
       "$${ \\tiny \\big(\\mathbb{Z}^{1 \\times 3}\\xrightarrow{\\left( \\begin{array}{rrrr}\n",
       " 1 & -4 & \\cdot & 1 \\\\ \n",
       " \\cdot & -2 & 3 & 1 \\\\ \n",
       " \\cdot & -2 & -1 & -1 \n",
       "\\end{array} \\right)}\\mathbb{Z}^{1 \\times 4}\\big)_{\\mathcal{A}}}{\\color{blue}{\\xrightarrow{\\left( \\begin{array}{rrr}\n",
       " -176 & -54 & 54 \\\\ \n",
       " -54 & -7 & 7 \\\\ \n",
       " -20 & -12 & 12 \\\\ \n",
       " -44 & 24 & -24 \n",
       "\\end{array} \\right)}}}{ \\tiny \\big(\\mathbb{Z}^{1 \\times 2}\\xrightarrow{\\left( \\begin{array}{rrr}\n",
       " \\cdot & -2 & 2 \\\\ \n",
       " 4 & \\cdot & \\cdot \n",
       "\\end{array} \\right)}\\mathbb{Z}^{1 \\times 3}\\big)_{\\mathcal{A}}}$$"
      ]
     },
     "metadata": {},
     "output_type": "display_data"
    }
   ],
   "source": [
    "Show( φ )"
   ]
  },
  {
   "cell_type": "markdown",
   "metadata": {},
   "source": [
    "---\n",
    "\n",
    "Let us check that $\\nu(\\varphi)=\\ell$."
   ]
  },
  {
   "cell_type": "code",
   "execution_count": 28,
   "metadata": {},
   "outputs": [
    {
     "data": {
      "text/plain": [
       "GAP: <A morphism in Freyd( Rows( Z ) )>"
      ]
     },
     "execution_count": 28,
     "metadata": {},
     "output_type": "execute_result"
    }
   ],
   "source": [
    "ν_φ = InterpretMorphismAsMorphismFromDistinguishedObjectToHomomorphismStructure( φ )"
   ]
  },
  {
   "cell_type": "code",
   "execution_count": 29,
   "metadata": {},
   "outputs": [
    {
     "data": {
      "text/plain": [
       "true"
      ]
     },
     "execution_count": 29,
     "metadata": {},
     "output_type": "execute_result"
    }
   ],
   "source": [
    "IsCongruentForMorphisms( ν_φ, ℓ )"
   ]
  },
  {
   "cell_type": "code",
   "execution_count": 30,
   "metadata": {},
   "outputs": [
    {
     "data": {
      "text/plain": [
       "GAP: <A morphism in Freyd( Rows( Z ) )>"
      ]
     },
     "execution_count": 30,
     "metadata": {},
     "output_type": "execute_result"
    }
   ],
   "source": [
    "ψ = 2 * φ"
   ]
  },
  {
   "cell_type": "code",
   "execution_count": 31,
   "metadata": {},
   "outputs": [
    {
     "data": {
      "text/latex": [
       "$${ \\tiny \\big(\\mathbb{Z}^{1 \\times 3}\\xrightarrow{\\left( \\begin{array}{rrrr}\n",
       " 1 & -4 & \\cdot & 1 \\\\ \n",
       " \\cdot & -2 & 3 & 1 \\\\ \n",
       " \\cdot & -2 & -1 & -1 \n",
       "\\end{array} \\right)}\\mathbb{Z}^{1 \\times 4}\\big)_{\\mathcal{A}}}{\\color{blue}{\\xrightarrow{\\left( \\begin{array}{rrr}\n",
       " -352 & -108 & 108 \\\\ \n",
       " -108 & -14 & 14 \\\\ \n",
       " -40 & -24 & 24 \\\\ \n",
       " -88 & 48 & -48 \n",
       "\\end{array} \\right)}}}{ \\tiny \\big(\\mathbb{Z}^{1 \\times 2}\\xrightarrow{\\left( \\begin{array}{rrr}\n",
       " \\cdot & -2 & 2 \\\\ \n",
       " 4 & \\cdot & \\cdot \n",
       "\\end{array} \\right)}\\mathbb{Z}^{1 \\times 3}\\big)_{\\mathcal{A}}}$$"
      ]
     },
     "metadata": {},
     "output_type": "display_data"
    }
   ],
   "source": [
    "Show( ψ )"
   ]
  },
  {
   "cell_type": "code",
   "execution_count": 32,
   "metadata": {},
   "outputs": [
    {
     "data": {
      "text/plain": [
       "true"
      ]
     },
     "execution_count": 32,
     "metadata": {},
     "output_type": "execute_result"
    }
   ],
   "source": [
    "IsZero( ψ )"
   ]
  },
  {
   "cell_type": "markdown",
   "metadata": {},
   "source": [
    "---\n",
    "\n",
    "Why $\\psi$ is zero?"
   ]
  },
  {
   "cell_type": "code",
   "execution_count": 33,
   "metadata": {},
   "outputs": [
    {
     "data": {
      "text/plain": [
       "GAP: <A morphism in Rows( Z )>"
      ]
     },
     "execution_count": 33,
     "metadata": {},
     "output_type": "execute_result"
    }
   ],
   "source": [
    "ψ_datum = MorphismDatum( ψ )"
   ]
  },
  {
   "cell_type": "code",
   "execution_count": 34,
   "metadata": {},
   "outputs": [
    {
     "data": {
      "text/plain": [
       "GAP: <A morphism in Rows( Z )>"
      ]
     },
     "execution_count": 34,
     "metadata": {},
     "output_type": "execute_result"
    }
   ],
   "source": [
    "C_rels = RelationMorphism( C )"
   ]
  },
  {
   "cell_type": "code",
   "execution_count": 35,
   "metadata": {},
   "outputs": [
    {
     "data": {
      "text/plain": [
       "true"
      ]
     },
     "execution_count": 35,
     "metadata": {},
     "output_type": "execute_result"
    }
   ],
   "source": [
    "IsLiftable( ψ_datum, C_rels )"
   ]
  },
  {
   "cell_type": "markdown",
   "metadata": {},
   "source": [
    "---\n",
    "\n",
    "The homomorphism structure can be lifted to other categories:"
   ]
  },
  {
   "cell_type": "code",
   "execution_count": 36,
   "metadata": {},
   "outputs": [
    {
     "data": {
      "text/plain": [
       "GAP: Chain complexes( Freyd( Rows( Z ) ) )"
      ]
     },
     "execution_count": 36,
     "metadata": {},
     "output_type": "execute_result"
    }
   ],
   "source": [
    "Ch_A_Rows_ℤ = ChainComplexCategory( A_Rows_ℤ )"
   ]
  },
  {
   "cell_type": "code",
   "execution_count": 64,
   "metadata": {},
   "outputs": [
    {
     "data": {
      "text/plain": [
       "GAP: Freyd( Rows( Z ) )"
      ]
     },
     "execution_count": 64,
     "metadata": {},
     "output_type": "execute_result"
    }
   ],
   "source": [
    "RangeCategoryOfHomomorphismStructure( Ch_A_Rows_ℤ )"
   ]
  },
  {
   "cell_type": "code",
   "execution_count": 63,
   "metadata": {},
   "outputs": [
    {
     "data": {
      "text/plain": [
       "GAP: <A projective object in Freyd( Rows( Z ) )>"
      ]
     },
     "execution_count": 63,
     "metadata": {},
     "output_type": "execute_result"
    }
   ],
   "source": [
    "𝟙 = DistinguishedObjectOfHomomorphismStructure( Ch_A_Rows_ℤ )"
   ]
  },
  {
   "cell_type": "code",
   "execution_count": 65,
   "metadata": {},
   "outputs": [
    {
     "data": {
      "text/latex": [
       "$$\\big(\\mathbb{Z}^{1 \\times 0}\\xrightarrow{()_{0 \\times 1}}\\mathbb{Z}^{1 \\times 1}\\big)_{\\mathcal{A}}$$"
      ]
     },
     "metadata": {},
     "output_type": "display_data"
    }
   ],
   "source": [
    "Show( 𝟙 )"
   ]
  },
  {
   "cell_type": "code",
   "execution_count": 76,
   "metadata": {},
   "outputs": [
    {
     "data": {
      "text/plain": [
       "GAP: Homotopy category( Freyd( Rows( Z ) ) )"
      ]
     },
     "execution_count": 76,
     "metadata": {},
     "output_type": "execute_result"
    }
   ],
   "source": [
    "K_A_Rows_ℤ = HomotopyCategory( A_Rows_ℤ )"
   ]
  },
  {
   "cell_type": "code",
   "execution_count": 77,
   "metadata": {},
   "outputs": [
    {
     "data": {
      "text/plain": [
       "GAP: Derived_• category( Freyd( Rows( Z ) ) )"
      ]
     },
     "execution_count": 77,
     "metadata": {},
     "output_type": "execute_result"
    }
   ],
   "source": [
    "D_A_Rows_ℤ = DerivedCategory( A_Rows_ℤ )"
   ]
  },
  {
   "cell_type": "markdown",
   "metadata": {},
   "source": [
    "---\n",
    "\n",
    "In the following we create a random object $B$ in $\\mathrm{Ch}^{b}(\\mathcal{A}(\\mathrm{Rows}_\\mathbb{Z}))$ and compute its projective resolution $\\mathrm{proj}_B$. Then\n",
    "we will see how Hom-spaces between them changes between $\\mathrm{Ch}^{b}(\\mathcal{A}(\\mathrm{Rows}_\\mathbb{Z}))$, $\\mathcal{K}^{b}(\\mathcal{A}(\\mathrm{Rows}_\\mathbb{Z}))$ and\n",
    "$\\mathcal{D}^{b}(\\mathcal{A}(\\mathrm{Rows}_\\mathbb{Z}))$"
   ]
  },
  {
   "cell_type": "code",
   "execution_count": 162,
   "metadata": {},
   "outputs": [
    {
     "data": {
      "text/plain": [
       "GAP: <An object in Chain complexes( Freyd( Rows( Z ) ) ) with active lower bound -1 and active upper bound 1>"
      ]
     },
     "execution_count": 162,
     "metadata": {},
     "output_type": "execute_result"
    }
   ],
   "source": [
    "B = RandomObject( Ch_A_Rows_ℤ, 1 )"
   ]
  },
  {
   "cell_type": "code",
   "execution_count": 163,
   "metadata": {},
   "outputs": [
    {
     "data": {
      "text/latex": [
       "$$\\begin{array}{c}\n",
       " \\\\ \n",
       " \\big(\\mathbb{Z}^{1 \\times 1}\\xrightarrow{\\left( \\begin{array}{r}\n",
       " -26 \n",
       "\\end{array} \\right)}\\mathbb{Z}^{1 \\times 1}\\big)_{\\mathcal{A}} \n",
       " \\\\ \n",
       "  { \\color{black}\\vert^{1}} \n",
       " \\\\ \n",
       " {\\color{blue}{\\left( \\begin{array}{rr}\n",
       " -9 & -15 \n",
       "\\end{array} \\right)}} \n",
       " \\\\ \n",
       " { \\color{black} \\downarrow_{\\phantom{1}}} \n",
       " \\\\ \n",
       " \\big(\\mathbb{Z}^{1 \\times 2}\\xrightarrow{\\left( \\begin{array}{rr}\n",
       " 24 & 40 \\\\ \n",
       " 6 & 10 \n",
       "\\end{array} \\right)}\\mathbb{Z}^{1 \\times 2}\\big)_{\\mathcal{A}} \n",
       " \\\\ \n",
       "  { \\color{black}\\vert^{0}} \n",
       " \\\\ \n",
       " {\\color{blue}{\\left( \\begin{array}{r}\n",
       " 20 \\\\ \n",
       " -12 \n",
       "\\end{array} \\right)}} \n",
       " \\\\ \n",
       " { \\color{black} \\downarrow_{\\phantom{0}}} \n",
       " \\\\ \n",
       " \\big(\\mathbb{Z}^{1 \\times 0}\\xrightarrow{()_{0 \\times 1}}\\mathbb{Z}^{1 \\times 1}\\big)_{\\mathcal{A}}\\end{array}$$"
      ]
     },
     "metadata": {},
     "output_type": "display_data"
    }
   ],
   "source": [
    "Show( B )"
   ]
  },
  {
   "cell_type": "code",
   "execution_count": 164,
   "metadata": {},
   "outputs": [
    {
     "data": {
      "text/plain": [
       "GAP: <An object in Chain complexes( Freyd( Rows( Z ) ) ) with active lower bound -1 and active upper bound 2>"
      ]
     },
     "execution_count": 164,
     "metadata": {},
     "output_type": "execute_result"
    }
   ],
   "source": [
    "proj_B = ProjectiveResolution( B, true )"
   ]
  },
  {
   "cell_type": "code",
   "execution_count": 165,
   "metadata": {},
   "outputs": [
    {
     "data": {
      "text/plain": [
       "GAP: <A morphism in Chain complexes( Freyd( Rows( Z ) ) ) with active lower bound -1 and active upper bound 1>"
      ]
     },
     "execution_count": 165,
     "metadata": {},
     "output_type": "execute_result"
    }
   ],
   "source": [
    "q = QuasiIsomorphismFromProjectiveResolution( B, true )"
   ]
  },
  {
   "cell_type": "code",
   "execution_count": 166,
   "metadata": {},
   "outputs": [
    {
     "data": {
      "text/latex": [
       "$$\\begin{array}{ccc}\n",
       " \\\\ \n",
       "\\big(\\mathbb{Z}^{1 \\times 0}\\xrightarrow{()_{0 \\times 1}}\\mathbb{Z}^{1 \\times 1}\\big)_{\\mathcal{A}}&-\\phantom{-}{{\\color{blue}{()_{1 \\times 0}}}}\\phantom{-}\\rightarrow&\\big(\\mathbb{Z}^{1 \\times 0}\\xrightarrow{()_{0 \\times 0}}\\mathbb{Z}^{1 \\times 0}\\big)_{\\mathcal{A}}\n",
       " \\\\ \n",
       " \\vert^{2} &&\\vert^{2} \n",
       " \\\\ \n",
       " {\\color{blue}{\\left( \\begin{array}{rr}\n",
       " -26 & -39 \n",
       "\\end{array} \\right)}}&&{\\color{blue}{()_{0 \\times 1}}}\n",
       " \\\\ \n",
       "  \\downarrow_{\\phantom{2}}&& \n",
       " \\downarrow_{\\phantom{2}}\\\\ \n",
       "\\big(\\mathbb{Z}^{1 \\times 0}\\xrightarrow{()_{0 \\times 2}}\\mathbb{Z}^{1 \\times 2}\\big)_{\\mathcal{A}}&-\\phantom{-}{{\\color{blue}{\\left( \\begin{array}{r}\n",
       " -1 \\\\ \n",
       " \\cdot \n",
       "\\end{array} \\right)}}}\\phantom{-}\\rightarrow&\\big(\\mathbb{Z}^{1 \\times 1}\\xrightarrow{\\left( \\begin{array}{r}\n",
       " -26 \n",
       "\\end{array} \\right)}\\mathbb{Z}^{1 \\times 1}\\big)_{\\mathcal{A}}\n",
       " \\\\ \n",
       " \\vert^{1} &&\\vert^{1} \n",
       " \\\\ \n",
       " {\\color{blue}{\\left( \\begin{array}{rr}\n",
       " -9 & -15 \\\\ \n",
       " 6 & 10 \n",
       "\\end{array} \\right)}}&&{\\color{blue}{\\left( \\begin{array}{rr}\n",
       " -9 & -15 \n",
       "\\end{array} \\right)}}\n",
       " \\\\ \n",
       "  \\downarrow_{\\phantom{1}}&& \n",
       " \\downarrow_{\\phantom{1}}\\\\ \n",
       "\\big(\\mathbb{Z}^{1 \\times 0}\\xrightarrow{()_{0 \\times 2}}\\mathbb{Z}^{1 \\times 2}\\big)_{\\mathcal{A}}&-\\phantom{-}{{\\color{blue}{\\left( \\begin{array}{rr}\n",
       " -1 & \\cdot \\\\ \n",
       " \\cdot & -1 \n",
       "\\end{array} \\right)}}}\\phantom{-}\\rightarrow&\\big(\\mathbb{Z}^{1 \\times 2}\\xrightarrow{\\left( \\begin{array}{rr}\n",
       " 24 & 40 \\\\ \n",
       " 6 & 10 \n",
       "\\end{array} \\right)}\\mathbb{Z}^{1 \\times 2}\\big)_{\\mathcal{A}}\n",
       " \\\\ \n",
       " \\vert^{0} &&\\vert^{0} \n",
       " \\\\ \n",
       " {\\color{blue}{\\left( \\begin{array}{r}\n",
       " 20 \\\\ \n",
       " -12 \n",
       "\\end{array} \\right)}}&&{\\color{blue}{\\left( \\begin{array}{r}\n",
       " 20 \\\\ \n",
       " -12 \n",
       "\\end{array} \\right)}}\n",
       " \\\\ \n",
       "  \\downarrow_{\\phantom{0}}&& \n",
       " \\downarrow_{\\phantom{0}}\\\\ \n",
       "\\big(\\mathbb{Z}^{1 \\times 0}\\xrightarrow{()_{0 \\times 1}}\\mathbb{Z}^{1 \\times 1}\\big)_{\\mathcal{A}}&-\\phantom{-}{{\\color{blue}{\\left( \\begin{array}{r}\n",
       " -1 \n",
       "\\end{array} \\right)}}}\\phantom{-}\\rightarrow&\\big(\\mathbb{Z}^{1 \\times 0}\\xrightarrow{()_{0 \\times 1}}\\mathbb{Z}^{1 \\times 1}\\big)_{\\mathcal{A}}\n",
       " \\\\ \n",
       " \\end{array}$$"
      ]
     },
     "metadata": {},
     "output_type": "display_data"
    }
   ],
   "source": [
    "Show( q )"
   ]
  },
  {
   "cell_type": "code",
   "execution_count": 167,
   "metadata": {},
   "outputs": [
    {
     "data": {
      "text/latex": [
       "$$\\big(\\mathbb{Z}^{1 \\times 2}\\xrightarrow{\\left( \\begin{array}{rrr}\n",
       " 26 & \\cdot & \\cdot \\\\ \n",
       " \\cdot & 26 & \\cdot \n",
       "\\end{array} \\right)}\\mathbb{Z}^{1 \\times 3}\\big)_{\\mathcal{A}}$$"
      ]
     },
     "metadata": {},
     "output_type": "display_data"
    }
   ],
   "source": [
    "Show( SimplifyObject( HomStructure( proj_B, B ), infinity ) )"
   ]
  },
  {
   "cell_type": "code",
   "execution_count": 168,
   "metadata": {},
   "outputs": [
    {
     "data": {
      "text/latex": [
       "$$\\big(\\mathbb{Z}^{1 \\times 1}\\xrightarrow{\\left( \\begin{array}{r}\n",
       " 52 \n",
       "\\end{array} \\right)}\\mathbb{Z}^{1 \\times 1}\\big)_{\\mathcal{A}}$$"
      ]
     },
     "metadata": {},
     "output_type": "display_data"
    }
   ],
   "source": [
    "Show( SimplifyObject( HomStructure( proj_B / K_A_Rows_ℤ, B / K_A_Rows_ℤ ), infinity ) )"
   ]
  },
  {
   "cell_type": "code",
   "execution_count": 169,
   "metadata": {},
   "outputs": [
    {
     "data": {
      "text/latex": [
       "$$\\big(\\mathbb{Z}^{1 \\times 1}\\xrightarrow{\\left( \\begin{array}{r}\n",
       " 52 \n",
       "\\end{array} \\right)}\\mathbb{Z}^{1 \\times 1}\\big)_{\\mathcal{A}}$$"
      ]
     },
     "metadata": {},
     "output_type": "display_data"
    }
   ],
   "source": [
    "Show( SimplifyObject( HomStructure( proj_B / K_A_Rows_ℤ/ D_A_Rows_ℤ, B / K_A_Rows_ℤ / D_A_Rows_ℤ ), infinity ) )"
   ]
  },
  {
   "cell_type": "code",
   "execution_count": null,
   "metadata": {},
   "outputs": [],
   "source": []
  },
  {
   "cell_type": "code",
   "execution_count": 170,
   "metadata": {},
   "outputs": [
    {
     "data": {
      "text/latex": [
       "$$\\big(\\mathbb{Z}^{1 \\times 0}\\xrightarrow{()_{0 \\times 2}}\\mathbb{Z}^{1 \\times 2}\\big)_{\\mathcal{A}}$$"
      ]
     },
     "metadata": {},
     "output_type": "display_data"
    }
   ],
   "source": [
    "Show( SimplifyObject( HomStructure( B, proj_B ), infinity ) )"
   ]
  },
  {
   "cell_type": "code",
   "execution_count": 171,
   "metadata": {},
   "outputs": [
    {
     "data": {
      "text/latex": [
       "$$\\big(\\mathbb{Z}^{1 \\times 1}\\xrightarrow{\\left( \\begin{array}{r}\n",
       " 4 \n",
       "\\end{array} \\right)}\\mathbb{Z}^{1 \\times 1}\\big)_{\\mathcal{A}}$$"
      ]
     },
     "metadata": {},
     "output_type": "display_data"
    }
   ],
   "source": [
    "Show( SimplifyObject( HomStructure( B / K_A_Rows_ℤ, proj_B / K_A_Rows_ℤ ), infinity ) )"
   ]
  },
  {
   "cell_type": "code",
   "execution_count": 172,
   "metadata": {},
   "outputs": [
    {
     "data": {
      "text/latex": [
       "$$\\big(\\mathbb{Z}^{1 \\times 1}\\xrightarrow{\\left( \\begin{array}{r}\n",
       " 52 \n",
       "\\end{array} \\right)}\\mathbb{Z}^{1 \\times 1}\\big)_{\\mathcal{A}}$$"
      ]
     },
     "metadata": {},
     "output_type": "display_data"
    }
   ],
   "source": [
    "Show( SimplifyObject( HomStructure( B / K_A_Rows_ℤ / D_A_Rows_ℤ, proj_B / K_A_Rows_ℤ / D_A_Rows_ℤ ), infinity ) )"
   ]
  },
  {
   "cell_type": "markdown",
   "metadata": {},
   "source": [
    "---\n",
    "\n",
    "In theory, the quasi-isomorphism $q:\\mathrm{proj}_B \\to B$ should be an isomorphism in the derived category $\\mathcal{D}^{b}(\\mathcal{A}(\\mathrm{Rows}_\\mathbb{Z}))$"
   ]
  },
  {
   "cell_type": "code",
   "execution_count": 173,
   "metadata": {},
   "outputs": [
    {
     "data": {
      "text/plain": [
       "GAP: <A morphism in Chain complexes( Freyd( Rows( Z ) ) ) with active lower bound -1 and active upper bound 1>"
      ]
     },
     "execution_count": 173,
     "metadata": {},
     "output_type": "execute_result"
    }
   ],
   "source": [
    "q"
   ]
  },
  {
   "cell_type": "code",
   "execution_count": 174,
   "metadata": {},
   "outputs": [
    {
     "data": {
      "text/plain": [
       "false"
      ]
     },
     "execution_count": 174,
     "metadata": {},
     "output_type": "execute_result"
    }
   ],
   "source": [
    "IsIsomorphism( q )"
   ]
  },
  {
   "cell_type": "code",
   "execution_count": 175,
   "metadata": {},
   "outputs": [
    {
     "data": {
      "text/plain": [
       "GAP: <A morphism in Derived_• category( Freyd( Rows( Z ) ) )>"
      ]
     },
     "execution_count": 175,
     "metadata": {},
     "output_type": "execute_result"
    }
   ],
   "source": [
    "q = q / K_A_Rows_ℤ / D_A_Rows_ℤ"
   ]
  },
  {
   "cell_type": "code",
   "execution_count": 176,
   "metadata": {},
   "outputs": [
    {
     "data": {
      "text/plain": [
       "true"
      ]
     },
     "execution_count": 176,
     "metadata": {},
     "output_type": "execute_result"
    }
   ],
   "source": [
    "IsIsomorphism( q )"
   ]
  },
  {
   "cell_type": "code",
   "execution_count": 177,
   "metadata": {},
   "outputs": [
    {
     "data": {
      "text/plain": [
       "GAP: <A morphism in Derived_• category( Freyd( Rows( Z ) ) )>"
      ]
     },
     "execution_count": 177,
     "metadata": {},
     "output_type": "execute_result"
    }
   ],
   "source": [
    "iq = InverseForMorphisms( q )"
   ]
  },
  {
   "cell_type": "markdown",
   "metadata": {},
   "source": [
    "Note that morphisms in $\\mathcal{D}^{b}(\\mathcal{A}(\\mathrm{Rows}_\\mathbb{Z}))$ are given by roofs:"
   ]
  },
  {
   "cell_type": "code",
   "execution_count": 178,
   "metadata": {},
   "outputs": [
    {
     "data": {
      "text/latex": [
       "$$\\begin{array}{ccccc}\n",
       " \\\\ \n",
       "\\big(\\mathbb{Z}^{1 \\times 0}\\xrightarrow{()_{0 \\times 0}}\\mathbb{Z}^{1 \\times 0}\\big)_{\\mathcal{A}}&\\leftarrow\\phantom{-}{{\\color{blue}{()_{1 \\times 0}}}}\\phantom{-}-&\\big(\\mathbb{Z}^{1 \\times 0}\\xrightarrow{()_{0 \\times 1}}\\mathbb{Z}^{1 \\times 1}\\big)_{\\mathcal{A}}&-\\phantom{-}{{\\color{blue}{\\left( \\begin{array}{r}\n",
       " -86527 \n",
       "\\end{array} \\right)}}}\\phantom{-}\\rightarrow&\\big(\\mathbb{Z}^{1 \\times 0}\\xrightarrow{()_{0 \\times 1}}\\mathbb{Z}^{1 \\times 1}\\big)_{\\mathcal{A}}\n",
       " \\\\ \n",
       " \\vert^{2} && \n",
       "\\vert^{2}&&\\vert^{2} \n",
       " \\\\ \n",
       " {\\color{blue}{()_{0 \\times 1}}}&&{\\color{blue}{\\left( \\begin{array}{rr}\n",
       " -26 & -39 \n",
       "\\end{array} \\right)}}&&{\\color{blue}{\\left( \\begin{array}{rr}\n",
       " -26 & -39 \n",
       "\\end{array} \\right)}}\n",
       " \\\\ \n",
       "  \\downarrow_{\\phantom{2}}&& \\downarrow_{\\phantom{2}}&& \n",
       " \\downarrow_{\\phantom{2}}\\\\ \n",
       "\\big(\\mathbb{Z}^{1 \\times 1}\\xrightarrow{\\left( \\begin{array}{r}\n",
       " -26 \n",
       "\\end{array} \\right)}\\mathbb{Z}^{1 \\times 1}\\big)_{\\mathcal{A}}&\\leftarrow\\phantom{-}{{\\color{blue}{\\left( \\begin{array}{r}\n",
       " -1 \\\\ \n",
       " \\cdot \n",
       "\\end{array} \\right)}}}\\phantom{-}-&\\big(\\mathbb{Z}^{1 \\times 0}\\xrightarrow{()_{0 \\times 2}}\\mathbb{Z}^{1 \\times 2}\\big)_{\\mathcal{A}}&-\\phantom{-}{{\\color{blue}{\\left( \\begin{array}{rr}\n",
       " -25447 & 3837 \\\\ \n",
       " -40720 & -89085 \n",
       "\\end{array} \\right)}}}\\phantom{-}\\rightarrow&\\big(\\mathbb{Z}^{1 \\times 0}\\xrightarrow{()_{0 \\times 2}}\\mathbb{Z}^{1 \\times 2}\\big)_{\\mathcal{A}}\n",
       " \\\\ \n",
       " \\vert^{1} && \n",
       "\\vert^{1}&&\\vert^{1} \n",
       " \\\\ \n",
       " {\\color{blue}{\\left( \\begin{array}{rr}\n",
       " -9 & -15 \n",
       "\\end{array} \\right)}}&&{\\color{blue}{\\left( \\begin{array}{rr}\n",
       " -9 & -15 \\\\ \n",
       " 6 & 10 \n",
       "\\end{array} \\right)}}&&{\\color{blue}{\\left( \\begin{array}{rr}\n",
       " -9 & -15 \\\\ \n",
       " 6 & 10 \n",
       "\\end{array} \\right)}}\n",
       " \\\\ \n",
       "  \\downarrow_{\\phantom{1}}&& \\downarrow_{\\phantom{1}}&& \n",
       " \\downarrow_{\\phantom{1}}\\\\ \n",
       "\\big(\\mathbb{Z}^{1 \\times 2}\\xrightarrow{\\left( \\begin{array}{rr}\n",
       " 24 & 40 \\\\ \n",
       " 6 & 10 \n",
       "\\end{array} \\right)}\\mathbb{Z}^{1 \\times 2}\\big)_{\\mathcal{A}}&\\leftarrow\\phantom{-}{{\\color{blue}{\\left( \\begin{array}{rr}\n",
       " -1 & \\cdot \\\\ \n",
       " \\cdot & -1 \n",
       "\\end{array} \\right)}}}\\phantom{-}-&\\big(\\mathbb{Z}^{1 \\times 0}\\xrightarrow{()_{0 \\times 2}}\\mathbb{Z}^{1 \\times 2}\\big)_{\\mathcal{A}}&-\\phantom{-}{{\\color{blue}{\\left( \\begin{array}{rr}\n",
       " -2550 & -89085 \\\\ \n",
       " -15273 & 25446 \n",
       "\\end{array} \\right)}}}\\phantom{-}\\rightarrow&\\big(\\mathbb{Z}^{1 \\times 0}\\xrightarrow{()_{0 \\times 2}}\\mathbb{Z}^{1 \\times 2}\\big)_{\\mathcal{A}}\n",
       " \\\\ \n",
       " \\vert^{0} && \n",
       "\\vert^{0}&&\\vert^{0} \n",
       " \\\\ \n",
       " {\\color{blue}{\\left( \\begin{array}{r}\n",
       " 20 \\\\ \n",
       " -12 \n",
       "\\end{array} \\right)}}&&{\\color{blue}{\\left( \\begin{array}{r}\n",
       " 20 \\\\ \n",
       " -12 \n",
       "\\end{array} \\right)}}&&{\\color{blue}{\\left( \\begin{array}{r}\n",
       " 20 \\\\ \n",
       " -12 \n",
       "\\end{array} \\right)}}\n",
       " \\\\ \n",
       "  \\downarrow_{\\phantom{0}}&& \\downarrow_{\\phantom{0}}&& \n",
       " \\downarrow_{\\phantom{0}}\\\\ \n",
       "\\big(\\mathbb{Z}^{1 \\times 0}\\xrightarrow{()_{0 \\times 1}}\\mathbb{Z}^{1 \\times 1}\\big)_{\\mathcal{A}}&\\leftarrow\\phantom{-}{{\\color{blue}{\\left( \\begin{array}{r}\n",
       " -1 \n",
       "\\end{array} \\right)}}}\\phantom{-}-&\\big(\\mathbb{Z}^{1 \\times 0}\\xrightarrow{()_{0 \\times 1}}\\mathbb{Z}^{1 \\times 1}\\big)_{\\mathcal{A}}&-\\phantom{-}{{\\color{blue}{\\left( \\begin{array}{r}\n",
       " 50901 \n",
       "\\end{array} \\right)}}}\\phantom{-}\\rightarrow&\\big(\\mathbb{Z}^{1 \\times 0}\\xrightarrow{()_{0 \\times 1}}\\mathbb{Z}^{1 \\times 1}\\big)_{\\mathcal{A}}\n",
       " \\\\ \n",
       " \\end{array}$$"
      ]
     },
     "metadata": {},
     "output_type": "display_data"
    }
   ],
   "source": [
    "Show( iq )"
   ]
  },
  {
   "cell_type": "code",
   "execution_count": null,
   "metadata": {},
   "outputs": [],
   "source": []
  }
 ],
 "metadata": {
  "kernelspec": {
   "display_name": "Julia 1.5.2",
   "language": "julia",
   "name": "julia-1.5"
  },
  "language_info": {
   "file_extension": ".jl",
   "mimetype": "application/julia",
   "name": "julia",
   "version": "1.5.2"
  }
 },
 "nbformat": 4,
 "nbformat_minor": 2
}

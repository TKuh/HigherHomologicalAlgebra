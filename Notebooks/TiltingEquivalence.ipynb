{
 "cells": [
  {
   "cell_type": "code",
   "execution_count": 1,
   "id": "3f76e47b",
   "metadata": {},
   "outputs": [
    {
     "name": "stdout",
     "output_type": "stream",
     "text": [
      "CapAndHomalg v\u001b[32m1.4.7\u001b[39m\n",
      "Imported OSCAR's components GAP and Singular_jll\n",
      "Type: ?CapAndHomalg for more information\n"
     ]
    }
   ],
   "source": [
    "using CapAndHomalg"
   ]
  },
  {
   "cell_type": "code",
   "execution_count": 2,
   "id": "95d93493",
   "metadata": {},
   "outputs": [],
   "source": [
    "LoadPackage( \"FunctorCategories\" )\n",
    "LoadPackage( \"HomotopyCategories\" )\n",
    "LoadPackage( \"DerivedCategories\" )"
   ]
  },
  {
   "cell_type": "code",
   "execution_count": 3,
   "id": "48ff37f7",
   "metadata": {},
   "outputs": [],
   "source": [
    "q_𝓞 = RightQuiver(\n",
    "    \"q_𝓞(𝓞₀,𝓞₁,𝓞₂)[x₀:𝓞₀->𝓞₁,x₁:𝓞₀->𝓞₁,x₂:𝓞₀->𝓞₁,y₀:𝓞₁->𝓞₂,y₁:𝓞₁->𝓞₂,y₂:𝓞₁->𝓞₂]\" );"
   ]
  },
  {
   "cell_type": "code",
   "execution_count": 4,
   "id": "e2f9d648",
   "metadata": {},
   "outputs": [],
   "source": [
    "SetLabelsAsLaTeXStrings(\n",
    "    q_𝓞,\n",
    "    [ \"\\\\mathcal{O}_{0}\", \"\\\\mathcal{O}_{1}\", \"\\\\mathcal{O}_{2}\" ],\n",
    "    [ \"x_0\", \"x_1\", \"x_2\", \"y_0\", \"y_1\", \"y_2\" ] )"
   ]
  },
  {
   "cell_type": "code",
   "execution_count": 5,
   "id": "c0f9bcad",
   "metadata": {},
   "outputs": [
    {
     "data": {
      "text/plain": [
       "GAP: FreeCategory( RightQuiver( \"q_𝓞(𝓞₀,𝓞₁,𝓞₂)[x₀:𝓞₀->𝓞₁,x₁:𝓞₀->𝓞₁,x₂:𝓞₀->𝓞₁,y₀:𝓞₁->𝓞₂,y₁:𝓞₁->𝓞₂,y₂:𝓞₁->𝓞₂]\" ) )"
      ]
     },
     "execution_count": 5,
     "metadata": {},
     "output_type": "execute_result"
    }
   ],
   "source": [
    "𝐅_𝓞 = FreeCategory( q_𝓞 )"
   ]
  },
  {
   "cell_type": "code",
   "execution_count": 6,
   "id": "ace55511",
   "metadata": {},
   "outputs": [
    {
     "data": {
      "text/plain": [
       "GAP: Q"
      ]
     },
     "execution_count": 6,
     "metadata": {},
     "output_type": "execute_result"
    }
   ],
   "source": [
    "ℚ = HomalgFieldOfRationals( )"
   ]
  },
  {
   "cell_type": "code",
   "execution_count": 7,
   "id": "b4807a6a",
   "metadata": {},
   "outputs": [
    {
     "data": {
      "text/plain": [
       "GAP: Q"
      ]
     },
     "execution_count": 7,
     "metadata": {},
     "output_type": "execute_result"
    }
   ],
   "source": [
    "k = ℚ"
   ]
  },
  {
   "cell_type": "code",
   "execution_count": 8,
   "id": "516c035c",
   "metadata": {},
   "outputs": [
    {
     "data": {
      "text/plain": [
       "GAP: Algebroid( Q, FreeCategory( RightQuiver( \"q_𝓞(𝓞₀,𝓞₁,𝓞₂)[x₀:𝓞₀->𝓞₁,x₁:𝓞₀->𝓞₁,x₂:𝓞₀->𝓞₁,y₀:𝓞₁->𝓞₂,y₁:𝓞₁->𝓞₂,y₂:𝓞₁->𝓞₂]\" ) ) )"
      ]
     },
     "execution_count": 8,
     "metadata": {},
     "output_type": "execute_result"
    }
   ],
   "source": [
    "k𝐅_𝓞 = k[𝐅_𝓞]"
   ]
  },
  {
   "cell_type": "code",
   "execution_count": 9,
   "id": "21ddebbd",
   "metadata": {},
   "outputs": [],
   "source": [
    "ρ_𝓞 = [ PreCompose( k𝐅_𝓞.x₀, k𝐅_𝓞.y₁ ) - PreCompose( k𝐅_𝓞.x₁, k𝐅_𝓞.y₀ ),\n",
    "        PreCompose( k𝐅_𝓞.x₀, k𝐅_𝓞.y₂ ) - PreCompose( k𝐅_𝓞.x₂, k𝐅_𝓞.y₀ ),\n",
    "        PreCompose( k𝐅_𝓞.x₁, k𝐅_𝓞.y₂ ) - PreCompose( k𝐅_𝓞.x₂, k𝐅_𝓞.y₁ ) ];"
   ]
  },
  {
   "cell_type": "code",
   "execution_count": 10,
   "id": "0cc4ba78",
   "metadata": {},
   "outputs": [
    {
     "data": {
      "text/plain": [
       "GAP: Algebroid( Q, FreeCategory( RightQuiver( \"q_𝓞(𝓞₀,𝓞₁,𝓞₂)[x₀:𝓞₀->𝓞₁,x₁:𝓞₀->𝓞₁,x₂:𝓞₀->𝓞₁,y₀:𝓞₁->𝓞₂,y₁:𝓞₁->𝓞₂,y₂:𝓞₁->𝓞₂]\" ) ) ) / relations"
      ]
     },
     "execution_count": 10,
     "metadata": {},
     "output_type": "execute_result"
    }
   ],
   "source": [
    "𝐀_𝓞 = k𝐅_𝓞 / ρ_𝓞"
   ]
  },
  {
   "cell_type": "code",
   "execution_count": 11,
   "id": "f86ec252",
   "metadata": {},
   "outputs": [
    {
     "name": "stdout",
     "output_type": "stream",
     "text": [
      "27 primitive operations were used to derive 77 operations for this category which algorithmically\n",
      "* IsEquippedWithHomomorphismStructure\n",
      "* IsLinearCategoryOverCommutativeRing\n",
      "and furthermore mathematically\n",
      "* IsFinitelyPresentedLinearCategory\n"
     ]
    }
   ],
   "source": [
    "InfoOfInstalledOperationsOfCategory( 𝐀_𝓞 )"
   ]
  },
  {
   "cell_type": "code",
   "execution_count": 12,
   "id": "f7729580",
   "metadata": {},
   "outputs": [
    {
     "data": {
      "text/plain": [
       "GAP: [ \"AdditionForMorphisms\", \"AdditiveInverseForMorphisms\", \"BasisOfExternalHom\", \"BasisOfSolutionsOfHomogeneousDoubleLinearSystemInLinearCategory\", \"BasisOfSolutionsOfHomogeneousLinearSystemInLinearCategory\", \"CoefficientsOfMorphism\", \"Colift\", \"ColiftAlongEpimorphism\", \"ColiftOrFail\", \"DistinguishedObjectOfHomomorphismStructure\", \"HomomorphismStructureOnMorphisms\", \"HomomorphismStructureOnMorphismsWithGivenObjects\", \"HomomorphismStructureOnObjects\", \"IdentityMorphism\", \"InjectiveColift\", \"InterpretMorphismAsMorphismFromDistinguishedObjectToHomomorphismStructure\", \"InterpretMorphismAsMorphismFromDistinguishedObjectToHomomorphismStructureWithGivenObjects\", \"InterpretMorphismFromDistinguishedObjectToHomomorphismStructureAsMorphism\", \"InverseForMorphisms\", \"IsAutomorphism\", \"IsCodominating\", \"IsColiftable\", \"IsColiftableAlongEpimorphism\", \"IsCongruentForMorphisms\", \"IsDominating\", \"IsEndomorphism\", \"IsEqualAsFactorobjects\", \"IsEqualAsSubobjects\", \"IsEqualForMorphisms\", \"IsEqualForMorphismsOnMor\", \"IsEqualForObjects\", \"IsEqualToIdentityMorphism\", \"IsEqualToZeroMorphism\", \"IsIdempotent\", \"IsIsomorphism\", \"IsLiftable\", \"IsLiftableAlongMonomorphism\", \"IsOne\", \"IsSplitEpimorphism\", \"IsSplitMonomorphism\", \"IsWellDefinedForMorphisms\", \"IsWellDefinedForObjects\", \"IsZeroForMorphisms\", \"IsZeroForObjects\", \"Lift\", \"LiftAlongMonomorphism\", \"LiftOrFail\", \"MereExistenceOfSolutionOfLinearSystemInAbCategory\", \"MereExistenceOfUniqueSolutionOfHomogeneousLinearSystemInAbCategory\", \"MereExistenceOfUniqueSolutionOfLinearSystemInAbCategory\", \"MorphismConstructor\", \"MorphismDatum\", \"MultiplyWithElementOfCommutativeRingForMorphisms\", \"ObjectConstructor\", \"ObjectDatum\", \"PostCompose\", \"PostComposeList\", \"PostInverseForMorphisms\", \"PreCompose\", \"PreComposeList\", \"PreInverseForMorphisms\", \"ProjectiveLift\", \"RandomMorphismByInteger\", \"RandomMorphismByList\", \"RandomMorphismWithFixedRangeByInteger\", \"RandomMorphismWithFixedRangeByList\", \"RandomMorphismWithFixedSourceAndRangeByInteger\", \"RandomMorphismWithFixedSourceAndRangeByList\", \"RandomMorphismWithFixedSourceByInteger\", \"RandomMorphismWithFixedSourceByList\", \"RandomObjectByInteger\", \"RandomObjectByList\", \"SolveLinearSystemInAbCategory\", \"SolveLinearSystemInAbCategoryOrFail\", \"SubtractionForMorphisms\", \"SumOfMorphisms\", \"ZeroMorphism\" ]"
      ]
     },
     "execution_count": 12,
     "metadata": {},
     "output_type": "execute_result"
    }
   ],
   "source": [
    "ListInstalledOperationsOfCategory( 𝐀_𝓞 )"
   ]
  },
  {
   "cell_type": "code",
   "execution_count": 13,
   "id": "5bc6094f",
   "metadata": {},
   "outputs": [
    {
     "data": {
      "text/plain": [
       "GAP: (𝓞₀)-[{ -1*(x₂) + 3*(x₁) + 2*(x₀) }]->(𝓞₁)"
      ]
     },
     "execution_count": 13,
     "metadata": {},
     "output_type": "execute_result"
    }
   ],
   "source": [
    "2 * 𝐀_𝓞.\"x₀\" + 3 * 𝐀_𝓞.\"x₁\" - 𝐀_𝓞.\"x₂\""
   ]
  },
  {
   "cell_type": "code",
   "execution_count": 14,
   "id": "790f22ad",
   "metadata": {},
   "outputs": [
    {
     "data": {
      "text/plain": [
       "GAP: [ (𝓞₀)-[{ 1*(x₀) }]->(𝓞₁), (𝓞₀)-[{ 1*(x₁) }]->(𝓞₁), (𝓞₀)-[{ 1*(x₂) }]->(𝓞₁) ]"
      ]
     },
     "execution_count": 14,
     "metadata": {},
     "output_type": "execute_result"
    }
   ],
   "source": [
    "BasisOfExternalHom( 𝐀_𝓞.\"𝓞₀\", 𝐀_𝓞.\"𝓞₁\" )"
   ]
  },
  {
   "cell_type": "code",
   "execution_count": 15,
   "id": "d70d5492",
   "metadata": {},
   "outputs": [
    {
     "data": {
      "text/plain": [
       "GAP: Additive closure( Algebroid( Q, FreeCategory( RightQuiver( \"q_𝓞(𝓞₀,𝓞₁,𝓞₂)[x₀:𝓞₀->𝓞₁,x₁:𝓞₀->𝓞₁,x₂:𝓞₀->𝓞₁,y₀:𝓞₁->𝓞₂,y₁:𝓞₁->𝓞₂,y₂:𝓞₁->𝓞₂]\" ) ) ) / relations )"
      ]
     },
     "execution_count": 15,
     "metadata": {},
     "output_type": "execute_result"
    }
   ],
   "source": [
    "𝐀_𝓞add = AdditiveClosure( 𝐀_𝓞 )"
   ]
  },
  {
   "cell_type": "code",
   "execution_count": 16,
   "id": "39944fcd",
   "metadata": {},
   "outputs": [
    {
     "data": {
      "text/plain": [
       "GAP: Complexes category by cochains( Additive closure( Algebroid( Q, FreeCategory( RightQuiver( \"q_𝓞(𝓞₀,𝓞₁,𝓞₂)[x₀:𝓞₀->𝓞₁,x₁:𝓞₀->𝓞₁,x₂:𝓞₀->𝓞₁,y₀:𝓞₁->𝓞₂,y₁:𝓞₁->𝓞₂,y₂:𝓞₁->𝓞₂]\" ) ) ) / relations ) )"
      ]
     },
     "execution_count": 16,
     "metadata": {},
     "output_type": "execute_result"
    }
   ],
   "source": [
    "𝒞ᵇ𝐀_𝓞add = ComplexesCategoryByCochains( 𝐀_𝓞add )"
   ]
  },
  {
   "cell_type": "code",
   "execution_count": 17,
   "id": "e6fe9d20",
   "metadata": {},
   "outputs": [
    {
     "data": {
      "text/plain": [
       "GAP: Homotopy category by cochains( Additive closure( Algebroid( Q, FreeCategory( RightQuiver( \"q_𝓞(𝓞₀,𝓞₁,𝓞₂)[x₀:𝓞₀->𝓞₁,x₁:𝓞₀->𝓞₁,x₂:𝓞₀->𝓞₁,y₀:𝓞₁->𝓞₂,y₁:𝓞₁->𝓞₂,y₂:𝓞₁->𝓞₂]\" ) ) ) / relations ) )"
      ]
     },
     "execution_count": 17,
     "metadata": {},
     "output_type": "execute_result"
    }
   ],
   "source": [
    "𝒦ᵇ𝐀_𝓞add = HomotopyCategoryByCochains( 𝐀_𝓞add )"
   ]
  },
  {
   "cell_type": "code",
   "execution_count": 18,
   "id": "fcc5cb20",
   "metadata": {},
   "outputs": [
    {
     "name": "stdout",
     "output_type": "stream",
     "text": [
      "63 primitive operations were used to derive 192 operations for this category which algorithmically\n",
      "* IsEquippedWithHomomorphismStructure\n",
      "* IsLinearCategoryOverCommutativeRing\n",
      "* IsAdditiveCategory\n"
     ]
    }
   ],
   "source": [
    "InfoOfInstalledOperationsOfCategory( 𝒦ᵇ𝐀_𝓞add )"
   ]
  },
  {
   "cell_type": "code",
   "execution_count": 19,
   "id": "332deba2",
   "metadata": {},
   "outputs": [
    {
     "data": {
      "text/plain": [
       "GAP: <An object in Additive closure( Algebroid( Q, FreeCategory( RightQuiver( \"q_𝓞(𝓞₀,𝓞₁,𝓞₂)[x₀:𝓞₀->𝓞₁,x₁:𝓞₀->𝓞₁,x₂:𝓞₀->𝓞₁,y₀:𝓞₁->𝓞₂,y₁:𝓞₁->𝓞₂,y₂:𝓞₁->𝓞₂]\" ) ) ) / relations ) defined by 1 underlying objects>"
      ]
     },
     "execution_count": 19,
     "metadata": {},
     "output_type": "execute_result"
    }
   ],
   "source": [
    "ℰ₁⁰ = [ 𝐀_𝓞.\"𝓞₀\", 𝐀_𝓞.\"𝓞₀\", 𝐀_𝓞.\"𝓞₀\" ] / 𝐀_𝓞add;\n",
    "ℰ₁¹ = [ 𝐀_𝓞.\"𝓞₁\", 𝐀_𝓞.\"𝓞₁\", 𝐀_𝓞.\"𝓞₁\" ] / 𝐀_𝓞add;\n",
    "ℰ₁² = [ 𝐀_𝓞.\"𝓞₂\" ] / 𝐀_𝓞add"
   ]
  },
  {
   "cell_type": "code",
   "execution_count": 20,
   "id": "46d0928b",
   "metadata": {},
   "outputs": [
    {
     "data": {
      "text/latex": [
       "$${\\mathcal{O}_{0}}^{\\oplus 3}$$"
      ]
     },
     "metadata": {},
     "output_type": "display_data"
    }
   ],
   "source": [
    "Show( ℰ₁⁰ )"
   ]
  },
  {
   "cell_type": "code",
   "execution_count": 21,
   "id": "a427932d",
   "metadata": {},
   "outputs": [
    {
     "data": {
      "text/plain": [
       "GAP: <A morphism in Additive closure( Algebroid( Q, FreeCategory( RightQuiver( \"q_𝓞(𝓞₀,𝓞₁,𝓞₂)[x₀:𝓞₀->𝓞₁,x₁:𝓞₀->𝓞₁,x₂:𝓞₀->𝓞₁,y₀:𝓞₁->𝓞₂,y₁:𝓞₁->𝓞₂,y₂:𝓞₁->𝓞₂]\" ) ) ) / relations ) defined by a 3 x 1 matrix of underlying morphisms>"
      ]
     },
     "execution_count": 21,
     "metadata": {},
     "output_type": "execute_result"
    }
   ],
   "source": [
    "∂⁰ = AdditiveClosureMorphism(\n",
    "    ℰ₁⁰,\n",
    "    ConvertJuliaToGAP(\n",
    "    [ [ 𝐀_𝓞.\"x₁\", -𝐀_𝓞.\"x₀\", ZeroMorphism(𝐀_𝓞.\"𝓞₀\", 𝐀_𝓞.\"𝓞₁\") ],\n",
    "      [ 𝐀_𝓞.\"x₂\", ZeroMorphism(𝐀_𝓞.\"𝓞₀\", 𝐀_𝓞.\"𝓞₁\"), -𝐀_𝓞.\"x₀\" ],\n",
    "      [ ZeroMorphism(𝐀_𝓞.\"𝓞₀\", 𝐀_𝓞.\"𝓞₁\"), 𝐀_𝓞.\"x₂\", -𝐀_𝓞.\"x₁\" ] ] ),\n",
    "    ℰ₁¹\n",
    "     );\n",
    "\n",
    "∂¹ = AdditiveClosureMorphism(\n",
    "    ℰ₁¹,\n",
    "    ConvertJuliaToGAP(\n",
    "    [ [ 𝐀_𝓞.\"y₀\" ],\n",
    "      [ 𝐀_𝓞.\"y₁\" ],\n",
    "      [ 𝐀_𝓞.\"y₂\" ] ]),\n",
    "    ℰ₁² )"
   ]
  },
  {
   "cell_type": "code",
   "execution_count": 22,
   "id": "9c6b0346",
   "metadata": {},
   "outputs": [
    {
     "data": {
      "text/latex": [
       "$${\\mathcal{O}_{0}}^{\\oplus 3}\\xrightarrow{\\begin{pmatrix}{x_1}&-{x_0}&0\\\\ \n",
       "{x_2}&0&-{x_0}\\\\ \n",
       "0&{x_2}&-{x_1}\\end{pmatrix}}{\\mathcal{O}_{1}}^{\\oplus 3}$$"
      ]
     },
     "metadata": {},
     "output_type": "display_data"
    }
   ],
   "source": [
    "Show( ∂⁰ )"
   ]
  },
  {
   "cell_type": "code",
   "execution_count": 23,
   "id": "6b870f7b",
   "metadata": {},
   "outputs": [
    {
     "data": {
      "text/plain": [
       "GAP: <An object in Homotopy category by cochains( Additive closure( Algebroid( Q, FreeCategory( RightQuiver( \"q_𝓞(𝓞₀,𝓞₁,𝓞₂)[x₀:𝓞₀->𝓞₁,x₁:𝓞₀->𝓞₁,x₂:𝓞₀->𝓞₁,y₀:𝓞₁->𝓞₂,y₁:𝓞₁->𝓞₂,y₂:𝓞₁->𝓞₂]\" ) ) ) / relations ) ) supported in the window [0 ⋅⋅⋅ 2]>"
      ]
     },
     "execution_count": 23,
     "metadata": {},
     "output_type": "execute_result"
    }
   ],
   "source": [
    "ℰ₁ = CreateComplex( 𝒦ᵇ𝐀_𝓞add, ConvertJuliaToGAP( [ ∂⁰, ∂¹ ] ), 0 )"
   ]
  },
  {
   "cell_type": "code",
   "execution_count": 24,
   "id": "9223b967",
   "metadata": {},
   "outputs": [
    {
     "data": {
      "text/latex": [
       "$$\\begin{array}{c}\n",
       "{\\mathcal{O}_{2}}\n",
       " \\\\\n",
       "\\uparrow_{\\phantom{1}} \n",
       "\\\\\n",
       " \\begin{pmatrix}{y_0}\\\\ \n",
       "{y_1}\\\\ \n",
       "{y_2}\\end{pmatrix}\n",
       "\\\\\n",
       " {\\vert_{1}}\n",
       " \n",
       "\\\\\n",
       "{\\mathcal{O}_{1}}^{\\oplus 3}\\\\\n",
       "\\uparrow_{\\phantom{0}} \n",
       "\\\\\n",
       " \\begin{pmatrix}{x_1}&-{x_0}&0\\\\ \n",
       "{x_2}&0&-{x_0}\\\\ \n",
       "0&{x_2}&-{x_1}\\end{pmatrix}\n",
       "\\\\\n",
       " {\\vert_{0}}\n",
       " \n",
       "\\\\\n",
       "{\\mathcal{O}_{0}}^{\\oplus 3}\\end{array}$$"
      ]
     },
     "metadata": {},
     "output_type": "display_data"
    }
   ],
   "source": [
    "Show( ℰ₁ )"
   ]
  },
  {
   "cell_type": "code",
   "execution_count": 25,
   "id": "2109d7e5",
   "metadata": {},
   "outputs": [],
   "source": [
    "ℰ₂⁰ = [ 𝐀_𝓞.\"𝓞₀\", 𝐀_𝓞.\"𝓞₀\", 𝐀_𝓞.\"𝓞₀\" ] / 𝐀_𝓞add;\n",
    "ℰ₂¹ = [ 𝐀_𝓞.\"𝓞₁\"] / 𝐀_𝓞add;"
   ]
  },
  {
   "cell_type": "code",
   "execution_count": 26,
   "id": "0efcf1a6",
   "metadata": {},
   "outputs": [
    {
     "data": {
      "text/plain": [
       "GAP: <A morphism in Additive closure( Algebroid( Q, FreeCategory( RightQuiver( \"q_𝓞(𝓞₀,𝓞₁,𝓞₂)[x₀:𝓞₀->𝓞₁,x₁:𝓞₀->𝓞₁,x₂:𝓞₀->𝓞₁,y₀:𝓞₁->𝓞₂,y₁:𝓞₁->𝓞₂,y₂:𝓞₁->𝓞₂]\" ) ) ) / relations ) defined by a 3 x 1 matrix of underlying morphisms>"
      ]
     },
     "execution_count": 26,
     "metadata": {},
     "output_type": "execute_result"
    }
   ],
   "source": [
    "∂⁰ = AdditiveClosureMorphism(\n",
    "    ℰ₂⁰,\n",
    "    ConvertJuliaToGAP(\n",
    "    [ [ 𝐀_𝓞.\"x₀\" ],\n",
    "      [ 𝐀_𝓞.\"x₁\" ],\n",
    "      [ 𝐀_𝓞.\"x₂\" ] ]),\n",
    "    ℰ₂¹ )"
   ]
  },
  {
   "cell_type": "code",
   "execution_count": 27,
   "id": "c36fcbbc",
   "metadata": {},
   "outputs": [
    {
     "data": {
      "text/plain": [
       "GAP: <An object in Homotopy category by cochains( Additive closure( Algebroid( Q, FreeCategory( RightQuiver( \"q_𝓞(𝓞₀,𝓞₁,𝓞₂)[x₀:𝓞₀->𝓞₁,x₁:𝓞₀->𝓞₁,x₂:𝓞₀->𝓞₁,y₀:𝓞₁->𝓞₂,y₁:𝓞₁->𝓞₂,y₂:𝓞₁->𝓞₂]\" ) ) ) / relations ) ) supported in the window [0 ⋅⋅⋅ 1]>"
      ]
     },
     "execution_count": 27,
     "metadata": {},
     "output_type": "execute_result"
    }
   ],
   "source": [
    "ℰ₂ = CreateComplex( 𝒦ᵇ𝐀_𝓞add, ConvertJuliaToGAP( [ ∂⁰ ] ), 0 )"
   ]
  },
  {
   "cell_type": "code",
   "execution_count": 28,
   "id": "dcb95a23",
   "metadata": {},
   "outputs": [
    {
     "data": {
      "text/latex": [
       "$$\\begin{array}{c}\n",
       "{\\mathcal{O}_{1}}\n",
       " \\\\\n",
       "\\uparrow_{\\phantom{0}} \n",
       "\\\\\n",
       " \\begin{pmatrix}{x_0}\\\\ \n",
       "{x_1}\\\\ \n",
       "{x_2}\\end{pmatrix}\n",
       "\\\\\n",
       " {\\vert_{0}}\n",
       " \n",
       "\\\\\n",
       "{\\mathcal{O}_{0}}^{\\oplus 3}\\end{array}$$"
      ]
     },
     "metadata": {},
     "output_type": "display_data"
    }
   ],
   "source": [
    "Show( ℰ₂ )"
   ]
  },
  {
   "cell_type": "code",
   "execution_count": 29,
   "id": "99132429",
   "metadata": {},
   "outputs": [
    {
     "data": {
      "text/plain": [
       "GAP: <An object in Homotopy category by cochains( Additive closure( Algebroid( Q, FreeCategory( RightQuiver( \"q_𝓞(𝓞₀,𝓞₁,𝓞₂)[x₀:𝓞₀->𝓞₁,x₁:𝓞₀->𝓞₁,x₂:𝓞₀->𝓞₁,y₀:𝓞₁->𝓞₂,y₁:𝓞₁->𝓞₂,y₂:𝓞₁->𝓞₂]\" ) ) ) / relations ) ) supported in the window [0 ⋅⋅⋅ 0]>"
      ]
     },
     "execution_count": 29,
     "metadata": {},
     "output_type": "execute_result"
    }
   ],
   "source": [
    "ℰ₃ = CreateComplex( 𝒦ᵇ𝐀_𝓞add, [ 𝐀_𝓞.\"𝓞₀\" ] / 𝐀_𝓞add, 0 )"
   ]
  },
  {
   "cell_type": "code",
   "execution_count": 30,
   "id": "45055692",
   "metadata": {},
   "outputs": [
    {
     "data": {
      "text/latex": [
       "$$\\begin{array}{c}\n",
       "{\\mathcal{O}_{0}}\n",
       " \\end{array}$$"
      ]
     },
     "metadata": {},
     "output_type": "display_data"
    }
   ],
   "source": [
    "Show( ℰ₃ )"
   ]
  },
  {
   "cell_type": "code",
   "execution_count": 31,
   "id": "de4d5a4b",
   "metadata": {},
   "outputs": [
    {
     "data": {
      "text/plain": [
       "GAP: A strong exceptional sequence in Homotopy category by cochains( Additive closure( Algebroid( Q, FreeCategory( RightQuiver( \"q_𝓞(𝓞₀,𝓞₁,𝓞₂)[x₀:𝓞₀->𝓞₁,x₁:𝓞₀->𝓞₁,x₂:𝓞₀->𝓞₁,y₀:𝓞₁->𝓞₂,y₁:𝓞₁->𝓞₂,y₂:𝓞₁->𝓞₂]\" ) ) ) / relations ) )"
      ]
     },
     "execution_count": 31,
     "metadata": {},
     "output_type": "execute_result"
    }
   ],
   "source": [
    "ℰ = CreateStrongExceptionalSequence( ConvertJuliaToGAP( [ ℰ₁, ℰ₂, ℰ₃ ] ) )"
   ]
  },
  {
   "cell_type": "code",
   "execution_count": 32,
   "id": "cad0bf0d",
   "metadata": {},
   "outputs": [
    {
     "data": {
      "text/plain": [
       "GAP: <An object in Homotopy category by cochains( Additive closure( Algebroid( Q, FreeCategory( RightQuiver( \"q_𝓞(𝓞₀,𝓞₁,𝓞₂)[x₀:𝓞₀->𝓞₁,x₁:𝓞₀->𝓞₁,x₂:𝓞₀->𝓞₁,y₀:𝓞₁->𝓞₂,y₁:𝓞₁->𝓞₂,y₂:𝓞₁->𝓞₂]\" ) ) ) / relations ) ) supported in the window [0 ⋅⋅⋅ 2]>"
      ]
     },
     "execution_count": 32,
     "metadata": {},
     "output_type": "execute_result"
    }
   ],
   "source": [
    "T = DirectSum( ConvertJuliaToGAP( [ ℰ₁, ℰ₂, ℰ₃ ] ) )"
   ]
  },
  {
   "cell_type": "code",
   "execution_count": 33,
   "id": "80b719f6",
   "metadata": {},
   "outputs": [
    {
     "data": {
      "text/latex": [
       "$$\\begin{array}{c}\n",
       "{\\mathcal{O}_{2}}\n",
       " \\\\\n",
       "\\uparrow_{\\phantom{1}} \n",
       "\\\\\n",
       " \\begin{pmatrix}{y_0}\\\\ \n",
       "{y_1}\\\\ \n",
       "{y_2}\\\\ \n",
       "0\\end{pmatrix}\n",
       "\\\\\n",
       " {\\vert_{1}}\n",
       " \n",
       "\\\\\n",
       "{\\mathcal{O}_{1}}^{\\oplus 4}\\\\\n",
       "\\uparrow_{\\phantom{0}} \n",
       "\\\\\n",
       " \\begin{pmatrix}{x_1}&-{x_0}&0&0\\\\ \n",
       "{x_2}&0&-{x_0}&0\\\\ \n",
       "0&{x_2}&-{x_1}&0\\\\ \n",
       "0&0&0&{x_0}\\\\ \n",
       "0&0&0&{x_1}\\\\ \n",
       "0&0&0&{x_2}\\\\ \n",
       "0&0&0&0\\end{pmatrix}\n",
       "\\\\\n",
       " {\\vert_{0}}\n",
       " \n",
       "\\\\\n",
       "{\\mathcal{O}_{0}}^{\\oplus 7}\\end{array}$$"
      ]
     },
     "metadata": {},
     "output_type": "display_data"
    }
   ],
   "source": [
    "Show( T )"
   ]
  },
  {
   "cell_type": "code",
   "execution_count": 34,
   "id": "44f8c3b1",
   "metadata": {},
   "outputs": [
    {
     "data": {
      "text/plain": [
       "true"
      ]
     },
     "execution_count": 34,
     "metadata": {},
     "output_type": "execute_result"
    }
   ],
   "source": [
    "RankOfObject( HomStructure( ℰ₁, ℰ₁ ) ) == 1\n",
    "    RankOfObject( HomStructure( ℰ₂, ℰ₂ ) ) == 1 &&\n",
    "        RankOfObject( HomStructure( ℰ₃, ℰ₃ ) ) == 1"
   ]
  },
  {
   "cell_type": "code",
   "execution_count": 35,
   "id": "30afa812",
   "metadata": {},
   "outputs": [
    {
     "data": {
      "text/plain": [
       "true"
      ]
     },
     "execution_count": 35,
     "metadata": {},
     "output_type": "execute_result"
    }
   ],
   "source": [
    "IsZero( HomStructure( ℰ₃, ℰ₂ ) ) &&\n",
    "    IsZero( HomStructure( ℰ₂, ℰ₁ ) ) &&\n",
    "        IsZero( HomStructure( ℰ₃, ℰ₁ ) )"
   ]
  },
  {
   "cell_type": "code",
   "execution_count": 36,
   "id": "07b3c1b5",
   "metadata": {},
   "outputs": [
    {
     "data": {
      "text/plain": [
       "true"
      ]
     },
     "execution_count": 36,
     "metadata": {},
     "output_type": "execute_result"
    }
   ],
   "source": [
    "IsZero( HomStructure( T, Shift( T, -2 ) ) ) &&\n",
    "    IsZero( HomStructure( T, Shift( T, -1 ) ) ) &&\n",
    "        IsZero( HomStructure( T, Shift( T, 1 ) ) ) &&\n",
    "            IsZero( HomStructure( T, Shift( T, 2 ) ) )"
   ]
  },
  {
   "cell_type": "code",
   "execution_count": 37,
   "id": "04fec3c4",
   "metadata": {},
   "outputs": [
    {
     "data": {
      "text/plain": [
       "GAP: <A row module over Q of rank 12>"
      ]
     },
     "execution_count": 37,
     "metadata": {},
     "output_type": "execute_result"
    }
   ],
   "source": [
    "HomStructure( T, T )"
   ]
  },
  {
   "cell_type": "code",
   "execution_count": 38,
   "id": "81e807ac",
   "metadata": {},
   "outputs": [
    {
     "data": {
      "text/plain": [
       "GAP: PreSheaves( Algebroid( Q, FreeCategory( RightQuiver( \"q_𝓞(𝓞₀,𝓞₁,𝓞₂)[x₀:𝓞₀->𝓞₁,x₁:𝓞₀->𝓞₁,x₂:𝓞₀->𝓞₁,y₀:𝓞₁->𝓞₂,y₁:𝓞₁->𝓞₂,y₂:𝓞₁->𝓞₂]\" ) ) ) / relations, Rows( Q ) )"
      ]
     },
     "execution_count": 38,
     "metadata": {},
     "output_type": "execute_result"
    }
   ],
   "source": [
    "PSh = PreSheaves( 𝐀_𝓞 )"
   ]
  },
  {
   "cell_type": "code",
   "execution_count": 39,
   "id": "4869f14a",
   "metadata": {},
   "outputs": [
    {
     "data": {
      "text/plain": [
       "GAP: Derived category by cochains( PreSheaves( Algebroid( Q, FreeCategory( RightQuiver( \"q_𝓞(𝓞₀,𝓞₁,𝓞₂)[x₀:𝓞₀->𝓞₁,x₁:𝓞₀->𝓞₁,x₂:𝓞₀->𝓞₁,y₀:𝓞₁->𝓞₂,y₁:𝓞₁->𝓞₂,y₂:𝓞₁->𝓞₂]\" ) ) ) / relations, Rows( Q ) ) )"
      ]
     },
     "execution_count": 39,
     "metadata": {},
     "output_type": "execute_result"
    }
   ],
   "source": [
    "𝒟ᵇPSh = DerivedCategoryByCochains( PSh )"
   ]
  },
  {
   "cell_type": "code",
   "execution_count": 40,
   "id": "3f461e83",
   "metadata": {},
   "outputs": [
    {
     "data": {
      "text/plain": [
       "GAP: Equivalence functor onto derived category of presheaves"
      ]
     },
     "execution_count": 40,
     "metadata": {},
     "output_type": "execute_result"
    }
   ],
   "source": [
    "𝕁 = EquivalenceOntoDerivedCategory( 𝒦ᵇ𝐀_𝓞add )"
   ]
  },
  {
   "cell_type": "code",
   "execution_count": 41,
   "id": "25bdb87a",
   "metadata": {},
   "outputs": [
    {
     "name": "stdout",
     "output_type": "stream",
     "text": [
      "Equivalence functor onto derived category of presheaves:\n",
      "\n",
      "Homotopy category by cochains( Additive closure( Algebroid( Q, FreeCategory( RightQuiver( \"q_𝓞(𝓞₀,𝓞₁,𝓞₂)[x₀:𝓞₀->𝓞₁,x₁:𝓞₀->𝓞₁,x₂:𝓞₀->𝓞₁,y₀:𝓞₁->𝓞₂,y₁:𝓞₁->𝓞₂,y₂:𝓞₁->𝓞₂]\" ) ) ) / relations ) )\n",
      "  |\n",
      "  ⋎\n",
      "Derived category by cochains( PreSheaves( Algebroid( Q, FreeCategory( RightQuiver( \"q_𝓞(𝓞₀,𝓞₁,𝓞₂)[x₀:𝓞₀->𝓞₁,x₁:𝓞₀->𝓞₁,x₂:𝓞₀->𝓞₁,y₀:𝓞₁->𝓞₂,y₁:𝓞₁->𝓞₂,y₂:𝓞₁->𝓞₂]\" ) ) ) / relations, Rows( Q ) ) )\n"
     ]
    }
   ],
   "source": [
    "Display( 𝕁 )"
   ]
  },
  {
   "cell_type": "code",
   "execution_count": 42,
   "id": "05a4f504",
   "metadata": {},
   "outputs": [
    {
     "data": {
      "text/latex": [
       "$$\\begin{array}{ccc}\n",
       " \\mathcal{O}_{0} & \\mapsto & \\mathbb{Q}^{1 \\times 0} \\\\ \\mathcal{O}_{1} & \\mapsto & \\mathbb{Q}^{1 \\times 0} \\\\ \\mathcal{O}_{2} & \\mapsto & \\mathbb{Q}^{1 \\times 1} \\\\ \\hline & & \\\\{x_0} & \\mapsto & \\mathbb{Q}^{1 \\times 0}{\\color{blue}{\\xrightarrow{()_{0 \\times 0}}}}\\mathbb{Q}^{1 \\times 0} \\\\ & & \\\\{x_1} & \\mapsto & \\mathbb{Q}^{1 \\times 0}{\\color{blue}{\\xrightarrow{()_{0 \\times 0}}}}\\mathbb{Q}^{1 \\times 0} \\\\ & & \\\\{x_2} & \\mapsto & \\mathbb{Q}^{1 \\times 0}{\\color{blue}{\\xrightarrow{()_{0 \\times 0}}}}\\mathbb{Q}^{1 \\times 0} \\\\ & & \\\\{y_0} & \\mapsto & \\mathbb{Q}^{1 \\times 1}{\\color{blue}{\\xrightarrow{()_{1 \\times 0}}}}\\mathbb{Q}^{1 \\times 0} \\\\ & & \\\\{y_1} & \\mapsto & \\mathbb{Q}^{1 \\times 1}{\\color{blue}{\\xrightarrow{()_{1 \\times 0}}}}\\mathbb{Q}^{1 \\times 0} \\\\ & & \\\\{y_2} & \\mapsto & \\mathbb{Q}^{1 \\times 1}{\\color{blue}{\\xrightarrow{()_{1 \\times 0}}}}\\mathbb{Q}^{1 \\times 0} \\\\ & & \\\\\\end{array}$$"
      ]
     },
     "metadata": {},
     "output_type": "display_data"
    }
   ],
   "source": [
    "𝕁ℰ₁ = ApplyFunctor( 𝕁, ℰ₁ )\n",
    "CohomologySupport( 𝕁ℰ₁ )\n",
    "H2 = CohomologyAt( 𝕁ℰ₁, 2 )\n",
    "Show( H2 )"
   ]
  },
  {
   "cell_type": "code",
   "execution_count": 43,
   "id": "9c8f75f3",
   "metadata": {},
   "outputs": [
    {
     "data": {
      "text/latex": [
       "$$\\begin{array}{ccc}\n",
       " \\mathcal{O}_{0} & \\mapsto & \\mathbb{Q}^{1 \\times 0} \\\\ \\mathcal{O}_{1} & \\mapsto & \\mathbb{Q}^{1 \\times 1} \\\\ \\mathcal{O}_{2} & \\mapsto & \\mathbb{Q}^{1 \\times 0} \\\\ \\hline & & \\\\{x_0} & \\mapsto & \\mathbb{Q}^{1 \\times 1}{\\color{blue}{\\xrightarrow{()_{1 \\times 0}}}}\\mathbb{Q}^{1 \\times 0} \\\\ & & \\\\{x_1} & \\mapsto & \\mathbb{Q}^{1 \\times 1}{\\color{blue}{\\xrightarrow{()_{1 \\times 0}}}}\\mathbb{Q}^{1 \\times 0} \\\\ & & \\\\{x_2} & \\mapsto & \\mathbb{Q}^{1 \\times 1}{\\color{blue}{\\xrightarrow{()_{1 \\times 0}}}}\\mathbb{Q}^{1 \\times 0} \\\\ & & \\\\{y_0} & \\mapsto & \\mathbb{Q}^{1 \\times 0}{\\color{blue}{\\xrightarrow{()_{0 \\times 1}}}}\\mathbb{Q}^{1 \\times 1} \\\\ & & \\\\{y_1} & \\mapsto & \\mathbb{Q}^{1 \\times 0}{\\color{blue}{\\xrightarrow{()_{0 \\times 1}}}}\\mathbb{Q}^{1 \\times 1} \\\\ & & \\\\{y_2} & \\mapsto & \\mathbb{Q}^{1 \\times 0}{\\color{blue}{\\xrightarrow{()_{0 \\times 1}}}}\\mathbb{Q}^{1 \\times 1} \\\\ & & \\\\\\end{array}$$"
      ]
     },
     "metadata": {},
     "output_type": "display_data"
    }
   ],
   "source": [
    "𝕁ℰ₂ = ApplyFunctor( 𝕁, ℰ₂ )\n",
    "CohomologySupport( 𝕁ℰ₂ )\n",
    "H1 = CohomologyAt( 𝕁ℰ₂, 1 )\n",
    "Show( H1 )"
   ]
  },
  {
   "cell_type": "code",
   "execution_count": 44,
   "id": "16016f22",
   "metadata": {},
   "outputs": [
    {
     "data": {
      "text/latex": [
       "$$\\begin{array}{ccc}\n",
       " \\mathcal{O}_{0} & \\mapsto & \\mathbb{Q}^{1 \\times 1} \\\\ \\mathcal{O}_{1} & \\mapsto & \\mathbb{Q}^{1 \\times 0} \\\\ \\mathcal{O}_{2} & \\mapsto & \\mathbb{Q}^{1 \\times 0} \\\\ \\hline & & \\\\{x_0} & \\mapsto & \\mathbb{Q}^{1 \\times 0}{\\color{blue}{\\xrightarrow{()_{0 \\times 1}}}}\\mathbb{Q}^{1 \\times 1} \\\\ & & \\\\{x_1} & \\mapsto & \\mathbb{Q}^{1 \\times 0}{\\color{blue}{\\xrightarrow{()_{0 \\times 1}}}}\\mathbb{Q}^{1 \\times 1} \\\\ & & \\\\{x_2} & \\mapsto & \\mathbb{Q}^{1 \\times 0}{\\color{blue}{\\xrightarrow{()_{0 \\times 1}}}}\\mathbb{Q}^{1 \\times 1} \\\\ & & \\\\{y_0} & \\mapsto & \\mathbb{Q}^{1 \\times 0}{\\color{blue}{\\xrightarrow{()_{0 \\times 0}}}}\\mathbb{Q}^{1 \\times 0} \\\\ & & \\\\{y_1} & \\mapsto & \\mathbb{Q}^{1 \\times 0}{\\color{blue}{\\xrightarrow{()_{0 \\times 0}}}}\\mathbb{Q}^{1 \\times 0} \\\\ & & \\\\{y_2} & \\mapsto & \\mathbb{Q}^{1 \\times 0}{\\color{blue}{\\xrightarrow{()_{0 \\times 0}}}}\\mathbb{Q}^{1 \\times 0} \\\\ & & \\\\\\end{array}$$"
      ]
     },
     "metadata": {},
     "output_type": "display_data"
    }
   ],
   "source": [
    "𝕁ℰ₃ = ApplyFunctor( 𝕁, ℰ₃ )\n",
    "CohomologySupport( 𝕁ℰ₃ )\n",
    "H0 = CohomologyAt( 𝕁ℰ₃, 0 )\n",
    "Show( H0 )"
   ]
  },
  {
   "cell_type": "code",
   "execution_count": 45,
   "id": "29ecea03",
   "metadata": {},
   "outputs": [],
   "source": [
    "#T = DirectSum( H0 / 𝒦ᵇ𝐀_𝓞,  Shift( H1 / 𝒦ᵇ𝐀_𝓞, -1 ), Shift( H2 / 𝒦ᵇ𝐀_𝓞, -2 ) ) / D𝐀_𝓞"
   ]
  },
  {
   "cell_type": "code",
   "execution_count": 46,
   "id": "9ae2cc4f",
   "metadata": {},
   "outputs": [
    {
     "data": {
      "text/plain": [
       "GAP: Algebroid( Q, FreeCategory( RightQuiver( \"q(E1,E2,E3)[m1_2_1:E1->E2,m1_2_2:E1->E2,m1_2_3:E1->E2,m2_3_1:E2->E3,m2_3_2:E2->E3,m2_3_3:E2->E3]\" ) ) ) / relations"
      ]
     },
     "execution_count": 46,
     "metadata": {},
     "output_type": "execute_result"
    }
   ],
   "source": [
    "𝐀_ℰ = AbstractionAlgebroid( ℰ )"
   ]
  },
  {
   "cell_type": "code",
   "execution_count": 47,
   "id": "881b1c45",
   "metadata": {},
   "outputs": [
    {
     "data": {
      "text/plain": [
       "GAP: q(E1,E2,E3)[m1_2_1:E1->E2,m1_2_2:E1->E2,m1_2_3:E1->E2,m2_3_1:E2->E3,m2_3_2:E2->E3,m2_3_3:E2->E3]"
      ]
     },
     "execution_count": 47,
     "metadata": {},
     "output_type": "execute_result"
    }
   ],
   "source": [
    "𝔮_ℰ = UnderlyingQuiver( 𝐀_ℰ )"
   ]
  },
  {
   "cell_type": "code",
   "execution_count": 48,
   "id": "81d3e6e6",
   "metadata": {},
   "outputs": [
    {
     "data": {
      "text/plain": [
       "GAP: [ (E1)-[1*(m1_2_1*m2_3_1)]->(E3), (E1)-[1*(m1_2_2*m2_3_1) + 1*(m1_2_1*m2_3_2)]->(E3), (E1)-[1*(m1_2_2*m2_3_2)]->(E3), (E1)-[1*(m1_2_3*m2_3_1) + 1*(m1_2_1*m2_3_3)]->(E3), (E1)-[1*(m1_2_3*m2_3_2) + 1*(m1_2_2*m2_3_3)]->(E3), (E1)-[1*(m1_2_3*m2_3_3)]->(E3) ]"
      ]
     },
     "execution_count": 48,
     "metadata": {},
     "output_type": "execute_result"
    }
   ],
   "source": [
    "ρ_ℰ = RelationsOfAlgebroid( 𝐀_ℰ )"
   ]
  },
  {
   "cell_type": "code",
   "execution_count": 49,
   "id": "6cfde5d2",
   "metadata": {},
   "outputs": [
    {
     "data": {
      "text/plain": [
       "GAP: isomorphism: strong exceptional sequence ⟶ abstraction algebroid"
      ]
     },
     "execution_count": 49,
     "metadata": {},
     "output_type": "execute_result"
    }
   ],
   "source": [
    "abs = IsomorphismIntoAbstractionAlgebroid( ℰ )"
   ]
  },
  {
   "cell_type": "code",
   "execution_count": 50,
   "id": "f92f6713",
   "metadata": {},
   "outputs": [
    {
     "name": "stdout",
     "output_type": "stream",
     "text": [
      "isomorphism: strong exceptional sequence ⟶ abstraction algebroid:\n",
      "\n",
      "A strong exceptional sequence in Homotopy category by cochains( Additive closure( Algebroid( Q, FreeCategory( RightQuiver( \"q_𝓞(𝓞₀,𝓞₁,𝓞₂)[x₀:𝓞₀->𝓞₁,x₁:𝓞₀->𝓞₁,x₂:𝓞₀->𝓞₁,y₀:𝓞₁->𝓞₂,y₁:𝓞₁->𝓞₂,y₂:𝓞₁->𝓞₂]\" ) ) ) / relations ) )\n",
      "  |\n",
      "  ⋎\n",
      "Algebroid( Q, FreeCategory( RightQuiver( \"q(E1,E2,E3)[m1_2_1:E1->E2,m1_2_2:E1->E2,m1_2_3:E1->E2,m2_3_1:E2->E3,m2_3_2:E2->E3,m2_3_3:E2->E3]\" ) ) ) / relations\n"
     ]
    }
   ],
   "source": [
    "Display( abs )"
   ]
  },
  {
   "cell_type": "code",
   "execution_count": 51,
   "id": "3d09c779",
   "metadata": {},
   "outputs": [
    {
     "data": {
      "text/plain": [
       "GAP: isomorphism: abstraction algebroid ⟶ strong exceptional sequence"
      ]
     },
     "execution_count": 51,
     "metadata": {},
     "output_type": "execute_result"
    }
   ],
   "source": [
    "rel = IsomorphismFromAbstractionAlgebroid( ℰ )"
   ]
  },
  {
   "cell_type": "code",
   "execution_count": 52,
   "id": "cd93aeee",
   "metadata": {},
   "outputs": [
    {
     "name": "stdout",
     "output_type": "stream",
     "text": [
      "isomorphism: abstraction algebroid ⟶ strong exceptional sequence:\n",
      "\n",
      "Algebroid( Q, FreeCategory( RightQuiver( \"q(E1,E2,E3)[m1_2_1:E1->E2,m1_2_2:E1->E2,m1_2_3:E1->E2,m2_3_1:E2->E3,m2_3_2:E2->E3,m2_3_3:E2->E3]\" ) ) ) / relations\n",
      "  |\n",
      "  ⋎\n",
      "A strong exceptional sequence in Homotopy category by cochains( Additive closure( Algebroid( Q, FreeCategory( RightQuiver( \"q_𝓞(𝓞₀,𝓞₁,𝓞₂)[x₀:𝓞₀->𝓞₁,x₁:𝓞₀->𝓞₁,x₂:𝓞₀->𝓞₁,y₀:𝓞₁->𝓞₂,y₁:𝓞₁->𝓞₂,y₂:𝓞₁->𝓞₂]\" ) ) ) / relations ) )\n"
     ]
    }
   ],
   "source": [
    "Display( rel )"
   ]
  },
  {
   "cell_type": "code",
   "execution_count": 53,
   "id": "ff01f8e0",
   "metadata": {},
   "outputs": [
    {
     "data": {
      "text/plain": [
       "true"
      ]
     },
     "execution_count": 53,
     "metadata": {},
     "output_type": "execute_result"
    }
   ],
   "source": [
    "rel( 𝐀_ℰ.\"m1_2_1\" ) == IrreducibleMorphisms( ℰ, ConvertJuliaToGAP( [1, 2] ) )[1]"
   ]
  },
  {
   "cell_type": "code",
   "execution_count": 54,
   "id": "12645d75",
   "metadata": {},
   "outputs": [
    {
     "data": {
      "text/latex": [
       "$$\\begin{array}{ccc}\n",
       " {\\mathcal{O}_{2}}&-\\phantom{-}{\\begin{pmatrix}\\\\\\end{pmatrix}}\\phantom{-}\\rightarrow&0\n",
       " \\\\ \n",
       " \\uparrow_{\\phantom{1}}&& \n",
       " \\uparrow_{\\phantom{1}}\n",
       " \\\\ \n",
       " \\begin{pmatrix}{y_0}\\\\ \n",
       "{y_1}\\\\ \n",
       "{y_2}\\end{pmatrix}&&\\begin{pmatrix}\\\\\\end{pmatrix}\n",
       " \\\\ \n",
       " \\vert_{1} &&\\vert_{1} \n",
       " \\\\ \n",
       " {\\mathcal{O}_{1}}^{\\oplus 3}&-\\phantom{-}{\\begin{pmatrix}{\\mathcal{O}_{1}}\\\\ \n",
       "0\\\\ \n",
       "0\\end{pmatrix}}\\phantom{-}\\rightarrow&{\\mathcal{O}_{1}}\n",
       " \\\\ \n",
       "  \\uparrow_{\\phantom{0}}&& \n",
       " \\uparrow_{\\phantom{0}}\n",
       " \\\\ \n",
       " \\begin{pmatrix}{x_1}&-{x_0}&0\\\\ \n",
       "{x_2}&0&-{x_0}\\\\ \n",
       "0&{x_2}&-{x_1}\\end{pmatrix}&&\\begin{pmatrix}{x_0}\\\\ \n",
       "{x_1}\\\\ \n",
       "{x_2}\\end{pmatrix}\n",
       " \\\\ \n",
       " \\vert_{0} &&\\vert_{0} \n",
       " \\\\ \n",
       " {\\mathcal{O}_{0}}^{\\oplus 3}&-\\phantom{-}{\\begin{pmatrix}0&{\\mathcal{O}_{0}}&0\\\\ \n",
       "0&0&{\\mathcal{O}_{0}}\\\\ \n",
       "0&0&0\\end{pmatrix}}\\phantom{-}\\rightarrow&{\\mathcal{O}_{0}}^{\\oplus 3}\n",
       " \\\\ \n",
       " \\end{array}$$"
      ]
     },
     "metadata": {},
     "output_type": "display_data"
    }
   ],
   "source": [
    "Show( UnderlyingCell( rel( 𝐀_ℰ.\"m1_2_1\" ) ) )"
   ]
  },
  {
   "cell_type": "code",
   "execution_count": 55,
   "id": "3e294fd2",
   "metadata": {},
   "outputs": [
    {
     "data": {
      "text/plain": [
       "GAP: TriangulatedSubcategory( A strong exceptional sequence in Homotopy category by cochains( Additive closure( Algebroid( Q, FreeCategory( RightQuiver( \"q_𝓞(𝓞₀,𝓞₁,𝓞₂)[x₀:𝓞₀->𝓞₁,x₁:𝓞₀->𝓞₁,x₂:𝓞₀->𝓞₁,y₀:𝓞₁->𝓞₂,y₁:𝓞₁->𝓞₂,y₂:𝓞₁->𝓞₂]\" ) ) ) / relations ) ) )"
      ]
     },
     "execution_count": 55,
     "metadata": {},
     "output_type": "execute_result"
    }
   ],
   "source": [
    "𝐓_ℰ = TriangulatedSubcategory( ℰ )"
   ]
  },
  {
   "cell_type": "code",
   "execution_count": 56,
   "id": "b0a7f999",
   "metadata": {},
   "outputs": [
    {
     "data": {
      "text/plain": [
       "GAP: <An object in Homotopy category by cochains( Additive closure( Algebroid( Q, FreeCategory( RightQuiver( \"q_𝓞(𝓞₀,𝓞₁,𝓞₂)[x₀:𝓞₀->𝓞₁,x₁:𝓞₀->𝓞₁,x₂:𝓞₀->𝓞₁,y₀:𝓞₁->𝓞₂,y₁:𝓞₁->𝓞₂,y₂:𝓞₁->𝓞₂]\" ) ) ) / relations ) ) supported in the window [0 ⋅⋅⋅ 0]>"
      ]
     },
     "execution_count": 56,
     "metadata": {},
     "output_type": "execute_result"
    }
   ],
   "source": [
    "𝓞₀ = CreateComplex( 𝒦ᵇ𝐀_𝓞add, 𝐀_𝓞.\"𝓞₀\" / 𝐀_𝓞add, 0 )"
   ]
  },
  {
   "cell_type": "code",
   "execution_count": 57,
   "id": "2d61f395",
   "metadata": {},
   "outputs": [
    {
     "data": {
      "text/plain": [
       "GAP: <An object in Homotopy category by cochains( Additive closure( Algebroid( Q, FreeCategory( RightQuiver( \"q_𝓞(𝓞₀,𝓞₁,𝓞₂)[x₀:𝓞₀->𝓞₁,x₁:𝓞₀->𝓞₁,x₂:𝓞₀->𝓞₁,y₀:𝓞₁->𝓞₂,y₁:𝓞₁->𝓞₂,y₂:𝓞₁->𝓞₂]\" ) ) ) / relations ) ) supported in the window [0 ⋅⋅⋅ 0]>"
      ]
     },
     "execution_count": 57,
     "metadata": {},
     "output_type": "execute_result"
    }
   ],
   "source": [
    "𝓞₁ = CreateComplex( 𝒦ᵇ𝐀_𝓞add, 𝐀_𝓞.\"𝓞₁\" / 𝐀_𝓞add, 0 )"
   ]
  },
  {
   "cell_type": "code",
   "execution_count": 58,
   "id": "ce3b4dc1",
   "metadata": {},
   "outputs": [
    {
     "data": {
      "text/plain": [
       "GAP: <An object in Homotopy category by cochains( Additive closure( Algebroid( Q, FreeCategory( RightQuiver( \"q_𝓞(𝓞₀,𝓞₁,𝓞₂)[x₀:𝓞₀->𝓞₁,x₁:𝓞₀->𝓞₁,x₂:𝓞₀->𝓞₁,y₀:𝓞₁->𝓞₂,y₁:𝓞₁->𝓞₂,y₂:𝓞₁->𝓞₂]\" ) ) ) / relations ) ) supported in the window [0 ⋅⋅⋅ 0]>"
      ]
     },
     "execution_count": 58,
     "metadata": {},
     "output_type": "execute_result"
    }
   ],
   "source": [
    "𝓞₂ = CreateComplex( 𝒦ᵇ𝐀_𝓞add, 𝐀_𝓞.\"𝓞₂\" / 𝐀_𝓞add, 0 )"
   ]
  },
  {
   "cell_type": "code",
   "execution_count": 59,
   "id": "fcf3d4ad",
   "metadata": {},
   "outputs": [
    {
     "data": {
      "text/plain": [
       "true"
      ]
     },
     "execution_count": 59,
     "metadata": {},
     "output_type": "execute_result"
    }
   ],
   "source": [
    "IsWellDefined( AsSubcategoryCell( 𝐓_ℰ, 𝓞₀ ) )"
   ]
  },
  {
   "cell_type": "code",
   "execution_count": 60,
   "id": "2dc78c1a",
   "metadata": {},
   "outputs": [
    {
     "data": {
      "text/plain": [
       "true"
      ]
     },
     "execution_count": 60,
     "metadata": {},
     "output_type": "execute_result"
    }
   ],
   "source": [
    "IsWellDefined( AsSubcategoryCell( 𝐓_ℰ, 𝓞₁ ) )"
   ]
  },
  {
   "cell_type": "code",
   "execution_count": 61,
   "id": "84dfe316",
   "metadata": {},
   "outputs": [
    {
     "data": {
      "text/plain": [
       "true"
      ]
     },
     "execution_count": 61,
     "metadata": {},
     "output_type": "execute_result"
    }
   ],
   "source": [
    "IsWellDefined( AsSubcategoryCell( 𝐓_ℰ, 𝓞₂ ) )"
   ]
  },
  {
   "cell_type": "code",
   "execution_count": 62,
   "id": "541b04eb",
   "metadata": {},
   "outputs": [
    {
     "data": {
      "text/plain": [
       "GAP: Convolution functor"
      ]
     },
     "execution_count": 62,
     "metadata": {},
     "output_type": "execute_result"
    }
   ],
   "source": [
    "𝔽 = ConvolutionFunctor( ℰ )"
   ]
  },
  {
   "cell_type": "code",
   "execution_count": 63,
   "id": "af0c9d8a",
   "metadata": {},
   "outputs": [
    {
     "name": "stdout",
     "output_type": "stream",
     "text": [
      "Convolution functor:\n",
      "\n",
      "Homotopy category by cochains( Additive closure( A strong exceptional sequence in Homotopy category by cochains( Additive closure( Algebroid( Q, FreeCategory( RightQuiver( \"q_𝓞(𝓞₀,𝓞₁,𝓞₂)[x₀:𝓞₀->𝓞₁,x₁:𝓞₀->𝓞₁,x₂:𝓞₀->𝓞₁,y₀:𝓞₁->𝓞₂,y₁:𝓞₁->𝓞₂,y₂:𝓞₁->𝓞₂]\" ) ) ) / relations ) ) ) )\n",
      "  |\n",
      "  ⋎\n",
      "Homotopy category by cochains( Additive closure( Algebroid( Q, FreeCategory( RightQuiver( \"q_𝓞(𝓞₀,𝓞₁,𝓞₂)[x₀:𝓞₀->𝓞₁,x₁:𝓞₀->𝓞₁,x₂:𝓞₀->𝓞₁,y₀:𝓞₁->𝓞₂,y₁:𝓞₁->𝓞₂,y₂:𝓞₁->𝓞₂]\" ) ) ) / relations ) )\n"
     ]
    }
   ],
   "source": [
    "Display( 𝔽 )"
   ]
  },
  {
   "cell_type": "code",
   "execution_count": 64,
   "id": "0892702c",
   "metadata": {},
   "outputs": [
    {
     "data": {
      "text/plain": [
       "GAP: Replacement functor"
      ]
     },
     "execution_count": 64,
     "metadata": {},
     "output_type": "execute_result"
    }
   ],
   "source": [
    "𝔾 = ReplacementFunctor( ℰ )"
   ]
  },
  {
   "cell_type": "code",
   "execution_count": 65,
   "id": "82fdf2c8",
   "metadata": {},
   "outputs": [
    {
     "name": "stdout",
     "output_type": "stream",
     "text": [
      "Replacement functor:\n",
      "\n",
      "Homotopy category by cochains( Additive closure( Algebroid( Q, FreeCategory( RightQuiver( \"q_𝓞(𝓞₀,𝓞₁,𝓞₂)[x₀:𝓞₀->𝓞₁,x₁:𝓞₀->𝓞₁,x₂:𝓞₀->𝓞₁,y₀:𝓞₁->𝓞₂,y₁:𝓞₁->𝓞₂,y₂:𝓞₁->𝓞₂]\" ) ) ) / relations ) )\n",
      "  |\n",
      "  ⋎\n",
      "Homotopy category by cochains( Additive closure( A strong exceptional sequence in Homotopy category by cochains( Additive closure( Algebroid( Q, FreeCategory( RightQuiver( \"q_𝓞(𝓞₀,𝓞₁,𝓞₂)[x₀:𝓞₀->𝓞₁,x₁:𝓞₀->𝓞₁,x₂:𝓞₀->𝓞₁,y₀:𝓞₁->𝓞₂,y₁:𝓞₁->𝓞₂,y₂:𝓞₁->𝓞₂]\" ) ) ) / relations ) ) ) )\n"
     ]
    }
   ],
   "source": [
    "Display( 𝔾 )"
   ]
  },
  {
   "cell_type": "code",
   "execution_count": 66,
   "id": "171fff81",
   "metadata": {},
   "outputs": [
    {
     "name": "stdout",
     "output_type": "stream",
     "text": [
      "Extension of isomorphism: abstraction algebroid ⟶ strong exceptional sequence to additive closures:\n",
      "\n",
      "Additive closure( Algebroid( Q, FreeCategory( RightQuiver( \"q(E1,E2,E3)[m1_2_1:E1->E2,m1_2_2:E1->E2,m1_2_3:E1->E2,m2_3_1:E2->E3,m2_3_2:E2->E3,m2_3_3:E2->E3]\" ) ) ) / relations )\n",
      "  |\n",
      "  ⋎\n",
      "Additive closure( A strong exceptional sequence in Homotopy category by cochains( Additive closure( Algebroid( Q, FreeCategory( RightQuiver( \"q_𝓞(𝓞₀,𝓞₁,𝓞₂)[x₀:𝓞₀->𝓞₁,x₁:𝓞₀->𝓞₁,x₂:𝓞₀->𝓞₁,y₀:𝓞₁->𝓞₂,y₁:𝓞₁->𝓞₂,y₂:𝓞₁->𝓞₂]\" ) ) ) / relations ) ) )\n"
     ]
    }
   ],
   "source": [
    "ℝ = ExtendFunctorToAdditiveClosures( rel ); Display( ℝ )"
   ]
  },
  {
   "cell_type": "code",
   "execution_count": 67,
   "id": "f2357b69",
   "metadata": {},
   "outputs": [
    {
     "name": "stdout",
     "output_type": "stream",
     "text": [
      "Extension of ( Extension of isomorphism: abstraction algebroid ⟶ strong exceptional sequence to additive closures ) to homotopy categories by cochains:\n",
      "\n",
      "Homotopy category by cochains( Additive closure( Algebroid( Q, FreeCategory( RightQuiver( \"q(E1,E2,E3)[m1_2_1:E1->E2,m1_2_2:E1->E2,m1_2_3:E1->E2,m2_3_1:E2->E3,m2_3_2:E2->E3,m2_3_3:E2->E3]\" ) ) ) / relations ) )\n",
      "  |\n",
      "  ⋎\n",
      "Homotopy category by cochains( Additive closure( A strong exceptional sequence in Homotopy category by cochains( Additive closure( Algebroid( Q, FreeCategory( RightQuiver( \"q_𝓞(𝓞₀,𝓞₁,𝓞₂)[x₀:𝓞₀->𝓞₁,x₁:𝓞₀->𝓞₁,x₂:𝓞₀->𝓞₁,y₀:𝓞₁->𝓞₂,y₁:𝓞₁->𝓞₂,y₂:𝓞₁->𝓞₂]\" ) ) ) / relations ) ) ) )\n"
     ]
    }
   ],
   "source": [
    "ℝ = ExtendFunctorToHomotopyCategoriesByCochains( ℝ ); Display( ℝ )"
   ]
  },
  {
   "cell_type": "code",
   "execution_count": 68,
   "id": "41c0f286",
   "metadata": {},
   "outputs": [
    {
     "data": {
      "text/plain": [
       "GAP: <An object in Homotopy category by cochains( Additive closure( Algebroid( Q, FreeCategory( RightQuiver( \"q(E1,E2,E3)[m1_2_1:E1->E2,m1_2_2:E1->E2,m1_2_3:E1->E2,m2_3_1:E2->E3,m2_3_2:E2->E3,m2_3_3:E2->E3]\" ) ) ) / relations ) ) supported in the window [-3 ⋅⋅⋅ 4]>"
      ]
     },
     "execution_count": 68,
     "metadata": {},
     "output_type": "execute_result"
    }
   ],
   "source": [
    "C = RandomObject( SourceOfFunctor( ℝ ), 7 )"
   ]
  },
  {
   "cell_type": "code",
   "execution_count": 69,
   "id": "a37fe16e",
   "metadata": {},
   "outputs": [
    {
     "data": {
      "text/latex": [
       "$$\\begin{array}{c}\n",
       "0\n",
       " \\\\\n",
       "\\uparrow_{\\phantom{3}} \n",
       "\\\\\n",
       " \\begin{pmatrix}\\\\\\end{pmatrix}\n",
       "\\\\\n",
       " {\\vert_{3}}\n",
       " \n",
       "\\\\\n",
       "{E_{1}}\\\\\n",
       "\\uparrow_{\\phantom{2}} \n",
       "\\\\\n",
       " \\begin{pmatrix}\\\\\\end{pmatrix}\n",
       "\\\\\n",
       " {\\vert_{2}}\n",
       " \n",
       "\\\\\n",
       "0\\\\\n",
       "\\uparrow_{\\phantom{1}} \n",
       "\\\\\n",
       " \\begin{pmatrix}\\\\\\end{pmatrix}\n",
       "\\\\\n",
       " {\\vert_{1}}\n",
       " \n",
       "\\\\\n",
       "{E_{3}}^{\\oplus 2}\\\\\n",
       "\\uparrow_{\\phantom{0}} \n",
       "\\\\\n",
       " \\begin{pmatrix}0&0\\end{pmatrix}\n",
       "\\\\\n",
       " {\\vert_{0}}\n",
       " \n",
       "\\\\\n",
       "{E_{3}}\\\\\n",
       "\\uparrow_{\\phantom{-1}} \n",
       "\\\\\n",
       " \\begin{pmatrix}0\\\\ \n",
       "-{m_{1,2}^{1}m_{2,3}^{3}}-2{m_{1,2}^{1}m_{2,3}^{2}}\\\\ \n",
       "{m_{1,2}^{1}m_{2,3}^{3}}+2{m_{1,2}^{1}m_{2,3}^{2}}\\end{pmatrix}\n",
       "\\\\\n",
       " {\\vert_{-1}}\n",
       " \n",
       "\\\\\n",
       "{E_{3}}\\oplus{E_{1}}^{\\oplus 2}\\\\\n",
       "\\uparrow_{\\phantom{-2}} \n",
       "\\\\\n",
       " \\begin{pmatrix}{m_{1,2}^{2}m_{2,3}^{3}}+2{m_{1,2}^{1}m_{2,3}^{2}}&3{E_{1}}&3{E_{1}}\\\\ \n",
       "2{m_{1,2}^{2}m_{2,3}^{3}}+{m_{1,2}^{1}m_{2,3}^{2}}&3{E_{1}}&3{E_{1}}\\end{pmatrix}\n",
       "\\\\\n",
       " {\\vert_{-2}}\n",
       " \n",
       "\\\\\n",
       "{E_{1}}^{\\oplus 2}\\\\\n",
       "\\uparrow_{\\phantom{-3}} \n",
       "\\\\\n",
       " \\begin{pmatrix}0&0\\\\ \n",
       "0&0\\end{pmatrix}\n",
       "\\\\\n",
       " {\\vert_{-3}}\n",
       " \n",
       "\\\\\n",
       "{E_{2}}\\oplus{E_{3}}\\end{array}$$"
      ]
     },
     "metadata": {},
     "output_type": "display_data"
    }
   ],
   "source": [
    "Show( C )"
   ]
  },
  {
   "cell_type": "code",
   "execution_count": 70,
   "id": "4d725bc1",
   "metadata": {},
   "outputs": [
    {
     "data": {
      "text/plain": [
       "GAP: <An object in Homotopy category by cochains( Additive closure( Algebroid( Q, FreeCategory( RightQuiver( \"q_𝓞(𝓞₀,𝓞₁,𝓞₂)[x₀:𝓞₀->𝓞₁,x₁:𝓞₀->𝓞₁,x₂:𝓞₀->𝓞₁,y₀:𝓞₁->𝓞₂,y₁:𝓞₁->𝓞₂,y₂:𝓞₁->𝓞₂]\" ) ) ) / relations ) ) supported in the window [-3 ⋅⋅⋅ 5]>"
      ]
     },
     "execution_count": 70,
     "metadata": {},
     "output_type": "execute_result"
    }
   ],
   "source": [
    "𝔽ℝ_C = ApplyFunctor( 𝔽, ApplyFunctor( ℝ, C ) )"
   ]
  },
  {
   "cell_type": "code",
   "execution_count": 71,
   "id": "5b49b1a7",
   "metadata": {},
   "outputs": [
    {
     "data": {
      "text/latex": [
       "$$\\begin{array}{c}\n",
       "{\\mathcal{O}_{2}}\n",
       " \\\\\n",
       "\\uparrow_{\\phantom{4}} \n",
       "\\\\\n",
       " \\begin{pmatrix}-{y_0}\\\\ \n",
       "-{y_1}\\\\ \n",
       "-{y_2}\\end{pmatrix}\n",
       "\\\\\n",
       " {\\vert_{4}}\n",
       " \n",
       "\\\\\n",
       "{\\mathcal{O}_{1}}^{\\oplus 3}\\\\\n",
       "\\uparrow_{\\phantom{3}} \n",
       "\\\\\n",
       " \\begin{pmatrix}-{x_1}&{x_0}&0\\\\ \n",
       "-{x_2}&0&{x_0}\\\\ \n",
       "0&-{x_2}&{x_1}\\end{pmatrix}\n",
       "\\\\\n",
       " {\\vert_{3}}\n",
       " \n",
       "\\\\\n",
       "{\\mathcal{O}_{0}}^{\\oplus 3}\\\\\n",
       "\\uparrow_{\\phantom{2}} \n",
       "\\\\\n",
       " \\begin{pmatrix}\\\\\\end{pmatrix}\n",
       "\\\\\n",
       " {\\vert_{2}}\n",
       " \n",
       "\\\\\n",
       "0\\\\\n",
       "\\uparrow_{\\phantom{1}} \n",
       "\\\\\n",
       " \\begin{pmatrix}\\\\\\end{pmatrix}\n",
       "\\\\\n",
       " {\\vert_{1}}\n",
       " \n",
       "\\\\\n",
       "{\\mathcal{O}_{2}}^{\\oplus 2}\\oplus{\\mathcal{O}_{0}}^{\\oplus 2}\\\\\n",
       "\\uparrow_{\\phantom{0}} \n",
       "\\\\\n",
       " \\begin{pmatrix}-3{\\mathcal{O}_{2}}&-3{\\mathcal{O}_{2}}&0&0\\\\ \n",
       "-3{\\mathcal{O}_{2}}&-3{\\mathcal{O}_{2}}&0&0\\\\ \n",
       "-{y_0}&0&0&0\\\\ \n",
       "-{y_1}&0&0&0\\\\ \n",
       "-{y_2}&0&0&0\\\\ \n",
       "0&-{y_0}&0&0\\\\ \n",
       "0&-{y_1}&0&0\\\\ \n",
       "0&-{y_2}&0&0\\\\ \n",
       "0&0&0&0\\end{pmatrix}\n",
       "\\\\\n",
       " {\\vert_{0}}\n",
       " \n",
       "\\\\\n",
       "{\\mathcal{O}_{2}}^{\\oplus 2}\\oplus{\\mathcal{O}_{1}}^{\\oplus 6}\\oplus{\\mathcal{O}_{0}}\\\\\n",
       "\\uparrow_{\\phantom{-1}} \n",
       "\\\\\n",
       " \\begin{pmatrix}{y_0}&0&-3{\\mathcal{O}_{1}}&0&0&-3{\\mathcal{O}_{1}}&0&0&0\\\\ \n",
       "{y_1}&0&0&-3{\\mathcal{O}_{1}}&0&0&-3{\\mathcal{O}_{1}}&0&0\\\\ \n",
       "{y_2}&0&0&0&-3{\\mathcal{O}_{1}}&0&0&-3{\\mathcal{O}_{1}}&0\\\\ \n",
       "0&{y_0}&-3{\\mathcal{O}_{1}}&0&0&-3{\\mathcal{O}_{1}}&0&0&0\\\\ \n",
       "0&{y_1}&0&-3{\\mathcal{O}_{1}}&0&0&-3{\\mathcal{O}_{1}}&0&0\\\\ \n",
       "0&{y_2}&0&0&-3{\\mathcal{O}_{1}}&0&0&-3{\\mathcal{O}_{1}}&0\\\\ \n",
       "0&0&0&0&0&0&0&0&0\\\\ \n",
       "0&0&-{x_1}&{x_0}&0&0&0&0&-2{\\mathcal{O}_{0}}\\\\ \n",
       "0&0&-{x_2}&0&{x_0}&0&0&0&-{\\mathcal{O}_{0}}\\\\ \n",
       "0&0&0&-{x_2}&{x_1}&0&0&0&0\\\\ \n",
       "0&0&0&0&0&-{x_1}&{x_0}&0&2{\\mathcal{O}_{0}}\\\\ \n",
       "0&0&0&0&0&-{x_2}&0&{x_0}&{\\mathcal{O}_{0}}\\\\ \n",
       "0&0&0&0&0&0&-{x_2}&{x_1}&0\\end{pmatrix}\n",
       "\\\\\n",
       " {\\vert_{-1}}\n",
       " \n",
       "\\\\\n",
       "{\\mathcal{O}_{1}}^{\\oplus 6}\\oplus{\\mathcal{O}_{0}}^{\\oplus 7}\\\\\n",
       "\\uparrow_{\\phantom{-2}} \n",
       "\\\\\n",
       " \\begin{pmatrix}0&0&0&0&0&0&0&0&0&0&0&0&0\\\\ \n",
       "{x_1}&-{x_0}&0&0&0&0&-2{\\mathcal{O}_{0}}&-3{\\mathcal{O}_{0}}&0&0&-3{\\mathcal{O}_{0}}&0&0\\\\ \n",
       "{x_2}&0&-{x_0}&0&0&0&0&0&-3{\\mathcal{O}_{0}}&0&0&-3{\\mathcal{O}_{0}}&0\\\\ \n",
       "0&{x_2}&-{x_1}&0&0&0&-{\\mathcal{O}_{0}}&0&0&-3{\\mathcal{O}_{0}}&0&0&-3{\\mathcal{O}_{0}}\\\\ \n",
       "0&0&0&{x_1}&-{x_0}&0&-{\\mathcal{O}_{0}}&-3{\\mathcal{O}_{0}}&0&0&-3{\\mathcal{O}_{0}}&0&0\\\\ \n",
       "0&0&0&{x_2}&0&-{x_0}&0&0&-3{\\mathcal{O}_{0}}&0&0&-3{\\mathcal{O}_{0}}&0\\\\ \n",
       "0&0&0&0&{x_2}&-{x_1}&-2{\\mathcal{O}_{0}}&0&0&-3{\\mathcal{O}_{0}}&0&0&-3{\\mathcal{O}_{0}}\\end{pmatrix}\n",
       "\\\\\n",
       " {\\vert_{-2}}\n",
       " \n",
       "\\\\\n",
       "{\\mathcal{O}_{1}}\\oplus{\\mathcal{O}_{0}}^{\\oplus 6}\\\\\n",
       "\\uparrow_{\\phantom{-3}} \n",
       "\\\\\n",
       " \\begin{pmatrix}-{x_0}&0&0&0&0&0&0\\\\ \n",
       "-{x_1}&0&0&0&0&0&0\\\\ \n",
       "-{x_2}&0&0&0&0&0&0\\\\ \n",
       "0&0&0&0&0&0&0\\end{pmatrix}\n",
       "\\\\\n",
       " {\\vert_{-3}}\n",
       " \n",
       "\\\\\n",
       "{\\mathcal{O}_{0}}^{\\oplus 4}\\end{array}$$"
      ]
     },
     "metadata": {},
     "output_type": "display_data"
    }
   ],
   "source": [
    "Show( 𝔽ℝ_C )"
   ]
  },
  {
   "cell_type": "code",
   "execution_count": 72,
   "id": "e4487d64",
   "metadata": {},
   "outputs": [
    {
     "data": {
      "text/plain": [
       "GAP: <An object in Homotopy category by cochains( Additive closure( A strong exceptional sequence in Homotopy category by cochains( Additive closure( Algebroid( Q, FreeCategory( RightQuiver( \"q_𝓞(𝓞₀,𝓞₁,𝓞₂)[x₀:𝓞₀->𝓞₁,x₁:𝓞₀->𝓞₁,x₂:𝓞₀->𝓞₁,y₀:𝓞₁->𝓞₂,y₁:𝓞₁->𝓞₂,y₂:𝓞₁->𝓞₂]\" ) ) ) / relations ) ) ) ) supported in the window [-2 ⋅⋅⋅ 0]>"
      ]
     },
     "execution_count": 72,
     "metadata": {},
     "output_type": "execute_result"
    }
   ],
   "source": [
    "𝔾_𝓞₀ = ApplyFunctor( 𝔾, 𝓞₀ )\n",
    "𝔾_𝓞₁ = ApplyFunctor( 𝔾, 𝓞₁ )\n",
    "𝔾_𝓞₂ = ApplyFunctor( 𝔾, 𝓞₂ )"
   ]
  },
  {
   "cell_type": "code",
   "execution_count": 73,
   "id": "732b2e25",
   "metadata": {},
   "outputs": [
    {
     "name": "stdout",
     "output_type": "stream",
     "text": [
      "Extension of isomorphism: strong exceptional sequence ⟶ abstraction algebroid to additive closures:\n",
      "\n",
      "Additive closure( A strong exceptional sequence in Homotopy category by cochains( Additive closure( Algebroid( Q, FreeCategory( RightQuiver( \"q_𝓞(𝓞₀,𝓞₁,𝓞₂)[x₀:𝓞₀->𝓞₁,x₁:𝓞₀->𝓞₁,x₂:𝓞₀->𝓞₁,y₀:𝓞₁->𝓞₂,y₁:𝓞₁->𝓞₂,y₂:𝓞₁->𝓞₂]\" ) ) ) / relations ) ) )\n",
      "  |\n",
      "  ⋎\n",
      "Additive closure( Algebroid( Q, FreeCategory( RightQuiver( \"q(E1,E2,E3)[m1_2_1:E1->E2,m1_2_2:E1->E2,m1_2_3:E1->E2,m2_3_1:E2->E3,m2_3_2:E2->E3,m2_3_3:E2->E3]\" ) ) ) / relations )\n"
     ]
    }
   ],
   "source": [
    "𝔸 = ExtendFunctorToAdditiveClosures( abs ); Display( 𝔸 )"
   ]
  },
  {
   "cell_type": "code",
   "execution_count": 74,
   "id": "81fc32f8",
   "metadata": {},
   "outputs": [
    {
     "name": "stdout",
     "output_type": "stream",
     "text": [
      "Extension of ( Extension of isomorphism: strong exceptional sequence ⟶ abstraction algebroid to additive closures ) to homotopy categories by cochains:\n",
      "\n",
      "Homotopy category by cochains( Additive closure( A strong exceptional sequence in Homotopy category by cochains( Additive closure( Algebroid( Q, FreeCategory( RightQuiver( \"q_𝓞(𝓞₀,𝓞₁,𝓞₂)[x₀:𝓞₀->𝓞₁,x₁:𝓞₀->𝓞₁,x₂:𝓞₀->𝓞₁,y₀:𝓞₁->𝓞₂,y₁:𝓞₁->𝓞₂,y₂:𝓞₁->𝓞₂]\" ) ) ) / relations ) ) ) )\n",
      "  |\n",
      "  ⋎\n",
      "Homotopy category by cochains( Additive closure( Algebroid( Q, FreeCategory( RightQuiver( \"q(E1,E2,E3)[m1_2_1:E1->E2,m1_2_2:E1->E2,m1_2_3:E1->E2,m2_3_1:E2->E3,m2_3_2:E2->E3,m2_3_3:E2->E3]\" ) ) ) / relations ) )\n"
     ]
    }
   ],
   "source": [
    "𝔸 = ExtendFunctorToHomotopyCategoriesByCochains( 𝔸 ); Display( 𝔸 )"
   ]
  },
  {
   "cell_type": "code",
   "execution_count": 75,
   "id": "f0237858",
   "metadata": {},
   "outputs": [
    {
     "data": {
      "text/latex": [
       "$$\\begin{array}{c}\n",
       "{E_{3}}\n",
       " \\end{array}$$"
      ]
     },
     "metadata": {},
     "output_type": "display_data"
    }
   ],
   "source": [
    "Show( ApplyFunctor( 𝔸, 𝔾_𝓞₀ ) )"
   ]
  },
  {
   "cell_type": "code",
   "execution_count": 76,
   "id": "966be302",
   "metadata": {},
   "outputs": [
    {
     "data": {
      "text/latex": [
       "$$\\begin{array}{c}\n",
       "{E_{3}}^{\\oplus 3}\n",
       " \\\\\n",
       "\\uparrow_{\\phantom{-1}} \n",
       "\\\\\n",
       " \\begin{pmatrix}-{m_{2,3}^{1}}&-{m_{2,3}^{2}}&-{m_{2,3}^{3}}\\end{pmatrix}\n",
       "\\\\\n",
       " {\\vert_{-1}}\n",
       " \n",
       "\\\\\n",
       "{E_{2}}\\end{array}$$"
      ]
     },
     "metadata": {},
     "output_type": "display_data"
    }
   ],
   "source": [
    "Show( ApplyFunctor( 𝔸, 𝔾_𝓞₁ ) )"
   ]
  },
  {
   "cell_type": "code",
   "execution_count": 77,
   "id": "d5b0be3f",
   "metadata": {},
   "outputs": [
    {
     "data": {
      "text/latex": [
       "$$\\begin{array}{c}\n",
       "{E_{3}}^{\\oplus 6}\n",
       " \\\\\n",
       "\\uparrow_{\\phantom{-1}} \n",
       "\\\\\n",
       " \\begin{pmatrix}-{m_{2,3}^{1}}&-{m_{2,3}^{2}}&-{m_{2,3}^{3}}&0&0&0\\\\ \n",
       "0&-{m_{2,3}^{1}}&0&-{m_{2,3}^{2}}&-{m_{2,3}^{3}}&0\\\\ \n",
       "0&0&-{m_{2,3}^{1}}&0&-{m_{2,3}^{2}}&-{m_{2,3}^{3}}\\end{pmatrix}\n",
       "\\\\\n",
       " {\\vert_{-1}}\n",
       " \n",
       "\\\\\n",
       "{E_{2}}^{\\oplus 3}\\\\\n",
       "\\uparrow_{\\phantom{-2}} \n",
       "\\\\\n",
       " \\begin{pmatrix}-{m_{1,2}^{1}}&-{m_{1,2}^{2}}&-{m_{1,2}^{3}}\\end{pmatrix}\n",
       "\\\\\n",
       " {\\vert_{-2}}\n",
       " \n",
       "\\\\\n",
       "{E_{1}}\\end{array}$$"
      ]
     },
     "metadata": {},
     "output_type": "display_data"
    }
   ],
   "source": [
    "Show( ApplyFunctor( 𝔸, 𝔾_𝓞₂ ) )"
   ]
  },
  {
   "cell_type": "code",
   "execution_count": 78,
   "id": "ebb1c29d",
   "metadata": {},
   "outputs": [
    {
     "data": {
      "text/plain": [
       "GAP: Counit ϵ : F∘G ⟹ Id of the adjuction F ⊣ G"
      ]
     },
     "execution_count": 78,
     "metadata": {},
     "output_type": "execute_result"
    }
   ],
   "source": [
    "ϵ = CounitOfConvolutionReplacementAdjunction( ℰ )"
   ]
  },
  {
   "cell_type": "code",
   "execution_count": 79,
   "id": "0a9f8b87",
   "metadata": {},
   "outputs": [
    {
     "data": {
      "text/plain": [
       "GAP: <A morphism in Homotopy category by cochains( Additive closure( Algebroid( Q, FreeCategory( RightQuiver( \"q_𝓞(𝓞₀,𝓞₁,𝓞₂)[x₀:𝓞₀->𝓞₁,x₁:𝓞₀->𝓞₁,x₂:𝓞₀->𝓞₁,y₀:𝓞₁->𝓞₂,y₁:𝓞₁->𝓞₂,y₂:𝓞₁->𝓞₂]\" ) ) ) / relations ) ) supported in the window [0 ⋅⋅⋅ 0]>"
      ]
     },
     "execution_count": 79,
     "metadata": {},
     "output_type": "execute_result"
    }
   ],
   "source": [
    "ϵ_𝓞₂ = ApplyNaturalTransformation( ϵ, 𝓞₂ )"
   ]
  },
  {
   "cell_type": "code",
   "execution_count": 80,
   "id": "d57eb4c8",
   "metadata": {
    "scrolled": true
   },
   "outputs": [
    {
     "data": {
      "text/latex": [
       "$$\\begin{array}{ccc}\n",
       " 0&-\\phantom{-}{\\begin{pmatrix}\\\\\\end{pmatrix}}\\phantom{-}\\rightarrow&0\n",
       " \\\\ \n",
       " \\uparrow_{\\phantom{0}}&& \n",
       " \\uparrow_{\\phantom{0}}\n",
       " \\\\ \n",
       " \\begin{pmatrix}\\\\\\end{pmatrix}&&\\begin{pmatrix}\\\\\\end{pmatrix}\n",
       " \\\\ \n",
       " \\vert_{0} &&\\vert_{0} \n",
       " \\\\ \n",
       " {\\mathcal{O}_{2}}\\oplus{\\mathcal{O}_{1}}^{\\oplus 3}\\oplus{\\mathcal{O}_{0}}^{\\oplus 6}&-\\phantom{-}{\\begin{pmatrix}{\\mathcal{O}_{2}}\\\\ \n",
       "-{y_0}\\\\ \n",
       "-{y_1}\\\\ \n",
       "-{y_2}\\\\ \n",
       "{x_0y_0}\\\\ \n",
       "{x_0y_1}\\\\ \n",
       "{x_0y_2}\\\\ \n",
       "{x_1y_1}\\\\ \n",
       "{x_1y_2}\\\\ \n",
       "{x_2y_2}\\end{pmatrix}}\\phantom{-}\\rightarrow&{\\mathcal{O}_{2}}\n",
       " \\\\ \n",
       "  \\uparrow_{\\phantom{-1}}&& \n",
       " \\uparrow_{\\phantom{-1}}\n",
       " \\\\ \n",
       " \\begin{pmatrix}{y_0}&{\\mathcal{O}_{1}}&0&0&0&0&0&0&0&0\\\\ \n",
       "{y_1}&0&{\\mathcal{O}_{1}}&0&0&0&0&0&0&0\\\\ \n",
       "{y_2}&0&0&{\\mathcal{O}_{1}}&0&0&0&0&0&0\\\\ \n",
       "0&-{x_0}&0&0&-{\\mathcal{O}_{0}}&0&0&0&0&0\\\\ \n",
       "0&-{x_1}&0&0&0&-{\\mathcal{O}_{0}}&0&0&0&0\\\\ \n",
       "0&-{x_2}&0&0&0&0&-{\\mathcal{O}_{0}}&0&0&0\\\\ \n",
       "0&0&-{x_0}&0&0&-{\\mathcal{O}_{0}}&0&0&0&0\\\\ \n",
       "0&0&-{x_1}&0&0&0&0&-{\\mathcal{O}_{0}}&0&0\\\\ \n",
       "0&0&-{x_2}&0&0&0&0&0&-{\\mathcal{O}_{0}}&0\\\\ \n",
       "0&0&0&-{x_0}&0&0&-{\\mathcal{O}_{0}}&0&0&0\\\\ \n",
       "0&0&0&-{x_1}&0&0&0&0&-{\\mathcal{O}_{0}}&0\\\\ \n",
       "0&0&0&-{x_2}&0&0&0&0&0&-{\\mathcal{O}_{0}}\\end{pmatrix}&&\\begin{pmatrix}\\\\\\end{pmatrix}\n",
       " \\\\ \n",
       " \\vert_{-1} &&\\vert_{-1} \n",
       " \\\\ \n",
       " {\\mathcal{O}_{1}}^{\\oplus 3}\\oplus{\\mathcal{O}_{0}}^{\\oplus 9}&-\\phantom{-}{\\begin{pmatrix}\\\\\\end{pmatrix}}\\phantom{-}\\rightarrow&0\n",
       " \\\\ \n",
       "  \\uparrow_{\\phantom{-2}}&& \n",
       " \\uparrow_{\\phantom{-2}}\n",
       " \\\\ \n",
       " \\begin{pmatrix}{x_1}&-{x_0}&0&0&{\\mathcal{O}_{0}}&0&-{\\mathcal{O}_{0}}&0&0&0&0&0\\\\ \n",
       "{x_2}&0&-{x_0}&0&0&{\\mathcal{O}_{0}}&0&0&0&-{\\mathcal{O}_{0}}&0&0\\\\ \n",
       "0&{x_2}&-{x_1}&0&0&0&0&0&{\\mathcal{O}_{0}}&0&-{\\mathcal{O}_{0}}&0\\end{pmatrix}&&\\begin{pmatrix}\\\\\\end{pmatrix}\n",
       " \\\\ \n",
       " \\vert_{-2} &&\\vert_{-2} \n",
       " \\\\ \n",
       " {\\mathcal{O}_{0}}^{\\oplus 3}&-\\phantom{-}{\\begin{pmatrix}\\\\\\end{pmatrix}}\\phantom{-}\\rightarrow&0\n",
       " \\\\ \n",
       " \\end{array}$$"
      ]
     },
     "metadata": {},
     "output_type": "display_data"
    }
   ],
   "source": [
    "Show( ϵ_𝓞₂ )"
   ]
  },
  {
   "cell_type": "code",
   "execution_count": 81,
   "id": "a31a279a",
   "metadata": {},
   "outputs": [
    {
     "data": {
      "text/plain": [
       "true"
      ]
     },
     "execution_count": 81,
     "metadata": {},
     "output_type": "execute_result"
    }
   ],
   "source": [
    "IsIsomorphism( ϵ_𝓞₂ )"
   ]
  },
  {
   "cell_type": "code",
   "execution_count": 82,
   "id": "be6be87e",
   "metadata": {},
   "outputs": [
    {
     "data": {
      "text/plain": [
       "GAP: <A morphism in Homotopy category by cochains( Additive closure( Algebroid( Q, FreeCategory( RightQuiver( \"q_𝓞(𝓞₀,𝓞₁,𝓞₂)[x₀:𝓞₀->𝓞₁,x₁:𝓞₀->𝓞₁,x₂:𝓞₀->𝓞₁,y₀:𝓞₁->𝓞₂,y₁:𝓞₁->𝓞₂,y₂:𝓞₁->𝓞₂]\" ) ) ) / relations ) ) supported in the window [0 ⋅⋅⋅ 0]>"
      ]
     },
     "execution_count": 82,
     "metadata": {},
     "output_type": "execute_result"
    }
   ],
   "source": [
    "InverseForMorphisms( ϵ_𝓞₂ )"
   ]
  },
  {
   "cell_type": "code",
   "execution_count": 83,
   "id": "eba9ae61",
   "metadata": {},
   "outputs": [
    {
     "data": {
      "text/latex": [
       "$$\\begin{array}{ccc}\n",
       " 0&-\\phantom{-}{\\begin{pmatrix}\\\\\\end{pmatrix}}\\phantom{-}\\rightarrow&0\n",
       " \\\\ \n",
       " \\uparrow_{\\phantom{0}}&& \n",
       " \\uparrow_{\\phantom{0}}\n",
       " \\\\ \n",
       " \\begin{pmatrix}\\\\\\end{pmatrix}&&\\begin{pmatrix}\\\\\\end{pmatrix}\n",
       " \\\\ \n",
       " \\vert_{0} &&\\vert_{0} \n",
       " \\\\ \n",
       " {\\mathcal{O}_{2}}&-\\phantom{-}{\\begin{pmatrix}{\\mathcal{O}_{2}}&0&0&0&0&0&0&0&0&0\\end{pmatrix}}\\phantom{-}\\rightarrow&{\\mathcal{O}_{2}}\\oplus{\\mathcal{O}_{1}}^{\\oplus 3}\\oplus{\\mathcal{O}_{0}}^{\\oplus 6}\n",
       " \\\\ \n",
       "  \\uparrow_{\\phantom{-1}}&& \n",
       " \\uparrow_{\\phantom{-1}}\n",
       " \\\\ \n",
       " \\begin{pmatrix}\\\\\\end{pmatrix}&&\\begin{pmatrix}{y_0}&{\\mathcal{O}_{1}}&0&0&0&0&0&0&0&0\\\\ \n",
       "{y_1}&0&{\\mathcal{O}_{1}}&0&0&0&0&0&0&0\\\\ \n",
       "{y_2}&0&0&{\\mathcal{O}_{1}}&0&0&0&0&0&0\\\\ \n",
       "0&-{x_0}&0&0&-{\\mathcal{O}_{0}}&0&0&0&0&0\\\\ \n",
       "0&-{x_1}&0&0&0&-{\\mathcal{O}_{0}}&0&0&0&0\\\\ \n",
       "0&-{x_2}&0&0&0&0&-{\\mathcal{O}_{0}}&0&0&0\\\\ \n",
       "0&0&-{x_0}&0&0&-{\\mathcal{O}_{0}}&0&0&0&0\\\\ \n",
       "0&0&-{x_1}&0&0&0&0&-{\\mathcal{O}_{0}}&0&0\\\\ \n",
       "0&0&-{x_2}&0&0&0&0&0&-{\\mathcal{O}_{0}}&0\\\\ \n",
       "0&0&0&-{x_0}&0&0&-{\\mathcal{O}_{0}}&0&0&0\\\\ \n",
       "0&0&0&-{x_1}&0&0&0&0&-{\\mathcal{O}_{0}}&0\\\\ \n",
       "0&0&0&-{x_2}&0&0&0&0&0&-{\\mathcal{O}_{0}}\\end{pmatrix}\n",
       " \\\\ \n",
       " \\vert_{-1} &&\\vert_{-1} \n",
       " \\\\ \n",
       " 0&-\\phantom{-}{\\begin{pmatrix}\\\\\\end{pmatrix}}\\phantom{-}\\rightarrow&{\\mathcal{O}_{1}}^{\\oplus 3}\\oplus{\\mathcal{O}_{0}}^{\\oplus 9}\n",
       " \\\\ \n",
       "  \\uparrow_{\\phantom{-2}}&& \n",
       " \\uparrow_{\\phantom{-2}}\n",
       " \\\\ \n",
       " \\begin{pmatrix}\\\\\\end{pmatrix}&&\\begin{pmatrix}{x_1}&-{x_0}&0&0&{\\mathcal{O}_{0}}&0&-{\\mathcal{O}_{0}}&0&0&0&0&0\\\\ \n",
       "{x_2}&0&-{x_0}&0&0&{\\mathcal{O}_{0}}&0&0&0&-{\\mathcal{O}_{0}}&0&0\\\\ \n",
       "0&{x_2}&-{x_1}&0&0&0&0&0&{\\mathcal{O}_{0}}&0&-{\\mathcal{O}_{0}}&0\\end{pmatrix}\n",
       " \\\\ \n",
       " \\vert_{-2} &&\\vert_{-2} \n",
       " \\\\ \n",
       " 0&-\\phantom{-}{\\begin{pmatrix}\\\\\\end{pmatrix}}\\phantom{-}\\rightarrow&{\\mathcal{O}_{0}}^{\\oplus 3}\n",
       " \\\\ \n",
       " \\end{array}$$"
      ]
     },
     "metadata": {},
     "output_type": "display_data"
    }
   ],
   "source": [
    "Show( ans )"
   ]
  },
  {
   "cell_type": "code",
   "execution_count": 84,
   "id": "a26b488c",
   "metadata": {},
   "outputs": [
    {
     "data": {
      "text/plain": [
       "GAP: <A morphism in Derived category by cochains( PreSheaves( Algebroid( Q, FreeCategory( RightQuiver( \"q_𝓞(𝓞₀,𝓞₁,𝓞₂)[x₀:𝓞₀->𝓞₁,x₁:𝓞₀->𝓞₁,x₂:𝓞₀->𝓞₁,y₀:𝓞₁->𝓞₂,y₁:𝓞₁->𝓞₂,y₂:𝓞₁->𝓞₂]\" ) ) ) / relations, Rows( Q ) ) )>"
      ]
     },
     "execution_count": 84,
     "metadata": {},
     "output_type": "execute_result"
    }
   ],
   "source": [
    "𝕁_ϵ_𝓞₂ = ApplyFunctor( 𝕁, ϵ_𝓞₂ )"
   ]
  },
  {
   "cell_type": "code",
   "execution_count": 85,
   "id": "52f43d26",
   "metadata": {},
   "outputs": [
    {
     "data": {
      "text/plain": [
       "true"
      ]
     },
     "execution_count": 85,
     "metadata": {},
     "output_type": "execute_result"
    }
   ],
   "source": [
    "IsIsomorphism( 𝕁_ϵ_𝓞₂ )"
   ]
  },
  {
   "cell_type": "code",
   "execution_count": null,
   "id": "7869ec23",
   "metadata": {},
   "outputs": [],
   "source": []
  }
 ],
 "metadata": {
  "kernelspec": {
   "display_name": "Julia 1.8.2",
   "language": "julia",
   "name": "julia-1.8"
  },
  "language_info": {
   "file_extension": ".jl",
   "mimetype": "application/julia",
   "name": "julia",
   "version": "1.8.2"
  }
 },
 "nbformat": 4,
 "nbformat_minor": 5
}
